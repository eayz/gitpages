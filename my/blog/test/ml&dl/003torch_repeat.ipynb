{
 "cells": [
  {
   "cell_type": "code",
   "execution_count": 2,
   "id": "3d71b61e-f7f2-4bab-9b08-5f59be45ce64",
   "metadata": {},
   "outputs": [],
   "source": [
    "import torch"
   ]
  },
  {
   "cell_type": "code",
   "execution_count": 3,
   "id": "eb0d210f-55a9-4597-82ea-e94b87705b64",
   "metadata": {},
   "outputs": [],
   "source": [
    "x, y = torch.arange(12), torch.arange(24)"
   ]
  },
  {
   "cell_type": "code",
   "execution_count": 4,
   "id": "e2b9c614-0286-4a03-ab3a-4e718ed5ac4d",
   "metadata": {},
   "outputs": [
    {
     "data": {
      "text/plain": [
       "(tensor([ 0,  1,  2,  3,  4,  5,  6,  7,  8,  9, 10, 11]),\n",
       " tensor([ 0,  1,  2,  3,  4,  5,  6,  7,  8,  9, 10, 11, 12, 13, 14, 15, 16, 17,\n",
       "         18, 19, 20, 21, 22, 23]))"
      ]
     },
     "execution_count": 4,
     "metadata": {},
     "output_type": "execute_result"
    }
   ],
   "source": [
    "x, y"
   ]
  },
  {
   "cell_type": "code",
   "execution_count": 5,
   "id": "19b531ff-0665-4b9d-9691-360a23f807c6",
   "metadata": {},
   "outputs": [
    {
     "data": {
      "text/plain": [
       "(torch.Size([12]), torch.Size([24]))"
      ]
     },
     "execution_count": 5,
     "metadata": {},
     "output_type": "execute_result"
    }
   ],
   "source": [
    "x.shape, y.shape"
   ]
  },
  {
   "cell_type": "code",
   "execution_count": 6,
   "id": "29d6fd4f-4585-4dcc-83be-6879cd68bbcd",
   "metadata": {},
   "outputs": [
    {
     "data": {
      "text/plain": [
       "(12, 24)"
      ]
     },
     "execution_count": 6,
     "metadata": {},
     "output_type": "execute_result"
    }
   ],
   "source": [
    "x.numel(), y.numel()"
   ]
  },
  {
   "cell_type": "code",
   "execution_count": 7,
   "id": "04b5a569-2a73-496e-9eea-4c6b82806a6e",
   "metadata": {},
   "outputs": [
    {
     "data": {
      "text/plain": [
       "(tensor([[ 0,  1,  2,  3],\n",
       "         [ 4,  5,  6,  7],\n",
       "         [ 8,  9, 10, 11]]),\n",
       " tensor([[ 0,  1,  2,  3],\n",
       "         [ 4,  5,  6,  7],\n",
       "         [ 8,  9, 10, 11],\n",
       "         [12, 13, 14, 15],\n",
       "         [16, 17, 18, 19],\n",
       "         [20, 21, 22, 23]]))"
      ]
     },
     "execution_count": 7,
     "metadata": {},
     "output_type": "execute_result"
    }
   ],
   "source": [
    "x.reshape(3, 4), y.reshape(6, 4)"
   ]
  },
  {
   "cell_type": "code",
   "execution_count": 8,
   "id": "e7149386-7679-4cd1-92b2-6b158c00e2f5",
   "metadata": {},
   "outputs": [],
   "source": [
    "zeros, ones, randn = torch.zeros(2, 3), torch.ones(2, 3), torch.randn(2, 3)"
   ]
  },
  {
   "cell_type": "code",
   "execution_count": 9,
   "id": "1d60c30b-0ab7-4ce5-9aff-593fc65e84d1",
   "metadata": {},
   "outputs": [
    {
     "data": {
      "text/plain": [
       "(tensor([[0., 0., 0.],\n",
       "         [0., 0., 0.]]),\n",
       " tensor([[1., 1., 1.],\n",
       "         [1., 1., 1.]]),\n",
       " tensor([[ 0.4833,  0.7459, -1.3518],\n",
       "         [ 0.1388, -0.7124,  0.3697]]))"
      ]
     },
     "execution_count": 9,
     "metadata": {},
     "output_type": "execute_result"
    }
   ],
   "source": [
    "zeros, ones, randn"
   ]
  },
  {
   "cell_type": "code",
   "execution_count": 10,
   "id": "127c143a-77be-4960-a712-8bec85ed38d8",
   "metadata": {},
   "outputs": [],
   "source": [
    "tensorX = torch.tensor([[1, 2, 3], [4, 5, 6]])"
   ]
  },
  {
   "cell_type": "code",
   "execution_count": 11,
   "id": "b8d1cc7f-8225-42f0-adcc-701c49e46aa5",
   "metadata": {},
   "outputs": [
    {
     "data": {
      "text/plain": [
       "tensor([[1, 2, 3],\n",
       "        [4, 5, 6]])"
      ]
     },
     "execution_count": 11,
     "metadata": {},
     "output_type": "execute_result"
    }
   ],
   "source": [
    "tensorX"
   ]
  },
  {
   "cell_type": "code",
   "execution_count": null,
   "id": "ff0cc654-2464-4d2d-9b5f-19a14e6fd8f9",
   "metadata": {},
   "outputs": [],
   "source": []
  },
  {
   "cell_type": "code",
   "execution_count": null,
   "id": "00836a44-a39f-4d38-af03-2b1ac1fccd18",
   "metadata": {},
   "outputs": [],
   "source": []
  },
  {
   "cell_type": "code",
   "execution_count": null,
   "id": "58c0c26b-3b77-4471-bf40-c3e0aa8f777d",
   "metadata": {},
   "outputs": [],
   "source": []
  },
  {
   "cell_type": "code",
   "execution_count": 12,
   "id": "40637348-a936-488e-8b8c-39ee6d3d2fbf",
   "metadata": {},
   "outputs": [],
   "source": [
    "X, Y = torch.tensor([1.0, 2, 4, 8]), torch.tensor([2, 2, 2, 2])"
   ]
  },
  {
   "cell_type": "code",
   "execution_count": 13,
   "id": "b48d65aa-8518-4a33-a57d-548dd7b5c9f6",
   "metadata": {},
   "outputs": [
    {
     "data": {
      "text/plain": [
       "(tensor([ 3.,  4.,  6., 10.]),\n",
       " tensor([-1.,  0.,  2.,  6.]),\n",
       " tensor([ 2.,  4.,  8., 16.]),\n",
       " tensor([0.5000, 1.0000, 2.0000, 4.0000]),\n",
       " tensor([ 1.,  4., 16., 64.]))"
      ]
     },
     "execution_count": 13,
     "metadata": {},
     "output_type": "execute_result"
    }
   ],
   "source": [
    "X + Y, X - Y, X * Y, X / Y, X ** Y"
   ]
  },
  {
   "cell_type": "code",
   "execution_count": 14,
   "id": "41ea3ebe-d781-4cb7-a696-c41cec6b5398",
   "metadata": {},
   "outputs": [
    {
     "data": {
      "text/plain": [
       "tensor([2.7183e+00, 7.3891e+00, 5.4598e+01, 2.9810e+03])"
      ]
     },
     "execution_count": 14,
     "metadata": {},
     "output_type": "execute_result"
    }
   ],
   "source": [
    "torch.exp(X)"
   ]
  },
  {
   "cell_type": "code",
   "execution_count": 15,
   "id": "8ce9dba0-c231-4d9e-9066-200054fcf386",
   "metadata": {},
   "outputs": [],
   "source": [
    "a, b =torch.arange(12, dtype = torch.float64).reshape(3, 4), torch.tensor([[2.0, 1, 4, 3], [1, 2, 3, 4], [4, 3, 2, 1]])"
   ]
  },
  {
   "cell_type": "code",
   "execution_count": 16,
   "id": "94601c49-33ad-499a-9f23-471bdaff3abe",
   "metadata": {},
   "outputs": [
    {
     "data": {
      "text/plain": [
       "(tensor([[ 0.,  1.,  2.,  3.],\n",
       "         [ 4.,  5.,  6.,  7.],\n",
       "         [ 8.,  9., 10., 11.],\n",
       "         [ 2.,  1.,  4.,  3.],\n",
       "         [ 1.,  2.,  3.,  4.],\n",
       "         [ 4.,  3.,  2.,  1.]], dtype=torch.float64),\n",
       " tensor([[ 0.,  1.,  2.,  3.,  2.,  1.,  4.,  3.],\n",
       "         [ 4.,  5.,  6.,  7.,  1.,  2.,  3.,  4.],\n",
       "         [ 8.,  9., 10., 11.,  4.,  3.,  2.,  1.]], dtype=torch.float64))"
      ]
     },
     "execution_count": 16,
     "metadata": {},
     "output_type": "execute_result"
    }
   ],
   "source": [
    "torch.cat((a, b), dim = 0), torch.cat((a, b), dim = 1)"
   ]
  },
  {
   "cell_type": "code",
   "execution_count": 17,
   "id": "47431290-e0a1-4d6a-90fe-8eb3b0ae81f4",
   "metadata": {},
   "outputs": [
    {
     "data": {
      "text/plain": [
       "tensor([[False,  True, False,  True],\n",
       "        [False, False, False, False],\n",
       "        [False, False, False, False]])"
      ]
     },
     "execution_count": 17,
     "metadata": {},
     "output_type": "execute_result"
    }
   ],
   "source": [
    "a == b"
   ]
  },
  {
   "cell_type": "code",
   "execution_count": 18,
   "id": "18edf0c3-f69e-4b30-bef1-079cf4175d22",
   "metadata": {},
   "outputs": [
    {
     "data": {
      "text/plain": [
       "(tensor(66., dtype=torch.float64), tensor(30.))"
      ]
     },
     "execution_count": 18,
     "metadata": {},
     "output_type": "execute_result"
    }
   ],
   "source": [
    "a.sum(), b.sum()"
   ]
  },
  {
   "cell_type": "code",
   "execution_count": 19,
   "id": "585ef487-b38e-4b87-9bd6-fadcff565f36",
   "metadata": {},
   "outputs": [],
   "source": [
    "p, q = torch.arange(3).reshape((3, 1)), torch.arange(2).reshape((1, 2))"
   ]
  },
  {
   "cell_type": "code",
   "execution_count": 20,
   "id": "27048f7a-b679-4cde-b672-8a3aa0ffa91b",
   "metadata": {},
   "outputs": [
    {
     "data": {
      "text/plain": [
       "(tensor([[0],\n",
       "         [1],\n",
       "         [2]]),\n",
       " tensor([[0, 1]]))"
      ]
     },
     "execution_count": 20,
     "metadata": {},
     "output_type": "execute_result"
    }
   ],
   "source": [
    "p, q"
   ]
  },
  {
   "cell_type": "code",
   "execution_count": 21,
   "id": "0ed75dde-ecbd-444f-8e9c-32e7db90cd70",
   "metadata": {},
   "outputs": [
    {
     "data": {
      "text/plain": [
       "tensor([[0, 1],\n",
       "        [1, 2],\n",
       "        [2, 3]])"
      ]
     },
     "execution_count": 21,
     "metadata": {},
     "output_type": "execute_result"
    }
   ],
   "source": [
    "q + p"
   ]
  },
  {
   "cell_type": "code",
   "execution_count": 22,
   "id": "be5955c0-b268-4e75-8064-ca73963106c4",
   "metadata": {},
   "outputs": [
    {
     "data": {
      "text/plain": [
       "tensor([[-0.9678, -1.1295,  2.4507, -0.8393],\n",
       "        [-0.4012,  0.4267,  1.9242,  0.2754],\n",
       "        [ 0.4347,  0.2932,  0.2252, -1.1444]])"
      ]
     },
     "execution_count": 22,
     "metadata": {},
     "output_type": "execute_result"
    }
   ],
   "source": [
    "arr = torch.randn(3,4)\n",
    "arr"
   ]
  },
  {
   "cell_type": "code",
   "execution_count": 23,
   "id": "68cd019c-1a9d-447d-b83c-796d71b9ce90",
   "metadata": {},
   "outputs": [
    {
     "data": {
      "text/plain": [
       "tensor([[-0.9678, -1.1295,  2.4507, -0.8393],\n",
       "        [-0.4012,  0.4267,  1.9242,  0.2754],\n",
       "        [ 0.4347,  0.2932,  0.2252, -1.1444]])"
      ]
     },
     "execution_count": 23,
     "metadata": {},
     "output_type": "execute_result"
    }
   ],
   "source": [
    "arr[:]"
   ]
  },
  {
   "cell_type": "code",
   "execution_count": 24,
   "id": "eb356155-10ac-4f6f-a475-db342e6b853d",
   "metadata": {},
   "outputs": [
    {
     "data": {
      "text/plain": [
       "tensor([[-0.4012,  0.4267,  1.9242,  0.2754],\n",
       "        [ 0.4347,  0.2932,  0.2252, -1.1444]])"
      ]
     },
     "execution_count": 24,
     "metadata": {},
     "output_type": "execute_result"
    }
   ],
   "source": [
    "arr[1:3]"
   ]
  },
  {
   "cell_type": "code",
   "execution_count": 25,
   "id": "d6f9e55f-5d86-4445-8f8a-6e68f71c5615",
   "metadata": {},
   "outputs": [
    {
     "data": {
      "text/plain": [
       "tensor([ 0.4347,  0.2932,  0.2252, -1.1444])"
      ]
     },
     "execution_count": 25,
     "metadata": {},
     "output_type": "execute_result"
    }
   ],
   "source": [
    "arr[-1]"
   ]
  },
  {
   "cell_type": "code",
   "execution_count": 26,
   "id": "55aff36c-2a15-42c8-9eef-4391f7a091ed",
   "metadata": {},
   "outputs": [
    {
     "data": {
      "text/plain": [
       "tensor(1.9242)"
      ]
     },
     "execution_count": 26,
     "metadata": {},
     "output_type": "execute_result"
    }
   ],
   "source": [
    "arr[1, 2]"
   ]
  },
  {
   "cell_type": "code",
   "execution_count": 27,
   "id": "de53c3dd-7944-415f-a7ab-14d1bb884c48",
   "metadata": {},
   "outputs": [],
   "source": [
    "arr[1, 2] = 0.0"
   ]
  },
  {
   "cell_type": "code",
   "execution_count": 28,
   "id": "32467a38-1253-423f-a89b-51fab5c3a9b6",
   "metadata": {},
   "outputs": [
    {
     "data": {
      "text/plain": [
       "tensor([[-0.9678, -1.1295,  2.4507, -0.8393],\n",
       "        [-0.4012,  0.4267,  0.0000,  0.2754],\n",
       "        [ 0.4347,  0.2932,  0.2252, -1.1444]])"
      ]
     },
     "execution_count": 28,
     "metadata": {},
     "output_type": "execute_result"
    }
   ],
   "source": [
    "arr[:]"
   ]
  },
  {
   "cell_type": "code",
   "execution_count": 29,
   "id": "5cec9f20-9135-4ab7-bdc0-f51341ca0415",
   "metadata": {},
   "outputs": [
    {
     "data": {
      "text/plain": [
       "tensor([[-0.9678, -1.1295,  2.4507, -0.8393],\n",
       "        [-0.4012,  0.4267,  0.0000,  0.2754]])"
      ]
     },
     "execution_count": 29,
     "metadata": {},
     "output_type": "execute_result"
    }
   ],
   "source": [
    "arr[0:2, :]"
   ]
  },
  {
   "cell_type": "code",
   "execution_count": 30,
   "id": "bf8eb0c5-548c-493a-816f-68f28ca0e474",
   "metadata": {},
   "outputs": [],
   "source": [
    "arr[0:2, :] = 12."
   ]
  },
  {
   "cell_type": "code",
   "execution_count": 31,
   "id": "40920ff8-78df-4164-80cd-d7e02ba479f9",
   "metadata": {},
   "outputs": [
    {
     "data": {
      "text/plain": [
       "tensor([[12.0000, 12.0000, 12.0000, 12.0000],\n",
       "        [12.0000, 12.0000, 12.0000, 12.0000],\n",
       "        [ 0.4347,  0.2932,  0.2252, -1.1444]])"
      ]
     },
     "execution_count": 31,
     "metadata": {},
     "output_type": "execute_result"
    }
   ],
   "source": [
    "arr[:]"
   ]
  },
  {
   "cell_type": "code",
   "execution_count": 32,
   "id": "cb2c5b9d-53e7-475d-9681-019b74fee9b4",
   "metadata": {},
   "outputs": [],
   "source": [
    "before = id(arr)\n",
    "brr = torch.randn(3,4)"
   ]
  },
  {
   "cell_type": "code",
   "execution_count": 33,
   "id": "c247ea47-8132-425c-9fcf-849f9b40ffe4",
   "metadata": {},
   "outputs": [],
   "source": [
    "arr = arr + brr"
   ]
  },
  {
   "cell_type": "code",
   "execution_count": 34,
   "id": "e470ae47-27ce-4880-9771-cc49283cfcb4",
   "metadata": {},
   "outputs": [
    {
     "data": {
      "text/plain": [
       "False"
      ]
     },
     "execution_count": 34,
     "metadata": {},
     "output_type": "execute_result"
    }
   ],
   "source": [
    "id(arr) == before"
   ]
  },
  {
   "cell_type": "code",
   "execution_count": 35,
   "id": "87b0994d-8eb6-4298-9922-fa17dbe0e388",
   "metadata": {},
   "outputs": [
    {
     "name": "stdout",
     "output_type": "stream",
     "text": [
      "140421007905880\n"
     ]
    }
   ],
   "source": [
    "Z = torch.zeros_like(arr)\n",
    "print(id(Z))"
   ]
  },
  {
   "cell_type": "code",
   "execution_count": 36,
   "id": "134d75ba-cfe5-4946-b6dd-62577dbd8fb5",
   "metadata": {},
   "outputs": [
    {
     "name": "stdout",
     "output_type": "stream",
     "text": [
      "140421007905880\n"
     ]
    }
   ],
   "source": [
    "Z[:] = arr + brr\n",
    "print(id(Z))"
   ]
  },
  {
   "cell_type": "code",
   "execution_count": 37,
   "id": "cec1ef1a-6c80-4bc9-9e19-77f63d56cb3f",
   "metadata": {},
   "outputs": [
    {
     "data": {
      "text/plain": [
       "True"
      ]
     },
     "execution_count": 37,
     "metadata": {},
     "output_type": "execute_result"
    }
   ],
   "source": [
    "before = id(arr)\n",
    "arr += brr\n",
    "id(arr) == before"
   ]
  },
  {
   "cell_type": "code",
   "execution_count": 38,
   "id": "bcf718b9-3a8a-4302-80fd-d687a383587e",
   "metadata": {},
   "outputs": [
    {
     "data": {
      "text/plain": [
       "(numpy.ndarray, torch.Tensor)"
      ]
     },
     "execution_count": 38,
     "metadata": {},
     "output_type": "execute_result"
    }
   ],
   "source": [
    "A = arr.numpy()\n",
    "B = torch.tensor(A)\n",
    "type(A), type(B)"
   ]
  },
  {
   "cell_type": "code",
   "execution_count": 39,
   "id": "e0b87ed0-383b-43ea-906c-dae4abb13d9f",
   "metadata": {},
   "outputs": [
    {
     "data": {
      "text/plain": [
       "(tensor([3.5000]), 3.5, 3.5, 3)"
      ]
     },
     "execution_count": 39,
     "metadata": {},
     "output_type": "execute_result"
    }
   ],
   "source": [
    "a = torch.tensor([3.5])\n",
    "a, a.item(), float(a), int(a)"
   ]
  },
  {
   "cell_type": "code",
   "execution_count": null,
   "id": "6b8f13ec-136c-4b2f-baec-01f4cac1f588",
   "metadata": {},
   "outputs": [],
   "source": []
  },
  {
   "cell_type": "code",
   "execution_count": null,
   "id": "3aff0eff-d9df-4a1f-9b4b-a6bc7b64e2ac",
   "metadata": {},
   "outputs": [],
   "source": []
  },
  {
   "cell_type": "code",
   "execution_count": null,
   "id": "823e59ad-2204-4390-9922-5e32742792da",
   "metadata": {},
   "outputs": [],
   "source": []
  },
  {
   "cell_type": "code",
   "execution_count": null,
   "id": "1db1da1f-76fa-471d-95ca-75c59fcb6f46",
   "metadata": {},
   "outputs": [],
   "source": []
  },
  {
   "cell_type": "code",
   "execution_count": null,
   "id": "6c8ff885-aca1-4a0a-b6e3-f0fefe8295c0",
   "metadata": {},
   "outputs": [],
   "source": []
  },
  {
   "cell_type": "code",
   "execution_count": 40,
   "id": "371186af-593c-4822-8df9-37f2f80acf37",
   "metadata": {},
   "outputs": [],
   "source": [
    "x = torch.arange(4.0)"
   ]
  },
  {
   "cell_type": "code",
   "execution_count": 41,
   "id": "fc8544dd-1f72-48ee-a87c-4e7c0aa04f01",
   "metadata": {},
   "outputs": [
    {
     "data": {
      "text/plain": [
       "tensor([0., 1., 2., 3.])"
      ]
     },
     "execution_count": 41,
     "metadata": {},
     "output_type": "execute_result"
    }
   ],
   "source": [
    "x"
   ]
  },
  {
   "cell_type": "code",
   "execution_count": 42,
   "id": "e104604c-7b66-404d-a261-daa149af5e08",
   "metadata": {},
   "outputs": [],
   "source": [
    "x.requires_grad_(True)\n",
    "x.grad"
   ]
  },
  {
   "cell_type": "code",
   "execution_count": 43,
   "id": "3b46fcb2-3d58-4678-9873-93262762c828",
   "metadata": {},
   "outputs": [
    {
     "data": {
      "text/plain": [
       "tensor(28., grad_fn=<MulBackward0>)"
      ]
     },
     "execution_count": 43,
     "metadata": {},
     "output_type": "execute_result"
    }
   ],
   "source": [
    "y = 2 * torch.dot(x, x)\n",
    "y"
   ]
  },
  {
   "cell_type": "code",
   "execution_count": 44,
   "id": "11e0fc88-4a5f-4226-b88f-c10e75d406a6",
   "metadata": {},
   "outputs": [
    {
     "data": {
      "text/plain": [
       "tensor([ 0.,  4.,  8., 12.])"
      ]
     },
     "execution_count": 44,
     "metadata": {},
     "output_type": "execute_result"
    }
   ],
   "source": [
    "y.backward()\n",
    "x.grad"
   ]
  },
  {
   "cell_type": "code",
   "execution_count": 45,
   "id": "1badaeab-0ccf-43cb-8738-53e0d9b434ec",
   "metadata": {},
   "outputs": [
    {
     "data": {
      "text/plain": [
       "tensor([True, True, True, True])"
      ]
     },
     "execution_count": 45,
     "metadata": {},
     "output_type": "execute_result"
    }
   ],
   "source": [
    "x.grad == 4 * x"
   ]
  },
  {
   "cell_type": "code",
   "execution_count": 46,
   "id": "c18dda03-f97a-47a0-97e4-ab6628575bc9",
   "metadata": {},
   "outputs": [
    {
     "data": {
      "text/plain": [
       "tensor([0., 0., 0., 0.])"
      ]
     },
     "execution_count": 46,
     "metadata": {},
     "output_type": "execute_result"
    }
   ],
   "source": [
    "x.grad.zero_()"
   ]
  },
  {
   "cell_type": "code",
   "execution_count": 47,
   "id": "3fbeb5cb-d528-4062-8bd9-2c407aa51477",
   "metadata": {},
   "outputs": [],
   "source": [
    "y = x.sum()"
   ]
  },
  {
   "cell_type": "code",
   "execution_count": 48,
   "id": "4b4ad70d-8263-42aa-9b0f-2335b3358076",
   "metadata": {},
   "outputs": [],
   "source": [
    "y.backward()"
   ]
  },
  {
   "cell_type": "code",
   "execution_count": 49,
   "id": "9ed5b98a-cadf-43e5-9423-5db82fe2180c",
   "metadata": {},
   "outputs": [
    {
     "data": {
      "text/plain": [
       "tensor([1., 1., 1., 1.])"
      ]
     },
     "execution_count": 49,
     "metadata": {},
     "output_type": "execute_result"
    }
   ],
   "source": [
    "x.grad"
   ]
  },
  {
   "cell_type": "code",
   "execution_count": 50,
   "id": "ca452e2d-cbc9-4c48-9a3e-8527741ad187",
   "metadata": {},
   "outputs": [],
   "source": [
    "x = torch.arange(10.)"
   ]
  },
  {
   "cell_type": "code",
   "execution_count": 51,
   "id": "3a38fadf-0a66-41c7-bf6c-71300667d3c0",
   "metadata": {},
   "outputs": [
    {
     "data": {
      "text/plain": [
       "tensor([0., 1., 2., 3., 4., 5., 6., 7., 8., 9.])"
      ]
     },
     "execution_count": 51,
     "metadata": {},
     "output_type": "execute_result"
    }
   ],
   "source": [
    "x"
   ]
  },
  {
   "cell_type": "code",
   "execution_count": 52,
   "id": "0066fe65-0adc-466f-ad13-0a27ddd63950",
   "metadata": {},
   "outputs": [],
   "source": [
    "x.requires_grad_(True)\n",
    "x.grad"
   ]
  },
  {
   "cell_type": "code",
   "execution_count": 53,
   "id": "3f075c20",
   "metadata": {},
   "outputs": [],
   "source": [
    "y = torch.dot(x, x) / 2"
   ]
  },
  {
   "cell_type": "code",
   "execution_count": 54,
   "id": "6606cdbd-ee55-4290-a64e-00ee75e46559",
   "metadata": {},
   "outputs": [
    {
     "data": {
      "text/plain": [
       "tensor(142.5000, grad_fn=<DivBackward0>)"
      ]
     },
     "execution_count": 54,
     "metadata": {},
     "output_type": "execute_result"
    }
   ],
   "source": [
    "y"
   ]
  },
  {
   "cell_type": "code",
   "execution_count": 55,
   "id": "f0987e3f",
   "metadata": {},
   "outputs": [
    {
     "data": {
      "text/plain": [
       "tensor([0., 1., 2., 3., 4., 5., 6., 7., 8., 9.])"
      ]
     },
     "execution_count": 55,
     "metadata": {},
     "output_type": "execute_result"
    }
   ],
   "source": [
    "y.backward()\n",
    "x.grad"
   ]
  },
  {
   "cell_type": "code",
   "execution_count": null,
   "id": "67c3af6e",
   "metadata": {},
   "outputs": [],
   "source": []
  },
  {
   "cell_type": "code",
   "execution_count": null,
   "id": "869f092c",
   "metadata": {},
   "outputs": [],
   "source": []
  },
  {
   "cell_type": "code",
   "execution_count": null,
   "id": "5ee923c3",
   "metadata": {},
   "outputs": [],
   "source": []
  },
  {
   "cell_type": "code",
   "execution_count": null,
   "id": "75e0675a",
   "metadata": {},
   "outputs": [],
   "source": []
  },
  {
   "cell_type": "code",
   "execution_count": null,
   "id": "fe068217",
   "metadata": {},
   "outputs": [],
   "source": []
  },
  {
   "cell_type": "code",
   "execution_count": null,
   "id": "bb67d0f9",
   "metadata": {},
   "outputs": [],
   "source": []
  },
  {
   "cell_type": "code",
   "execution_count": 56,
   "id": "6cc090e9-4629-492d-8b61-cee8da9b7f34",
   "metadata": {},
   "outputs": [
    {
     "data": {
      "text/plain": [
       "(tensor([5.]), tensor([1.]), tensor([6.]), tensor([1.5000]), tensor([9.]))"
      ]
     },
     "execution_count": 56,
     "metadata": {},
     "output_type": "execute_result"
    }
   ],
   "source": [
    "x, y = torch.tensor([3.0]), torch.tensor([2.0])\n",
    "x + y, x - y, x * y, x / y, x ** y"
   ]
  },
  {
   "cell_type": "code",
   "execution_count": 57,
   "id": "9cb7a95a-99c4-4e8c-9465-c0169c75bc9b",
   "metadata": {},
   "outputs": [
    {
     "data": {
      "text/plain": [
       "tensor([0, 1, 2, 3])"
      ]
     },
     "execution_count": 57,
     "metadata": {},
     "output_type": "execute_result"
    }
   ],
   "source": [
    "x = torch.arange(4)\n",
    "x"
   ]
  },
  {
   "cell_type": "code",
   "execution_count": 58,
   "id": "f7cf2f53-6d68-4d79-8ade-34a607a1b8ce",
   "metadata": {},
   "outputs": [
    {
     "data": {
      "text/plain": [
       "tensor(3)"
      ]
     },
     "execution_count": 58,
     "metadata": {},
     "output_type": "execute_result"
    }
   ],
   "source": [
    "x[3]"
   ]
  },
  {
   "cell_type": "code",
   "execution_count": 59,
   "id": "fc677711-15b7-4de0-a66f-adf061d9f578",
   "metadata": {},
   "outputs": [
    {
     "data": {
      "text/plain": [
       "4"
      ]
     },
     "execution_count": 59,
     "metadata": {},
     "output_type": "execute_result"
    }
   ],
   "source": [
    "len(x)"
   ]
  },
  {
   "cell_type": "code",
   "execution_count": 60,
   "id": "8e607716-d824-4611-874f-5b60926de72e",
   "metadata": {},
   "outputs": [
    {
     "data": {
      "text/plain": [
       "torch.Size([4])"
      ]
     },
     "execution_count": 60,
     "metadata": {},
     "output_type": "execute_result"
    }
   ],
   "source": [
    "x.shape"
   ]
  },
  {
   "cell_type": "code",
   "execution_count": 61,
   "id": "f939fb48-c30e-4714-96d6-0b13a27373fe",
   "metadata": {},
   "outputs": [],
   "source": [
    "A = torch.arange(20).reshape(5,4)"
   ]
  },
  {
   "cell_type": "code",
   "execution_count": 62,
   "id": "3f753ff0-f020-4f3e-8715-f0ea4d1ae000",
   "metadata": {},
   "outputs": [
    {
     "data": {
      "text/plain": [
       "tensor([[ 0,  1,  2,  3],\n",
       "        [ 4,  5,  6,  7],\n",
       "        [ 8,  9, 10, 11],\n",
       "        [12, 13, 14, 15],\n",
       "        [16, 17, 18, 19]])"
      ]
     },
     "execution_count": 62,
     "metadata": {},
     "output_type": "execute_result"
    }
   ],
   "source": [
    "A"
   ]
  },
  {
   "cell_type": "code",
   "execution_count": 63,
   "id": "a5d8ed22-1121-4cc3-bcba-95da4564cba3",
   "metadata": {},
   "outputs": [
    {
     "data": {
      "text/plain": [
       "tensor([[ 0,  4,  8, 12, 16],\n",
       "        [ 1,  5,  9, 13, 17],\n",
       "        [ 2,  6, 10, 14, 18],\n",
       "        [ 3,  7, 11, 15, 19]])"
      ]
     },
     "execution_count": 63,
     "metadata": {},
     "output_type": "execute_result"
    }
   ],
   "source": [
    "A.T"
   ]
  },
  {
   "cell_type": "code",
   "execution_count": 64,
   "id": "55ae6191-e093-49fc-b748-137dbc43183b",
   "metadata": {},
   "outputs": [
    {
     "data": {
      "text/plain": [
       "(tensor([[1, 2, 3],\n",
       "         [2, 0, 4],\n",
       "         [3, 4, 5]]),\n",
       " tensor([[1, 2, 3],\n",
       "         [2, 0, 4],\n",
       "         [3, 4, 5]]))"
      ]
     },
     "execution_count": 64,
     "metadata": {},
     "output_type": "execute_result"
    }
   ],
   "source": [
    "B = torch.tensor([[1, 2, 3], [2, 0, 4], [3, 4, 5]])\n",
    "B, B.T"
   ]
  },
  {
   "cell_type": "code",
   "execution_count": 65,
   "id": "e929719c-60a9-4d1c-9ef2-7bd97cb6c1c3",
   "metadata": {},
   "outputs": [
    {
     "data": {
      "text/plain": [
       "tensor([[True, True, True],\n",
       "        [True, True, True],\n",
       "        [True, True, True]])"
      ]
     },
     "execution_count": 65,
     "metadata": {},
     "output_type": "execute_result"
    }
   ],
   "source": [
    "B == B.T"
   ]
  },
  {
   "cell_type": "code",
   "execution_count": 66,
   "id": "ccbe4d1a-ff15-4f54-81cf-96dbe71a5f15",
   "metadata": {},
   "outputs": [],
   "source": [
    "X = torch.arange(24).reshape(2, 3, 4)"
   ]
  },
  {
   "cell_type": "code",
   "execution_count": 67,
   "id": "11e4bb34-c595-416f-ae0a-9f7a7ab065e7",
   "metadata": {},
   "outputs": [
    {
     "data": {
      "text/plain": [
       "tensor([[[ 0,  1,  2,  3],\n",
       "         [ 4,  5,  6,  7],\n",
       "         [ 8,  9, 10, 11]],\n",
       "\n",
       "        [[12, 13, 14, 15],\n",
       "         [16, 17, 18, 19],\n",
       "         [20, 21, 22, 23]]])"
      ]
     },
     "execution_count": 67,
     "metadata": {},
     "output_type": "execute_result"
    }
   ],
   "source": [
    "X"
   ]
  },
  {
   "cell_type": "code",
   "execution_count": 68,
   "id": "33c765b2-a352-416e-8285-492ed791c318",
   "metadata": {},
   "outputs": [],
   "source": [
    "A = torch.arange(20, dtype = torch.float64).reshape(5, 4)\n",
    "B = A.clone()"
   ]
  },
  {
   "cell_type": "code",
   "execution_count": 69,
   "id": "338c76b0-b189-411e-9ed1-5db69da06e44",
   "metadata": {},
   "outputs": [
    {
     "data": {
      "text/plain": [
       "(tensor([[ 0.,  1.,  2.,  3.],\n",
       "         [ 4.,  5.,  6.,  7.],\n",
       "         [ 8.,  9., 10., 11.],\n",
       "         [12., 13., 14., 15.],\n",
       "         [16., 17., 18., 19.]], dtype=torch.float64),\n",
       " tensor([[ 0.,  2.,  4.,  6.],\n",
       "         [ 8., 10., 12., 14.],\n",
       "         [16., 18., 20., 22.],\n",
       "         [24., 26., 28., 30.],\n",
       "         [32., 34., 36., 38.]], dtype=torch.float64))"
      ]
     },
     "execution_count": 69,
     "metadata": {},
     "output_type": "execute_result"
    }
   ],
   "source": [
    "A, A + B"
   ]
  },
  {
   "cell_type": "code",
   "execution_count": 70,
   "id": "5f4828e1-a5e8-41c3-8ecb-5b7c8534c45f",
   "metadata": {},
   "outputs": [
    {
     "data": {
      "text/plain": [
       "tensor([[  0.,   1.,   4.,   9.],\n",
       "        [ 16.,  25.,  36.,  49.],\n",
       "        [ 64.,  81., 100., 121.],\n",
       "        [144., 169., 196., 225.],\n",
       "        [256., 289., 324., 361.]], dtype=torch.float64)"
      ]
     },
     "execution_count": 70,
     "metadata": {},
     "output_type": "execute_result"
    }
   ],
   "source": [
    "A * B #对应乘积"
   ]
  },
  {
   "cell_type": "code",
   "execution_count": 71,
   "id": "1d91bf5e-6237-425b-ba00-543436803270",
   "metadata": {},
   "outputs": [
    {
     "data": {
      "text/plain": [
       "(tensor([0., 1., 2., 3.], dtype=torch.float64),\n",
       " tensor(6., dtype=torch.float64))"
      ]
     },
     "execution_count": 71,
     "metadata": {},
     "output_type": "execute_result"
    }
   ],
   "source": [
    "x = torch.arange(4, dtype = torch.float64)\n",
    "x, x.sum()"
   ]
  },
  {
   "cell_type": "code",
   "execution_count": 72,
   "id": "7646be56-5ab0-45d9-88eb-0b979022b02d",
   "metadata": {},
   "outputs": [
    {
     "data": {
      "text/plain": [
       "(tensor([[ 0.,  1.,  2.,  3.],\n",
       "         [ 4.,  5.,  6.,  7.],\n",
       "         [ 8.,  9., 10., 11.],\n",
       "         [12., 13., 14., 15.],\n",
       "         [16., 17., 18., 19.]], dtype=torch.float64),\n",
       " torch.Size([5, 4]),\n",
       " tensor(190., dtype=torch.float64))"
      ]
     },
     "execution_count": 72,
     "metadata": {},
     "output_type": "execute_result"
    }
   ],
   "source": [
    "A, A.shape, A.sum()"
   ]
  },
  {
   "cell_type": "code",
   "execution_count": 73,
   "id": "5d9b3440-9052-47ae-8eb1-58061e1257b1",
   "metadata": {},
   "outputs": [
    {
     "data": {
      "text/plain": [
       "(tensor([40., 45., 50., 55.], dtype=torch.float64), torch.Size([4]))"
      ]
     },
     "execution_count": 73,
     "metadata": {},
     "output_type": "execute_result"
    }
   ],
   "source": [
    "A_sum_axis0 = A.sum(axis = 0) # row\n",
    "A_sum_axis0, A_sum_axis0.shape"
   ]
  },
  {
   "cell_type": "code",
   "execution_count": 74,
   "id": "83921d09-bc2a-4602-ac22-c6421044bcdc",
   "metadata": {},
   "outputs": [
    {
     "data": {
      "text/plain": [
       "(tensor([ 6., 22., 38., 54., 70.], dtype=torch.float64), torch.Size([5]))"
      ]
     },
     "execution_count": 74,
     "metadata": {},
     "output_type": "execute_result"
    }
   ],
   "source": [
    "A_sum_axis1 = A.sum(axis = 1) # col\n",
    "A_sum_axis1, A_sum_axis1.shape"
   ]
  },
  {
   "cell_type": "code",
   "execution_count": 75,
   "id": "ad689705-34d3-411e-85af-ce5a0db0b8c6",
   "metadata": {},
   "outputs": [
    {
     "data": {
      "text/plain": [
       "(tensor(190., dtype=torch.float64), torch.Size([]))"
      ]
     },
     "execution_count": 75,
     "metadata": {},
     "output_type": "execute_result"
    }
   ],
   "source": [
    "A_sum_axis0_sum_axis1 = A_sum_axis0.sum(axis = 0) # row&col--> [0] same as A.sum()\n",
    "A_sum_axis0_sum_axis1, A_sum_axis0_sum_axis1.shape"
   ]
  },
  {
   "cell_type": "code",
   "execution_count": 76,
   "id": "29b33078-07ff-4a7e-811b-0d7a638125f2",
   "metadata": {},
   "outputs": [
    {
     "data": {
      "text/plain": [
       "(tensor(9.5000, dtype=torch.float64), tensor(9.5000, dtype=torch.float64))"
      ]
     },
     "execution_count": 76,
     "metadata": {},
     "output_type": "execute_result"
    }
   ],
   "source": [
    "A.mean(), A.sum() / A.numel()"
   ]
  },
  {
   "cell_type": "code",
   "execution_count": 77,
   "id": "aa8e99fc-4711-4042-9e0f-fe3e40b1f226",
   "metadata": {},
   "outputs": [
    {
     "data": {
      "text/plain": [
       "tensor([[ 6.],\n",
       "        [22.],\n",
       "        [38.],\n",
       "        [54.],\n",
       "        [70.]], dtype=torch.float64)"
      ]
     },
     "execution_count": 77,
     "metadata": {},
     "output_type": "execute_result"
    }
   ],
   "source": [
    "sum_A = A.sum(axis = 1, keepdims = True)\n",
    "sum_A"
   ]
  },
  {
   "cell_type": "code",
   "execution_count": 78,
   "id": "cc326254-e440-4b62-80fe-b4900825c4b4",
   "metadata": {},
   "outputs": [
    {
     "data": {
      "text/plain": [
       "tensor([[0.0000, 0.1667, 0.3333, 0.5000],\n",
       "        [0.1818, 0.2273, 0.2727, 0.3182],\n",
       "        [0.2105, 0.2368, 0.2632, 0.2895],\n",
       "        [0.2222, 0.2407, 0.2593, 0.2778],\n",
       "        [0.2286, 0.2429, 0.2571, 0.2714]], dtype=torch.float64)"
      ]
     },
     "execution_count": 78,
     "metadata": {},
     "output_type": "execute_result"
    }
   ],
   "source": [
    "A / sum_A"
   ]
  },
  {
   "cell_type": "code",
   "execution_count": 79,
   "id": "b56e8083-e48c-43d2-b108-8e7cddb09aa3",
   "metadata": {},
   "outputs": [
    {
     "data": {
      "text/plain": [
       "(tensor([[ 0.,  1.,  2.,  3.],\n",
       "         [ 4.,  5.,  6.,  7.],\n",
       "         [ 8.,  9., 10., 11.],\n",
       "         [12., 13., 14., 15.],\n",
       "         [16., 17., 18., 19.]], dtype=torch.float64),\n",
       " tensor([[ 0.,  1.,  2.,  3.],\n",
       "         [ 4.,  6.,  8., 10.],\n",
       "         [12., 15., 18., 21.],\n",
       "         [24., 28., 32., 36.],\n",
       "         [40., 45., 50., 55.]], dtype=torch.float64))"
      ]
     },
     "execution_count": 79,
     "metadata": {},
     "output_type": "execute_result"
    }
   ],
   "source": [
    "A, A.cumsum(axis=0)"
   ]
  },
  {
   "cell_type": "code",
   "execution_count": 80,
   "id": "ebc8cbb5-76cc-4897-a74e-1087cb472d0b",
   "metadata": {},
   "outputs": [
    {
     "data": {
      "text/plain": [
       "(tensor([0., 1., 2., 3.], dtype=torch.float64),\n",
       " tensor([1., 1., 1., 1.], dtype=torch.float64),\n",
       " tensor(6., dtype=torch.float64))"
      ]
     },
     "execution_count": 80,
     "metadata": {},
     "output_type": "execute_result"
    }
   ],
   "source": [
    "y = torch.ones(4, dtype = torch.float64)\n",
    "x, y, torch.dot(x, y)"
   ]
  },
  {
   "cell_type": "code",
   "execution_count": 81,
   "id": "2554bc1d-256d-429f-9b63-eda31769e213",
   "metadata": {},
   "outputs": [
    {
     "data": {
      "text/plain": [
       "tensor(6., dtype=torch.float64)"
      ]
     },
     "execution_count": 81,
     "metadata": {},
     "output_type": "execute_result"
    }
   ],
   "source": [
    "torch.sum(x * y)"
   ]
  },
  {
   "cell_type": "code",
   "execution_count": 82,
   "id": "6a1c824e-3a8e-47ed-a7e2-3d9a3e9100f3",
   "metadata": {},
   "outputs": [
    {
     "data": {
      "text/plain": [
       "(tensor([[ 0.,  1.,  2.,  3.],\n",
       "         [ 4.,  5.,  6.,  7.],\n",
       "         [ 8.,  9., 10., 11.],\n",
       "         [12., 13., 14., 15.],\n",
       "         [16., 17., 18., 19.]], dtype=torch.float64),\n",
       " tensor([0., 1., 2., 3.], dtype=torch.float64))"
      ]
     },
     "execution_count": 82,
     "metadata": {},
     "output_type": "execute_result"
    }
   ],
   "source": [
    "A, x"
   ]
  },
  {
   "cell_type": "code",
   "execution_count": 83,
   "id": "23efae01",
   "metadata": {},
   "outputs": [
    {
     "data": {
      "text/plain": [
       "(torch.Size([5, 4]),\n",
       " torch.Size([4]),\n",
       " tensor([ 14.,  38.,  62.,  86., 110.], dtype=torch.float64))"
      ]
     },
     "execution_count": 83,
     "metadata": {},
     "output_type": "execute_result"
    }
   ],
   "source": [
    "A.shape, x.shape, torch.mv(A, x) # matrix-vector"
   ]
  },
  {
   "cell_type": "code",
   "execution_count": 84,
   "id": "8e1829f0",
   "metadata": {},
   "outputs": [
    {
     "data": {
      "text/plain": [
       "tensor([[ 6.,  6.,  6.],\n",
       "        [22., 22., 22.],\n",
       "        [38., 38., 38.],\n",
       "        [54., 54., 54.],\n",
       "        [70., 70., 70.]], dtype=torch.float64)"
      ]
     },
     "execution_count": 84,
     "metadata": {},
     "output_type": "execute_result"
    }
   ],
   "source": [
    "B = torch.ones([4, 3], dtype = torch.float64) \n",
    "torch.mm(A, B)"
   ]
  },
  {
   "cell_type": "code",
   "execution_count": 85,
   "id": "36b49505",
   "metadata": {},
   "outputs": [
    {
     "data": {
      "text/plain": [
       "tensor(5.)"
      ]
     },
     "execution_count": 85,
     "metadata": {},
     "output_type": "execute_result"
    }
   ],
   "source": [
    "u = torch.tensor([3.0, -4.0])\n",
    "torch.norm(u)"
   ]
  },
  {
   "cell_type": "code",
   "execution_count": 86,
   "id": "9168f087",
   "metadata": {},
   "outputs": [
    {
     "data": {
      "text/plain": [
       "tensor(7.)"
      ]
     },
     "execution_count": 86,
     "metadata": {},
     "output_type": "execute_result"
    }
   ],
   "source": [
    "torch.abs(u).sum()"
   ]
  },
  {
   "cell_type": "code",
   "execution_count": 87,
   "id": "0212fbde",
   "metadata": {},
   "outputs": [
    {
     "data": {
      "text/plain": [
       "tensor(6.)"
      ]
     },
     "execution_count": 87,
     "metadata": {},
     "output_type": "execute_result"
    }
   ],
   "source": [
    "torch.norm(torch.ones(4, 9))"
   ]
  },
  {
   "cell_type": "code",
   "execution_count": null,
   "id": "79ad3259",
   "metadata": {},
   "outputs": [],
   "source": []
  },
  {
   "cell_type": "code",
   "execution_count": null,
   "id": "a62ed5a5",
   "metadata": {},
   "outputs": [],
   "source": []
  },
  {
   "cell_type": "code",
   "execution_count": null,
   "id": "2e78bb60",
   "metadata": {},
   "outputs": [],
   "source": []
  },
  {
   "cell_type": "code",
   "execution_count": 88,
   "id": "74a1344a",
   "metadata": {},
   "outputs": [],
   "source": [
    "%matplotlib inline\n",
    "import torch\n",
    "from torch.distributions import multinomial\n",
    "from d2l import torch as d2l"
   ]
  },
  {
   "cell_type": "code",
   "execution_count": 89,
   "id": "63173361",
   "metadata": {},
   "outputs": [
    {
     "data": {
      "text/plain": [
       "tensor([0., 0., 0., 0., 1., 0.])"
      ]
     },
     "execution_count": 89,
     "metadata": {},
     "output_type": "execute_result"
    }
   ],
   "source": [
    "fair_probs = torch.ones([6]) / 6\n",
    "multinomial.Multinomial(1, fair_probs).sample()"
   ]
  },
  {
   "cell_type": "code",
   "execution_count": 90,
   "id": "2d196ad5",
   "metadata": {},
   "outputs": [
    {
     "data": {
      "text/plain": [
       "tensor([2., 2., 2., 1., 2., 1.])"
      ]
     },
     "execution_count": 90,
     "metadata": {},
     "output_type": "execute_result"
    }
   ],
   "source": [
    "multinomial.Multinomial(10, fair_probs).sample()"
   ]
  },
  {
   "cell_type": "code",
   "execution_count": 91,
   "id": "69ea25fb",
   "metadata": {},
   "outputs": [
    {
     "data": {
      "text/plain": [
       "tensor([0.1450, 0.1540, 0.1540, 0.1740, 0.1940, 0.1790])"
      ]
     },
     "execution_count": 91,
     "metadata": {},
     "output_type": "execute_result"
    }
   ],
   "source": [
    "# 将结果存储为32位浮点数以进行除法\n",
    "counts = multinomial.Multinomial(1000, fair_probs).sample()\n",
    "counts / 1000  # 相对频率作为估计值"
   ]
  },
  {
   "cell_type": "code",
   "execution_count": 92,
   "id": "3bf0636d",
   "metadata": {},
   "outputs": [
    {
     "data": {
      "image/svg+xml": "<?xml version=\"1.0\" encoding=\"utf-8\" standalone=\"no\"?>\n<!DOCTYPE svg PUBLIC \"-//W3C//DTD SVG 1.1//EN\"\n  \"http://www.w3.org/Graphics/SVG/1.1/DTD/svg11.dtd\">\n<!-- Created with matplotlib (https://matplotlib.org/) -->\n<svg height=\"289.37625pt\" version=\"1.1\" viewBox=\"0 0 399.224758 289.37625\" width=\"399.224758pt\" xmlns=\"http://www.w3.org/2000/svg\" xmlns:xlink=\"http://www.w3.org/1999/xlink\">\n <metadata>\n  <rdf:RDF xmlns:cc=\"http://creativecommons.org/ns#\" xmlns:dc=\"http://purl.org/dc/elements/1.1/\" xmlns:rdf=\"http://www.w3.org/1999/02/22-rdf-syntax-ns#\">\n   <cc:Work>\n    <dc:type rdf:resource=\"http://purl.org/dc/dcmitype/StillImage\"/>\n    <dc:date>2023-01-17T16:43:54.716663</dc:date>\n    <dc:format>image/svg+xml</dc:format>\n    <dc:creator>\n     <cc:Agent>\n      <dc:title>Matplotlib v3.3.4, https://matplotlib.org/</dc:title>\n     </cc:Agent>\n    </dc:creator>\n   </cc:Work>\n  </rdf:RDF>\n </metadata>\n <defs>\n  <style type=\"text/css\">*{stroke-linecap:butt;stroke-linejoin:round;}</style>\n </defs>\n <g id=\"figure_1\">\n  <g id=\"patch_1\">\n   <path d=\"M 0 289.37625 \nL 399.224758 289.37625 \nL 399.224758 0 \nL 0 0 \nz\n\" style=\"fill:none;\"/>\n  </g>\n  <g id=\"axes_1\">\n   <g id=\"patch_2\">\n    <path d=\"M 56.50625 251.82 \nL 391.30625 251.82 \nL 391.30625 7.2 \nL 56.50625 7.2 \nz\n\" style=\"fill:#ffffff;\"/>\n   </g>\n   <g id=\"matplotlib.axis_1\">\n    <g id=\"xtick_1\">\n     <g id=\"line2d_1\">\n      <defs>\n       <path d=\"M 0 0 \nL 0 3.5 \n\" id=\"m4e448ed77a\" style=\"stroke:#000000;stroke-width:0.8;\"/>\n      </defs>\n      <g>\n       <use style=\"stroke:#000000;stroke-width:0.8;\" x=\"71.724432\" xlink:href=\"#m4e448ed77a\" y=\"251.82\"/>\n      </g>\n     </g>\n     <g id=\"text_1\">\n      <!-- 0 -->\n      <g transform=\"translate(68.543182 266.418437)scale(0.1 -0.1)\">\n       <defs>\n        <path d=\"M 31.78125 66.40625 \nQ 24.171875 66.40625 20.328125 58.90625 \nQ 16.5 51.421875 16.5 36.375 \nQ 16.5 21.390625 20.328125 13.890625 \nQ 24.171875 6.390625 31.78125 6.390625 \nQ 39.453125 6.390625 43.28125 13.890625 \nQ 47.125 21.390625 47.125 36.375 \nQ 47.125 51.421875 43.28125 58.90625 \nQ 39.453125 66.40625 31.78125 66.40625 \nz\nM 31.78125 74.21875 \nQ 44.046875 74.21875 50.515625 64.515625 \nQ 56.984375 54.828125 56.984375 36.375 \nQ 56.984375 17.96875 50.515625 8.265625 \nQ 44.046875 -1.421875 31.78125 -1.421875 \nQ 19.53125 -1.421875 13.0625 8.265625 \nQ 6.59375 17.96875 6.59375 36.375 \nQ 6.59375 54.828125 13.0625 64.515625 \nQ 19.53125 74.21875 31.78125 74.21875 \nz\n\" id=\"DejaVuSans-48\"/>\n       </defs>\n       <use xlink:href=\"#DejaVuSans-48\"/>\n      </g>\n     </g>\n    </g>\n    <g id=\"xtick_2\">\n     <g id=\"line2d_2\">\n      <g>\n       <use style=\"stroke:#000000;stroke-width:0.8;\" x=\"132.603247\" xlink:href=\"#m4e448ed77a\" y=\"251.82\"/>\n      </g>\n     </g>\n     <g id=\"text_2\">\n      <!-- 2000 -->\n      <g transform=\"translate(119.878247 266.418437)scale(0.1 -0.1)\">\n       <defs>\n        <path d=\"M 19.1875 8.296875 \nL 53.609375 8.296875 \nL 53.609375 0 \nL 7.328125 0 \nL 7.328125 8.296875 \nQ 12.9375 14.109375 22.625 23.890625 \nQ 32.328125 33.6875 34.8125 36.53125 \nQ 39.546875 41.84375 41.421875 45.53125 \nQ 43.3125 49.21875 43.3125 52.78125 \nQ 43.3125 58.59375 39.234375 62.25 \nQ 35.15625 65.921875 28.609375 65.921875 \nQ 23.96875 65.921875 18.8125 64.3125 \nQ 13.671875 62.703125 7.8125 59.421875 \nL 7.8125 69.390625 \nQ 13.765625 71.78125 18.9375 73 \nQ 24.125 74.21875 28.421875 74.21875 \nQ 39.75 74.21875 46.484375 68.546875 \nQ 53.21875 62.890625 53.21875 53.421875 \nQ 53.21875 48.921875 51.53125 44.890625 \nQ 49.859375 40.875 45.40625 35.40625 \nQ 44.1875 33.984375 37.640625 27.21875 \nQ 31.109375 20.453125 19.1875 8.296875 \nz\n\" id=\"DejaVuSans-50\"/>\n       </defs>\n       <use xlink:href=\"#DejaVuSans-50\"/>\n       <use x=\"63.623047\" xlink:href=\"#DejaVuSans-48\"/>\n       <use x=\"127.246094\" xlink:href=\"#DejaVuSans-48\"/>\n       <use x=\"190.869141\" xlink:href=\"#DejaVuSans-48\"/>\n      </g>\n     </g>\n    </g>\n    <g id=\"xtick_3\">\n     <g id=\"line2d_3\">\n      <g>\n       <use style=\"stroke:#000000;stroke-width:0.8;\" x=\"193.482062\" xlink:href=\"#m4e448ed77a\" y=\"251.82\"/>\n      </g>\n     </g>\n     <g id=\"text_3\">\n      <!-- 4000 -->\n      <g transform=\"translate(180.757062 266.418437)scale(0.1 -0.1)\">\n       <defs>\n        <path d=\"M 37.796875 64.3125 \nL 12.890625 25.390625 \nL 37.796875 25.390625 \nz\nM 35.203125 72.90625 \nL 47.609375 72.90625 \nL 47.609375 25.390625 \nL 58.015625 25.390625 \nL 58.015625 17.1875 \nL 47.609375 17.1875 \nL 47.609375 0 \nL 37.796875 0 \nL 37.796875 17.1875 \nL 4.890625 17.1875 \nL 4.890625 26.703125 \nz\n\" id=\"DejaVuSans-52\"/>\n       </defs>\n       <use xlink:href=\"#DejaVuSans-52\"/>\n       <use x=\"63.623047\" xlink:href=\"#DejaVuSans-48\"/>\n       <use x=\"127.246094\" xlink:href=\"#DejaVuSans-48\"/>\n       <use x=\"190.869141\" xlink:href=\"#DejaVuSans-48\"/>\n      </g>\n     </g>\n    </g>\n    <g id=\"xtick_4\">\n     <g id=\"line2d_4\">\n      <g>\n       <use style=\"stroke:#000000;stroke-width:0.8;\" x=\"254.360877\" xlink:href=\"#m4e448ed77a\" y=\"251.82\"/>\n      </g>\n     </g>\n     <g id=\"text_4\">\n      <!-- 6000 -->\n      <g transform=\"translate(241.635877 266.418437)scale(0.1 -0.1)\">\n       <defs>\n        <path d=\"M 33.015625 40.375 \nQ 26.375 40.375 22.484375 35.828125 \nQ 18.609375 31.296875 18.609375 23.390625 \nQ 18.609375 15.53125 22.484375 10.953125 \nQ 26.375 6.390625 33.015625 6.390625 \nQ 39.65625 6.390625 43.53125 10.953125 \nQ 47.40625 15.53125 47.40625 23.390625 \nQ 47.40625 31.296875 43.53125 35.828125 \nQ 39.65625 40.375 33.015625 40.375 \nz\nM 52.59375 71.296875 \nL 52.59375 62.3125 \nQ 48.875 64.0625 45.09375 64.984375 \nQ 41.3125 65.921875 37.59375 65.921875 \nQ 27.828125 65.921875 22.671875 59.328125 \nQ 17.53125 52.734375 16.796875 39.40625 \nQ 19.671875 43.65625 24.015625 45.921875 \nQ 28.375 48.1875 33.59375 48.1875 \nQ 44.578125 48.1875 50.953125 41.515625 \nQ 57.328125 34.859375 57.328125 23.390625 \nQ 57.328125 12.15625 50.6875 5.359375 \nQ 44.046875 -1.421875 33.015625 -1.421875 \nQ 20.359375 -1.421875 13.671875 8.265625 \nQ 6.984375 17.96875 6.984375 36.375 \nQ 6.984375 53.65625 15.1875 63.9375 \nQ 23.390625 74.21875 37.203125 74.21875 \nQ 40.921875 74.21875 44.703125 73.484375 \nQ 48.484375 72.75 52.59375 71.296875 \nz\n\" id=\"DejaVuSans-54\"/>\n       </defs>\n       <use xlink:href=\"#DejaVuSans-54\"/>\n       <use x=\"63.623047\" xlink:href=\"#DejaVuSans-48\"/>\n       <use x=\"127.246094\" xlink:href=\"#DejaVuSans-48\"/>\n       <use x=\"190.869141\" xlink:href=\"#DejaVuSans-48\"/>\n      </g>\n     </g>\n    </g>\n    <g id=\"xtick_5\">\n     <g id=\"line2d_5\">\n      <g>\n       <use style=\"stroke:#000000;stroke-width:0.8;\" x=\"315.239692\" xlink:href=\"#m4e448ed77a\" y=\"251.82\"/>\n      </g>\n     </g>\n     <g id=\"text_5\">\n      <!-- 8000 -->\n      <g transform=\"translate(302.514692 266.418437)scale(0.1 -0.1)\">\n       <defs>\n        <path d=\"M 31.78125 34.625 \nQ 24.75 34.625 20.71875 30.859375 \nQ 16.703125 27.09375 16.703125 20.515625 \nQ 16.703125 13.921875 20.71875 10.15625 \nQ 24.75 6.390625 31.78125 6.390625 \nQ 38.8125 6.390625 42.859375 10.171875 \nQ 46.921875 13.96875 46.921875 20.515625 \nQ 46.921875 27.09375 42.890625 30.859375 \nQ 38.875 34.625 31.78125 34.625 \nz\nM 21.921875 38.8125 \nQ 15.578125 40.375 12.03125 44.71875 \nQ 8.5 49.078125 8.5 55.328125 \nQ 8.5 64.0625 14.71875 69.140625 \nQ 20.953125 74.21875 31.78125 74.21875 \nQ 42.671875 74.21875 48.875 69.140625 \nQ 55.078125 64.0625 55.078125 55.328125 \nQ 55.078125 49.078125 51.53125 44.71875 \nQ 48 40.375 41.703125 38.8125 \nQ 48.828125 37.15625 52.796875 32.3125 \nQ 56.78125 27.484375 56.78125 20.515625 \nQ 56.78125 9.90625 50.3125 4.234375 \nQ 43.84375 -1.421875 31.78125 -1.421875 \nQ 19.734375 -1.421875 13.25 4.234375 \nQ 6.78125 9.90625 6.78125 20.515625 \nQ 6.78125 27.484375 10.78125 32.3125 \nQ 14.796875 37.15625 21.921875 38.8125 \nz\nM 18.3125 54.390625 \nQ 18.3125 48.734375 21.84375 45.5625 \nQ 25.390625 42.390625 31.78125 42.390625 \nQ 38.140625 42.390625 41.71875 45.5625 \nQ 45.3125 48.734375 45.3125 54.390625 \nQ 45.3125 60.0625 41.71875 63.234375 \nQ 38.140625 66.40625 31.78125 66.40625 \nQ 25.390625 66.40625 21.84375 63.234375 \nQ 18.3125 60.0625 18.3125 54.390625 \nz\n\" id=\"DejaVuSans-56\"/>\n       </defs>\n       <use xlink:href=\"#DejaVuSans-56\"/>\n       <use x=\"63.623047\" xlink:href=\"#DejaVuSans-48\"/>\n       <use x=\"127.246094\" xlink:href=\"#DejaVuSans-48\"/>\n       <use x=\"190.869141\" xlink:href=\"#DejaVuSans-48\"/>\n      </g>\n     </g>\n    </g>\n    <g id=\"xtick_6\">\n     <g id=\"line2d_6\">\n      <g>\n       <use style=\"stroke:#000000;stroke-width:0.8;\" x=\"376.118508\" xlink:href=\"#m4e448ed77a\" y=\"251.82\"/>\n      </g>\n     </g>\n     <g id=\"text_6\">\n      <!-- 10000 -->\n      <g transform=\"translate(360.212258 266.418437)scale(0.1 -0.1)\">\n       <defs>\n        <path d=\"M 12.40625 8.296875 \nL 28.515625 8.296875 \nL 28.515625 63.921875 \nL 10.984375 60.40625 \nL 10.984375 69.390625 \nL 28.421875 72.90625 \nL 38.28125 72.90625 \nL 38.28125 8.296875 \nL 54.390625 8.296875 \nL 54.390625 0 \nL 12.40625 0 \nz\n\" id=\"DejaVuSans-49\"/>\n       </defs>\n       <use xlink:href=\"#DejaVuSans-49\"/>\n       <use x=\"63.623047\" xlink:href=\"#DejaVuSans-48\"/>\n       <use x=\"127.246094\" xlink:href=\"#DejaVuSans-48\"/>\n       <use x=\"190.869141\" xlink:href=\"#DejaVuSans-48\"/>\n       <use x=\"254.492188\" xlink:href=\"#DejaVuSans-48\"/>\n      </g>\n     </g>\n    </g>\n    <g id=\"text_7\">\n     <!-- Groups of experiments -->\n     <g transform=\"translate(166.760156 280.096562)scale(0.1 -0.1)\">\n      <defs>\n       <path d=\"M 59.515625 10.40625 \nL 59.515625 29.984375 \nL 43.40625 29.984375 \nL 43.40625 38.09375 \nL 69.28125 38.09375 \nL 69.28125 6.78125 \nQ 63.578125 2.734375 56.6875 0.65625 \nQ 49.8125 -1.421875 42 -1.421875 \nQ 24.90625 -1.421875 15.25 8.5625 \nQ 5.609375 18.5625 5.609375 36.375 \nQ 5.609375 54.25 15.25 64.234375 \nQ 24.90625 74.21875 42 74.21875 \nQ 49.125 74.21875 55.546875 72.453125 \nQ 61.96875 70.703125 67.390625 67.28125 \nL 67.390625 56.78125 \nQ 61.921875 61.421875 55.765625 63.765625 \nQ 49.609375 66.109375 42.828125 66.109375 \nQ 29.4375 66.109375 22.71875 58.640625 \nQ 16.015625 51.171875 16.015625 36.375 \nQ 16.015625 21.625 22.71875 14.15625 \nQ 29.4375 6.6875 42.828125 6.6875 \nQ 48.046875 6.6875 52.140625 7.59375 \nQ 56.25 8.5 59.515625 10.40625 \nz\n\" id=\"DejaVuSans-71\"/>\n       <path d=\"M 41.109375 46.296875 \nQ 39.59375 47.171875 37.8125 47.578125 \nQ 36.03125 48 33.890625 48 \nQ 26.265625 48 22.1875 43.046875 \nQ 18.109375 38.09375 18.109375 28.8125 \nL 18.109375 0 \nL 9.078125 0 \nL 9.078125 54.6875 \nL 18.109375 54.6875 \nL 18.109375 46.1875 \nQ 20.953125 51.171875 25.484375 53.578125 \nQ 30.03125 56 36.53125 56 \nQ 37.453125 56 38.578125 55.875 \nQ 39.703125 55.765625 41.0625 55.515625 \nz\n\" id=\"DejaVuSans-114\"/>\n       <path d=\"M 30.609375 48.390625 \nQ 23.390625 48.390625 19.1875 42.75 \nQ 14.984375 37.109375 14.984375 27.296875 \nQ 14.984375 17.484375 19.15625 11.84375 \nQ 23.34375 6.203125 30.609375 6.203125 \nQ 37.796875 6.203125 41.984375 11.859375 \nQ 46.1875 17.53125 46.1875 27.296875 \nQ 46.1875 37.015625 41.984375 42.703125 \nQ 37.796875 48.390625 30.609375 48.390625 \nz\nM 30.609375 56 \nQ 42.328125 56 49.015625 48.375 \nQ 55.71875 40.765625 55.71875 27.296875 \nQ 55.71875 13.875 49.015625 6.21875 \nQ 42.328125 -1.421875 30.609375 -1.421875 \nQ 18.84375 -1.421875 12.171875 6.21875 \nQ 5.515625 13.875 5.515625 27.296875 \nQ 5.515625 40.765625 12.171875 48.375 \nQ 18.84375 56 30.609375 56 \nz\n\" id=\"DejaVuSans-111\"/>\n       <path d=\"M 8.5 21.578125 \nL 8.5 54.6875 \nL 17.484375 54.6875 \nL 17.484375 21.921875 \nQ 17.484375 14.15625 20.5 10.265625 \nQ 23.53125 6.390625 29.59375 6.390625 \nQ 36.859375 6.390625 41.078125 11.03125 \nQ 45.3125 15.671875 45.3125 23.6875 \nL 45.3125 54.6875 \nL 54.296875 54.6875 \nL 54.296875 0 \nL 45.3125 0 \nL 45.3125 8.40625 \nQ 42.046875 3.421875 37.71875 1 \nQ 33.40625 -1.421875 27.6875 -1.421875 \nQ 18.265625 -1.421875 13.375 4.4375 \nQ 8.5 10.296875 8.5 21.578125 \nz\nM 31.109375 56 \nz\n\" id=\"DejaVuSans-117\"/>\n       <path d=\"M 18.109375 8.203125 \nL 18.109375 -20.796875 \nL 9.078125 -20.796875 \nL 9.078125 54.6875 \nL 18.109375 54.6875 \nL 18.109375 46.390625 \nQ 20.953125 51.265625 25.265625 53.625 \nQ 29.59375 56 35.59375 56 \nQ 45.5625 56 51.78125 48.09375 \nQ 58.015625 40.1875 58.015625 27.296875 \nQ 58.015625 14.40625 51.78125 6.484375 \nQ 45.5625 -1.421875 35.59375 -1.421875 \nQ 29.59375 -1.421875 25.265625 0.953125 \nQ 20.953125 3.328125 18.109375 8.203125 \nz\nM 48.6875 27.296875 \nQ 48.6875 37.203125 44.609375 42.84375 \nQ 40.53125 48.484375 33.40625 48.484375 \nQ 26.265625 48.484375 22.1875 42.84375 \nQ 18.109375 37.203125 18.109375 27.296875 \nQ 18.109375 17.390625 22.1875 11.75 \nQ 26.265625 6.109375 33.40625 6.109375 \nQ 40.53125 6.109375 44.609375 11.75 \nQ 48.6875 17.390625 48.6875 27.296875 \nz\n\" id=\"DejaVuSans-112\"/>\n       <path d=\"M 44.28125 53.078125 \nL 44.28125 44.578125 \nQ 40.484375 46.53125 36.375 47.5 \nQ 32.28125 48.484375 27.875 48.484375 \nQ 21.1875 48.484375 17.84375 46.4375 \nQ 14.5 44.390625 14.5 40.28125 \nQ 14.5 37.15625 16.890625 35.375 \nQ 19.28125 33.59375 26.515625 31.984375 \nL 29.59375 31.296875 \nQ 39.15625 29.25 43.1875 25.515625 \nQ 47.21875 21.78125 47.21875 15.09375 \nQ 47.21875 7.46875 41.1875 3.015625 \nQ 35.15625 -1.421875 24.609375 -1.421875 \nQ 20.21875 -1.421875 15.453125 -0.5625 \nQ 10.6875 0.296875 5.421875 2 \nL 5.421875 11.28125 \nQ 10.40625 8.6875 15.234375 7.390625 \nQ 20.0625 6.109375 24.8125 6.109375 \nQ 31.15625 6.109375 34.5625 8.28125 \nQ 37.984375 10.453125 37.984375 14.40625 \nQ 37.984375 18.0625 35.515625 20.015625 \nQ 33.0625 21.96875 24.703125 23.78125 \nL 21.578125 24.515625 \nQ 13.234375 26.265625 9.515625 29.90625 \nQ 5.8125 33.546875 5.8125 39.890625 \nQ 5.8125 47.609375 11.28125 51.796875 \nQ 16.75 56 26.8125 56 \nQ 31.78125 56 36.171875 55.265625 \nQ 40.578125 54.546875 44.28125 53.078125 \nz\n\" id=\"DejaVuSans-115\"/>\n       <path id=\"DejaVuSans-32\"/>\n       <path d=\"M 37.109375 75.984375 \nL 37.109375 68.5 \nL 28.515625 68.5 \nQ 23.6875 68.5 21.796875 66.546875 \nQ 19.921875 64.59375 19.921875 59.515625 \nL 19.921875 54.6875 \nL 34.71875 54.6875 \nL 34.71875 47.703125 \nL 19.921875 47.703125 \nL 19.921875 0 \nL 10.890625 0 \nL 10.890625 47.703125 \nL 2.296875 47.703125 \nL 2.296875 54.6875 \nL 10.890625 54.6875 \nL 10.890625 58.5 \nQ 10.890625 67.625 15.140625 71.796875 \nQ 19.390625 75.984375 28.609375 75.984375 \nz\n\" id=\"DejaVuSans-102\"/>\n       <path d=\"M 56.203125 29.59375 \nL 56.203125 25.203125 \nL 14.890625 25.203125 \nQ 15.484375 15.921875 20.484375 11.0625 \nQ 25.484375 6.203125 34.421875 6.203125 \nQ 39.59375 6.203125 44.453125 7.46875 \nQ 49.3125 8.734375 54.109375 11.28125 \nL 54.109375 2.78125 \nQ 49.265625 0.734375 44.1875 -0.34375 \nQ 39.109375 -1.421875 33.890625 -1.421875 \nQ 20.796875 -1.421875 13.15625 6.1875 \nQ 5.515625 13.8125 5.515625 26.8125 \nQ 5.515625 40.234375 12.765625 48.109375 \nQ 20.015625 56 32.328125 56 \nQ 43.359375 56 49.78125 48.890625 \nQ 56.203125 41.796875 56.203125 29.59375 \nz\nM 47.21875 32.234375 \nQ 47.125 39.59375 43.09375 43.984375 \nQ 39.0625 48.390625 32.421875 48.390625 \nQ 24.90625 48.390625 20.390625 44.140625 \nQ 15.875 39.890625 15.1875 32.171875 \nz\n\" id=\"DejaVuSans-101\"/>\n       <path d=\"M 54.890625 54.6875 \nL 35.109375 28.078125 \nL 55.90625 0 \nL 45.3125 0 \nL 29.390625 21.484375 \nL 13.484375 0 \nL 2.875 0 \nL 24.125 28.609375 \nL 4.6875 54.6875 \nL 15.28125 54.6875 \nL 29.78125 35.203125 \nL 44.28125 54.6875 \nz\n\" id=\"DejaVuSans-120\"/>\n       <path d=\"M 9.421875 54.6875 \nL 18.40625 54.6875 \nL 18.40625 0 \nL 9.421875 0 \nz\nM 9.421875 75.984375 \nL 18.40625 75.984375 \nL 18.40625 64.59375 \nL 9.421875 64.59375 \nz\n\" id=\"DejaVuSans-105\"/>\n       <path d=\"M 52 44.1875 \nQ 55.375 50.25 60.0625 53.125 \nQ 64.75 56 71.09375 56 \nQ 79.640625 56 84.28125 50.015625 \nQ 88.921875 44.046875 88.921875 33.015625 \nL 88.921875 0 \nL 79.890625 0 \nL 79.890625 32.71875 \nQ 79.890625 40.578125 77.09375 44.375 \nQ 74.3125 48.1875 68.609375 48.1875 \nQ 61.625 48.1875 57.5625 43.546875 \nQ 53.515625 38.921875 53.515625 30.90625 \nL 53.515625 0 \nL 44.484375 0 \nL 44.484375 32.71875 \nQ 44.484375 40.625 41.703125 44.40625 \nQ 38.921875 48.1875 33.109375 48.1875 \nQ 26.21875 48.1875 22.15625 43.53125 \nQ 18.109375 38.875 18.109375 30.90625 \nL 18.109375 0 \nL 9.078125 0 \nL 9.078125 54.6875 \nL 18.109375 54.6875 \nL 18.109375 46.1875 \nQ 21.1875 51.21875 25.484375 53.609375 \nQ 29.78125 56 35.6875 56 \nQ 41.65625 56 45.828125 52.96875 \nQ 50 49.953125 52 44.1875 \nz\n\" id=\"DejaVuSans-109\"/>\n       <path d=\"M 54.890625 33.015625 \nL 54.890625 0 \nL 45.90625 0 \nL 45.90625 32.71875 \nQ 45.90625 40.484375 42.875 44.328125 \nQ 39.84375 48.1875 33.796875 48.1875 \nQ 26.515625 48.1875 22.3125 43.546875 \nQ 18.109375 38.921875 18.109375 30.90625 \nL 18.109375 0 \nL 9.078125 0 \nL 9.078125 54.6875 \nL 18.109375 54.6875 \nL 18.109375 46.1875 \nQ 21.34375 51.125 25.703125 53.5625 \nQ 30.078125 56 35.796875 56 \nQ 45.21875 56 50.046875 50.171875 \nQ 54.890625 44.34375 54.890625 33.015625 \nz\n\" id=\"DejaVuSans-110\"/>\n       <path d=\"M 18.3125 70.21875 \nL 18.3125 54.6875 \nL 36.8125 54.6875 \nL 36.8125 47.703125 \nL 18.3125 47.703125 \nL 18.3125 18.015625 \nQ 18.3125 11.328125 20.140625 9.421875 \nQ 21.96875 7.515625 27.59375 7.515625 \nL 36.8125 7.515625 \nL 36.8125 0 \nL 27.59375 0 \nQ 17.1875 0 13.234375 3.875 \nQ 9.28125 7.765625 9.28125 18.015625 \nL 9.28125 47.703125 \nL 2.6875 47.703125 \nL 2.6875 54.6875 \nL 9.28125 54.6875 \nL 9.28125 70.21875 \nz\n\" id=\"DejaVuSans-116\"/>\n      </defs>\n      <use xlink:href=\"#DejaVuSans-71\"/>\n      <use x=\"77.490234\" xlink:href=\"#DejaVuSans-114\"/>\n      <use x=\"116.353516\" xlink:href=\"#DejaVuSans-111\"/>\n      <use x=\"177.535156\" xlink:href=\"#DejaVuSans-117\"/>\n      <use x=\"240.914062\" xlink:href=\"#DejaVuSans-112\"/>\n      <use x=\"304.390625\" xlink:href=\"#DejaVuSans-115\"/>\n      <use x=\"356.490234\" xlink:href=\"#DejaVuSans-32\"/>\n      <use x=\"388.277344\" xlink:href=\"#DejaVuSans-111\"/>\n      <use x=\"449.458984\" xlink:href=\"#DejaVuSans-102\"/>\n      <use x=\"484.664062\" xlink:href=\"#DejaVuSans-32\"/>\n      <use x=\"516.451172\" xlink:href=\"#DejaVuSans-101\"/>\n      <use x=\"576.224609\" xlink:href=\"#DejaVuSans-120\"/>\n      <use x=\"635.404297\" xlink:href=\"#DejaVuSans-112\"/>\n      <use x=\"698.880859\" xlink:href=\"#DejaVuSans-101\"/>\n      <use x=\"760.404297\" xlink:href=\"#DejaVuSans-114\"/>\n      <use x=\"801.517578\" xlink:href=\"#DejaVuSans-105\"/>\n      <use x=\"829.300781\" xlink:href=\"#DejaVuSans-109\"/>\n      <use x=\"926.712891\" xlink:href=\"#DejaVuSans-101\"/>\n      <use x=\"988.236328\" xlink:href=\"#DejaVuSans-110\"/>\n      <use x=\"1051.615234\" xlink:href=\"#DejaVuSans-116\"/>\n      <use x=\"1090.824219\" xlink:href=\"#DejaVuSans-115\"/>\n     </g>\n    </g>\n   </g>\n   <g id=\"matplotlib.axis_2\">\n    <g id=\"ytick_1\">\n     <g id=\"line2d_7\">\n      <defs>\n       <path d=\"M 0 0 \nL -3.5 0 \n\" id=\"m3abb910738\" style=\"stroke:#000000;stroke-width:0.8;\"/>\n      </defs>\n      <g>\n       <use style=\"stroke:#000000;stroke-width:0.8;\" x=\"56.50625\" xlink:href=\"#m3abb910738\" y=\"227.619629\"/>\n      </g>\n     </g>\n     <g id=\"text_8\">\n      <!-- 0.100 -->\n      <g transform=\"translate(20.878125 231.418848)scale(0.1 -0.1)\">\n       <defs>\n        <path d=\"M 10.6875 12.40625 \nL 21 12.40625 \nL 21 0 \nL 10.6875 0 \nz\n\" id=\"DejaVuSans-46\"/>\n       </defs>\n       <use xlink:href=\"#DejaVuSans-48\"/>\n       <use x=\"63.623047\" xlink:href=\"#DejaVuSans-46\"/>\n       <use x=\"95.410156\" xlink:href=\"#DejaVuSans-49\"/>\n       <use x=\"159.033203\" xlink:href=\"#DejaVuSans-48\"/>\n       <use x=\"222.65625\" xlink:href=\"#DejaVuSans-48\"/>\n      </g>\n     </g>\n    </g>\n    <g id=\"ytick_2\">\n     <g id=\"line2d_8\">\n      <g>\n       <use style=\"stroke:#000000;stroke-width:0.8;\" x=\"56.50625\" xlink:href=\"#m3abb910738\" y=\"194.916418\"/>\n      </g>\n     </g>\n     <g id=\"text_9\">\n      <!-- 0.125 -->\n      <g transform=\"translate(20.878125 198.715637)scale(0.1 -0.1)\">\n       <defs>\n        <path d=\"M 10.796875 72.90625 \nL 49.515625 72.90625 \nL 49.515625 64.59375 \nL 19.828125 64.59375 \nL 19.828125 46.734375 \nQ 21.96875 47.46875 24.109375 47.828125 \nQ 26.265625 48.1875 28.421875 48.1875 \nQ 40.625 48.1875 47.75 41.5 \nQ 54.890625 34.8125 54.890625 23.390625 \nQ 54.890625 11.625 47.5625 5.09375 \nQ 40.234375 -1.421875 26.90625 -1.421875 \nQ 22.3125 -1.421875 17.546875 -0.640625 \nQ 12.796875 0.140625 7.71875 1.703125 \nL 7.71875 11.625 \nQ 12.109375 9.234375 16.796875 8.0625 \nQ 21.484375 6.890625 26.703125 6.890625 \nQ 35.15625 6.890625 40.078125 11.328125 \nQ 45.015625 15.765625 45.015625 23.390625 \nQ 45.015625 31 40.078125 35.4375 \nQ 35.15625 39.890625 26.703125 39.890625 \nQ 22.75 39.890625 18.8125 39.015625 \nQ 14.890625 38.140625 10.796875 36.28125 \nz\n\" id=\"DejaVuSans-53\"/>\n       </defs>\n       <use xlink:href=\"#DejaVuSans-48\"/>\n       <use x=\"63.623047\" xlink:href=\"#DejaVuSans-46\"/>\n       <use x=\"95.410156\" xlink:href=\"#DejaVuSans-49\"/>\n       <use x=\"159.033203\" xlink:href=\"#DejaVuSans-50\"/>\n       <use x=\"222.65625\" xlink:href=\"#DejaVuSans-53\"/>\n      </g>\n     </g>\n    </g>\n    <g id=\"ytick_3\">\n     <g id=\"line2d_9\">\n      <g>\n       <use style=\"stroke:#000000;stroke-width:0.8;\" x=\"56.50625\" xlink:href=\"#m3abb910738\" y=\"162.213207\"/>\n      </g>\n     </g>\n     <g id=\"text_10\">\n      <!-- 0.150 -->\n      <g transform=\"translate(20.878125 166.012426)scale(0.1 -0.1)\">\n       <use xlink:href=\"#DejaVuSans-48\"/>\n       <use x=\"63.623047\" xlink:href=\"#DejaVuSans-46\"/>\n       <use x=\"95.410156\" xlink:href=\"#DejaVuSans-49\"/>\n       <use x=\"159.033203\" xlink:href=\"#DejaVuSans-53\"/>\n       <use x=\"222.65625\" xlink:href=\"#DejaVuSans-48\"/>\n      </g>\n     </g>\n    </g>\n    <g id=\"ytick_4\">\n     <g id=\"line2d_10\">\n      <g>\n       <use style=\"stroke:#000000;stroke-width:0.8;\" x=\"56.50625\" xlink:href=\"#m3abb910738\" y=\"129.509996\"/>\n      </g>\n     </g>\n     <g id=\"text_11\">\n      <!-- 0.175 -->\n      <g transform=\"translate(20.878125 133.309215)scale(0.1 -0.1)\">\n       <defs>\n        <path d=\"M 8.203125 72.90625 \nL 55.078125 72.90625 \nL 55.078125 68.703125 \nL 28.609375 0 \nL 18.3125 0 \nL 43.21875 64.59375 \nL 8.203125 64.59375 \nz\n\" id=\"DejaVuSans-55\"/>\n       </defs>\n       <use xlink:href=\"#DejaVuSans-48\"/>\n       <use x=\"63.623047\" xlink:href=\"#DejaVuSans-46\"/>\n       <use x=\"95.410156\" xlink:href=\"#DejaVuSans-49\"/>\n       <use x=\"159.033203\" xlink:href=\"#DejaVuSans-55\"/>\n       <use x=\"222.65625\" xlink:href=\"#DejaVuSans-53\"/>\n      </g>\n     </g>\n    </g>\n    <g id=\"ytick_5\">\n     <g id=\"line2d_11\">\n      <g>\n       <use style=\"stroke:#000000;stroke-width:0.8;\" x=\"56.50625\" xlink:href=\"#m3abb910738\" y=\"96.806785\"/>\n      </g>\n     </g>\n     <g id=\"text_12\">\n      <!-- 0.200 -->\n      <g transform=\"translate(20.878125 100.606004)scale(0.1 -0.1)\">\n       <use xlink:href=\"#DejaVuSans-48\"/>\n       <use x=\"63.623047\" xlink:href=\"#DejaVuSans-46\"/>\n       <use x=\"95.410156\" xlink:href=\"#DejaVuSans-50\"/>\n       <use x=\"159.033203\" xlink:href=\"#DejaVuSans-48\"/>\n       <use x=\"222.65625\" xlink:href=\"#DejaVuSans-48\"/>\n      </g>\n     </g>\n    </g>\n    <g id=\"ytick_6\">\n     <g id=\"line2d_12\">\n      <g>\n       <use style=\"stroke:#000000;stroke-width:0.8;\" x=\"56.50625\" xlink:href=\"#m3abb910738\" y=\"64.103574\"/>\n      </g>\n     </g>\n     <g id=\"text_13\">\n      <!-- 0.225 -->\n      <g transform=\"translate(20.878125 67.902793)scale(0.1 -0.1)\">\n       <use xlink:href=\"#DejaVuSans-48\"/>\n       <use x=\"63.623047\" xlink:href=\"#DejaVuSans-46\"/>\n       <use x=\"95.410156\" xlink:href=\"#DejaVuSans-50\"/>\n       <use x=\"159.033203\" xlink:href=\"#DejaVuSans-50\"/>\n       <use x=\"222.65625\" xlink:href=\"#DejaVuSans-53\"/>\n      </g>\n     </g>\n    </g>\n    <g id=\"ytick_7\">\n     <g id=\"line2d_13\">\n      <g>\n       <use style=\"stroke:#000000;stroke-width:0.8;\" x=\"56.50625\" xlink:href=\"#m3abb910738\" y=\"31.400363\"/>\n      </g>\n     </g>\n     <g id=\"text_14\">\n      <!-- 0.250 -->\n      <g transform=\"translate(20.878125 35.199582)scale(0.1 -0.1)\">\n       <use xlink:href=\"#DejaVuSans-48\"/>\n       <use x=\"63.623047\" xlink:href=\"#DejaVuSans-46\"/>\n       <use x=\"95.410156\" xlink:href=\"#DejaVuSans-50\"/>\n       <use x=\"159.033203\" xlink:href=\"#DejaVuSans-53\"/>\n       <use x=\"222.65625\" xlink:href=\"#DejaVuSans-48\"/>\n      </g>\n     </g>\n    </g>\n    <g id=\"text_15\">\n     <!-- Estimated probability -->\n     <g transform=\"translate(14.798438 183.033437)rotate(-90)scale(0.1 -0.1)\">\n      <defs>\n       <path d=\"M 9.8125 72.90625 \nL 55.90625 72.90625 \nL 55.90625 64.59375 \nL 19.671875 64.59375 \nL 19.671875 43.015625 \nL 54.390625 43.015625 \nL 54.390625 34.71875 \nL 19.671875 34.71875 \nL 19.671875 8.296875 \nL 56.78125 8.296875 \nL 56.78125 0 \nL 9.8125 0 \nz\n\" id=\"DejaVuSans-69\"/>\n       <path d=\"M 34.28125 27.484375 \nQ 23.390625 27.484375 19.1875 25 \nQ 14.984375 22.515625 14.984375 16.5 \nQ 14.984375 11.71875 18.140625 8.90625 \nQ 21.296875 6.109375 26.703125 6.109375 \nQ 34.1875 6.109375 38.703125 11.40625 \nQ 43.21875 16.703125 43.21875 25.484375 \nL 43.21875 27.484375 \nz\nM 52.203125 31.203125 \nL 52.203125 0 \nL 43.21875 0 \nL 43.21875 8.296875 \nQ 40.140625 3.328125 35.546875 0.953125 \nQ 30.953125 -1.421875 24.3125 -1.421875 \nQ 15.921875 -1.421875 10.953125 3.296875 \nQ 6 8.015625 6 15.921875 \nQ 6 25.140625 12.171875 29.828125 \nQ 18.359375 34.515625 30.609375 34.515625 \nL 43.21875 34.515625 \nL 43.21875 35.40625 \nQ 43.21875 41.609375 39.140625 45 \nQ 35.0625 48.390625 27.6875 48.390625 \nQ 23 48.390625 18.546875 47.265625 \nQ 14.109375 46.140625 10.015625 43.890625 \nL 10.015625 52.203125 \nQ 14.9375 54.109375 19.578125 55.046875 \nQ 24.21875 56 28.609375 56 \nQ 40.484375 56 46.34375 49.84375 \nQ 52.203125 43.703125 52.203125 31.203125 \nz\n\" id=\"DejaVuSans-97\"/>\n       <path d=\"M 45.40625 46.390625 \nL 45.40625 75.984375 \nL 54.390625 75.984375 \nL 54.390625 0 \nL 45.40625 0 \nL 45.40625 8.203125 \nQ 42.578125 3.328125 38.25 0.953125 \nQ 33.9375 -1.421875 27.875 -1.421875 \nQ 17.96875 -1.421875 11.734375 6.484375 \nQ 5.515625 14.40625 5.515625 27.296875 \nQ 5.515625 40.1875 11.734375 48.09375 \nQ 17.96875 56 27.875 56 \nQ 33.9375 56 38.25 53.625 \nQ 42.578125 51.265625 45.40625 46.390625 \nz\nM 14.796875 27.296875 \nQ 14.796875 17.390625 18.875 11.75 \nQ 22.953125 6.109375 30.078125 6.109375 \nQ 37.203125 6.109375 41.296875 11.75 \nQ 45.40625 17.390625 45.40625 27.296875 \nQ 45.40625 37.203125 41.296875 42.84375 \nQ 37.203125 48.484375 30.078125 48.484375 \nQ 22.953125 48.484375 18.875 42.84375 \nQ 14.796875 37.203125 14.796875 27.296875 \nz\n\" id=\"DejaVuSans-100\"/>\n       <path d=\"M 48.6875 27.296875 \nQ 48.6875 37.203125 44.609375 42.84375 \nQ 40.53125 48.484375 33.40625 48.484375 \nQ 26.265625 48.484375 22.1875 42.84375 \nQ 18.109375 37.203125 18.109375 27.296875 \nQ 18.109375 17.390625 22.1875 11.75 \nQ 26.265625 6.109375 33.40625 6.109375 \nQ 40.53125 6.109375 44.609375 11.75 \nQ 48.6875 17.390625 48.6875 27.296875 \nz\nM 18.109375 46.390625 \nQ 20.953125 51.265625 25.265625 53.625 \nQ 29.59375 56 35.59375 56 \nQ 45.5625 56 51.78125 48.09375 \nQ 58.015625 40.1875 58.015625 27.296875 \nQ 58.015625 14.40625 51.78125 6.484375 \nQ 45.5625 -1.421875 35.59375 -1.421875 \nQ 29.59375 -1.421875 25.265625 0.953125 \nQ 20.953125 3.328125 18.109375 8.203125 \nL 18.109375 0 \nL 9.078125 0 \nL 9.078125 75.984375 \nL 18.109375 75.984375 \nz\n\" id=\"DejaVuSans-98\"/>\n       <path d=\"M 9.421875 75.984375 \nL 18.40625 75.984375 \nL 18.40625 0 \nL 9.421875 0 \nz\n\" id=\"DejaVuSans-108\"/>\n       <path d=\"M 32.171875 -5.078125 \nQ 28.375 -14.84375 24.75 -17.8125 \nQ 21.140625 -20.796875 15.09375 -20.796875 \nL 7.90625 -20.796875 \nL 7.90625 -13.28125 \nL 13.1875 -13.28125 \nQ 16.890625 -13.28125 18.9375 -11.515625 \nQ 21 -9.765625 23.484375 -3.21875 \nL 25.09375 0.875 \nL 2.984375 54.6875 \nL 12.5 54.6875 \nL 29.59375 11.921875 \nL 46.6875 54.6875 \nL 56.203125 54.6875 \nz\n\" id=\"DejaVuSans-121\"/>\n      </defs>\n      <use xlink:href=\"#DejaVuSans-69\"/>\n      <use x=\"63.183594\" xlink:href=\"#DejaVuSans-115\"/>\n      <use x=\"115.283203\" xlink:href=\"#DejaVuSans-116\"/>\n      <use x=\"154.492188\" xlink:href=\"#DejaVuSans-105\"/>\n      <use x=\"182.275391\" xlink:href=\"#DejaVuSans-109\"/>\n      <use x=\"279.6875\" xlink:href=\"#DejaVuSans-97\"/>\n      <use x=\"340.966797\" xlink:href=\"#DejaVuSans-116\"/>\n      <use x=\"380.175781\" xlink:href=\"#DejaVuSans-101\"/>\n      <use x=\"441.699219\" xlink:href=\"#DejaVuSans-100\"/>\n      <use x=\"505.175781\" xlink:href=\"#DejaVuSans-32\"/>\n      <use x=\"536.962891\" xlink:href=\"#DejaVuSans-112\"/>\n      <use x=\"600.439453\" xlink:href=\"#DejaVuSans-114\"/>\n      <use x=\"639.302734\" xlink:href=\"#DejaVuSans-111\"/>\n      <use x=\"700.484375\" xlink:href=\"#DejaVuSans-98\"/>\n      <use x=\"763.960938\" xlink:href=\"#DejaVuSans-97\"/>\n      <use x=\"825.240234\" xlink:href=\"#DejaVuSans-98\"/>\n      <use x=\"888.716797\" xlink:href=\"#DejaVuSans-105\"/>\n      <use x=\"916.5\" xlink:href=\"#DejaVuSans-108\"/>\n      <use x=\"944.283203\" xlink:href=\"#DejaVuSans-105\"/>\n      <use x=\"972.066406\" xlink:href=\"#DejaVuSans-116\"/>\n      <use x=\"1011.275391\" xlink:href=\"#DejaVuSans-121\"/>\n     </g>\n    </g>\n   </g>\n   <g id=\"line2d_14\">\n    <path clip-path=\"url(#pbe5d773d16)\" d=\"M 71.724432 188.375782 \nL 71.754871 129.51 \nL 71.846189 141.28316 \nL 71.907068 149.131927 \nL 71.998386 132.126262 \nL 72.028826 134.861429 \nL 72.059265 142.591272 \nL 72.120144 136.050636 \nL 72.181023 128.692421 \nL 72.211462 132.972691 \nL 72.241902 136.77738 \nL 72.272341 132.608198 \nL 72.302781 136.050636 \nL 72.33322 132.936045 \nL 72.424538 133.870424 \nL 72.454978 133.434374 \nL 72.485417 133.535014 \nL 72.668053 140.956113 \nL 72.698493 141.600267 \nL 72.728932 141.052309 \nL 72.881129 137.056885 \nL 72.911569 136.704711 \nL 73.002887 141.526526 \nL 73.033326 140.212859 \nL 73.215963 135.789006 \nL 73.276842 135.799084 \nL 73.307281 135.063373 \nL 73.36816 135.574957 \nL 73.398599 135.817036 \nL 73.429039 133.526184 \nL 73.489917 135.385489 \nL 73.520357 135.832611 \nL 73.550796 135.192843 \nL 73.611675 135.635365 \nL 73.642114 135.437456 \nL 73.733433 136.63637 \nL 73.794312 135.102729 \nL 73.85519 135.866392 \nL 73.88563 136.050636 \nL 74.037827 137.40974 \nL 74.068266 137.560009 \nL 74.098706 136.878566 \nL 74.129145 138.176347 \nL 74.159584 137.988613 \nL 74.190024 138.762607 \nL 74.250903 137.607941 \nL 74.311781 138.332249 \nL 74.433539 135.905299 \nL 74.463979 136.050636 \nL 74.494418 135.908457 \nL 74.524857 136.191295 \nL 74.646615 137.264364 \nL 74.737933 135.919821 \nL 74.768373 136.568711 \nL 74.798812 136.563624 \nL 74.981448 137.625231 \nL 75.042327 137.477692 \nL 75.103206 138.503374 \nL 75.164085 137.771855 \nL 75.194524 137.756885 \nL 75.316282 138.798805 \nL 75.4076 138.195118 \nL 75.43804 138.603079 \nL 75.590237 139.627554 \nL 75.681555 138.84664 \nL 75.711994 139.122753 \nL 75.772873 138.68641 \nL 75.803312 138.957592 \nL 75.955509 139.881582 \nL 75.985949 139.019442 \nL 76.046828 139.435298 \nL 76.229464 140.264748 \nL 76.259904 140.32385 \nL 76.290343 140.208921 \nL 76.381661 140.297808 \nL 76.44254 139.572526 \nL 76.503419 140.190286 \nL 76.564298 139.893258 \nL 76.625176 140.168825 \nL 76.655616 139.581785 \nL 76.746934 139.596775 \nL 76.777373 139.497206 \nL 76.868692 140.590607 \nL 76.899131 140.487569 \nL 76.929571 140.38572 \nL 76.990449 140.561426 \nL 77.020889 140.535657 \nL 77.112207 139.578179 \nL 77.142646 139.923861 \nL 77.173086 140.193054 \nL 77.233965 140.07565 \nL 77.386162 139.688215 \nL 77.44704 140.134206 \nL 77.47748 139.699637 \nL 77.568798 140.049589 \nL 77.599237 139.96154 \nL 77.660116 139.654668 \nL 77.720995 139.684336 \nL 77.751435 140.060485 \nL 77.812313 139.695174 \nL 77.96451 138.908197 \nL 77.99495 139.210372 \nL 78.451541 141.177081 \nL 78.51242 141.131313 \nL 78.664617 140.220656 \nL 78.816814 139.74024 \nL 78.877693 139.764392 \nL 78.908132 139.693536 \nL 78.938571 139.898072 \nL 79.060329 139.780434 \nL 79.151647 139.04065 \nL 79.242965 139.268207 \nL 79.425602 139.70722 \nL 79.486481 139.627554 \nL 79.54736 139.904037 \nL 79.608238 139.723457 \nL 79.638678 139.809634 \nL 79.669117 139.795288 \nL 79.760435 139.35799 \nL 79.790875 139.493074 \nL 79.943072 139.33302 \nL 80.03439 139.726771 \nL 80.064829 139.713399 \nL 80.095269 139.700125 \nL 80.186587 139.285789 \nL 80.217027 139.320954 \nL 80.247466 139.402433 \nL 80.277905 139.297758 \nL 80.430102 138.648673 \nL 80.490981 138.675943 \nL 80.521421 138.802216 \nL 80.55186 138.792762 \nL 80.643178 138.319832 \nL 80.673618 138.445169 \nL 80.704057 138.3487 \nL 80.764936 138.464974 \nL 80.886693 138.736194 \nL 80.917133 138.55464 \nL 80.947572 138.890654 \nL 80.978012 138.881337 \nL 81.191088 138.105062 \nL 81.221527 138.307474 \nL 81.282406 138.168569 \nL 81.343285 137.82507 \nL 81.373724 137.901754 \nL 81.434603 138.380746 \nL 81.525921 138.197106 \nL 81.5868 138.224143 \nL 81.617239 137.936587 \nL 81.678118 138.284024 \nL 81.769436 138.145217 \nL 81.799876 138.335913 \nL 81.830315 138.093366 \nL 81.860755 138.165567 \nL 81.921633 138.386575 \nL 82.07383 139.042833 \nL 82.134709 138.796563 \nL 82.317346 138.22461 \nL 82.347785 138.181025 \nL 82.378224 138.361293 \nL 82.408664 138.094594 \nL 82.439103 137.940564 \nL 82.469543 138.230848 \nL 82.530422 138.25535 \nL 82.682619 138.5147 \nL 82.804376 137.806747 \nL 82.834816 137.837701 \nL 82.987013 138.16621 \nL 83.017452 138.160519 \nL 83.047891 138.330221 \nL 83.078331 138.28915 \nL 83.200088 137.815577 \nL 83.230528 137.84544 \nL 83.260967 137.806279 \nL 83.291407 137.630007 \nL 83.352286 137.690064 \nL 83.413164 137.987346 \nL 83.443604 137.982336 \nL 83.474043 137.706925 \nL 83.534922 137.765656 \nL 83.65668 138.081067 \nL 83.687119 137.976313 \nL 83.717558 138.004558 \nL 83.747998 138.197827 \nL 83.839316 138.083328 \nL 83.900195 137.975319 \nL 84.082831 138.71832 \nL 84.113271 138.391155 \nL 84.17415 138.730698 \nL 84.295907 139.020787 \nL 84.326347 138.856016 \nL 84.387225 139.093533 \nL 84.417665 139.117548 \nL 84.539422 138.902486 \nL 84.569862 138.926657 \nL 84.600301 138.858179 \nL 84.630741 139.005466 \nL 84.66118 138.906404 \nL 84.722059 139.015329 \nL 84.752498 138.733972 \nL 84.843816 138.806193 \nL 84.996014 139.133864 \nL 85.026453 139.067101 \nL 85.056892 139.030436 \nL 85.087332 139.112851 \nL 85.209089 139.438806 \nL 85.239529 139.313605 \nL 85.300408 139.094157 \nL 85.361286 139.197137 \nL 85.452605 138.973673 \nL 85.726559 139.654375 \nL 85.787438 139.780083 \nL 85.848317 139.510851 \nL 86.304908 140.438311 \nL 86.426666 140.699356 \nL 86.457105 140.689766 \nL 86.517984 140.724443 \nL 86.548423 140.661248 \nL 86.670181 140.517412 \nL 86.913696 140.864556 \nL 86.974575 140.76719 \nL 87.005014 140.88785 \nL 87.065893 140.998217 \nL 87.096333 140.859176 \nL 87.157211 140.917498 \nL 87.187651 140.959329 \nL 87.309408 140.666063 \nL 87.400727 140.689922 \nL 87.461606 141.151838 \nL 87.522484 140.930967 \nL 87.552924 140.796059 \nL 87.644242 140.843777 \nL 87.73556 140.717211 \nL 87.826878 140.616746 \nL 87.857318 140.632789 \nL 88.039954 141.19059 \nL 88.070394 141.181038 \nL 88.100833 141.025897 \nL 88.161712 141.17677 \nL 88.192151 141.312107 \nL 88.28347 141.259145 \nL 88.405227 141.55479 \nL 88.435667 141.687477 \nL 88.496545 141.595959 \nL 88.648742 141.217392 \nL 88.679182 141.231583 \nL 88.953137 141.656912 \nL 88.983576 141.439764 \nL 89.074894 141.548903 \nL 89.196652 141.260393 \nL 89.227091 141.296786 \nL 89.257531 141.265013 \nL 89.28797 141.459686 \nL 89.379288 141.364211 \nL 89.714122 141.884177 \nL 89.896758 141.388148 \nL 89.927198 141.401071 \nL 90.109834 141.542607 \nL 90.170713 141.287468 \nL 90.231592 141.442103 \nL 90.29247 141.63855 \nL 90.475107 141.902227 \nL 90.505546 141.850435 \nL 90.535986 141.946729 \nL 90.80994 142.362156 \nL 91.023016 142.024777 \nL 91.053456 142.077076 \nL 91.175213 142.182492 \nL 91.114334 142.037681 \nL 91.205653 142.132103 \nL 91.236092 142.10226 \nL 91.418729 142.470164 \nL 91.449168 142.37964 \nL 91.510047 142.420478 \nL 91.540486 142.551156 \nL 91.601365 142.431257 \nL 91.84488 141.840396 \nL 91.87532 141.85139 \nL 91.966638 141.82525 \nL 92.118835 142.016181 \nL 92.271032 142.204265 \nL 92.301471 142.156528 \nL 92.331911 142.205396 \nL 92.484108 141.758137 \nL 92.727623 142.165338 \nL 92.818941 142.04466 \nL 92.849381 141.941914 \nL 92.87982 142.08382 \nL 93.092896 142.507551 \nL 93.214654 142.304496 \nL 93.245093 142.498896 \nL 93.336411 142.471685 \nL 93.488608 142.244147 \nL 93.519048 142.290247 \nL 93.671245 142.301397 \nL 93.884321 141.720984 \nL 93.975639 141.62627 \nL 94.006078 141.69005 \nL 94.158275 141.634106 \nL 94.219154 141.707418 \nL 94.249593 141.682116 \nL 94.310472 141.543718 \nL 94.371351 141.651883 \nL 94.493109 141.691823 \nL 94.645306 141.914663 \nL 94.736624 141.960549 \nL 94.827942 141.730672 \nL 94.858382 141.791957 \nL 95.162776 141.802327 \nL 95.284533 141.688256 \nL 95.375852 141.515181 \nL 95.406291 141.54175 \nL 95.46717 141.477443 \nL 95.497609 141.587596 \nL 95.528049 141.647361 \nL 95.588927 141.533114 \nL 95.649806 141.485942 \nL 95.862882 140.844907 \nL 95.893321 140.904691 \nL 96.075958 140.998997 \nL 96.106397 140.960206 \nL 96.136837 140.840054 \nL 96.197716 141.006911 \nL 96.47167 140.775319 \nL 96.532549 140.892002 \nL 96.715185 141.2386 \nL 96.897822 140.916621 \nL 96.958701 141.030984 \nL 97.01958 141.019016 \nL 97.050019 140.934535 \nL 97.110898 141.00116 \nL 97.141337 141.02654 \nL 97.171777 140.942449 \nL 97.323974 140.866798 \nL 97.354413 140.892119 \nL 97.384852 140.777872 \nL 97.415292 140.803252 \nL 97.476171 140.74569 \nL 97.537049 140.827072 \nL 97.658807 140.927361 \nL 97.689246 140.845063 \nL 97.841444 140.725788 \nL 98.054519 140.703099 \nL 98.206716 140.421079 \nL 98.328474 140.401099 \nL 98.450232 140.172957 \nL 98.480671 140.227732 \nL 98.693747 140.253754 \nL 98.754626 140.111868 \nL 98.815505 140.190852 \nL 98.845944 140.215529 \nL 98.876383 140.137617 \nL 98.998141 140.046489 \nL 99.180777 140.005438 \nL 99.363414 139.921775 \nL 99.515611 140.043721 \nL 99.606929 139.959338 \nL 99.637369 139.997816 \nL 99.820005 140.085455 \nL 99.972202 139.965166 \nL 100.002641 140.017231 \nL 100.033081 139.914602 \nL 100.154838 139.77215 \nL 100.185278 139.78215 \nL 100.337475 139.943042 \nL 100.367914 139.911152 \nL 100.398354 139.837684 \nL 100.459233 139.898891 \nL 100.550551 139.997095 \nL 100.58099 139.937798 \nL 100.641869 139.860861 \nL 100.672308 139.898072 \nL 100.702748 139.976394 \nL 100.794066 139.923023 \nL 100.915824 139.920528 \nL 101.311536 140.016705 \nL 101.341975 139.891757 \nL 101.402854 140.004502 \nL 101.768127 139.863804 \nL 102.011642 140.187791 \nL 102.163839 140.219408 \nL 102.285597 140.267887 \nL 102.407355 140.095591 \nL 102.589991 139.917019 \nL 102.620431 140.041967 \nL 102.711749 139.966043 \nL 102.985703 139.919027 \nL 103.046582 139.94963 \nL 103.077022 139.857021 \nL 103.594492 140.119821 \nL 103.624931 140.228161 \nL 103.716249 140.191378 \nL 103.929325 139.966375 \nL 104.020643 140.152393 \nL 104.264159 140.195082 \nL 104.325037 140.150736 \nL 104.477234 140.423204 \nL 104.538113 140.366617 \nL 104.659871 140.254047 \nL 104.72075 140.330692 \nL 104.781628 140.27467 \nL 104.964265 140.35921 \nL 105.329538 140.549185 \nL 105.542614 140.332641 \nL 105.664371 140.329015 \nL 105.72525 140.145843 \nL 105.786129 140.243657 \nL 105.847008 140.189546 \nL 105.877447 140.115961 \nL 105.938326 140.178513 \nL 106.029644 140.179137 \nL 106.181841 140.056996 \nL 106.394917 139.699637 \nL 106.455796 139.761975 \nL 106.547114 139.843649 \nL 106.577553 139.749012 \nL 106.729751 139.778407 \nL 107.216781 139.794547 \nL 107.399417 139.820004 \nL 107.642933 139.993859 \nL 107.734251 140.005964 \nL 107.886448 139.912321 \nL 107.947327 139.916805 \nL 107.977766 139.869672 \nL 108.373479 139.882751 \nL 108.525676 140.061518 \nL 109.073585 139.470092 \nL 109.104024 139.499253 \nL 109.195343 139.650107 \nL 109.286661 139.588412 \nL 109.651934 139.690749 \nL 110.473798 139.706011 \nL 110.625995 139.834897 \nL 110.991268 139.688273 \nL 111.113025 139.62652 \nL 111.143465 139.704511 \nL 111.417419 139.97002 \nL 111.569616 139.895129 \nL 111.600056 139.932126 \nL 111.752253 139.857723 \nL 111.813132 139.742775 \nL 111.87401 139.766906 \nL 112.026207 139.58506 \nL 112.087086 139.638879 \nL 112.269723 139.789557 \nL 112.513238 139.806262 \nL 112.634996 139.707571 \nL 112.756753 139.725816 \nL 113.182905 139.515315 \nL 113.487299 139.661568 \nL 113.913451 139.577964 \nL 113.94389 139.641393 \nL 114.004769 139.589173 \nL 114.096087 139.543989 \nL 114.126527 139.579017 \nL 114.430921 139.628431 \nL 114.674436 139.617417 \nL 114.765754 139.656071 \nL 114.826633 139.586366 \nL 114.857072 139.62077 \nL 115.039709 139.68841 \nL 115.161466 139.760669 \nL 115.313663 139.857274 \nL 115.4963 139.950488 \nL 115.831133 139.713399 \nL 115.892012 139.807451 \nL 115.952891 139.757297 \nL 116.226846 139.73449 \nL 116.439922 139.64576 \nL 116.561679 139.627144 \nL 116.713876 139.517752 \nL 117.231346 139.828113 \nL 117.383543 139.798114 \nL 117.474861 139.842811 \nL 117.687937 139.981091 \nL 117.809695 140.057054 \nL 117.870574 140.060387 \nL 117.901013 140.023274 \nL 118.05321 139.847041 \nL 118.235847 139.994697 \nL 118.753317 139.917487 \nL 119.422983 139.963353 \nL 119.60562 139.923491 \nL 119.788256 140.04953 \nL 120.031772 140.119996 \nL 120.183969 140.008693 \nL 120.762317 140.059413 \nL 120.884075 140.009024 \nL 121.12759 140.158669 \nL 121.310227 140.111458 \nL 121.401545 140.063935 \nL 121.584181 139.95347 \nL 121.766818 139.899476 \nL 121.888576 139.858405 \nL 121.919015 139.895753 \nL 123.380106 139.871796 \nL 123.562743 139.889047 \nL 123.71494 139.847197 \nL 123.836698 139.861231 \nL 123.958455 139.867605 \nL 124.262849 140.034872 \nL 124.536804 139.871036 \nL 124.841198 139.946551 \nL 125.023834 139.903355 \nL 125.145592 140.021207 \nL 125.176032 139.974289 \nL 125.389107 140.092199 \nL 125.602183 140.009746 \nL 125.815259 139.950001 \nL 125.967456 139.895051 \nL 127.124154 139.879476 \nL 127.154593 139.934816 \nL 127.245911 139.878248 \nL 127.428548 139.915733 \nL 127.550305 139.843142 \nL 127.732942 139.738408 \nL 127.976457 139.651705 \nL 128.311291 139.83437 \nL 128.372169 139.802208 \nL 128.433048 139.854311 \nL 128.646124 139.910002 \nL 128.950518 139.840803 \nL 129.072276 139.804995 \nL 129.254912 139.710085 \nL 129.741943 139.555899 \nL 130.046337 139.66726 \nL 130.228973 139.608373 \nL 131.203034 139.690651 \nL 131.355231 139.56122 \nL 131.659625 139.450444 \nL 131.811822 139.428592 \nL 132.024898 139.350661 \nL 132.237974 139.365358 \nL 132.390171 139.363604 \nL 132.755444 139.448124 \nL 132.846762 139.430015 \nL 132.96852 139.455804 \nL 133.090277 139.436077 \nL 133.303353 139.320954 \nL 133.851263 139.433076 \nL 133.97302 139.471203 \nL 134.460051 139.336821 \nL 134.581808 139.305126 \nL 135.00796 139.220333 \nL 135.647188 139.282047 \nL 135.799385 139.293002 \nL 136.255976 139.066556 \nL 136.469052 138.995154 \nL 136.651688 139.078836 \nL 136.803885 139.102325 \nL 136.986522 139.020611 \nL 138.691128 139.384851 \nL 138.782447 139.398125 \nL 138.904204 139.350583 \nL 139.056401 139.349043 \nL 139.360795 139.263587 \nL 139.452114 139.341519 \nL 139.482553 139.310681 \nL 139.66519 139.272632 \nL 139.878265 139.379354 \nL 140.091341 139.386449 \nL 140.365296 139.361557 \nL 140.547932 139.300721 \nL 140.761008 139.192692 \nL 141.004523 139.279318 \nL 141.400236 139.203862 \nL 141.70463 139.343702 \nL 141.856827 139.353585 \nL 142.039463 139.418593 \nL 143.135282 139.49514 \nL 143.287479 139.415513 \nL 143.470115 139.445785 \nL 143.652752 139.481437 \nL 143.835388 139.555548 \nL 144.048464 139.473679 \nL 144.231101 139.443095 \nL 144.687692 139.372785 \nL 144.839889 139.403973 \nL 145.052965 139.37795 \nL 145.387798 139.411458 \nL 145.935707 139.397385 \nL 146.087905 139.320954 \nL 146.209662 139.326295 \nL 146.30098 139.338302 \nL 146.422738 139.359588 \nL 146.544496 139.242496 \nL 146.574935 139.267778 \nL 146.81845 139.299765 \nL 147.001087 139.286588 \nL 147.214163 139.277466 \nL 147.396799 139.248636 \nL 148.005587 139.22312 \nL 148.553497 139.096886 \nL 148.644815 139.119147 \nL 148.675254 139.092071 \nL 148.979648 139.111018 \nL 149.131845 139.068992 \nL 149.344921 139.106866 \nL 149.740633 139.1832 \nL 149.92327 139.262418 \nL 150.075467 139.312065 \nL 150.288543 139.31842 \nL 150.44074 139.26154 \nL 150.653816 139.227662 \nL 150.806013 139.256784 \nL 151.323483 139.340953 \nL 151.47568 139.309726 \nL 151.719195 139.299804 \nL 155.585 139.254504 \nL 156.254667 139.323313 \nL 156.680818 139.320954 \nL 156.833015 139.35721 \nL 157.320046 139.231444 \nL 157.502682 139.257155 \nL 157.837516 139.193843 \nL 158.111471 139.211522 \nL 158.263668 139.25657 \nL 158.446304 139.226863 \nL 158.781137 139.182654 \nL 160.150911 139.026108 \nL 160.303108 139.070435 \nL 160.424865 139.084235 \nL 160.668381 139.066984 \nL 160.851017 139.100999 \nL 161.21629 139.141934 \nL 161.398927 139.064606 \nL 161.520684 139.082696 \nL 161.703321 139.058856 \nL 162.220791 139.068037 \nL 162.433866 139.122402 \nL 163.073094 139.118328 \nL 164.534186 139.168697 \nL 164.716822 139.132616 \nL 164.929898 139.138386 \nL 165.051655 139.13862 \nL 165.142974 139.139867 \nL 165.173413 139.113299 \nL 165.84308 139.108445 \nL 166.36055 139.137996 \nL 166.695383 139.093572 \nL 167.334611 139.056595 \nL 167.639005 139.071955 \nL 167.943399 139.136866 \nL 168.095596 139.11133 \nL 168.217354 139.095093 \nL 168.43043 139.06369 \nL 169.130536 139.03796 \nL 169.313173 139.011976 \nL 173.118098 139.328809 \nL 173.270295 139.292534 \nL 175.675009 139.309473 \nL 175.857645 139.319044 \nL 176.1316 139.318108 \nL 176.64907 139.271638 \nL 176.892585 139.267973 \nL 177.196979 139.254913 \nL 178.20148 139.23965 \nL 182.523875 139.20509 \nL 182.736951 139.231307 \nL 182.980467 139.206454 \nL 183.406618 139.23006 \nL 183.83277 139.178931 \nL 184.289361 139.226356 \nL 184.441558 139.215012 \nL 185.141664 139.255147 \nL 185.324301 139.218462 \nL 185.598256 139.235303 \nL 185.993968 139.189457 \nL 186.207044 139.221853 \nL 186.724514 139.197215 \nL 187.546378 139.274562 \nL 187.729014 139.286647 \nL 188.550878 139.257077 \nL 188.763954 139.258032 \nL 188.97703 139.306529 \nL 189.403182 139.257525 \nL 189.677136 139.290584 \nL 191.53394 139.330096 \nL 191.777455 139.389763 \nL 194.760517 139.405883 \nL 195.064911 139.410523 \nL 198.656761 139.418963 \nL 198.839398 139.420386 \nL 200.665762 139.295497 \nL 203.801021 139.438514 \nL 204.074976 139.413447 \nL 205.596946 139.479312 \nL 205.840462 139.473094 \nL 208.032099 139.526133 \nL 208.275614 139.572409 \nL 209.645388 139.577847 \nL 210.01066 139.459137 \nL 222.125545 139.264055 \nL 222.36906 139.285282 \nL 224.225864 139.311169 \nL 224.4085 139.328127 \nL 227.574199 139.422491 \nL 228.913533 139.279805 \nL 232.292307 139.387911 \nL 232.870656 139.390757 \nL 233.296807 139.413973 \nL 233.783838 139.394051 \nL 234.088232 139.365709 \nL 234.270868 139.332591 \nL 234.636141 139.361888 \nL 235.001414 139.352045 \nL 235.184051 139.302085 \nL 235.518884 139.327036 \nL 235.853717 139.361596 \nL 236.158112 139.353039 \nL 236.492945 139.271423 \nL 238.867219 139.304288 \nL 240.906659 139.210957 \nL 241.606766 139.202614 \nL 242.124235 139.225752 \nL 243.067857 139.24544 \nL 243.280933 139.246122 \nL 244.9551 139.238227 \nL 245.50301 139.251092 \nL 245.776964 139.246044 \nL 246.50751 139.180315 \nL 248.212117 139.168132 \nL 248.57739 139.193199 \nL 249.307936 139.231853 \nL 250.09936 139.226668 \nL 250.677709 139.236414 \nL 250.982103 139.264328 \nL 251.65177 139.265634 \nL 252.899786 139.344579 \nL 253.20418 139.332474 \nL 258.561516 139.34493 \nL 259.200743 139.31458 \nL 261.42282 139.385494 \nL 263.584018 139.38528 \nL 267.388944 139.4283 \nL 268.241247 139.42175 \nL 268.910914 139.384052 \nL 273.111552 139.482567 \nL 273.415946 139.50898 \nL 276.429448 139.541708 \nL 276.82516 139.496154 \nL 277.159994 139.488591 \nL 277.768782 139.472646 \nL 278.286252 139.516114 \nL 279.351631 139.536679 \nL 280.538768 139.555002 \nL 283.339193 139.405143 \nL 283.582709 139.380621 \nL 284.739406 139.467207 \nL 284.982921 139.440912 \nL 285.469952 139.395923 \nL 285.926543 139.427832 \nL 286.291816 139.418378 \nL 290.370696 139.495764 \nL 290.796848 139.496329 \nL 291.74047 139.430892 \nL 292.166621 139.411712 \nL 293.018925 139.45635 \nL 293.353758 139.444011 \nL 295.84979 139.360037 \nL 296.093305 139.367093 \nL 296.458578 139.404226 \nL 296.823851 139.389938 \nL 297.097806 139.354091 \nL 304.06843 139.35608 \nL 304.525021 139.39066 \nL 305.07293 139.394753 \nL 305.377324 139.407443 \nL 306.10787 139.413953 \nL 306.564461 139.395552 \nL 307.355886 139.45021 \nL 308.543023 139.535724 \nL 308.816977 139.511553 \nL 309.395326 139.514867 \nL 315.087495 139.641608 \nL 315.391889 139.635487 \nL 317.340012 139.600576 \nL 321.845044 139.644883 \nL 322.971302 139.695329 \nL 323.519211 139.651042 \nL 328.998305 139.744587 \nL 330.063684 139.729364 \nL 330.581154 139.746615 \nL 331.068184 139.767316 \nL 331.494336 139.775015 \nL 332.133564 139.790337 \nL 332.711912 139.803397 \nL 334.142565 139.819361 \nL 334.568716 139.835969 \nL 350.671163 139.713107 \nL 351.432148 139.778583 \nL 352.254012 139.76484 \nL 355.358832 139.76909 \nL 355.632786 139.775327 \nL 357.185196 139.794118 \nL 357.672227 139.769655 \nL 358.798485 139.810531 \nL 359.376833 139.825131 \nL 360.229137 139.807081 \nL 364.308017 139.858132 \nL 364.764609 139.888891 \nL 365.70823 139.903647 \nL 367.017125 139.949942 \nL 367.565034 139.957525 \nL 367.960746 139.964406 \nL 374.079067 140.052454 \nL 374.413901 140.046704 \nL 374.96181 140.057873 \nL 375.509719 140.079471 \nL 376.088068 140.053507 \nL 376.088068 140.053507 \n\" style=\"fill:none;stroke:#1f77b4;stroke-linecap:square;stroke-width:1.5;\"/>\n   </g>\n   <g id=\"line2d_15\">\n    <path clip-path=\"url(#pbe5d773d16)\" d=\"M 71.724432 122.969345 \nL 71.785311 149.131927 \nL 71.846189 130.818131 \nL 71.907068 117.363088 \nL 71.937508 131.145159 \nL 71.967947 131.690212 \nL 72.089705 136.050636 \nL 72.120144 132.313138 \nL 72.181023 136.868215 \nL 72.211462 133.742182 \nL 72.241902 133.14368 \nL 72.302781 140.629085 \nL 72.363659 139.618256 \nL 72.454978 133.957634 \nL 72.515856 135.566147 \nL 72.637614 138.160519 \nL 72.668053 137.685795 \nL 72.789811 133.870424 \nL 72.85069 133.640937 \nL 72.972448 137.919395 \nL 73.002887 136.354857 \nL 73.063766 137.794817 \nL 73.155084 139.320954 \nL 73.185523 138.186366 \nL 73.215963 139.190139 \nL 73.246402 138.615594 \nL 73.276842 136.302208 \nL 73.36816 137.239843 \nL 73.398599 137.218615 \nL 73.459478 135.825106 \nL 73.489917 136.050636 \nL 73.520357 137.140742 \nL 73.581236 136.050636 \nL 73.824751 131.939386 \nL 73.916069 134.079482 \nL 73.946509 133.92935 \nL 74.007387 131.231219 \nL 74.098706 131.910986 \nL 74.250903 130.288653 \nL 74.433539 131.980906 \nL 74.524857 131.690212 \nL 74.555297 131.597427 \nL 74.585736 132.19511 \nL 74.677054 131.912681 \nL 74.707494 131.954474 \nL 74.737933 131.864632 \nL 74.768373 131.906073 \nL 74.829251 131.097538 \nL 74.89013 131.441038 \nL 75.011888 132.810317 \nL 75.072767 132.633012 \nL 75.103206 132.546718 \nL 75.194524 133.548133 \nL 75.255403 133.479109 \nL 75.285843 133.390048 \nL 75.316282 132.423057 \nL 75.4076 132.619484 \nL 75.468479 132.252847 \nL 75.498918 133.015789 \nL 75.529358 131.79403 \nL 75.590237 131.247359 \nL 75.651115 131.623118 \nL 75.742434 132.116418 \nL 75.864191 131.467411 \nL 76.229464 134.119169 \nL 76.320782 133.038498 \nL 76.351222 133.14368 \nL 76.472979 133.301064 \nL 76.533858 133.417922 \nL 76.564298 133.189098 \nL 76.594737 133.694386 \nL 76.625176 132.901445 \nL 76.655616 132.76026 \nL 76.716495 133.275821 \nL 76.746934 132.898521 \nL 76.807813 132.390992 \nL 76.838252 132.567458 \nL 76.868692 132.895734 \nL 76.929571 132.704258 \nL 76.990449 132.59237 \nL 77.173086 133.434374 \nL 77.203525 133.232021 \nL 77.233965 133.606884 \nL 77.386162 134.441714 \nL 77.842753 136.180165 \nL 78.025389 135.610395 \nL 78.177586 135.989215 \nL 78.208026 135.989507 \nL 78.390662 136.40741 \nL 78.421101 136.287413 \nL 78.451541 136.404193 \nL 78.573299 136.687343 \nL 78.603738 136.569276 \nL 78.634177 136.566996 \nL 78.816814 137.280504 \nL 78.847253 136.941274 \nL 78.908132 137.044156 \nL 78.969011 137.41898 \nL 78.99945 137.195243 \nL 79.060329 137.02363 \nL 79.090768 137.127292 \nL 79.364723 138.12703 \nL 79.425602 138.059176 \nL 79.456041 138.102606 \nL 79.486481 138.145685 \nL 79.51692 138.392033 \nL 79.577799 138.272933 \nL 79.729996 137.487594 \nL 80.003951 138.302737 \nL 80.03439 138.246773 \nL 80.064829 138.096076 \nL 80.095269 138.230848 \nL 80.277905 138.880284 \nL 80.338784 138.491854 \nL 80.399663 138.657756 \nL 80.55186 138.118473 \nL 81.038891 139.885539 \nL 81.099769 139.268051 \nL 81.191088 139.614455 \nL 81.221527 139.644863 \nL 81.251966 139.591746 \nL 81.282406 139.49746 \nL 81.312845 139.652134 \nL 81.343285 139.64077 \nL 81.5868 140.518406 \nL 81.738997 140.093954 \nL 81.799876 139.951385 \nL 81.830315 140.136077 \nL 82.043391 140.475191 \nL 82.07383 140.385486 \nL 82.134709 140.5509 \nL 82.165149 140.49979 \nL 82.226027 140.927771 \nL 82.317346 140.885842 \nL 82.378224 141.081899 \nL 82.439103 141.349864 \nL 82.499982 141.28316 \nL 82.5913 141.020068 \nL 82.652179 141.10147 \nL 82.713058 141.037417 \nL 82.773937 140.758458 \nL 82.834816 140.875706 \nL 82.865255 141.076421 \nL 82.956573 140.964963 \nL 83.017452 140.657213 \nL 83.047891 140.679941 \nL 83.230528 141.400506 \nL 83.413164 140.739511 \nL 83.443604 140.456244 \nL 83.504483 140.770699 \nL 83.839316 141.001199 \nL 83.991513 140.551368 \nL 84.021952 140.637155 \nL 84.052392 140.722533 \nL 84.082831 140.550335 \nL 84.113271 140.603433 \nL 84.14371 140.62429 \nL 84.17415 140.485522 \nL 84.235028 140.654484 \nL 84.295907 140.632243 \nL 84.326347 140.841847 \nL 84.387225 140.818885 \nL 84.417665 140.494527 \nL 84.508983 140.587137 \nL 84.539422 140.669376 \nL 84.569862 140.441995 \nL 84.691619 140.186407 \nL 84.904695 140.722533 \nL 84.996014 140.750329 \nL 85.209089 141.44224 \nL 85.300408 141.318267 \nL 85.452605 140.652242 \nL 85.543923 140.93816 \nL 85.604802 140.601893 \nL 85.66568 140.696062 \nL 85.787438 140.79719 \nL 85.817878 140.786956 \nL 85.878756 140.9912 \nL 85.909196 140.84058 \nL 86.000514 140.587332 \nL 86.030953 140.688791 \nL 86.061393 140.789841 \nL 86.091832 140.696841 \nL 86.122272 140.57665 \nL 86.152711 140.7599 \nL 86.18315 140.749998 \nL 86.274469 141.102912 \nL 86.304908 141.065135 \nL 86.487544 140.545657 \nL 86.517984 140.563278 \nL 86.548423 140.714872 \nL 86.639742 140.659727 \nL 86.791939 140.956113 \nL 86.822378 140.94625 \nL 87.187651 140.111224 \nL 87.24853 140.325741 \nL 87.309408 140.538561 \nL 87.339848 140.402581 \nL 87.461606 140.242702 \nL 87.644242 140.269602 \nL 87.766 140.064208 \nL 87.857318 140.238628 \nL 87.887757 140.132393 \nL 87.948636 140.117111 \nL 88.039954 140.28927 \nL 88.070394 140.257068 \nL 88.100833 140.200734 \nL 88.131273 140.289952 \nL 88.466106 140.798827 \nL 88.496545 140.719141 \nL 88.526985 140.876291 \nL 88.557424 140.867577 \nL 88.648742 140.771167 \nL 88.679182 140.879936 \nL 88.740061 140.979485 \nL 88.7705 140.94738 \nL 88.953137 140.780211 \nL 89.227091 141.137804 \nL 89.257531 141.083653 \nL 89.28797 140.984416 \nL 89.318409 141.11145 \nL 89.348849 141.28316 \nL 89.440167 141.188913 \nL 89.775001 140.829489 \nL 89.80544 140.931377 \nL 89.896758 141.191272 \nL 89.957637 141.10874 \nL 90.109834 140.915588 \nL 90.140273 140.950733 \nL 90.414228 140.772668 \nL 90.627304 140.614368 \nL 90.749062 140.501623 \nL 90.901259 140.362699 \nL 90.992577 140.466088 \nL 91.053456 140.431644 \nL 91.175213 140.506457 \nL 91.35785 140.566319 \nL 91.723123 140.106234 \nL 91.936198 140.338937 \nL 91.966638 140.332505 \nL 92.057956 140.019999 \nL 92.088395 140.111692 \nL 92.240593 140.23664 \nL 92.301471 140.262935 \nL 92.453668 139.98269 \nL 92.514547 140.047698 \nL 92.544987 140.003664 \nL 92.666744 139.771877 \nL 92.697184 139.709598 \nL 92.727623 139.798972 \nL 92.849381 139.927974 \nL 92.910259 139.841778 \nL 92.971138 139.905772 \nL 93.032017 139.932106 \nL 93.153775 140.09563 \nL 93.305972 140.269816 \nL 93.336411 140.135083 \nL 93.671245 140.163445 \nL 93.701684 140.21204 \nL 93.762563 140.110347 \nL 93.853881 140.183464 \nL 94.127836 140.416986 \nL 94.280033 140.034969 \nL 94.310472 140.082414 \nL 94.43223 140.183406 \nL 94.462669 140.090445 \nL 94.523548 140.184322 \nL 94.827942 140.198785 \nL 94.888821 140.153562 \nL 94.91926 140.216757 \nL 95.041018 140.246191 \nL 95.43673 140.276892 \nL 95.528049 140.360944 \nL 95.558488 140.322076 \nL 95.588927 140.249973 \nL 95.680246 140.316989 \nL 95.741124 140.28964 \nL 95.802003 140.36151 \nL 95.98464 140.230753 \nL 96.045518 140.318411 \nL 96.867382 140.62197 \nL 96.897822 140.53745 \nL 97.01958 140.515891 \nL 97.050019 140.604739 \nL 97.080458 140.442443 \nL 97.141337 140.44757 \nL 97.202216 140.561972 \nL 97.263095 140.535657 \nL 97.293534 140.468095 \nL 97.354413 140.566241 \nL 97.415292 140.741324 \nL 97.476171 140.699356 \nL 97.537049 140.626785 \nL 97.567489 140.74452 \nL 97.841444 140.862841 \nL 97.963201 140.795065 \nL 98.02408 140.874829 \nL 98.084959 140.803349 \nL 98.176277 140.832081 \nL 98.328474 140.954242 \nL 98.358913 140.903853 \nL 98.389353 140.987808 \nL 98.450232 141.006345 \nL 98.480671 140.94126 \nL 98.632868 140.913619 \nL 98.937262 141.341619 \nL 98.998141 141.213143 \nL 99.05902 141.332633 \nL 99.150338 141.416568 \nL 99.180777 141.512043 \nL 99.241656 141.384327 \nL 99.454732 141.300372 \nL 99.485172 141.35193 \nL 99.606929 141.414385 \nL 99.728687 141.632546 \nL 99.759126 141.612313 \nL 100.002641 141.451947 \nL 100.276596 141.720595 \nL 100.428793 141.482706 \nL 100.58099 141.509216 \nL 100.672308 141.382085 \nL 100.702748 141.417679 \nL 100.976702 141.503447 \nL 101.1289 141.258795 \nL 101.159339 141.293959 \nL 101.372415 141.403898 \nL 101.402854 141.371618 \nL 101.433294 141.459881 \nL 101.555051 141.451167 \nL 101.676809 141.336278 \nL 101.707248 141.410525 \nL 101.859445 141.687067 \nL 101.981203 141.624983 \nL 102.011642 141.645645 \nL 102.102961 141.694318 \nL 102.1334 141.662506 \nL 102.255158 141.679231 \nL 102.407355 141.76802 \nL 102.468233 141.873163 \nL 102.529112 141.732544 \nL 102.985703 141.382397 \nL 103.259658 141.47489 \nL 103.442295 141.393528 \nL 103.564052 141.385594 \nL 103.65537 141.270685 \nL 103.68581 141.178602 \nL 103.777128 141.226066 \nL 103.868446 141.273258 \nL 103.898886 141.231232 \nL 105.146901 141.037943 \nL 105.299098 141.299749 \nL 106.060084 141.554283 \nL 106.181841 141.569488 \nL 106.577553 141.563952 \nL 106.729751 141.721842 \nL 106.973266 141.603697 \nL 107.003705 141.689114 \nL 107.186342 141.615237 \nL 107.27766 141.600949 \nL 107.399417 141.704689 \nL 107.429857 141.677594 \nL 107.642933 141.422708 \nL 107.947327 141.630227 \nL 108.038645 141.484734 \nL 108.069084 141.513037 \nL 108.3126 141.37885 \nL 108.495236 141.13601 \nL 108.525676 141.164236 \nL 108.677873 141.218562 \nL 108.738751 141.145562 \nL 108.769191 141.216574 \nL 108.890948 141.370936 \nL 108.921388 141.313101 \nL 108.982267 141.28316 \nL 109.012706 141.310898 \nL 109.073585 141.408849 \nL 109.134464 141.304427 \nL 109.286661 141.293745 \nL 109.469297 141.247313 \nL 109.591055 141.157063 \nL 109.682373 141.281055 \nL 109.712812 141.193085 \nL 110.260722 141.398791 \nL 110.321601 141.349123 \nL 110.382479 141.412825 \nL 110.473798 141.46181 \nL 110.504237 141.426782 \nL 110.625995 141.379298 \nL 110.808631 141.130455 \nL 110.991268 141.309495 \nL 111.173904 141.254916 \nL 111.35654 141.371501 \nL 111.600056 141.189362 \nL 111.934889 141.156497 \nL 112.147965 141.159129 \nL 112.269723 141.153612 \nL 112.665435 141.143203 \nL 112.848071 141.043206 \nL 113.030708 141.165639 \nL 113.243784 140.890228 \nL 113.274223 140.934574 \nL 113.548178 140.912118 \nL 113.700375 140.894497 \nL 113.852572 140.943131 \nL 113.913451 140.983227 \nL 113.94389 140.96083 \nL 114.096087 140.915042 \nL 114.126527 140.967848 \nL 114.217845 140.910481 \nL 114.370042 140.874478 \nL 114.491799 140.953793 \nL 114.948391 140.846798 \nL 115.131027 140.881632 \nL 115.191906 140.874868 \nL 115.222345 140.908103 \nL 115.252785 140.932118 \nL 115.313663 140.852276 \nL 115.465861 140.726431 \nL 115.678936 140.875784 \nL 115.952891 140.863913 \nL 116.409482 141.081899 \nL 117.718377 140.298587 \nL 117.840134 140.296014 \nL 117.870574 140.241474 \nL 117.931453 140.31346 \nL 118.114089 140.253813 \nL 118.235847 140.251357 \nL 118.418483 140.294591 \nL 118.631559 140.266853 \nL 120.305726 140.473865 \nL 120.823196 140.338119 \nL 120.975393 140.308724 \nL 121.340666 140.277399 \nL 121.614621 140.222293 \nL 121.858136 140.408428 \nL 121.888576 140.358176 \nL 122.253848 140.027796 \nL 122.436485 140.02916 \nL 122.527803 140.029862 \nL 122.649561 140.004717 \nL 122.71044 140.007796 \nL 122.771318 140.073253 \nL 122.801758 140.008518 \nL 122.984394 140.017718 \nL 123.319228 140.092258 \nL 123.471425 140.034248 \nL 124.323728 140.287496 \nL 124.475925 140.426147 \nL 124.628122 140.413575 \nL 124.902077 140.376149 \nL 125.115153 140.29927 \nL 125.541304 140.346988 \nL 125.906577 140.604485 \nL 126.241411 140.605733 \nL 126.606684 140.684191 \nL 127.124154 140.676862 \nL 127.245911 140.659552 \nL 127.763381 140.65963 \nL 127.885139 140.614212 \nL 128.067775 140.776001 \nL 128.402609 140.579593 \nL 128.676563 140.66961 \nL 128.980957 140.777132 \nL 129.072276 140.776547 \nL 129.224473 140.791732 \nL 129.620185 140.828085 \nL 129.711503 140.909798 \nL 129.741943 140.845512 \nL 129.924579 140.809957 \nL 129.955019 140.83481 \nL 129.985458 140.777658 \nL 130.015897 140.741051 \nL 130.076776 140.831653 \nL 130.168094 140.85824 \nL 130.198534 140.821692 \nL 130.41161 140.736567 \nL 130.716004 140.759627 \nL 130.89864 140.825805 \nL 131.203034 140.573882 \nL 131.233474 140.618384 \nL 131.294352 140.540238 \nL 131.41611 140.564409 \nL 132.603247 140.633334 \nL 132.846762 140.62811 \nL 132.93808 140.686296 \nL 132.96852 140.651502 \nL 134.307854 140.724794 \nL 135.616748 140.716295 \nL 135.799385 140.740271 \nL 136.803885 140.539497 \nL 136.956082 140.590041 \nL 137.230037 140.61967 \nL 137.351795 140.586942 \nL 137.656189 140.584116 \nL 137.808386 140.639923 \nL 138.051901 140.689103 \nL 138.234537 140.59856 \nL 138.59981 140.740388 \nL 138.904204 140.618423 \nL 139.025962 140.65156 \nL 139.208598 140.668597 \nL 139.421674 140.689356 \nL 140.091341 140.923365 \nL 140.273978 140.910403 \nL 140.426175 140.940187 \nL 140.761008 141.077903 \nL 140.943645 140.995644 \nL 141.521993 140.977496 \nL 141.765509 140.920597 \nL 142.2221 141.04151 \nL 142.73957 140.926699 \nL 143.683191 140.945743 \nL 143.835388 140.935431 \nL 144.231101 140.941708 \nL 144.413737 140.995137 \nL 144.870328 141.067669 \nL 145.022525 141.002954 \nL 145.174722 141.008957 \nL 145.418238 140.922371 \nL 145.661753 140.981687 \nL 145.874829 140.887012 \nL 146.179223 140.867246 \nL 146.422738 140.91549 \nL 146.666253 141.01654 \nL 146.788011 141.040302 \nL 146.909769 141.021628 \nL 147.061966 140.995741 \nL 147.244602 140.957438 \nL 148.492618 141.193982 \nL 148.675254 141.280042 \nL 148.827451 141.254253 \nL 149.010088 141.164704 \nL 149.466679 141.170512 \nL 150.44074 141.198211 \nL 150.653816 141.204488 \nL 150.92777 141.236924 \nL 151.140846 141.313218 \nL 151.384361 141.357096 \nL 151.658316 141.373782 \nL 152.054028 141.317838 \nL 152.267104 141.442279 \nL 153.849953 141.445027 \nL 154.093469 141.462921 \nL 154.215226 141.445281 \nL 154.854454 141.595335 \nL 155.219727 141.556798 \nL 155.524121 141.517793 \nL 155.737197 141.470777 \nL 155.858954 141.429823 \nL 156.680818 141.39653 \nL 156.985212 141.438146 \nL 157.167849 141.52446 \nL 157.320046 141.426373 \nL 157.685319 141.422065 \nL 157.898395 141.339514 \nL 160.150911 141.434404 \nL 160.363987 141.390038 \nL 162.068594 141.43031 \nL 162.312109 141.44222 \nL 162.616503 141.481108 \nL 162.860018 141.475338 \nL 163.590564 141.540541 \nL 164.077594 141.464169 \nL 164.381988 141.532315 \nL 164.534186 141.540483 \nL 165.203852 141.680011 \nL 165.416928 141.69272 \nL 166.604065 141.513056 \nL 166.908459 141.524869 \nL 167.182414 141.596738 \nL 167.760763 141.50947 \nL 168.339111 141.621007 \nL 168.460869 141.597538 \nL 168.795703 141.639915 \nL 169.252294 141.65048 \nL 169.404491 141.588785 \nL 170.074158 141.644183 \nL 170.256794 141.678257 \nL 172.905023 141.767065 \nL 177.288297 141.60896 \nL 177.531813 141.66389 \nL 177.714449 141.657984 \nL 177.897085 141.682077 \nL 181.702011 141.588649 \nL 184.989467 141.719659 \nL 185.172104 141.70001 \nL 186.876711 141.512706 \nL 187.181105 141.546564 \nL 188.520439 141.439257 \nL 189.403182 141.398849 \nL 189.616257 141.335147 \nL 189.798894 141.350585 \nL 190.742515 141.315265 \nL 192.690638 141.339104 \nL 192.995032 141.375068 \nL 193.238547 141.361131 \nL 193.664699 141.45031 \nL 193.999532 141.474578 \nL 194.151729 141.497111 \nL 194.334366 141.479256 \nL 194.730078 141.526526 \nL 197.16523 141.785213 \nL 198.321928 141.871175 \nL 198.71764 141.884391 \nL 199.843898 141.839344 \nL 200.757081 141.718158 \nL 201.031035 141.72463 \nL 201.365869 141.67007 \nL 202.187733 141.549235 \nL 202.370369 141.60553 \nL 203.922779 141.6397 \nL 204.196734 141.664202 \nL 205.657825 141.709971 \nL 206.175295 141.726696 \nL 207.666826 141.617576 \nL 207.940781 141.629759 \nL 208.306054 141.620675 \nL 208.610448 141.622839 \nL 208.914842 141.627888 \nL 209.127918 141.601845 \nL 209.401872 141.587928 \nL 209.736706 141.640831 \nL 210.071539 141.633053 \nL 210.284615 141.656074 \nL 210.52813 141.64625 \nL 210.710767 141.613112 \nL 211.289116 141.63857 \nL 211.928343 141.698275 \nL 212.11098 141.656912 \nL 212.59801 141.665781 \nL 215.915906 141.638764 \nL 216.281178 141.619135 \nL 216.646451 141.638063 \nL 216.920406 141.635743 \nL 217.376997 141.596387 \nL 217.833588 141.598122 \nL 218.290179 141.632449 \nL 218.472816 141.603814 \nL 219.446877 141.637264 \nL 219.690392 141.641532 \nL 220.207862 141.689075 \nL 220.694893 141.689348 \nL 221.212362 141.667185 \nL 221.394999 141.657672 \nL 223.069166 141.779774 \nL 224.012788 141.691999 \nL 226.47838 141.707612 \nL 226.782774 141.714493 \nL 227.117607 141.725351 \nL 227.604638 141.768917 \nL 227.878593 141.797123 \nL 228.182987 141.816479 \nL 228.943972 141.811372 \nL 229.55276 141.746266 \nL 229.918033 141.793516 \nL 232.840216 141.820338 \nL 234.636141 141.717651 \nL 234.910096 141.6935 \nL 235.671081 141.657594 \nL 236.7669 141.644495 \nL 237.071294 141.660694 \nL 237.984476 141.672974 \nL 238.410628 141.632332 \nL 239.993477 141.721803 \nL 240.236992 141.689972 \nL 240.997977 141.732836 \nL 241.88072 141.677633 \nL 243.250494 141.630383 \nL 243.737524 141.614574 \nL 244.498509 141.606212 \nL 244.742024 141.556973 \nL 245.807404 141.575881 \nL 246.203116 141.53368 \nL 248.090359 141.506624 \nL 248.638269 141.507735 \nL 248.973102 141.540112 \nL 250.61683 141.471869 \nL 251.1343 141.467327 \nL 251.347376 141.452045 \nL 251.65177 141.445125 \nL 252.108361 141.409395 \nL 253.934726 141.331658 \nL 254.178241 141.322438 \nL 254.452196 141.353743 \nL 254.787029 141.374483 \nL 255.426257 141.345127 \nL 256.369878 141.223221 \nL 257.526576 141.244584 \nL 260.874911 141.281055 \nL 261.118426 141.242791 \nL 262.092487 141.249692 \nL 262.488199 141.218035 \nL 263.096987 141.187042 \nL 263.675336 141.184001 \nL 263.918851 141.181643 \nL 264.436321 141.196788 \nL 265.01467 141.206125 \nL 266.01917 141.273726 \nL 266.506201 141.244312 \nL 266.719277 141.252927 \nL 267.114989 141.297409 \nL 267.267186 141.325908 \nL 269.306626 141.301698 \nL 269.64146 141.294817 \nL 271.559143 141.387953 \nL 272.107052 141.409122 \nL 273.415946 141.358558 \nL 273.811659 141.312711 \nL 274.116053 141.338227 \nL 275.120553 141.271016 \nL 275.424947 141.282771 \nL 276.003296 141.33811 \nL 276.581645 141.309592 \nL 276.855599 141.354971 \nL 277.220872 141.328091 \nL 277.738342 141.361228 \nL 278.955919 141.360761 \nL 279.473389 141.351385 \nL 279.716904 141.308793 \nL 280.508328 141.28316 \nL 281.238874 141.28012 \nL 281.695465 141.270646 \nL 282.852163 141.279749 \nL 283.186996 141.297838 \nL 283.400072 141.317 \nL 283.978421 141.34581 \nL 284.495891 141.288014 \nL 284.739406 141.267079 \nL 285.013361 141.232382 \nL 286.59621 141.301678 \nL 287.052801 141.314582 \nL 287.326756 141.317136 \nL 287.539832 141.319319 \nL 287.935544 141.326239 \nL 290.949045 141.359065 \nL 291.527394 141.3777 \nL 293.81035 141.294271 \nL 294.236501 141.29854 \nL 297.523957 141.306785 \nL 297.797912 141.318013 \nL 298.680655 141.295792 \nL 299.045928 141.273336 \nL 299.502519 141.261134 \nL 300.050428 141.293959 \nL 300.659216 141.309592 \nL 307.325446 141.265578 \nL 308.360386 141.195658 \nL 308.877856 141.154217 \nL 310.064993 141.160532 \nL 310.369387 141.150688 \nL 311.008615 141.142053 \nL 311.313009 141.107337 \nL 311.647842 141.151722 \nL 312.469706 141.114471 \nL 313.261131 141.120962 \nL 313.961237 141.111235 \nL 314.235192 141.098955 \nL 315.331011 141.084413 \nL 316.426829 141.053732 \nL 317.096496 141.04496 \nL 317.553087 141.069697 \nL 317.827042 141.086753 \nL 321.388453 141.110612 \nL 321.662407 141.114627 \nL 333.077185 140.990966 \nL 334.416519 141.056714 \nL 335.299262 141.01578 \nL 337.46046 141.083283 \nL 337.917051 141.089618 \nL 338.343203 141.094998 \nL 339.195506 141.093809 \nL 341.630659 141.039463 \nL 342.117689 141.061393 \nL 346.19657 141.078332 \nL 346.6836 141.066539 \nL 348.357768 141.060652 \nL 348.692601 141.079034 \nL 349.057874 141.081022 \nL 349.636223 141.093478 \nL 350.549405 141.084102 \nL 350.762481 141.091665 \nL 353.075876 141.051646 \nL 354.293452 141.03151 \nL 354.841362 140.99656 \nL 355.176195 141.013187 \nL 355.906741 140.999036 \nL 356.332893 140.970635 \nL 356.941681 140.988061 \nL 358.067939 140.974202 \nL 359.133318 140.990576 \nL 370.487217 140.90282 \nL 370.913369 140.905218 \nL 371.735233 140.854771 \nL 372.617976 140.844635 \nL 375.844553 140.901144 \nL 376.088068 140.910344 \nL 376.088068 140.910344 \n\" style=\"fill:none;stroke:#ff7f0e;stroke-linecap:square;stroke-width:1.5;\"/>\n   </g>\n   <g id=\"line2d_16\">\n    <path clip-path=\"url(#pbe5d773d16)\" d=\"M 71.724432 109.888073 \nL 71.785311 144.771503 \nL 71.846189 136.050636 \nL 71.967947 149.131927 \nL 72.059265 130.600106 \nL 72.120144 141.656912 \nL 72.150584 142.155241 \nL 72.272341 134.673657 \nL 72.302781 134.088449 \nL 72.394099 138.325641 \nL 72.424538 134.415477 \nL 72.515856 135.566147 \nL 72.607175 129.946031 \nL 72.637614 130.564941 \nL 72.728932 134.896399 \nL 72.789811 134.233786 \nL 72.82025 132.51516 \nL 72.85069 134.673657 \nL 73.124645 138.833892 \nL 73.155084 138.503374 \nL 73.215963 138.405268 \nL 73.246402 139.641588 \nL 73.307281 137.778346 \nL 73.36816 138.429049 \nL 73.429039 139.263587 \nL 73.520357 137.358767 \nL 73.550796 136.908429 \nL 73.581236 137.94953 \nL 73.611675 138.749956 \nL 73.672554 137.660649 \nL 73.702993 137.239843 \nL 73.733433 137.612581 \nL 73.824751 139.04065 \nL 73.85519 138.445813 \nL 73.88563 138.230848 \nL 74.129145 142.10074 \nL 74.159584 142.026044 \nL 74.190024 141.31505 \nL 74.220463 142.039669 \nL 74.311781 141.830747 \nL 74.463979 146.544417 \nL 74.616176 144.63523 \nL 74.646615 144.681584 \nL 74.829251 146.337853 \nL 74.859691 145.484252 \nL 74.951009 145.953283 \nL 75.011888 146.611666 \nL 75.042327 145.921062 \nL 75.072767 145.596432 \nL 75.103206 146.09519 \nL 75.133645 146.469351 \nL 75.164085 146.263216 \nL 75.255403 145.106913 \nL 75.346721 147.060718 \nL 75.377161 146.645389 \nL 75.468479 145.228645 \nL 75.498918 144.108715 \nL 75.559797 145.526843 \nL 75.590237 145.65721 \nL 75.620676 145.177106 \nL 75.681555 145.537057 \nL 75.711994 145.663408 \nL 75.772873 146.398515 \nL 75.803312 146.128074 \nL 75.894631 145.055862 \nL 75.955509 145.114106 \nL 75.985949 145.699236 \nL 76.077267 145.316556 \nL 76.168585 145.839349 \nL 76.199025 145.242894 \nL 76.259904 146.166825 \nL 76.320782 146.722209 \nL 76.351222 146.395961 \nL 76.472979 145.215877 \nL 76.503419 145.323457 \nL 76.686055 146.579484 \nL 76.716495 145.881414 \nL 76.777373 146.54699 \nL 77.020889 147.63692 \nL 77.142646 148.328051 \nL 77.233965 147.622535 \nL 77.264404 147.845238 \nL 77.294843 147.994415 \nL 77.325283 147.859156 \nL 77.44704 146.778679 \nL 77.47748 146.928753 \nL 77.507919 146.940293 \nL 77.568798 146.759674 \nL 77.599237 146.906765 \nL 77.629677 146.985243 \nL 77.660116 146.862712 \nL 77.751435 146.765463 \nL 77.842753 147.318684 \nL 77.873192 146.940975 \nL 77.96451 146.782363 \nL 77.99495 147.046508 \nL 78.055829 146.816105 \nL 78.116707 146.90004 \nL 78.147147 146.725464 \nL 78.208026 147.114713 \nL 78.238465 146.698194 \nL 78.299344 146.72063 \nL 78.51242 144.518431 \nL 78.542859 144.422663 \nL 78.573299 144.732908 \nL 78.634177 144.427244 \nL 78.664617 144.390676 \nL 78.695056 144.070042 \nL 78.786374 144.247502 \nL 78.938571 143.800478 \nL 79.090768 144.340833 \nL 79.121208 144.306858 \nL 79.151647 144.379955 \nL 79.242965 143.646213 \nL 79.273405 143.668259 \nL 79.303844 143.690111 \nL 79.334284 143.607559 \nL 79.395163 143.754631 \nL 79.54736 142.794093 \nL 79.638678 143.318016 \nL 79.699557 143.213009 \nL 79.729996 143.136325 \nL 79.760435 143.405772 \nL 79.821314 143.105722 \nL 79.882193 143.247784 \nL 79.912632 143.12422 \nL 80.03439 142.925473 \nL 80.064829 143.185875 \nL 80.125708 142.756569 \nL 80.156148 142.826548 \nL 80.186587 142.75538 \nL 80.277905 142.359349 \nL 80.308345 142.429503 \nL 80.369224 142.66012 \nL 80.399663 142.408334 \nL 80.430102 142.614078 \nL 80.521421 142.591272 \nL 80.582299 142.949664 \nL 80.612739 142.926116 \nL 80.673618 142.170017 \nL 80.764936 142.196215 \nL 80.795375 142.044406 \nL 80.856254 142.221867 \nL 80.886693 142.071501 \nL 80.947572 141.945832 \nL 81.008451 142.078284 \nL 81.038891 141.717768 \nL 81.099769 142.146762 \nL 81.251966 141.924721 \nL 81.465042 142.937676 \nL 81.495482 143.078783 \nL 81.55636 142.914284 \nL 81.617239 142.631407 \nL 81.708558 142.690684 \nL 81.830315 142.925181 \nL 82.10427 142.285277 \nL 82.195588 142.458566 \nL 82.317346 142.047798 \nL 82.439103 142.424512 \nL 82.530422 142.37081 \nL 82.652179 142.809297 \nL 82.834816 142.341084 \nL 82.926134 142.077251 \nL 82.956573 142.202374 \nL 83.047891 142.223037 \nL 83.200088 141.795329 \nL 83.230528 141.642117 \nL 83.321846 141.735175 \nL 83.443604 141.303491 \nL 83.504483 141.444988 \nL 83.65668 141.309787 \nL 83.808877 141.769599 \nL 83.839316 141.656912 \nL 83.869755 141.708295 \nL 83.900195 142.020411 \nL 83.930634 141.680147 \nL 83.961074 141.763556 \nL 84.052392 141.528027 \nL 84.082831 141.578844 \nL 84.113271 141.853846 \nL 84.17415 141.729834 \nL 84.295907 141.169401 \nL 84.326347 141.188582 \nL 84.782938 141.891584 \nL 84.874256 141.639642 \nL 84.935135 141.704162 \nL 84.996014 141.618414 \nL 85.026453 141.844626 \nL 85.056892 141.56325 \nL 85.209089 141.147628 \nL 85.269968 141.183436 \nL 85.483044 141.566154 \nL 85.574362 141.070866 \nL 85.635241 141.163183 \nL 85.69612 140.998782 \nL 85.787438 141.10798 \nL 86.122272 141.708158 \nL 86.152711 141.613619 \nL 86.21359 141.754843 \nL 86.244029 141.797649 \nL 86.304908 141.528417 \nL 86.365787 141.559975 \nL 86.396226 141.656912 \nL 86.426666 141.618297 \nL 86.578863 141.374113 \nL 86.70062 141.463584 \nL 86.761499 141.600267 \nL 86.791939 141.430837 \nL 86.883257 141.319845 \nL 87.096333 141.014279 \nL 87.157211 141.097746 \nL 87.21809 141.360098 \nL 87.24853 141.298521 \nL 87.370287 141.105349 \nL 87.492045 141.343646 \nL 87.583363 141.238035 \nL 87.613803 141.30316 \nL 87.674681 141.332984 \nL 87.766 141.625042 \nL 87.857318 141.544284 \nL 88.192151 140.877675 \nL 88.28347 141.23515 \nL 88.344348 141.120533 \nL 88.526985 140.852627 \nL 88.557424 140.985644 \nL 88.648742 141.07648 \nL 88.679182 141.020595 \nL 88.709621 140.988295 \nL 88.740061 141.096284 \nL 89.105334 141.447815 \nL 89.135773 141.415554 \nL 89.379288 141.251621 \nL 89.409728 141.175269 \nL 89.470606 141.292107 \nL 89.592364 141.478925 \nL 89.622803 141.336453 \nL 89.683682 141.407095 \nL 89.835879 141.6036 \nL 89.896758 141.672526 \nL 89.957637 141.610188 \nL 90.048955 141.66929 \nL 90.079395 141.573367 \nL 90.140273 141.68465 \nL 90.29247 141.852657 \nL 90.475107 141.647809 \nL 90.505546 141.765759 \nL 90.535986 141.735389 \nL 90.657743 141.488925 \nL 90.870819 141.511556 \nL 90.901259 141.544362 \nL 90.931698 141.473584 \nL 91.083895 141.205112 \nL 91.114334 141.279047 \nL 91.175213 141.221837 \nL 91.205653 141.15254 \nL 91.236092 141.266845 \nL 91.266531 141.299437 \nL 91.418729 140.935938 \nL 91.692683 141.287137 \nL 91.723123 141.259301 \nL 91.905759 140.916718 \nL 91.997077 140.79678 \nL 92.027517 140.907167 \nL 92.118835 140.904945 \nL 92.210153 141.232694 \nL 92.271032 141.198017 \nL 92.331911 141.02847 \nL 92.36235 141.098195 \nL 92.544987 141.416821 \nL 92.636305 141.241329 \nL 92.697184 141.377953 \nL 92.818941 141.479178 \nL 92.87982 141.219244 \nL 92.940699 141.316883 \nL 93.123335 141.680791 \nL 93.153775 141.561476 \nL 93.366851 141.617537 \nL 93.640805 141.892773 \nL 93.793002 141.906593 \nL 93.823442 142.006493 \nL 93.91476 141.92825 \nL 93.945199 141.866536 \nL 93.975639 141.983687 \nL 94.006078 141.939887 \nL 94.158275 142.219041 \nL 94.43223 142.232296 \nL 94.493109 142.268182 \nL 94.523548 142.190114 \nL 94.675745 141.976201 \nL 94.706185 142.002965 \nL 94.736624 141.874138 \nL 94.797503 141.979437 \nL 94.858382 142.066998 \nL 94.91926 141.982653 \nL 95.101897 141.834295 \nL 95.46717 141.845932 \nL 95.528049 141.764297 \nL 95.558488 141.82375 \nL 95.588927 141.866399 \nL 95.649806 141.801742 \nL 95.710685 141.820338 \nL 95.893321 142.221048 \nL 96.045518 142.10074 \nL 96.319473 142.017253 \nL 96.410791 141.817999 \nL 96.441231 141.859187 \nL 96.47167 141.900258 \nL 96.50211 141.796772 \nL 96.806504 141.34657 \nL 96.836943 141.371832 \nL 97.050019 141.672604 \nL 97.141337 141.793263 \nL 97.171777 141.755135 \nL 97.232655 141.835094 \nL 97.293534 141.774667 \nL 97.354413 141.714532 \nL 97.50661 141.511458 \nL 97.597928 141.29238 \nL 97.658807 141.479451 \nL 97.871883 141.800319 \nL 97.963201 141.780339 \nL 98.206716 142.058109 \nL 98.328474 141.985811 \nL 98.51111 142.123566 \nL 98.571989 142.19869 \nL 98.602429 142.236136 \nL 98.663308 142.163116 \nL 98.693747 142.097231 \nL 98.754626 142.186624 \nL 98.876383 142.173798 \nL 98.967702 142.240892 \nL 99.119899 142.104911 \nL 99.485172 141.925033 \nL 99.728687 141.476313 \nL 99.880884 141.503525 \nL 99.911323 141.539976 \nL 99.941763 141.491771 \nL 100.124399 141.1487 \nL 100.276596 141.260861 \nL 100.307036 141.227489 \nL 100.367914 141.285928 \nL 100.459233 141.393898 \nL 100.489672 141.249964 \nL 100.763627 140.968101 \nL 100.885384 140.98851 \nL 100.976702 141.000322 \nL 101.1289 141.096479 \nL 101.250657 141.035273 \nL 101.433294 141.138545 \nL 101.555051 141.117804 \nL 101.61593 141.107493 \nL 101.646369 141.049171 \nL 101.737688 140.967711 \nL 101.859445 140.749861 \nL 101.920324 140.832627 \nL 102.316036 140.653802 \nL 102.468233 140.812179 \nL 102.620431 140.814499 \nL 102.772628 140.855219 \nL 103.046582 140.698947 \nL 103.16834 140.744209 \nL 103.411855 140.620294 \nL 103.472734 140.624075 \nL 103.65537 140.336325 \nL 103.68581 140.357124 \nL 103.868446 140.295566 \nL 103.929325 140.336949 \nL 103.959764 140.209506 \nL 104.17284 140.157695 \nL 104.294598 140.032435 \nL 104.629431 139.907312 \nL 104.69031 140.00881 \nL 104.751189 139.96538 \nL 104.872947 139.915011 \nL 104.933825 139.776165 \nL 104.994704 139.841095 \nL 105.329538 139.75601 \nL 105.512174 139.853746 \nL 105.664371 139.824994 \nL 105.786129 139.788153 \nL 105.816568 139.726459 \nL 105.877447 139.848054 \nL 105.999205 139.880997 \nL 106.120962 139.948422 \nL 106.151402 139.910314 \nL 106.212281 139.984249 \nL 106.486235 139.953275 \nL 106.577553 140.000136 \nL 106.607993 140.065124 \nL 106.638432 139.993255 \nL 106.76019 139.934153 \nL 107.064584 139.923237 \nL 107.186342 140.078243 \nL 107.216781 140.063584 \nL 107.490736 139.877137 \nL 107.521175 139.929455 \nL 107.703812 140.053526 \nL 107.734251 140.017016 \nL 107.886448 139.934309 \nL 108.099524 140.141282 \nL 108.221282 140.149449 \nL 108.373479 140.219272 \nL 108.525676 140.137188 \nL 108.556115 140.166213 \nL 108.738751 140.135181 \nL 108.79963 140.031889 \nL 108.860509 140.068224 \nL 109.043146 140.048594 \nL 109.104024 140.137871 \nL 109.134464 140.038829 \nL 109.286661 139.884993 \nL 109.3171 139.924231 \nL 109.530176 140.112881 \nL 109.651934 139.96349 \nL 109.712812 139.842012 \nL 109.773691 139.877781 \nL 110.291161 139.909008 \nL 110.504237 139.85704 \nL 110.747752 139.996432 \nL 110.778192 139.962807 \nL 110.960828 139.893901 \nL 111.113025 139.757842 \nL 111.143465 139.775171 \nL 111.234783 139.88741 \nL 111.265222 139.824078 \nL 111.38698 139.852635 \nL 111.478298 139.903959 \nL 111.508738 139.841017 \nL 111.87401 139.915557 \nL 112.026207 139.999707 \nL 112.330602 139.842733 \nL 112.513238 140.089159 \nL 112.543677 140.154381 \nL 112.604556 140.06068 \nL 112.634996 140.057698 \nL 112.665435 139.899222 \nL 112.726314 140.000253 \nL 112.90895 139.992417 \nL 113.091587 139.898072 \nL 113.122026 139.952925 \nL 113.152466 140.055709 \nL 113.243784 140.027737 \nL 113.335102 139.8947 \nL 113.365541 139.93967 \nL 113.45686 139.902556 \nL 113.548178 139.846592 \nL 113.578617 139.872342 \nL 113.761254 139.827353 \nL 113.822132 139.878619 \nL 113.883011 139.816457 \nL 114.004769 139.843279 \nL 114.096087 139.844487 \nL 114.248284 139.67186 \nL 114.491799 139.744295 \nL 114.613557 139.715251 \nL 114.765754 139.785502 \nL 114.917951 139.781565 \nL 115.344103 139.836359 \nL 115.465861 139.844019 \nL 116.01377 139.734237 \nL 116.287725 139.809829 \nL 116.379043 139.695213 \nL 116.409482 139.719461 \nL 116.5008 139.783066 \nL 116.53124 139.727258 \nL 116.713876 139.889223 \nL 116.835634 139.896513 \nL 117.53574 139.933335 \nL 117.657498 139.975029 \nL 117.809695 140.048419 \nL 117.840134 139.976745 \nL 117.901013 140.040525 \nL 118.205407 140.134265 \nL 118.327165 140.106527 \nL 118.875074 139.98347 \nL 118.935953 140.037386 \nL 118.966392 139.992709 \nL 119.149029 139.935596 \nL 120.09265 139.966803 \nL 120.244847 140.020135 \nL 120.397045 139.983197 \nL 120.731878 140.021305 \nL 120.884075 139.984737 \nL 121.218909 139.974211 \nL 121.462424 140.059023 \nL 121.614621 140.022884 \nL 121.919015 139.959162 \nL 122.588682 139.993801 \nL 122.740879 139.911834 \nL 123.106152 139.92314 \nL 123.258349 139.81903 \nL 123.440985 139.844214 \nL 123.806258 139.802344 \nL 123.836698 139.845969 \nL 123.897576 139.795775 \nL 124.019334 139.771838 \nL 124.506365 139.888326 \nL 124.71944 139.782793 \nL 124.902077 139.777452 \nL 125.084713 139.824371 \nL 125.176032 139.85515 \nL 125.206471 139.800902 \nL 125.602183 139.773378 \nL 125.937017 139.809127 \nL 126.089214 139.762014 \nL 127.185032 139.79634 \nL 127.337229 139.836203 \nL 127.641624 139.92236 \nL 127.763381 139.95655 \nL 127.885139 139.997699 \nL 128.554806 139.713126 \nL 128.646124 139.735211 \nL 128.676563 139.698312 \nL 129.224473 139.642797 \nL 129.589746 139.757686 \nL 129.772382 139.814585 \nL 130.076776 139.904096 \nL 130.259413 139.892069 \nL 130.41161 139.888891 \nL 130.594246 139.789109 \nL 130.716004 139.848873 \nL 130.746443 139.813201 \nL 130.92908 139.815034 \nL 131.081277 139.905967 \nL 131.842262 139.916766 \nL 132.420611 139.768485 \nL 132.511929 139.717064 \nL 132.542368 139.74141 \nL 132.96852 139.741722 \nL 133.090277 139.72145 \nL 134.216536 139.795424 \nL 134.581808 139.666032 \nL 134.947081 139.689228 \nL 135.251475 139.653011 \nL 135.464551 139.709657 \nL 135.647188 139.742794 \nL 135.708067 139.708175 \nL 135.738506 139.749948 \nL 135.921142 139.851037 \nL 136.316855 140.098866 \nL 136.438612 140.134304 \nL 136.773446 140.272389 \nL 137.230037 140.255119 \nL 137.351795 140.277652 \nL 137.534431 140.169156 \nL 137.686628 140.207927 \nL 137.838825 140.180306 \nL 137.991022 140.188844 \nL 138.08234 140.219136 \nL 138.264977 140.153874 \nL 140.15222 140.32576 \nL 140.304417 140.304669 \nL 140.700129 140.40145 \nL 140.852326 140.391879 \nL 141.643751 140.530608 \nL 141.826387 140.496223 \nL 142.069903 140.418604 \nL 142.161221 140.33385 \nL 142.19166 140.371529 \nL 142.2221 140.420475 \nL 142.282979 140.343382 \nL 142.465615 140.326676 \nL 143.165721 140.262507 \nL 143.317918 140.286911 \nL 143.77451 140.331881 \nL 143.926707 140.366968 \nL 144.139782 140.403731 \nL 144.352858 140.336169 \nL 144.535495 140.3473 \nL 144.77901 140.365662 \nL 144.931207 140.460006 \nL 145.083404 140.505112 \nL 145.326919 140.474158 \nL 145.692192 140.592224 \nL 145.966147 140.666608 \nL 146.087905 140.664406 \nL 146.209662 140.678245 \nL 146.392299 140.682924 \nL 147.579436 140.704911 \nL 147.670754 140.662632 \nL 147.822951 140.616805 \nL 148.066466 140.649162 \nL 148.279542 140.547976 \nL 148.523057 140.440435 \nL 150.075467 140.272214 \nL 150.197225 140.245373 \nL 150.379861 140.281181 \nL 150.775573 140.244905 \nL 151.201725 140.382679 \nL 152.967211 140.46985 \nL 153.119408 140.446926 \nL 156.10247 140.683099 \nL 156.315545 140.596143 \nL 156.559061 140.620645 \nL 156.772137 140.670039 \nL 157.046091 140.748516 \nL 157.380925 140.781284 \nL 157.502682 140.760641 \nL 157.746198 140.751947 \nL 158.14191 140.85479 \nL 158.476743 140.886719 \nL 158.994213 140.990323 \nL 159.237729 140.931104 \nL 159.69432 141.009854 \nL 159.907396 141.029464 \nL 160.516184 141.062582 \nL 160.972775 141.063712 \nL 161.307608 141.129402 \nL 162.646942 141.155308 \nL 163.012215 141.178504 \nL 163.194852 141.176964 \nL 163.407927 141.238873 \nL 163.864519 141.122444 \nL 164.260231 141.212597 \nL 164.564625 141.302867 \nL 164.990777 141.40265 \nL 165.234292 141.448321 \nL 165.386489 141.465046 \nL 165.934398 141.454696 \nL 166.086595 141.412241 \nL 166.604065 141.492082 \nL 166.786702 141.435573 \nL 166.938899 141.456235 \nL 167.182414 141.446626 \nL 167.36505 141.394697 \nL 167.547687 141.417737 \nL 167.791202 141.358558 \nL 168.065157 141.397192 \nL 168.369551 141.491556 \nL 168.704384 141.398908 \nL 168.887021 141.351989 \nL 169.069657 141.333861 \nL 169.43493 141.440407 \nL 169.678445 141.422942 \nL 170.074158 141.381091 \nL 170.226355 141.356706 \nL 170.408991 141.391247 \nL 170.591628 141.389454 \nL 171.930962 141.421402 \nL 172.50931 141.430076 \nL 172.844144 141.47526 \nL 174.914024 141.547792 \nL 175.187978 141.417815 \nL 175.461933 141.422825 \nL 175.827206 141.468984 \nL 178.810268 141.403586 \nL 179.084222 141.456684 \nL 180.362677 141.598278 \nL 180.393117 141.563757 \nL 180.453996 141.619252 \nL 180.697511 141.712739 \nL 181.001905 141.696969 \nL 182.28036 141.692915 \nL 182.554315 141.621494 \nL 183.010906 141.652312 \nL 183.406618 141.611085 \nL 184.83727 141.445748 \nL 185.050346 141.439121 \nL 185.720013 141.498262 \nL 185.933089 141.561301 \nL 186.115725 141.566427 \nL 186.572317 141.651961 \nL 187.241984 141.66428 \nL 187.637696 141.703519 \nL 187.881211 141.674533 \nL 188.155166 141.709172 \nL 188.94659 141.745682 \nL 189.281424 141.800573 \nL 190.712076 141.808409 \nL 190.864273 141.764297 \nL 191.229546 141.760165 \nL 191.503501 141.796967 \nL 193.664699 141.584146 \nL 193.877774 141.616874 \nL 195.186669 141.657828 \nL 195.399745 141.686794 \nL 196.373806 141.738567 \nL 196.6782 141.673734 \nL 197.317427 141.673656 \nL 197.774019 141.624866 \nL 198.261049 141.603424 \nL 198.74808 141.525727 \nL 198.930716 141.49908 \nL 199.813459 141.45222 \nL 200.026535 141.505318 \nL 201.79202 141.354776 \nL 202.065975 141.30392 \nL 202.30949 141.294135 \nL 202.522566 141.291679 \nL 202.918278 141.224293 \nL 203.983658 141.185639 \nL 204.409809 141.193143 \nL 205.870901 141.19057 \nL 206.023098 141.166945 \nL 207.271114 141.260822 \nL 207.575508 141.252089 \nL 209.097478 141.237937 \nL 209.462751 141.189498 \nL 209.706266 141.200629 \nL 211.07604 141.307156 \nL 211.380434 141.272888 \nL 211.867464 141.237704 \nL 212.537131 141.198894 \nL 212.750207 141.219361 \nL 213.237238 141.26628 \nL 213.785147 141.243356 \nL 214.66789 141.225228 \nL 214.972284 141.250354 \nL 215.398436 141.226632 \nL 215.855027 141.259945 \nL 216.159421 141.237957 \nL 216.463815 141.268307 \nL 216.646451 141.253493 \nL 216.920406 141.227216 \nL 217.620512 141.186009 \nL 218.077103 141.180883 \nL 218.381498 141.140377 \nL 218.625013 141.140065 \nL 221.151484 141.195229 \nL 221.303681 141.163378 \nL 221.668954 141.169518 \nL 223.617076 141.043596 \nL 226.295743 141.062679 \nL 226.508819 141.086655 \nL 227.909032 141.051705 \nL 228.639578 141.071548 \nL 228.943972 141.09223 \nL 229.400563 141.150844 \nL 230.07023 141.184606 \nL 230.5877 141.185424 \nL 231.07473 141.252167 \nL 231.62264 141.301581 \nL 232.14011 141.264779 \nL 232.444504 141.264818 \nL 232.748898 141.245072 \nL 233.022853 141.246124 \nL 233.327247 141.231427 \nL 233.601201 141.259535 \nL 234.483944 141.260646 \nL 234.757899 141.268989 \nL 239.506446 141.225735 \nL 240.571826 141.334562 \nL 241.058856 141.352281 \nL 241.302371 141.32119 \nL 243.098296 141.437873 \nL 243.494009 141.418517 \nL 246.142237 141.432883 \nL 246.477071 141.463584 \nL 249.521011 141.478418 \nL 250.09936 141.521068 \nL 250.281997 141.511029 \nL 251.012542 141.544284 \nL 252.321437 141.517715 \nL 253.386816 141.470309 \nL 253.569453 141.47144 \nL 253.873847 141.475494 \nL 254.178241 141.496995 \nL 254.573953 141.487385 \nL 256.035045 141.645178 \nL 256.887348 141.634476 \nL 257.648333 141.663013 \nL 258.135364 141.641961 \nL 258.957228 141.570638 \nL 259.200743 141.576213 \nL 259.626895 141.606056 \nL 260.600956 141.545785 \nL 261.087986 141.586329 \nL 261.39238 141.581632 \nL 261.818532 141.560872 \nL 262.031608 141.548416 \nL 262.45776 141.513173 \nL 264.314564 141.613483 \nL 264.618958 141.590267 \nL 270.006733 141.538143 \nL 270.311127 141.541769 \nL 271.589582 141.480757 \nL 271.954855 141.46489 \nL 275.333629 141.484558 \nL 275.942417 141.450816 \nL 276.246811 141.415515 \nL 276.642524 141.451791 \nL 276.977357 141.435222 \nL 277.251312 141.462921 \nL 281.117117 141.496098 \nL 282.091178 141.518203 \nL 282.45645 141.520074 \nL 282.97392 141.506663 \nL 283.308754 141.528144 \nL 285.317755 141.493408 \nL 285.835225 141.467229 \nL 290.096742 141.46912 \nL 291.101242 141.455202 \nL 291.314318 141.462649 \nL 296.33682 141.527754 \nL 296.762972 141.499704 \nL 298.132745 141.519489 \nL 298.741534 141.501322 \nL 299.137246 141.500581 \nL 299.4112 141.51676 \nL 300.172186 141.552588 \nL 300.507019 141.574127 \nL 300.780974 141.584887 \nL 301.054929 141.61475 \nL 305.012051 141.638121 \nL 305.225127 141.617693 \nL 307.903795 141.603444 \nL 308.17775 141.58859 \nL 309.090932 141.570638 \nL 309.608402 141.577051 \nL 309.791038 141.579487 \nL 310.704221 141.603346 \nL 311.039054 141.577285 \nL 311.404327 141.535648 \nL 319.47077 141.458321 \nL 320.870983 141.475865 \nL 321.266695 141.440154 \nL 322.179877 141.47296 \nL 322.453832 141.487677 \nL 323.275696 141.488905 \nL 324.280196 141.517735 \nL 324.858545 141.52097 \nL 325.162939 141.514401 \nL 330.76379 141.580715 \nL 331.098624 141.587382 \nL 337.247384 141.666113 \nL 337.551778 141.643209 \nL 338.130127 141.662448 \nL 338.830233 141.650733 \nL 341.021871 141.708646 \nL 341.265386 141.718314 \nL 341.965492 141.728664 \nL 342.848235 141.733694 \nL 343.152629 141.741978 \nL 343.883175 141.663793 \nL 346.287888 141.721959 \nL 346.6836 141.684826 \nL 347.20107 141.687262 \nL 347.809859 141.70656 \nL 348.23601 141.686326 \nL 353.715104 141.68272 \nL 354.384771 141.682058 \nL 355.754544 141.670323 \nL 356.119817 141.660304 \nL 357.154757 141.646932 \nL 357.641787 141.656912 \nL 360.898804 141.551087 \nL 361.264077 141.549644 \nL 362.542532 141.576135 \nL 363.029562 141.62703 \nL 364.399336 141.649914 \nL 370.061065 141.686463 \nL 370.608975 141.662799 \nL 372.952809 141.615178 \nL 373.683355 141.584575 \nL 374.657416 141.632488 \nL 376.088068 141.648121 \nL 376.088068 141.648121 \n\" style=\"fill:none;stroke:#2ca02c;stroke-linecap:square;stroke-width:1.5;\"/>\n   </g>\n   <g id=\"line2d_17\">\n    <path clip-path=\"url(#pbe5d773d16)\" d=\"M 71.724432 18.319091 \nL 71.876629 144.771503 \nL 71.998386 122.969345 \nL 72.028826 126.536984 \nL 72.089705 131.019373 \nL 72.150584 129.07395 \nL 72.272341 134.673657 \nL 72.33322 131.067286 \nL 72.363659 131.888413 \nL 72.515856 139.442081 \nL 72.546296 138.853774 \nL 72.576735 138.306031 \nL 72.637614 141.114354 \nL 72.698493 139.618256 \nL 72.759372 138.666898 \nL 72.881129 143.765235 \nL 72.972448 140.41106 \nL 73.033326 141.402065 \nL 73.063766 142.155241 \nL 73.094205 141.169401 \nL 73.124645 141.895463 \nL 73.155084 141.228639 \nL 73.215963 142.329661 \nL 73.489917 145.806172 \nL 73.611675 143.318016 \nL 73.642114 143.817651 \nL 73.672554 143.4969 \nL 73.794312 145.529825 \nL 73.824751 145.020658 \nL 73.916069 143.93525 \nL 74.007387 145.68947 \nL 74.068266 145.610038 \nL 74.159584 143.964002 \nL 74.220463 144.08854 \nL 74.250903 144.771503 \nL 74.311781 144.416582 \nL 74.463979 142.950658 \nL 74.494418 143.160028 \nL 74.616176 144.771503 \nL 74.646615 144.411864 \nL 74.707494 143.582277 \nL 74.737933 144.553478 \nL 74.768373 144.210252 \nL 74.798812 144.130254 \nL 74.859691 144.729575 \nL 74.89013 144.397752 \nL 74.981448 143.56027 \nL 75.011888 143.851412 \nL 75.164085 144.886237 \nL 75.285843 144.254149 \nL 75.316282 144.624919 \nL 75.529358 146.224972 \nL 75.590237 145.65721 \nL 75.620676 145.785549 \nL 75.651115 146.213783 \nL 75.711994 145.564308 \nL 75.742434 145.39441 \nL 75.803312 145.546686 \nL 75.894631 146.572545 \nL 75.92507 146.496835 \nL 75.955509 146.328789 \nL 75.985949 146.719773 \nL 76.016388 146.828873 \nL 76.046828 146.662035 \nL 76.077267 146.679189 \nL 76.107707 146.605877 \nL 76.138146 146.981578 \nL 76.199025 146.480306 \nL 76.259904 146.515665 \nL 76.381661 145.989013 \nL 76.44254 146.616286 \nL 76.503419 146.234172 \nL 76.533858 146.087841 \nL 76.594737 146.206921 \nL 76.777373 147.565305 \nL 76.868692 146.592622 \nL 76.899131 146.760454 \nL 76.929571 146.622134 \nL 77.051328 144.598077 \nL 77.081768 144.919297 \nL 77.112207 145.310416 \nL 77.142646 144.747138 \nL 77.203525 145.22921 \nL 77.233965 145.250671 \nL 77.325283 144.32366 \nL 77.355722 144.701174 \nL 77.386162 144.654899 \nL 77.44704 144.286995 \nL 77.47748 144.725598 \nL 77.538359 144.975884 \nL 77.568798 144.794095 \nL 77.751435 143.873107 \nL 77.812313 144.250855 \nL 77.934071 144.856569 \nL 77.96451 144.62332 \nL 78.055829 144.562854 \nL 78.086268 144.771503 \nL 78.147147 144.442409 \nL 78.238465 143.77773 \nL 78.299344 144.188771 \nL 78.664617 146.104371 \nL 78.847253 145.458034 \nL 78.877693 145.307317 \nL 78.908132 145.654617 \nL 78.938571 145.614267 \nL 78.969011 145.355327 \nL 78.99945 145.752587 \nL 79.060329 145.456182 \nL 79.151647 145.714771 \nL 79.121208 145.379089 \nL 79.182087 145.622318 \nL 79.242965 145.334139 \nL 79.273405 145.349382 \nL 79.425602 145.887359 \nL 79.54736 145.329227 \nL 79.608238 145.660348 \nL 79.669117 145.636918 \nL 79.851754 146.154467 \nL 80.003951 145.586081 \nL 80.064829 145.564308 \nL 80.125708 145.920633 \nL 80.156148 145.743971 \nL 80.186587 145.568557 \nL 80.277905 145.652863 \nL 80.430102 145.986947 \nL 80.490981 145.918177 \nL 80.612739 145.64953 \nL 80.704057 146.038369 \nL 80.795375 145.981918 \nL 80.825815 145.774399 \nL 80.917133 145.850811 \nL 81.099769 146.591862 \nL 81.130209 146.684452 \nL 81.160648 146.482021 \nL 81.251966 146.424011 \nL 81.282406 146.266491 \nL 81.312845 146.399762 \nL 81.343285 146.573441 \nL 81.404163 146.343428 \nL 81.525921 145.648984 \nL 81.5868 145.670406 \nL 81.647679 145.971606 \nL 81.678118 145.741964 \nL 81.830315 145.125041 \nL 81.921633 145.04403 \nL 82.07383 144.298378 \nL 82.256467 144.796629 \nL 82.286906 144.733902 \nL 82.317346 145.083853 \nL 82.378224 144.659694 \nL 82.408664 144.709556 \nL 82.439103 144.685034 \nL 82.499982 144.488997 \nL 82.560861 144.588292 \nL 82.682619 144.348747 \nL 82.713058 144.470362 \nL 82.926134 145.267805 \nL 82.956573 145.419672 \nL 83.047891 145.379381 \nL 83.078331 145.319461 \nL 83.169649 145.384508 \nL 83.352286 145.750599 \nL 83.504483 145.288448 \nL 83.534922 145.298331 \nL 83.808877 144.563342 \nL 83.839316 144.574784 \nL 83.869755 144.684293 \nL 83.930634 144.608798 \nL 84.569862 143.070615 \nL 84.600301 143.054066 \nL 84.630741 143.16071 \nL 84.722059 143.141432 \nL 84.843816 142.89409 \nL 84.904695 142.47071 \nL 84.935135 142.576243 \nL 84.965574 142.831304 \nL 85.056892 142.814774 \nL 85.209089 142.237734 \nL 85.239529 142.282626 \nL 85.604802 143.178078 \nL 85.66568 143.204023 \nL 85.787438 142.944439 \nL 85.817878 142.985978 \nL 85.848317 142.971066 \nL 85.878756 143.09656 \nL 85.909196 142.885396 \nL 86.030953 142.744036 \nL 86.061393 142.813001 \nL 86.122272 142.756862 \nL 86.244029 142.563904 \nL 86.274469 142.686864 \nL 86.487544 142.968104 \nL 86.517984 142.900191 \nL 86.73106 142.670724 \nL 86.578863 142.952412 \nL 86.761499 142.710197 \nL 86.791939 142.775887 \nL 86.822378 142.683394 \nL 86.852817 142.565015 \nL 86.913696 142.748266 \nL 86.944136 142.787114 \nL 86.974575 142.72158 \nL 87.005014 142.57827 \nL 87.065893 142.63014 \nL 87.126772 142.8622 \nL 87.187651 142.784035 \nL 87.309408 142.451042 \nL 87.370287 142.603981 \nL 87.400727 142.667332 \nL 87.431166 142.528018 \nL 87.522484 142.540961 \nL 87.583363 142.516108 \nL 87.674681 142.65357 \nL 87.887757 142.074912 \nL 88.009515 142.176391 \nL 88.222591 141.519236 \nL 88.405227 141.292692 \nL 88.648742 141.475728 \nL 88.740061 141.096284 \nL 88.800939 141.217977 \nL 88.922697 141.458808 \nL 88.861818 141.176458 \nL 88.953137 141.380058 \nL 89.227091 141.024259 \nL 89.409728 141.377544 \nL 89.592364 141.323198 \nL 89.683682 141.628453 \nL 89.714122 141.486449 \nL 89.80544 141.546974 \nL 89.957637 141.675586 \nL 90.018516 141.700361 \nL 90.079395 141.984856 \nL 90.140273 141.878933 \nL 90.170713 141.890882 \nL 90.262031 141.690595 \nL 90.29247 141.724181 \nL 90.353349 141.769696 \nL 90.383789 141.696463 \nL 90.444667 141.380838 \nL 90.505546 141.532919 \nL 90.657743 141.82488 \nL 90.688183 141.689855 \nL 91.053456 141.665723 \nL 91.114334 141.750633 \nL 91.144774 141.618882 \nL 91.266531 141.380799 \nL 91.296971 141.413157 \nL 91.479607 141.846653 \nL 91.510047 141.797571 \nL 91.662244 141.494519 \nL 91.905759 141.763849 \nL 91.936198 141.67658 \nL 92.027517 141.572977 \nL 92.057956 141.623385 \nL 92.210153 141.620851 \nL 92.240593 141.728879 \nL 92.301471 141.654144 \nL 92.423229 141.621221 \nL 92.697184 141.870863 \nL 92.818941 141.818467 \nL 92.940699 142.06653 \nL 92.971138 142.039202 \nL 93.305972 141.706911 \nL 93.366851 141.782893 \nL 93.519048 141.961855 \nL 93.549487 141.917178 \nL 93.610366 141.864548 \nL 93.640805 141.965344 \nL 93.762563 142.077056 \nL 93.823442 141.898523 \nL 94.036518 141.646717 \nL 94.280033 141.692155 \nL 94.371351 141.564088 \nL 94.40179 141.574244 \nL 94.43223 141.654398 \nL 94.493109 141.58705 \nL 94.645306 141.359494 \nL 94.767063 141.4868 \nL 94.797503 141.324524 \nL 94.888821 141.423917 \nL 94.980139 141.41994 \nL 95.162776 141.259399 \nL 95.680246 140.931221 \nL 95.832443 141.048917 \nL 95.9542 140.859702 \nL 96.106397 140.650293 \nL 96.197716 140.568151 \nL 96.228155 140.530082 \nL 96.258594 140.556962 \nL 96.410791 140.89974 \nL 96.441231 140.797229 \nL 96.867382 141.112327 \nL 97.050019 140.761791 \nL 97.323974 140.882333 \nL 97.354413 140.76797 \nL 97.50661 140.616746 \nL 97.780565 140.858806 \nL 97.932762 140.846097 \nL 98.145838 141.018216 \nL 98.298035 140.914964 \nL 98.51111 141.17328 \nL 98.571989 140.98389 \nL 98.632868 141.061432 \nL 98.906823 140.90857 \nL 99.150338 140.778457 \nL 99.180777 140.715281 \nL 99.241656 140.777249 \nL 99.454732 140.841379 \nL 99.485172 140.821789 \nL 99.515611 140.888142 \nL 99.606929 141.000693 \nL 99.667808 140.947224 \nL 99.850444 140.915471 \nL 100.033081 141.22133 \nL 100.09396 141.168173 \nL 100.367914 140.799899 \nL 100.976702 141.149889 \nL 101.159339 140.942605 \nL 101.402854 140.942722 \nL 101.494172 140.754013 \nL 101.555051 140.811107 \nL 101.585491 140.739647 \nL 101.61593 140.881261 \nL 101.646369 140.876349 \nL 101.768127 140.975976 \nL 101.889885 140.890189 \nL 102.011642 140.897011 \nL 102.072521 140.913522 \nL 102.102961 140.869371 \nL 102.65087 140.668324 \nL 103.016143 141.033986 \nL 103.046582 140.991044 \nL 103.350976 140.930967 \nL 103.442295 140.879292 \nL 103.472734 140.824557 \nL 103.533613 140.915471 \nL 103.68581 141.054141 \nL 103.868446 140.716334 \nL 103.898886 140.798476 \nL 104.233719 141.080028 \nL 104.264159 141.050867 \nL 104.812068 141.268716 \nL 104.964265 141.412416 \nL 105.116462 141.495221 \nL 105.268659 141.506117 \nL 105.329538 141.401539 \nL 105.390417 141.450953 \nL 105.664371 141.419121 \nL 105.907887 141.357642 \nL 105.938326 141.445943 \nL 105.999205 141.308696 \nL 106.120962 141.266962 \nL 106.24272 141.294681 \nL 106.364478 141.149928 \nL 106.394917 141.19135 \nL 106.577553 141.27858 \nL 106.699311 141.294525 \nL 106.912387 141.308033 \nL 107.003705 141.474851 \nL 107.034145 141.391325 \nL 107.216781 141.532003 \nL 108.647433 141.405983 \nL 108.79963 141.544985 \nL 108.890948 141.510094 \nL 108.921388 141.559118 \nL 109.043146 141.56247 \nL 109.164903 141.427679 \nL 109.195343 141.44454 \nL 109.3171 141.405925 \nL 109.469297 141.384347 \nL 109.591055 141.409239 \nL 109.743252 141.377329 \nL 109.986767 141.385048 \nL 110.108525 141.274856 \nL 110.686874 140.92165 \nL 110.899949 140.966269 \nL 110.930389 140.942156 \nL 110.991268 141.02578 \nL 111.082586 141.105232 \nL 111.113025 141.172033 \nL 111.173904 141.103633 \nL 111.35654 140.889604 \nL 111.569616 140.963618 \nL 111.782692 140.937497 \nL 111.90445 141.001921 \nL 111.934889 140.968491 \nL 112.056647 141.022719 \nL 112.087086 140.989387 \nL 112.269723 140.927907 \nL 112.543677 140.78797 \nL 112.574117 140.862373 \nL 112.665435 140.948823 \nL 112.695874 140.896641 \nL 112.848071 140.752941 \nL 112.878511 140.778457 \nL 113.122026 141.029405 \nL 113.152466 140.97773 \nL 113.243784 141.033986 \nL 113.609057 141.342048 \nL 113.761254 141.502745 \nL 113.791693 141.460972 \nL 113.94389 141.347233 \nL 114.46136 141.329709 \nL 114.522239 141.303608 \nL 114.552678 141.383489 \nL 114.613557 141.431597 \nL 114.643997 141.39996 \nL 114.765754 141.394093 \nL 114.97883 141.367778 \nL 115.131027 141.174976 \nL 115.222345 141.18252 \nL 115.252785 141.114958 \nL 115.313663 141.180921 \nL 115.374542 141.210219 \nL 115.526739 141.010634 \nL 115.709376 141.116693 \nL 117.322664 141.024844 \nL 117.505301 141.065856 \nL 117.627058 141.061237 \nL 117.748816 141.091216 \nL 118.022771 140.966873 \nL 118.174968 141.079267 \nL 118.327165 141.071392 \nL 118.814195 141.129363 \nL 118.875074 141.207198 \nL 118.905514 141.1364 \nL 119.08815 141.175619 \nL 119.179468 141.123828 \nL 119.514302 140.938433 \nL 119.60562 141.012213 \nL 119.636059 140.967536 \nL 119.757817 140.888805 \nL 119.788256 140.910578 \nL 119.910014 140.898317 \nL 120.183969 141.043362 \nL 120.336166 141.060496 \nL 120.457923 141.105134 \nL 120.61012 141.024298 \nL 120.823196 141.270178 \nL 121.036272 141.223435 \nL 121.12759 141.246105 \nL 121.15803 141.218757 \nL 121.919015 141.235579 \nL 122.649561 141.426938 \nL 123.014834 141.380916 \nL 123.19747 141.477989 \nL 123.562743 141.432084 \nL 123.836698 141.243434 \nL 124.536804 141.280139 \nL 124.780319 141.308657 \nL 125.145592 141.272732 \nL 125.358668 141.44491 \nL 125.937017 141.108448 \nL 126.150093 141.110592 \nL 126.393608 141.088059 \nL 126.911078 141.076909 \nL 127.276351 140.828963 \nL 127.793821 140.884263 \nL 128.037336 140.877499 \nL 128.159093 140.902352 \nL 129.163594 140.921475 \nL 129.194033 140.946601 \nL 129.254912 140.872236 \nL 129.528867 140.952682 \nL 129.620185 141.006813 \nL 129.650624 140.962994 \nL 130.107216 140.754169 \nL 130.320291 140.818592 \nL 130.502928 140.837637 \nL 130.716004 140.827091 \nL 130.868201 140.828261 \nL 131.050837 140.900773 \nL 131.142155 140.853133 \nL 131.233474 140.812335 \nL 131.385671 140.900247 \nL 131.568307 140.812296 \nL 131.994459 140.877714 \nL 132.116216 140.848202 \nL 132.603247 140.907908 \nL 132.846762 140.927634 \nL 133.029399 140.841691 \nL 133.577308 140.83789 \nL 133.851263 140.650235 \nL 133.942581 140.592302 \nL 134.033899 140.521778 \nL 134.064339 140.54513 \nL 134.794884 140.833855 \nL 134.916642 140.824655 \nL 135.099278 140.879975 \nL 135.251475 140.874673 \nL 135.55587 140.945217 \nL 135.677627 140.892333 \nL 135.708067 140.921124 \nL 136.286415 140.846701 \nL 136.438612 140.903074 \nL 136.469052 140.851613 \nL 136.743006 140.813037 \nL 136.925643 140.83023 \nL 137.534431 140.695302 \nL 137.686628 140.612185 \nL 137.869264 140.587566 \nL 138.051901 140.57509 \nL 138.204098 140.534799 \nL 138.59981 140.436849 \nL 138.843326 140.509907 \nL 139.178159 140.416966 \nL 139.330356 140.418915 \nL 139.482553 140.373868 \nL 139.695629 140.395446 \nL 139.847826 140.339015 \nL 140.060902 140.261571 \nL 140.243538 140.285216 \nL 140.517493 140.233638 \nL 140.821887 140.39954 \nL 141.126281 140.214165 \nL 141.217599 140.22588 \nL 141.430675 140.24738 \nL 142.343857 140.283325 \nL 142.617812 140.412931 \nL 142.73957 140.427882 \nL 142.891767 140.468856 \nL 143.561434 140.44985 \nL 143.74407 140.449753 \nL 143.926707 140.504781 \nL 144.139782 140.453203 \nL 144.26154 140.506184 \nL 144.444177 140.566143 \nL 144.77901 140.485522 \nL 145.570435 140.481136 \nL 145.78351 140.479148 \nL 146.027026 140.534273 \nL 146.574935 140.61314 \nL 146.81845 140.508231 \nL 146.970647 140.536261 \nL 148.340421 140.554799 \nL 148.705694 140.616161 \nL 148.88833 140.564097 \nL 149.101406 140.664835 \nL 150.014588 140.565286 \nL 151.019089 140.573375 \nL 151.414801 140.481 \nL 151.749634 140.467433 \nL 151.96271 140.381295 \nL 152.145347 140.416011 \nL 152.632377 140.419266 \nL 152.875892 140.465016 \nL 153.149847 140.420845 \nL 153.271605 140.448486 \nL 153.423802 140.450045 \nL 154.945772 140.465269 \nL 155.128409 140.508114 \nL 155.341484 140.563395 \nL 155.615439 140.643568 \nL 156.163348 140.547781 \nL 156.772137 140.595148 \nL 156.954773 140.562069 \nL 157.320046 140.598638 \nL 157.746198 140.502071 \nL 157.898395 140.549633 \nL 158.14191 140.513942 \nL 158.446304 140.461565 \nL 158.842016 140.468934 \nL 159.085532 140.406518 \nL 159.785638 140.380924 \nL 160.120471 140.337514 \nL 160.333547 140.381119 \nL 160.546623 140.38418 \nL 160.911896 140.312876 \nL 162.038154 140.330263 \nL 162.281669 140.248433 \nL 163.012215 140.206134 \nL 163.225291 140.200812 \nL 163.468806 140.155083 \nL 164.016716 140.044462 \nL 164.260231 139.952223 \nL 164.564625 139.965166 \nL 164.80814 139.967759 \nL 165.660444 139.923744 \nL 165.812641 139.934407 \nL 166.117035 139.905012 \nL 167.36505 139.962963 \nL 169.343612 140.046782 \nL 169.891521 140.048828 \nL 170.043718 140.002144 \nL 170.408991 139.902829 \nL 170.622067 139.874389 \nL 171.169976 139.817314 \nL 171.352613 139.818406 \nL 171.626567 139.752287 \nL 172.174477 139.621141 \nL 172.417992 139.663907 \nL 172.53975 139.624006 \nL 172.905023 139.618977 \nL 173.178977 139.636813 \nL 173.54425 139.592681 \nL 173.726887 139.57853 \nL 174.122599 139.506582 \nL 174.396554 139.524516 \nL 176.222918 139.562858 \nL 176.344676 139.558764 \nL 176.61863 139.538219 \nL 176.953464 139.595215 \nL 177.1361 139.581531 \nL 177.410055 139.561084 \nL 177.562252 139.563559 \nL 177.805767 139.480443 \nL 179.053783 139.499916 \nL 179.236419 139.482957 \nL 181.641133 139.516524 \nL 181.975966 139.513229 \nL 183.254421 139.430717 \nL 183.376179 139.409197 \nL 184.411119 139.480813 \nL 184.715513 139.496232 \nL 185.324301 139.516329 \nL 188.063848 139.520266 \nL 188.246484 139.562663 \nL 188.672636 139.556678 \nL 189.159666 139.538745 \nL 190.52944 139.542117 \nL 190.894712 139.551454 \nL 191.320864 139.585586 \nL 191.686137 139.518414 \nL 192.081849 139.490462 \nL 192.325365 139.500033 \nL 192.56888 139.479897 \nL 192.964592 139.412901 \nL 193.360304 139.388866 \nL 193.512502 139.384695 \nL 193.695138 139.386235 \nL 194.63876 139.253763 \nL 195.064911 139.310467 \nL 195.886775 139.304931 \nL 196.069412 139.248929 \nL 199.904777 139.243315 \nL 200.148292 139.268265 \nL 202.157293 139.331636 \nL 202.370369 139.262301 \nL 202.705203 139.305769 \nL 202.918278 139.254952 \nL 203.131354 139.273996 \nL 203.770582 139.306646 \nL 205.079476 139.310506 \nL 205.262113 139.249416 \nL 205.627386 139.219885 \nL 205.840462 139.200002 \nL 207.240674 139.208598 \nL 207.392871 139.19626 \nL 209.797585 139.230859 \nL 210.01066 139.309453 \nL 210.710767 139.330271 \nL 210.954282 139.358848 \nL 211.532631 139.288206 \nL 216.433375 139.525217 \nL 216.798648 139.560382 \nL 217.103042 139.569466 \nL 217.681391 139.552799 \nL 217.955346 139.589796 \nL 218.472816 139.593597 \nL 221.790711 139.616092 \nL 222.003787 139.640185 \nL 222.764772 139.714354 \nL 223.312682 139.753632 \nL 223.860591 139.816184 \nL 232.14011 139.718662 \nL 232.688019 139.641861 \nL 233.722959 139.628762 \nL 233.905595 139.605098 \nL 237.132173 139.694628 \nL 237.345248 139.668313 \nL 237.619203 139.655136 \nL 238.836779 139.633635 \nL 239.141173 139.677065 \nL 239.445568 139.710826 \nL 240.84578 139.694667 \nL 240.997977 139.681977 \nL 241.271932 139.687844 \nL 242.885221 139.762891 \nL 243.554888 139.838795 \nL 243.859282 139.811272 \nL 244.285433 139.827373 \nL 244.528949 139.840472 \nL 244.711585 139.859496 \nL 245.289934 139.86975 \nL 245.655207 139.882322 \nL 246.355313 139.921678 \nL 247.055419 139.953899 \nL 249.642769 140.004561 \nL 250.555951 140.008868 \nL 255.365378 139.99844 \nL 255.608893 140.014853 \nL 255.943726 139.977407 \nL 256.430757 139.904544 \nL 256.917788 139.933101 \nL 257.130863 139.943666 \nL 257.435257 139.902984 \nL 257.770091 139.881075 \nL 258.500637 139.959883 \nL 258.774591 139.992475 \nL 259.566016 140.022494 \nL 259.931289 140.031714 \nL 263.249184 140.060465 \nL 263.4927 140.071986 \nL 265.775655 140.071869 \nL 266.719277 140.023819 \nL 267.114989 140.04838 \nL 267.510701 140.042337 \nL 269.884975 140.100991 \nL 270.250248 140.059452 \nL 272.015734 140.01419 \nL 272.441885 139.977992 \nL 273.598583 140.065943 \nL 274.23781 140.080796 \nL 274.542205 140.064929 \nL 275.27275 140.034872 \nL 275.942417 140.00037 \nL 276.764281 140.031149 \nL 277.129554 140.062824 \nL 277.920979 140.039706 \nL 282.060738 140.069101 \nL 282.273814 140.074481 \nL 285.013361 140.123602 \nL 285.378634 140.135278 \nL 286.07874 140.188805 \nL 287.844226 140.155005 \nL 288.14862 140.182353 \nL 289.366196 140.199487 \nL 289.731469 140.159663 \nL 290.218499 140.172373 \nL 291.436076 140.187577 \nL 291.770909 140.193951 \nL 294.419138 140.192957 \nL 294.906168 140.183912 \nL 295.514956 140.210032 \nL 295.697593 140.201319 \nL 296.275942 140.151613 \nL 296.641214 140.167967 \nL 296.915169 140.099314 \nL 299.380761 140.090445 \nL 301.968111 140.005282 \nL 302.424702 140.023351 \nL 303.063929 140.050232 \nL 311.221691 140.017075 \nL 311.830479 139.995419 \nL 312.834979 140.033488 \nL 313.83948 140.077794 \nL 314.204753 140.099646 \nL 314.783101 140.132608 \nL 316.944299 140.220032 \nL 317.91836 140.158241 \nL 319.166376 140.161671 \nL 320.018679 140.077015 \nL 322.240756 140.04606 \nL 325.010742 140.106117 \nL 325.497773 140.11717 \nL 326.471834 140.11255 \nL 329.698411 140.006198 \nL 330.520275 140.019784 \nL 330.76379 140.022201 \nL 331.342139 140.073175 \nL 332.590155 140.072239 \nL 334.112125 140.006432 \nL 336.090687 140.082258 \nL 336.638596 140.125006 \nL 337.430021 140.139859 \nL 337.917051 140.117403 \nL 338.312763 140.103915 \nL 338.891112 140.10407 \nL 339.408582 140.131945 \nL 344.187569 140.164108 \nL 344.765918 140.161223 \nL 345.070312 140.112959 \nL 345.922615 140.156954 \nL 346.6836 140.148494 \nL 352.954118 140.163309 \nL 353.288952 140.144284 \nL 357.48959 140.189994 \nL 357.885302 140.205159 \nL 359.102879 140.186173 \nL 360.016061 140.199311 \nL 360.320455 140.181125 \nL 361.264077 140.233677 \nL 362.177259 140.234242 \nL 363.425275 140.213619 \nL 364.551533 140.188084 \nL 371.583036 140.193308 \nL 372.070066 140.221065 \nL 372.709294 140.213522 \nL 376.088068 140.211787 \nL 376.088068 140.211787 \n\" style=\"fill:none;stroke:#d62728;stroke-linecap:square;stroke-width:1.5;\"/>\n   </g>\n   <g id=\"line2d_18\">\n    <path clip-path=\"url(#pbe5d773d16)\" d=\"M 71.724432 162.213199 \nL 71.81575 119.699027 \nL 71.846189 128.201869 \nL 71.876629 120.789133 \nL 71.907068 128.575621 \nL 71.937508 127.874841 \nL 71.967947 127.329788 \nL 71.998386 136.050636 \nL 72.059265 134.96053 \nL 72.089705 130.013124 \nL 72.150584 136.050636 \nL 72.33322 142.279819 \nL 72.363659 141.402065 \nL 72.394099 141.738157 \nL 72.424538 144.22645 \nL 72.454978 140.7599 \nL 72.485417 142.088148 \nL 72.515856 141.864548 \nL 72.668053 135.233056 \nL 72.759372 138.666898 \nL 72.789811 137.504124 \nL 72.881129 135.044387 \nL 72.911569 137.358767 \nL 72.972448 136.362089 \nL 73.094205 134.628765 \nL 73.276842 137.811581 \nL 73.307281 138.025181 \nL 73.398599 136.284236 \nL 73.429039 137.198128 \nL 73.489917 137.159221 \nL 73.520357 136.922717 \nL 73.550796 137.337325 \nL 73.824751 142.778148 \nL 73.88563 142.046219 \nL 73.946509 140.116448 \nL 73.976948 140.93432 \nL 74.098706 141.846147 \nL 74.129145 141.446665 \nL 74.159584 141.703051 \nL 74.250903 142.124092 \nL 74.281342 141.898738 \nL 74.342221 142.967187 \nL 74.37266 143.483177 \nL 74.4031 142.958728 \nL 74.829251 138.84469 \nL 74.859691 139.195188 \nL 74.92057 138.765628 \nL 75.103206 137.452195 \nL 75.164085 136.968622 \nL 75.194524 137.870644 \nL 75.285843 137.491804 \nL 75.529358 139.684336 \nL 75.559797 139.65572 \nL 75.620676 139.701236 \nL 75.651115 139.270643 \nL 75.772873 139.66264 \nL 75.833752 139.128581 \nL 75.894631 139.36836 \nL 75.955509 138.199699 \nL 76.077267 137.322433 \nL 76.107707 137.403873 \nL 76.168585 136.495575 \nL 76.259904 136.661106 \nL 76.290343 136.657052 \nL 76.351222 136.30714 \nL 76.412101 136.388229 \nL 76.44254 136.637618 \nL 76.472979 136.133967 \nL 76.503419 135.802261 \nL 76.564298 136.132388 \nL 76.655616 135.890134 \nL 76.686055 135.173234 \nL 76.777373 135.345665 \nL 76.868692 135.050313 \nL 77.051328 136.496588 \nL 77.081768 136.272365 \nL 77.112207 135.903662 \nL 77.173086 136.050636 \nL 77.44704 137.573322 \nL 77.599237 136.52265 \nL 77.720995 137.173782 \nL 77.842753 136.633466 \nL 77.96451 137.892183 \nL 78.025389 137.560009 \nL 78.116707 137.476561 \nL 78.147147 137.408122 \nL 78.177586 137.033279 \nL 78.208026 137.212066 \nL 78.238465 137.693397 \nL 78.299344 137.196004 \nL 78.360223 137.364732 \nL 78.421101 137.234463 \nL 78.48198 136.695901 \nL 78.51242 137.101815 \nL 78.542859 137.271557 \nL 78.573299 136.97675 \nL 78.603738 136.857417 \nL 78.755935 137.79856 \nL 78.877693 137.436367 \nL 78.908132 137.485723 \nL 78.938571 137.42473 \nL 78.99945 137.304266 \nL 79.151647 137.705814 \nL 79.242965 137.316566 \nL 79.395163 136.671086 \nL 79.425602 136.771649 \nL 79.54736 137.166102 \nL 79.669117 136.749642 \nL 79.729996 137.091192 \nL 79.760435 136.840458 \nL 79.821314 136.883537 \nL 79.851754 136.733989 \nL 79.943072 137.112595 \nL 80.095269 136.524599 \nL 80.156148 136.474133 \nL 80.247466 136.702372 \nL 80.277905 136.560895 \nL 80.308345 136.88266 \nL 80.399663 137.194113 \nL 80.460542 136.731962 \nL 80.521421 136.907688 \nL 80.612739 137.122146 \nL 80.643178 137.34097 \nL 80.704057 137.02289 \nL 80.734496 137.151755 \nL 80.764936 137.016379 \nL 80.795375 136.750636 \nL 80.886693 136.873634 \nL 81.008451 136.349887 \nL 81.038891 136.604578 \nL 81.160648 137.186316 \nL 81.191088 137.098813 \nL 81.343285 136.504561 \nL 81.404163 136.255679 \nL 81.434603 136.41854 \nL 81.769436 137.236256 \nL 81.799876 137.114485 \nL 81.860755 137.02977 \nL 81.952073 137.292785 \nL 81.982512 137.250408 \nL 82.10427 137.083375 \nL 82.134709 137.118501 \nL 82.165149 137.343563 \nL 82.195588 137.036476 \nL 82.226027 137.03363 \nL 82.286906 137.253507 \nL 82.317346 137.02517 \nL 82.378224 136.833285 \nL 82.439103 136.865896 \nL 82.530422 137.042753 \nL 82.560861 136.893419 \nL 82.62174 137.0709 \nL 82.652179 137.104408 \nL 82.713058 137.712909 \nL 82.804376 137.627551 \nL 82.987013 136.755821 \nL 83.017452 136.929754 \nL 83.078331 136.645239 \nL 83.10877 136.64366 \nL 83.200088 136.915797 \nL 83.230528 136.809971 \nL 83.291407 136.805995 \nL 83.474043 137.537924 \nL 83.534922 137.429389 \nL 83.595801 137.355414 \nL 83.62624 137.385472 \nL 83.687119 137.644295 \nL 83.747998 137.405023 \nL 83.808877 137.266742 \nL 83.839316 137.427615 \nL 84.113271 138.038475 \nL 84.235028 137.765169 \nL 84.326347 138.099507 \nL 84.387225 137.995572 \nL 84.478544 138.199699 \nL 84.508983 138.101378 \nL 84.630741 137.774292 \nL 84.66118 137.831658 \nL 84.752498 138.032647 \nL 84.874256 138.286246 \nL 84.904695 138.220809 \nL 85.148211 137.589618 \nL 85.209089 137.671059 \nL 85.239529 137.843802 \nL 85.300408 137.68946 \nL 85.330847 137.685795 \nL 85.513483 138.038768 \nL 85.635241 137.650104 \nL 85.66568 137.675113 \nL 85.69612 137.728464 \nL 85.726559 137.554551 \nL 85.787438 137.745832 \nL 86.091832 137.378123 \nL 86.122272 137.568508 \nL 86.18315 137.47968 \nL 86.365787 137.000531 \nL 86.457105 137.264364 \nL 86.517984 137.178792 \nL 86.548423 137.096065 \nL 86.609302 137.251986 \nL 86.761499 137.504124 \nL 86.791939 137.369313 \nL 86.822378 137.524591 \nL 86.852817 137.521628 \nL 87.187651 137.849631 \nL 87.370287 138.717696 \nL 87.492045 138.445091 \nL 87.583363 138.606744 \nL 87.613803 138.576842 \nL 87.73556 138.532847 \nL 87.766 138.62725 \nL 87.826878 138.54349 \nL 88.009515 138.149505 \nL 88.25303 138.695747 \nL 88.313909 138.542321 \nL 88.374788 138.366127 \nL 88.435667 138.381487 \nL 88.466106 138.353515 \nL 88.526985 138.439809 \nL 88.618303 138.426924 \nL 88.740061 138.596822 \nL 88.7705 138.638907 \nL 88.800939 138.564484 \nL 88.922697 138.223148 \nL 88.953137 138.265467 \nL 89.074894 138.341586 \nL 89.105334 138.246091 \nL 89.166212 138.375191 \nL 89.196652 138.280145 \nL 89.28797 138.359109 \nL 89.409728 138.051048 \nL 89.440167 138.114925 \nL 89.561925 138.056291 \nL 89.653243 137.757859 \nL 89.714122 137.840469 \nL 89.866319 138.066506 \nL 89.896758 138.085024 \nL 89.927198 138.016098 \nL 89.988076 138.009568 \nL 90.231592 138.391955 \nL 90.32291 138.166737 \nL 90.353349 138.205956 \nL 90.475107 138.573606 \nL 90.505546 138.484856 \nL 90.535986 138.523198 \nL 90.596865 138.473102 \nL 90.688183 138.251822 \nL 90.718622 138.31108 \nL 90.870819 138.023212 \nL 90.901259 138.061554 \nL 90.962137 138.282523 \nL 91.023016 138.193091 \nL 91.144774 138.220614 \nL 91.236092 138.027091 \nL 91.296971 138.102197 \nL 91.35785 138.055356 \nL 91.418729 138.271217 \nL 91.570926 138.174085 \nL 91.84488 138.619473 \nL 91.87532 138.57614 \nL 91.905759 138.611734 \nL 92.088395 138.803561 \nL 92.271032 138.45016 \nL 92.301471 138.581871 \nL 92.423229 138.778299 \nL 92.758062 138.035512 \nL 93.032017 137.562173 \nL 93.092896 137.409 \nL 93.123335 137.499991 \nL 93.153775 137.627824 \nL 93.245093 137.602659 \nL 93.366851 137.722539 \nL 93.39729 137.64681 \nL 93.488608 137.457419 \nL 93.519048 137.528431 \nL 93.610366 137.46777 \nL 93.640805 137.39323 \nL 93.701684 137.461903 \nL 93.884321 137.683553 \nL 94.066957 137.866004 \nL 94.219154 137.712324 \nL 94.40179 137.874308 \nL 94.43223 137.801815 \nL 94.493109 137.832068 \nL 94.827942 138.408718 \nL 94.91926 138.330865 \nL 95.041018 138.284862 \nL 95.193215 138.422889 \nL 95.375852 138.589551 \nL 95.406291 138.569493 \nL 95.619367 138.314062 \nL 95.741124 138.484759 \nL 95.98464 138.804594 \nL 96.045518 138.74865 \nL 96.258594 138.838726 \nL 96.289034 138.7867 \nL 96.319473 138.848004 \nL 96.380352 138.986265 \nL 96.441231 138.93077 \nL 96.654307 138.603079 \nL 96.776064 138.701829 \nL 96.806504 138.635184 \nL 96.867382 138.739664 \nL 97.050019 138.924435 \nL 97.354413 138.843794 \nL 97.811004 138.91693 \nL 97.932762 138.812586 \nL 98.115398 138.733212 \nL 98.237156 138.660894 \nL 98.389353 138.795179 \nL 98.419792 138.702648 \nL 98.480671 138.741224 \nL 98.693747 138.970691 \nL 98.815505 139.016323 \nL 98.845944 138.968995 \nL 99.02858 138.920361 \nL 99.05902 138.815315 \nL 99.119899 138.925331 \nL 99.272096 139.082715 \nL 99.424293 139.166592 \nL 99.728687 139.061741 \nL 99.941763 139.278674 \nL 99.972202 139.261112 \nL 100.002641 139.342064 \nL 100.124399 139.510033 \nL 100.154838 139.478357 \nL 100.246157 139.369764 \nL 100.276596 139.421965 \nL 100.398354 139.546386 \nL 100.428793 139.501105 \nL 100.550551 139.431341 \nL 100.733187 139.396371 \nL 100.976702 139.069402 \nL 101.037581 139.225966 \nL 101.676809 139.052034 \nL 101.798567 138.986987 \nL 101.829006 139.050084 \nL 101.920324 139.014666 \nL 102.011642 138.953206 \nL 102.042082 138.976539 \nL 102.194279 139.07944 \nL 102.224718 138.998175 \nL 102.285597 139.070396 \nL 102.437794 139.094313 \nL 102.468233 139.026596 \nL 102.529112 139.072384 \nL 102.589991 139.092188 \nL 102.711749 139.01607 \nL 102.772628 139.035894 \nL 102.803067 138.968975 \nL 102.924825 139.008585 \nL 103.1379 139.153161 \nL 103.16834 139.086906 \nL 103.198779 138.982874 \nL 103.259658 139.027668 \nL 103.381416 139.204719 \nL 103.594492 139.196143 \nL 103.868446 139.503502 \nL 104.081522 139.554554 \nL 104.20328 139.541435 \nL 104.355477 139.549544 \nL 104.507674 139.387697 \nL 104.598992 139.499448 \nL 104.629431 139.399548 \nL 104.781628 139.372103 \nL 104.933825 139.512625 \nL 104.994704 139.446506 \nL 105.20778 139.29423 \nL 105.390417 139.406624 \nL 105.512174 139.50052 \nL 105.542614 139.415064 \nL 105.999205 139.509584 \nL 106.151402 139.413408 \nL 106.24272 139.508239 \nL 106.394917 139.516036 \nL 106.516675 139.435298 \nL 106.668872 139.500267 \nL 106.76019 139.411809 \nL 106.790629 139.442919 \nL 106.912387 139.578179 \nL 106.942826 139.439567 \nL 107.003705 139.55777 \nL 107.034145 139.588549 \nL 107.064584 139.472938 \nL 107.216781 139.368594 \nL 107.368978 139.365612 \nL 107.551615 139.459761 \nL 107.825569 139.533112 \nL 107.856009 139.431068 \nL 107.916887 139.491339 \nL 108.099524 139.561591 \nL 108.3126 139.562897 \nL 108.495236 139.751059 \nL 108.616994 139.631004 \nL 109.499737 140.052961 \nL 109.621494 140.103115 \nL 109.743252 140.163387 \nL 109.773691 140.139196 \nL 109.956328 140.036431 \nL 109.986767 140.116448 \nL 110.078085 140.07565 \nL 110.382479 140.280693 \nL 110.534676 140.325643 \nL 110.686874 140.155765 \nL 110.839071 140.078769 \nL 110.991268 140.1037 \nL 111.021707 140.19169 \nL 111.082586 140.154966 \nL 111.234783 140.058614 \nL 111.265222 140.085708 \nL 111.35654 140.07643 \nL 111.417419 140.010116 \nL 111.478298 140.064091 \nL 111.600056 140.141652 \nL 111.630495 140.118593 \nL 111.813132 140.169546 \nL 111.965329 140.025457 \nL 111.995768 140.081732 \nL 112.482799 139.92622 \nL 112.634996 139.882634 \nL 112.787193 140.023468 \nL 112.969829 139.986608 \nL 113.122026 139.991364 \nL 113.213344 139.963509 \nL 113.243784 140.008557 \nL 113.730814 139.877449 \nL 113.761254 139.836826 \nL 113.822132 139.906961 \nL 113.97433 139.893082 \nL 114.97883 140.015496 \nL 115.131027 139.964932 \nL 115.161466 140.044637 \nL 115.313663 140.0307 \nL 115.4963 140.077755 \nL 116.470361 140.070173 \nL 116.622558 140.083155 \nL 116.774755 140.08719 \nL 116.896513 140.137988 \nL 117.01827 139.977661 \nL 117.04871 140.010135 \nL 117.56618 140.034911 \nL 117.748816 140.001832 \nL 118.114089 140.082239 \nL 118.266286 139.992124 \nL 118.479362 140.033741 \nL 118.540241 139.977583 \nL 118.57068 140.017504 \nL 118.692438 140.125824 \nL 118.722877 140.106254 \nL 118.814195 140.132198 \nL 118.844635 140.062005 \nL 119.027271 140.06335 \nL 119.331665 140.14637 \nL 119.514302 140.322252 \nL 119.544741 140.294572 \nL 119.727378 140.253559 \nL 119.879575 140.075007 \nL 119.910014 140.113758 \nL 120.12309 140.120561 \nL 120.336166 140.22551 \nL 120.549242 140.174712 \nL 120.61012 140.19399 \nL 120.64056 140.142607 \nL 120.701439 140.088769 \nL 120.731878 140.159352 \nL 120.884075 140.243774 \nL 121.066712 140.155687 \nL 121.919015 140.204945 \nL 122.040773 140.107891 \nL 122.223409 140.28235 \nL 122.436485 140.280284 \nL 122.68 140.228843 \nL 122.893076 140.281453 \nL 123.106152 140.318119 \nL 123.288788 140.403341 \nL 123.562743 140.487841 \nL 123.71494 140.620294 \nL 123.867137 140.652749 \nL 123.958455 140.736139 \nL 123.988895 140.64965 \nL 124.110652 140.593375 \nL 124.262849 140.474197 \nL 124.445486 140.466419 \nL 124.689001 140.303363 \nL 124.871637 140.393595 \nL 125.328229 140.37147 \nL 125.480426 140.388858 \nL 125.541304 140.443106 \nL 125.602183 140.386441 \nL 125.723941 140.361939 \nL 126.150093 140.540238 \nL 126.393608 140.563941 \nL 127.032835 140.612536 \nL 127.337229 140.716393 \nL 127.458987 140.699064 \nL 129.37667 140.917284 \nL 129.437549 140.850093 \nL 129.498427 140.913931 \nL 130.137655 141.037885 \nL 130.320291 141.083478 \nL 130.685564 141.200804 \nL 130.837761 141.079833 \nL 131.263913 141.137433 \nL 131.537868 141.313764 \nL 131.629186 141.378811 \nL 131.994459 141.544654 \nL 132.481489 141.585783 \nL 132.603247 141.568182 \nL 134.399172 141.51175 \nL 134.734006 141.53329 \nL 134.947081 141.514811 \nL 135.068839 141.554576 \nL 135.160157 141.439998 \nL 135.221036 141.484987 \nL 135.403672 141.325654 \nL 135.829824 141.284388 \nL 135.890703 141.248424 \nL 135.951582 141.293063 \nL 136.225536 141.332516 \nL 136.712567 141.299066 \nL 136.925643 141.306357 \nL 137.199598 141.284369 \nL 137.443113 141.361891 \nL 137.56487 141.430642 \nL 137.625749 141.51023 \nL 137.686628 141.450894 \nL 138.295416 141.275987 \nL 138.538931 141.310548 \nL 138.691128 141.239165 \nL 138.812886 141.277215 \nL 138.995523 141.203864 \nL 139.178159 141.260724 \nL 139.360795 141.240783 \nL 139.512992 141.258502 \nL 139.63475 141.237431 \nL 139.756508 141.257411 \nL 139.939144 141.225969 \nL 140.121781 141.305265 \nL 140.426175 141.264623 \nL 140.730569 141.345439 \nL 141.004523 141.244078 \nL 141.156721 141.261368 \nL 141.552433 141.174859 \nL 141.582872 141.206808 \nL 141.643751 141.145386 \nL 142.678691 140.975762 \nL 142.830888 140.954027 \nL 143.074403 140.881515 \nL 144.018025 140.928589 \nL 144.200661 140.943755 \nL 144.444177 140.872646 \nL 144.870328 140.893542 \nL 145.052965 140.886914 \nL 145.326919 140.895959 \nL 145.631313 140.741382 \nL 146.270541 140.610392 \nL 146.453177 140.599261 \nL 146.788011 140.637311 \nL 147.36636 140.696958 \nL 147.88383 140.686315 \nL 148.797012 140.853484 \nL 148.918769 140.892314 \nL 149.040527 140.961902 \nL 149.070966 140.92395 \nL 149.253603 140.845746 \nL 149.618876 140.920344 \nL 149.771073 140.915958 \nL 150.136346 140.928843 \nL 150.379861 140.858065 \nL 150.92777 140.925334 \nL 151.110407 140.838923 \nL 151.536558 140.85327 \nL 151.719195 140.897031 \nL 151.932271 140.918902 \nL 152.327983 140.825883 \nL 152.48018 140.802102 \nL 152.601938 140.849079 \nL 153.149847 140.973227 \nL 153.332484 140.957341 \nL 153.484681 140.948218 \nL 153.910832 140.903444 \nL 154.854454 140.805298 \nL 155.128409 140.722864 \nL 155.798076 140.666725 \nL 155.980712 140.737035 \nL 156.954773 140.893659 \nL 157.10697 140.866369 \nL 157.289607 140.916582 \nL 157.411364 140.905023 \nL 158.537622 140.90167 \nL 159.024653 140.801673 \nL 159.237729 140.899272 \nL 159.542123 140.868864 \nL 160.69882 140.886778 \nL 160.881457 140.876875 \nL 161.094532 140.843095 \nL 161.24673 140.759374 \nL 161.277169 140.806663 \nL 161.459805 140.894575 \nL 161.642442 140.867032 \nL 161.764199 140.860521 \nL 161.977275 140.805065 \nL 163.712322 140.819275 \nL 163.894958 140.844381 \nL 164.077594 140.873698 \nL 164.473307 140.810191 \nL 164.777701 140.726197 \nL 164.929898 140.70575 \nL 165.812641 140.767853 \nL 166.086595 140.783701 \nL 167.060656 140.76875 \nL 167.304172 140.769237 \nL 167.456369 140.807462 \nL 167.973839 140.682651 \nL 168.460869 140.622302 \nL 168.673945 140.628676 \nL 168.826142 140.621502 \nL 168.9479 140.648539 \nL 169.252294 140.732143 \nL 169.9524 140.710954 \nL 170.226355 140.702026 \nL 171.50481 140.391119 \nL 171.900522 140.517022 \nL 172.052719 140.545968 \nL 172.326674 140.494157 \nL 172.570189 140.428174 \nL 172.813704 140.421566 \nL 173.02678 140.459538 \nL 173.696447 140.575012 \nL 175.553251 140.643666 \nL 175.766327 140.599827 \nL 177.744888 140.413575 \nL 177.897085 140.414822 \nL 178.323237 140.37496 \nL 178.505874 140.404861 \nL 178.718949 140.362699 \nL 179.145101 140.404881 \nL 179.936526 140.362016 \nL 180.271359 140.337729 \nL 180.453996 140.407415 \nL 180.72795 140.378195 \nL 181.032344 140.398936 \nL 181.641133 140.204633 \nL 183.254421 140.230227 \nL 183.680573 140.25699 \nL 183.954528 140.292837 \nL 185.232983 140.343265 \nL 185.506937 140.350418 \nL 185.689574 140.364492 \nL 186.146165 140.291609 \nL 187.181105 140.243267 \nL 187.455059 140.212703 \nL 188.033408 140.229662 \nL 188.216045 140.199195 \nL 188.42912 140.218921 \nL 189.524939 140.156486 \nL 189.738015 140.182821 \nL 189.920651 140.156213 \nL 190.255485 140.208434 \nL 192.842835 140.313558 \nL 192.995032 140.314766 \nL 193.329865 140.430709 \nL 193.969093 140.512012 \nL 194.151729 140.508621 \nL 198.017534 140.473066 \nL 198.291489 140.529536 \nL 198.535004 140.564896 \nL 198.808958 140.602146 \nL 199.23511 140.608793 \nL 200.422247 140.597682 \nL 200.635323 140.559301 \nL 201.000596 140.580431 \nL 201.365869 140.607585 \nL 201.761581 140.661072 \nL 202.005096 140.655517 \nL 202.370369 140.609125 \nL 202.735642 140.575149 \nL 203.009597 140.635459 \nL 205.049037 140.672827 \nL 205.38387 140.622536 \nL 205.93178 140.59201 \nL 206.144856 140.602575 \nL 206.297053 140.561933 \nL 206.540568 140.595129 \nL 206.723204 140.574233 \nL 207.179796 140.62659 \nL 207.697265 140.620898 \nL 208.032099 140.592147 \nL 208.306054 140.550978 \nL 208.762645 140.599885 \nL 209.188796 140.684249 \nL 209.919342 140.685692 \nL 210.162857 140.674659 \nL 211.319555 140.636356 \nL 212.932844 140.775689 \nL 213.998223 140.748711 \nL 214.63745 140.680351 \nL 214.820087 140.677212 \nL 215.063602 140.652691 \nL 216.281178 140.608442 \nL 216.463815 140.613686 \nL 216.798648 140.594914 \nL 217.529194 140.610392 \nL 218.077103 140.677641 \nL 219.203362 140.65041 \nL 219.385998 140.647428 \nL 220.81665 140.768867 \nL 220.999287 140.744423 \nL 221.516757 140.754793 \nL 221.790711 140.75682 \nL 222.612575 140.702163 \nL 222.977848 140.680409 \nL 223.556197 140.670643 \nL 224.804213 140.65119 \nL 224.92597 140.644933 \nL 225.108607 140.605733 \nL 225.321682 140.609787 \nL 225.96091 140.59088 \nL 227.939472 140.642983 \nL 229.126608 140.598228 \nL 229.55276 140.623783 \nL 229.826715 140.651112 \nL 230.039791 140.66002 \nL 230.283306 140.635362 \nL 230.496382 140.656804 \nL 231.531322 140.524838 \nL 231.896594 140.494742 \nL 232.322746 140.512695 \nL 232.748898 140.535501 \nL 233.69252 140.556085 \nL 234.149111 140.599807 \nL 234.362187 140.601191 \nL 234.788338 140.633237 \nL 236.036354 140.598443 \nL 236.340748 140.577936 \nL 237.193051 140.583492 \nL 237.467006 140.571192 \nL 237.893158 140.590763 \nL 238.258431 140.633393 \nL 238.958537 140.559457 \nL 240.967538 140.397727 \nL 241.485008 140.407941 \nL 241.728523 140.429792 \nL 242.245993 140.41184 \nL 242.91566 140.350594 \nL 243.189615 140.327476 \nL 245.229055 140.32769 \nL 245.624767 140.274475 \nL 246.659707 140.301823 \nL 246.933662 140.290634 \nL 247.298935 140.309036 \nL 248.090359 140.276385 \nL 248.942663 140.291999 \nL 249.09486 140.268159 \nL 249.368814 140.270616 \nL 252.382316 140.308217 \nL 253.447695 140.333655 \nL 253.630331 140.340302 \nL 253.812968 140.34038 \nL 254.634832 140.281921 \nL 254.969665 140.252468 \nL 255.213181 140.240382 \nL 259.200743 140.333908 \nL 259.535577 140.296599 \nL 259.779092 140.320731 \nL 260.235683 140.333635 \nL 260.509638 140.310536 \nL 261.453259 140.310342 \nL 261.818532 140.291687 \nL 262.792593 140.313831 \nL 266.810595 140.123992 \nL 267.05411 140.096507 \nL 268.545641 140.055729 \nL 269.245748 140.095962 \nL 269.671899 140.113407 \nL 271.437385 140.087463 \nL 271.650461 140.107053 \nL 272.076612 140.054715 \nL 272.259249 140.057015 \nL 275.059674 140.111497 \nL 275.607584 140.129879 \nL 278.925479 140.170248 \nL 279.747343 140.146311 \nL 280.051737 140.170911 \nL 280.569207 140.204555 \nL 281.817223 140.231045 \nL 282.182496 140.244593 \nL 286.230937 140.312076 \nL 286.839725 140.224145 \nL 288.757408 140.194614 \nL 290.127181 140.104811 \nL 290.70553 140.126838 \nL 291.040363 140.095201 \nL 292.288379 140.119255 \nL 292.684091 140.104753 \nL 292.958046 140.133933 \nL 293.505955 140.100503 \nL 294.480016 140.156077 \nL 294.906168 140.116136 \nL 295.697593 140.155102 \nL 296.001987 140.158396 \nL 297.128245 140.180267 \nL 297.584836 140.193074 \nL 299.472079 140.158747 \nL 300.141746 140.134518 \nL 300.598337 140.093311 \nL 301.846353 140.111185 \nL 302.242065 140.069666 \nL 302.759535 140.077911 \nL 303.185687 140.085962 \nL 303.581399 140.099685 \nL 303.977112 140.09793 \nL 304.616339 140.083408 \nL 305.407764 140.091907 \nL 305.864355 140.08912 \nL 306.290507 140.073292 \nL 306.990613 140.095182 \nL 309.364887 140.076547 \nL 309.821478 140.028692 \nL 310.095433 140.027464 \nL 310.460705 139.996374 \nL 310.73466 140.026821 \nL 311.008615 140.015613 \nL 312.408828 139.967739 \nL 312.895858 139.926824 \nL 313.32201 139.928227 \nL 314.113434 139.899144 \nL 316.579026 139.831115 \nL 316.88342 139.81018 \nL 321.02318 139.856358 \nL 323.123499 139.826164 \nL 324.675909 139.829751 \nL 325.315136 139.846904 \nL 326.076122 139.819907 \nL 326.65447 139.848834 \nL 327.811168 139.879866 \nL 328.450395 139.861036 \nL 328.846108 139.864467 \nL 330.672472 139.837567 \nL 330.915987 139.798679 \nL 332.407518 139.745172 \nL 333.442458 139.736634 \nL 333.807731 139.74063 \nL 334.568716 139.684492 \nL 335.39058 139.686753 \nL 337.338702 139.667591 \nL 337.886612 139.687065 \nL 344.491963 139.705583 \nL 344.978994 139.688858 \nL 345.283388 139.692094 \nL 346.500964 139.722327 \nL 346.866237 139.718896 \nL 347.292389 139.724783 \nL 349.118753 139.676188 \nL 349.605784 139.64691 \nL 350.427648 139.642037 \nL 351.797421 139.603149 \nL 352.680164 139.644415 \nL 353.167194 139.636774 \nL 357.915742 139.684414 \nL 358.554969 139.711002 \nL 368.447777 139.697669 \nL 369.33052 139.735016 \nL 369.726232 139.712756 \nL 370.700293 139.719461 \nL 373.470279 139.698994 \nL 375.327083 139.701587 \nL 376.088068 139.725173 \nL 376.088068 139.725173 \n\" style=\"fill:none;stroke:#9467bd;stroke-linecap:square;stroke-width:1.5;\"/>\n   </g>\n   <g id=\"line2d_19\">\n    <path clip-path=\"url(#pbe5d773d16)\" d=\"M 71.724432 240.700909 \nL 71.907068 167.819476 \nL 71.937508 173.659332 \nL 71.967947 170.934067 \nL 71.998386 171.370098 \nL 72.028826 177.672904 \nL 72.089705 170.263228 \nL 72.181023 171.206593 \nL 72.302781 158.942881 \nL 72.33322 159.721534 \nL 72.363659 159.240183 \nL 72.454978 160.120197 \nL 72.515856 153.976841 \nL 72.546296 154.271004 \nL 72.576735 155.898113 \nL 72.668053 155.672563 \nL 72.728932 154.133581 \nL 72.82025 158.324185 \nL 72.85069 157.738022 \nL 73.094205 150.838176 \nL 73.246402 148.105933 \nL 73.398599 150.299887 \nL 73.429039 150.049913 \nL 73.459478 150.485164 \nL 73.489917 150.462222 \nL 73.520357 150.440059 \nL 73.550796 151.919744 \nL 73.611675 151.623593 \nL 73.824751 148.197548 \nL 73.85519 148.210706 \nL 73.88563 148.405184 \nL 74.129145 144.389955 \nL 74.220463 145.664597 \nL 74.250903 144.771503 \nL 74.281342 144.822789 \nL 74.311781 144.720784 \nL 74.433539 142.881985 \nL 74.463979 143.525651 \nL 74.494418 143.728784 \nL 74.585736 143.624011 \nL 74.616176 143.681378 \nL 74.646615 143.602725 \nL 74.737933 145.207534 \nL 74.829251 145.06783 \nL 74.951009 144.241733 \nL 74.981448 144.650376 \nL 75.011888 143.731396 \nL 75.042327 144.375101 \nL 75.316282 142.316465 \nL 75.468479 140.481389 \nL 75.620676 141.425125 \nL 75.742434 140.574993 \nL 75.772873 140.638851 \nL 75.803312 140.798651 \nL 75.833752 140.475191 \nL 75.864191 139.869983 \nL 75.955509 140.161905 \nL 75.985949 140.41106 \nL 76.016388 140.196115 \nL 76.046828 139.892692 \nL 76.138146 139.992943 \nL 76.168585 140.322076 \nL 76.199025 140.116448 \nL 76.229464 139.3868 \nL 76.290343 139.602506 \nL 76.503419 141.680557 \nL 76.594737 140.844401 \nL 76.655616 141.186847 \nL 76.746934 140.62121 \nL 76.777373 140.907167 \nL 76.807813 141.267586 \nL 76.838252 141.159304 \nL 76.899131 140.181573 \nL 76.96001 140.738731 \nL 77.020889 140.909409 \nL 77.203525 139.953334 \nL 77.355722 139.356119 \nL 77.386162 139.408398 \nL 77.44704 138.819155 \nL 77.507919 138.995641 \nL 77.538359 139.048427 \nL 77.568798 139.371791 \nL 77.629677 138.935234 \nL 77.842753 138.3172 \nL 77.873192 138.75711 \nL 77.934071 138.156406 \nL 77.96451 138.40018 \nL 77.99495 138.07286 \nL 78.025389 138.377589 \nL 78.086268 137.794817 \nL 78.147147 137.963468 \nL 78.208026 138.434604 \nL 78.268904 138.291412 \nL 78.390662 137.774993 \nL 78.421101 137.885575 \nL 78.451541 137.641605 \nL 78.51242 137.335415 \nL 78.573299 137.555565 \nL 78.877693 138.766661 \nL 78.908132 138.700016 \nL 78.938571 138.414059 \nL 79.02989 138.547486 \nL 79.090768 138.365425 \nL 79.151647 138.453317 \nL 79.212526 139.228286 \nL 79.303844 139.033165 \nL 79.334284 139.125521 \nL 79.364723 138.957592 \nL 79.456041 138.615594 \nL 79.486481 138.758864 \nL 79.51692 138.748338 \nL 79.669117 139.345924 \nL 79.821314 139.088231 \nL 79.882193 139.017025 \nL 79.912632 139.102929 \nL 79.943072 139.043398 \nL 79.973511 139.080493 \nL 80.064829 139.380426 \nL 80.095269 139.273567 \nL 80.125708 139.2147 \nL 80.277905 139.715251 \nL 80.338784 139.735504 \nL 80.369224 139.538979 \nL 80.490981 140.214925 \nL 80.55186 140.09639 \nL 80.582299 140.082551 \nL 80.734496 139.486135 \nL 80.764936 139.518492 \nL 80.825815 139.582584 \nL 80.917133 139.677123 \nL 81.008451 139.043086 \nL 81.06933 138.981178 \nL 81.130209 138.751282 \nL 81.160648 138.994979 \nL 81.312845 139.362356 \nL 81.525921 138.399596 \nL 81.5868 138.385152 \nL 81.738997 139.0633 \nL 81.769436 138.935643 \nL 81.830315 139.075444 \nL 81.860755 139.183882 \nL 81.891194 138.744986 \nL 81.952073 139.155988 \nL 82.043391 139.013165 \nL 82.07383 139.119556 \nL 82.10427 139.225343 \nL 82.195588 138.894397 \nL 82.226027 138.961783 \nL 82.378224 139.218462 \nL 82.499982 139.035387 \nL 82.530422 139.137236 \nL 82.560861 138.94537 \nL 82.5913 138.900751 \nL 82.652179 138.557876 \nL 82.713058 138.616295 \nL 82.804376 138.953615 \nL 82.834816 138.909932 \nL 82.865255 138.688282 \nL 82.926134 138.780345 \nL 83.13921 139.460131 \nL 83.169649 139.485784 \nL 83.321846 139.098368 \nL 83.474043 139.870237 \nL 83.565361 139.74024 \nL 83.65668 139.778641 \nL 83.687119 139.503561 \nL 83.778437 139.675174 \nL 83.808877 139.797529 \nL 83.869755 139.615293 \nL 84.021952 139.409782 \nL 84.052392 139.433738 \nL 84.265468 140.136565 \nL 84.113271 139.41715 \nL 84.326347 140.085338 \nL 84.387225 139.752306 \nL 84.448104 140.015613 \nL 84.508983 140.245353 \nL 84.600301 140.647603 \nL 84.66118 140.503182 \nL 84.782938 140.248823 \nL 84.813377 140.330127 \nL 84.843816 140.501915 \nL 84.935135 140.381002 \nL 85.026453 140.112413 \nL 85.056892 140.192548 \nL 85.209089 140.528912 \nL 85.269968 140.508835 \nL 85.330847 140.664133 \nL 85.391726 140.556417 \nL 85.483044 140.180053 \nL 85.543923 140.305644 \nL 85.574362 140.439753 \nL 85.635241 140.306346 \nL 85.756999 140.269485 \nL 85.878756 140.064851 \nL 86.000514 140.197674 \nL 86.061393 140.152393 \nL 86.274469 139.546269 \nL 86.304908 139.647982 \nL 86.365787 139.605917 \nL 86.457105 139.368165 \nL 86.487544 139.49592 \nL 86.548423 139.669443 \nL 86.609302 139.627963 \nL 86.822378 139.209105 \nL 86.852817 139.229027 \nL 86.883257 139.222653 \nL 87.065893 139.780746 \nL 87.21809 139.436389 \nL 87.339848 139.053729 \nL 87.370287 139.098699 \nL 87.644242 138.87161 \nL 87.674681 138.916053 \nL 87.796439 139.215869 \nL 87.948636 139.529174 \nL 88.161712 139.774333 \nL 88.28347 139.434966 \nL 88.313909 139.524613 \nL 88.344348 139.566093 \nL 88.374788 139.464186 \nL 88.496545 139.344657 \nL 88.526985 139.433329 \nL 88.587864 139.279708 \nL 88.618303 139.368009 \nL 88.648742 139.315087 \nL 88.709621 139.373604 \nL 88.740061 139.39103 \nL 88.922697 139.032054 \nL 89.135773 139.360914 \nL 89.166212 139.30957 \nL 89.348849 139.072871 \nL 89.409728 139.242301 \nL 89.440167 139.14706 \nL 89.501046 139.203569 \nL 89.714122 138.790637 \nL 89.744561 138.874261 \nL 89.80544 138.754829 \nL 89.896758 138.478775 \nL 89.957637 138.645086 \nL 90.383789 138.053309 \nL 90.475107 138.255584 \nL 90.505546 138.146191 \nL 90.535986 138.03713 \nL 90.596865 138.115003 \nL 91.023016 138.872896 \nL 91.053456 138.827323 \nL 91.083895 138.740814 \nL 91.144774 138.834769 \nL 91.236092 139.066263 \nL 91.296971 138.935019 \nL 91.35785 138.966597 \nL 91.479607 138.807771 \nL 91.540486 138.879563 \nL 91.570926 139.035504 \nL 91.601365 138.850909 \nL 91.662244 138.962017 \nL 91.87532 139.010202 \nL 92.027517 139.183882 \nL 92.271032 138.663019 \nL 92.301471 138.678496 \nL 92.514547 139.034081 \nL 92.544987 138.972445 \nL 92.605865 139.02106 \nL 92.727623 139.19318 \nL 92.758062 139.16973 \nL 92.971138 139.269493 \nL 93.062457 139.013497 \nL 93.123335 138.7821 \nL 93.184214 138.885528 \nL 93.214654 138.955526 \nL 93.275532 138.89198 \nL 93.39729 138.729275 \nL 93.427729 138.780482 \nL 93.488608 138.9373 \nL 93.519048 138.805549 \nL 93.671245 138.641538 \nL 93.701684 138.728417 \nL 93.945199 139.057004 \nL 94.066957 138.809272 \nL 94.097396 138.823307 \nL 94.310472 139.096477 \nL 94.675745 138.684227 \nL 94.706185 138.749956 \nL 95.010579 138.817167 \nL 95.071457 138.946228 \nL 95.132336 138.88775 \nL 95.680246 139.66958 \nL 95.741124 139.6273 \nL 95.802003 139.436584 \nL 95.862882 139.592798 \nL 96.106397 139.524847 \nL 96.167276 139.678897 \nL 96.228155 139.637436 \nL 96.380352 139.599192 \nL 96.441231 139.574378 \nL 96.593428 139.744743 \nL 96.623867 139.788153 \nL 96.654307 139.655974 \nL 96.776064 139.654336 \nL 96.897822 139.731722 \nL 97.141337 139.493074 \nL 97.202216 139.594143 \nL 97.263095 139.554554 \nL 97.354413 139.681743 \nL 97.50661 139.891718 \nL 97.537049 139.933432 \nL 97.597928 139.83207 \nL 97.811004 139.465804 \nL 97.841444 139.492275 \nL 97.963201 139.47633 \nL 98.084959 139.400172 \nL 98.328474 139.414402 \nL 98.693747 139.132928 \nL 98.724186 139.158912 \nL 98.754626 139.096555 \nL 98.937262 138.988449 \nL 99.119899 139.186669 \nL 99.820005 139.335125 \nL 100.002641 139.117003 \nL 100.215717 139.471047 \nL 100.276596 139.435883 \nL 100.337475 139.386995 \nL 100.367914 139.45288 \nL 100.61143 139.561922 \nL 100.702748 139.482236 \nL 100.733187 139.506076 \nL 101.068021 139.90047 \nL 101.433294 139.920119 \nL 101.494172 140.032474 \nL 101.555051 139.997699 \nL 101.61593 140.029589 \nL 101.676809 140.167597 \nL 101.737688 140.119489 \nL 102.072521 139.982885 \nL 102.194279 140.032474 \nL 102.376915 140.047698 \nL 102.833506 140.423847 \nL 102.985703 140.313499 \nL 103.077022 140.288412 \nL 103.107461 140.347689 \nL 103.198779 140.448993 \nL 103.229219 140.394238 \nL 103.381416 140.310536 \nL 103.594492 140.456829 \nL 103.65537 140.298938 \nL 103.716249 140.390339 \nL 103.807567 140.42759 \nL 103.990204 140.661755 \nL 104.020643 140.60815 \nL 104.233719 140.35804 \nL 104.507674 140.576903 \nL 104.598992 140.382835 \nL 104.629431 140.475542 \nL 105.573053 140.070231 \nL 105.907887 140.286931 \nL 105.938326 140.201768 \nL 106.090523 140.137091 \nL 106.455796 140.586708 \nL 106.516675 140.487296 \nL 106.729751 140.312564 \nL 106.851508 140.41106 \nL 106.881948 140.350711 \nL 107.034145 140.106858 \nL 107.24722 140.138533 \nL 107.338539 140.228609 \nL 107.368978 140.146915 \nL 108.160403 140.167207 \nL 108.251721 140.26584 \nL 108.28216 140.153504 \nL 108.434357 140.16902 \nL 108.586554 140.152022 \nL 109.225782 140.177655 \nL 109.34754 140.174887 \nL 109.530176 139.965556 \nL 109.560615 139.983431 \nL 109.83457 140.101342 \nL 110.047646 140.099607 \nL 110.35204 140.263423 \nL 110.382479 140.198356 \nL 110.443358 140.191846 \nL 110.473798 140.260479 \nL 111.021707 140.465074 \nL 111.447859 140.377669 \nL 111.630495 140.507451 \nL 112.269723 140.721831 \nL 112.361041 140.828826 \nL 112.39148 140.766547 \nL 112.665435 140.764169 \nL 112.787193 140.818047 \nL 112.969829 140.864478 \nL 113.091587 140.831087 \nL 113.243784 140.93816 \nL 113.365541 140.923872 \nL 113.487299 140.75723 \nL 113.517738 140.772843 \nL 113.94389 140.828885 \nL 114.126527 140.855239 \nL 114.217845 140.910481 \nL 114.309163 140.928083 \nL 114.46136 140.799002 \nL 114.583118 140.776235 \nL 114.765754 140.673002 \nL 114.948391 140.791576 \nL 114.97883 140.74224 \nL 115.039709 140.781576 \nL 115.161466 140.850775 \nL 115.313663 140.724482 \nL 115.435421 140.766099 \nL 115.648497 140.915354 \nL 115.770255 140.874809 \nL 116.135527 140.942683 \nL 116.257285 140.848903 \nL 116.287725 140.890267 \nL 116.53124 140.997184 \nL 116.683437 141.086675 \nL 117.109589 141.179693 \nL 117.261786 141.171292 \nL 117.413983 141.171682 \nL 117.56618 141.05919 \nL 117.718377 141.068585 \nL 117.870574 141.069307 \nL 118.205407 141.016053 \nL 118.418483 141.001921 \nL 118.631559 141.174567 \nL 118.661998 141.128857 \nL 119.118589 140.937225 \nL 119.209908 140.961356 \nL 119.240347 140.933092 \nL 119.60562 140.787833 \nL 119.696938 140.753935 \nL 119.727378 140.817267 \nL 119.879575 140.967477 \nL 120.062211 140.751343 \nL 120.64056 140.646979 \nL 121.097151 140.628676 \nL 121.249348 140.654796 \nL 121.492863 140.856174 \nL 121.523303 140.829255 \nL 121.797257 140.84288 \nL 121.949454 140.891748 \nL 122.132091 141.016326 \nL 124.171531 140.709512 \nL 124.384607 140.637779 \nL 124.689001 140.709102 \nL 125.023834 140.739589 \nL 125.571744 140.544097 \nL 125.967456 140.702085 \nL 126.241411 140.561933 \nL 126.454487 140.617097 \nL 126.576244 140.461858 \nL 126.606684 140.495658 \nL 127.398108 140.532577 \nL 127.550305 140.541758 \nL 127.672063 140.546222 \nL 127.82426 140.498562 \nL 127.854699 140.545774 \nL 127.915578 140.463008 \nL 128.524366 140.513825 \nL 128.767882 140.543629 \nL 129.467988 140.427141 \nL 129.498427 140.466166 \nL 129.528867 140.367455 \nL 129.559306 140.372075 \nL 129.711503 140.333284 \nL 129.8637 140.342621 \nL 130.015897 140.283617 \nL 130.168094 140.299835 \nL 130.320291 140.288802 \nL 130.442049 140.327476 \nL 130.624685 140.260167 \nL 130.776883 140.269543 \nL 130.989958 140.274514 \nL 131.111716 140.312778 \nL 131.263913 140.32194 \nL 131.781383 140.212255 \nL 131.872701 140.179487 \nL 131.903141 140.203853 \nL 132.725005 140.245782 \nL 133.212035 140.309659 \nL 133.699066 140.27621 \nL 134.277414 140.491662 \nL 134.734006 140.47213 \nL 134.886203 140.537099 \nL 135.068839 140.486457 \nL 135.434112 140.486029 \nL 135.55587 140.440162 \nL 135.890703 140.442073 \nL 136.347294 140.657427 \nL 136.590809 140.505151 \nL 137.899704 140.525345 \nL 138.143219 140.634777 \nL 138.386734 140.612068 \nL 138.569371 140.551972 \nL 138.691128 140.555695 \nL 138.843326 140.569204 \nL 139.604311 140.407161 \nL 139.939144 140.31576 \nL 140.060902 140.296521 \nL 140.213099 140.298724 \nL 140.365296 140.271902 \nL 140.852326 140.155804 \nL 141.004523 140.238726 \nL 141.217599 140.220149 \nL 141.735069 140.394004 \nL 142.039463 140.380885 \nL 142.2221 140.347085 \nL 142.374297 140.382893 \nL 143.074403 140.368293 \nL 143.530994 140.357494 \nL 143.74407 140.350282 \nL 143.926707 140.256717 \nL 144.048464 140.33769 \nL 144.078904 140.302876 \nL 144.474616 140.241455 \nL 144.687692 140.294689 \nL 144.839889 140.242312 \nL 144.931207 140.226211 \nL 145.052965 140.181281 \nL 145.266041 140.272155 \nL 145.387798 140.265177 \nL 145.570435 140.22781 \nL 145.966147 140.302057 \nL 146.757571 140.363323 \nL 147.275041 140.412814 \nL 147.457678 140.391801 \nL 147.88383 140.404101 \nL 148.279542 140.355603 \nL 148.553497 140.293636 \nL 148.736133 140.221553 \nL 148.918769 140.242624 \nL 149.040527 140.220578 \nL 149.192724 140.243228 \nL 149.771073 140.309075 \nL 149.953709 140.344921 \nL 150.318982 140.345233 \nL 152.875892 139.876436 \nL 153.058529 139.897215 \nL 153.819514 139.890665 \nL 154.03259 139.87589 \nL 154.276105 139.907994 \nL 155.463242 139.763027 \nL 155.55456 139.787471 \nL 155.585 139.757628 \nL 155.798076 139.757706 \nL 156.041591 139.67147 \nL 156.254667 139.643518 \nL 156.437303 139.607574 \nL 156.741697 139.585488 \nL 156.985212 139.524048 \nL 157.198288 139.524691 \nL 157.411364 139.488201 \nL 157.989713 139.622037 \nL 158.689819 139.693984 \nL 158.902895 139.717044 \nL 159.085532 139.723048 \nL 159.237729 139.739422 \nL 159.603001 139.656149 \nL 159.876956 139.694608 \nL 160.059593 139.687084 \nL 160.424865 139.66763 \nL 160.668381 139.689053 \nL 160.790138 139.684082 \nL 160.911896 139.688039 \nL 161.338048 139.621901 \nL 161.459805 139.63923 \nL 162.799139 139.695739 \nL 162.951336 139.659112 \nL 163.103533 139.666168 \nL 164.503746 139.7103 \nL 164.655943 139.700027 \nL 164.747261 139.649385 \nL 164.777701 139.678156 \nL 164.990777 139.63999 \nL 166.969338 139.674121 \nL 167.304172 139.732229 \nL 167.547687 139.710397 \nL 170.378552 139.694199 \nL 170.682946 139.795619 \nL 171.048219 139.805892 \nL 171.230855 139.88702 \nL 172.083159 139.838581 \nL 172.357113 139.895519 \nL 172.844144 139.806145 \nL 173.726887 139.754139 \nL 174.06172 139.854838 \nL 174.183478 139.889164 \nL 174.396554 139.908345 \nL 174.974902 139.986978 \nL 175.218418 139.973879 \nL 175.461933 139.968499 \nL 175.61413 139.98193 \nL 175.979403 140.029238 \nL 178.718949 140.377591 \nL 179.023344 140.328216 \nL 179.510374 140.305195 \nL 179.814768 140.296892 \nL 183.406618 140.245918 \nL 183.589255 140.28888 \nL 183.893649 140.312876 \nL 184.198043 140.322583 \nL 184.411119 140.325097 \nL 185.324301 140.280245 \nL 185.537377 140.349268 \nL 185.841771 140.261064 \nL 186.085286 140.307807 \nL 186.328801 140.291804 \nL 186.663635 140.279465 \nL 189.372742 140.276853 \nL 189.616257 140.295137 \nL 190.103288 140.2205 \nL 190.377243 140.294767 \nL 190.620758 140.249232 \nL 192.964592 140.322407 \nL 193.177668 140.288705 \nL 193.299426 140.277906 \nL 193.542941 140.223716 \nL 193.756017 140.239252 \nL 194.09085 140.156233 \nL 195.491063 140.061538 \nL 195.886775 140.068009 \nL 198.413246 139.903062 \nL 198.565443 139.873336 \nL 198.808958 139.828425 \nL 198.961155 139.877098 \nL 199.143792 139.937214 \nL 201.639823 140.221085 \nL 202.187733 140.30732 \nL 202.33993 140.299309 \nL 202.796521 140.299699 \nL 203.131354 140.291901 \nL 203.466188 140.284143 \nL 203.709703 140.276346 \nL 204.074976 140.297769 \nL 204.348931 140.231962 \nL 204.592446 140.254261 \nL 206.753644 140.310829 \nL 206.93628 140.293305 \nL 207.697265 140.310556 \nL 208.153857 140.275859 \nL 208.306054 140.247848 \nL 208.640887 140.188142 \nL 208.823524 140.150697 \nL 209.00616 140.119138 \nL 209.52363 140.207869 \nL 209.797585 140.190988 \nL 209.980221 140.13943 \nL 214.63745 140.10372 \nL 215.063602 140.136116 \nL 217.74227 140.197499 \nL 217.985785 140.196037 \nL 218.472816 140.209409 \nL 221.060165 140.014736 \nL 221.303681 140.061518 \nL 222.003787 140.03224 \nL 223.738833 139.93967 \nL 224.104106 139.969532 \nL 224.986849 139.887234 \nL 225.199925 139.894876 \nL 227.178486 139.904856 \nL 227.604638 139.927526 \nL 228.396063 139.935888 \nL 228.883093 139.916259 \nL 231.10517 139.777452 \nL 231.379125 139.823416 \nL 231.683519 139.801311 \nL 231.987913 139.761897 \nL 232.261867 139.740669 \nL 234.392626 139.937097 \nL 234.970975 139.847723 \nL 235.579763 139.913803 \nL 237.071294 140.006568 \nL 237.893158 140.032533 \nL 238.106234 140.056138 \nL 238.532385 140.076937 \nL 238.867219 140.085552 \nL 239.202052 140.039452 \nL 239.749962 140.04302 \nL 239.963037 140.056898 \nL 245.624767 140.027211 \nL 246.294434 140.062142 \nL 246.659707 140.08563 \nL 247.907723 140.063838 \nL 248.333875 140.130795 \nL 248.790466 140.100036 \nL 249.125299 140.056489 \nL 250.09936 139.98998 \nL 250.403754 139.981033 \nL 250.64727 139.93119 \nL 250.921224 139.934153 \nL 252.290998 140.001695 \nL 252.534513 139.994171 \nL 253.69121 140.032572 \nL 254.117362 140.045086 \nL 254.634832 140.0338 \nL 262.153366 139.981091 \nL 262.518639 139.990253 \nL 266.232246 140.019433 \nL 266.658398 140.014853 \nL 267.480262 140.044988 \nL 267.906414 140.066742 \nL 269.12399 140.094422 \nL 271.285188 140.012728 \nL 271.498264 140.030427 \nL 271.924415 140.012007 \nL 272.502764 140.046216 \nL 273.23331 139.992222 \nL 273.781219 139.987446 \nL 274.298689 139.955771 \nL 275.364069 139.96271 \nL 275.942417 139.978928 \nL 276.33813 139.990779 \nL 288.63565 139.857372 \nL 288.879165 139.869594 \nL 289.305317 139.849321 \nL 289.701029 139.875305 \nL 291.283879 139.836846 \nL 291.892667 139.830004 \nL 292.562334 139.874428 \nL 292.988485 139.879652 \nL 293.688592 139.930352 \nL 294.084304 139.95926 \nL 295.271441 139.901113 \nL 295.758472 139.922945 \nL 296.85429 139.950079 \nL 297.676154 139.925343 \nL 298.041427 139.926122 \nL 298.528458 139.970468 \nL 298.802412 140.006062 \nL 299.106806 140.014775 \nL 299.44164 140.029921 \nL 305.833915 140.174673 \nL 306.046991 140.145434 \nL 306.351385 140.141828 \nL 307.386325 140.115415 \nL 307.812477 140.148553 \nL 308.086432 140.170755 \nL 308.512583 140.225549 \nL 308.847417 140.206231 \nL 309.243129 140.224437 \nL 310.004114 140.192742 \nL 313.443767 140.214516 \nL 314.052556 140.213911 \nL 315.787602 140.285449 \nL 316.274632 140.317729 \nL 316.700784 140.295683 \nL 317.218254 140.314299 \nL 318.831543 140.349307 \nL 320.536149 140.334259 \nL 321.297135 140.369053 \nL 322.179877 140.34112 \nL 322.971302 140.310186 \nL 323.793166 140.316833 \nL 330.733351 140.307047 \nL 332.803231 140.267204 \nL 334.507837 140.259563 \nL 335.147065 140.267477 \nL 336.45596 140.207537 \nL 337.034308 140.195471 \nL 337.886612 140.194165 \nL 338.130127 140.196349 \nL 339.804294 140.143738 \nL 340.808795 140.190598 \nL 342.696038 140.144147 \nL 343.365705 140.11793 \nL 344.613721 140.109548 \nL 345.587782 140.156174 \nL 346.561843 140.169137 \nL 350.701602 140.193659 \nL 351.401709 140.196115 \nL 351.797421 140.207303 \nL 353.014997 140.185062 \nL 354.41521 140.129391 \nL 354.628286 140.162899 \nL 355.41971 140.185121 \nL 356.302453 140.197479 \nL 357.185196 140.194419 \nL 358.281015 140.167461 \nL 359.224636 140.17748 \nL 361.324956 140.230051 \nL 361.751107 140.247244 \nL 362.238138 140.259407 \nL 362.725168 140.230461 \nL 363.607911 140.191904 \nL 364.277578 140.196037 \nL 364.886366 140.213229 \nL 365.342957 140.174224 \nL 366.74317 140.141145 \nL 367.565034 140.128456 \nL 369.939308 139.990506 \nL 370.426338 140.005418 \nL 370.85249 139.999785 \nL 372.526657 140.013547 \nL 376.088068 139.917468 \nL 376.088068 139.917468 \n\" style=\"fill:none;stroke:#8c564b;stroke-linecap:square;stroke-width:1.5;\"/>\n   </g>\n   <g id=\"line2d_20\">\n    <path clip-path=\"url(#pbe5d773d16)\" d=\"M 56.50625 139.975024 \nL 391.30625 139.975024 \n\" style=\"fill:none;stroke:#000000;stroke-dasharray:5.55,2.4;stroke-dashoffset:0;stroke-width:1.5;\"/>\n   </g>\n   <g id=\"patch_3\">\n    <path d=\"M 56.50625 251.82 \nL 56.50625 7.2 \n\" style=\"fill:none;stroke:#000000;stroke-linecap:square;stroke-linejoin:miter;stroke-width:0.8;\"/>\n   </g>\n   <g id=\"patch_4\">\n    <path d=\"M 391.30625 251.82 \nL 391.30625 7.2 \n\" style=\"fill:none;stroke:#000000;stroke-linecap:square;stroke-linejoin:miter;stroke-width:0.8;\"/>\n   </g>\n   <g id=\"patch_5\">\n    <path d=\"M 56.50625 251.82 \nL 391.30625 251.82 \n\" style=\"fill:none;stroke:#000000;stroke-linecap:square;stroke-linejoin:miter;stroke-width:0.8;\"/>\n   </g>\n   <g id=\"patch_6\">\n    <path d=\"M 56.50625 7.2 \nL 391.30625 7.2 \n\" style=\"fill:none;stroke:#000000;stroke-linecap:square;stroke-linejoin:miter;stroke-width:0.8;\"/>\n   </g>\n   <g id=\"legend_1\">\n    <g id=\"patch_7\">\n     <path d=\"M 308.451563 103.26875 \nL 384.30625 103.26875 \nQ 386.30625 103.26875 386.30625 101.26875 \nL 386.30625 14.2 \nQ 386.30625 12.2 384.30625 12.2 \nL 308.451563 12.2 \nQ 306.451563 12.2 306.451563 14.2 \nL 306.451563 101.26875 \nQ 306.451563 103.26875 308.451563 103.26875 \nz\n\" style=\"fill:#ffffff;opacity:0.8;stroke:#cccccc;stroke-linejoin:miter;\"/>\n    </g>\n    <g id=\"line2d_21\">\n     <path d=\"M 310.451563 20.298437 \nL 330.451563 20.298437 \n\" style=\"fill:none;stroke:#1f77b4;stroke-linecap:square;stroke-width:1.5;\"/>\n    </g>\n    <g id=\"line2d_22\"/>\n    <g id=\"text_16\">\n     <!-- P(die=1) -->\n     <g transform=\"translate(338.451563 23.798437)scale(0.1 -0.1)\">\n      <defs>\n       <path d=\"M 19.671875 64.796875 \nL 19.671875 37.40625 \nL 32.078125 37.40625 \nQ 38.96875 37.40625 42.71875 40.96875 \nQ 46.484375 44.53125 46.484375 51.125 \nQ 46.484375 57.671875 42.71875 61.234375 \nQ 38.96875 64.796875 32.078125 64.796875 \nz\nM 9.8125 72.90625 \nL 32.078125 72.90625 \nQ 44.34375 72.90625 50.609375 67.359375 \nQ 56.890625 61.8125 56.890625 51.125 \nQ 56.890625 40.328125 50.609375 34.8125 \nQ 44.34375 29.296875 32.078125 29.296875 \nL 19.671875 29.296875 \nL 19.671875 0 \nL 9.8125 0 \nz\n\" id=\"DejaVuSans-80\"/>\n       <path d=\"M 31 75.875 \nQ 24.46875 64.65625 21.28125 53.65625 \nQ 18.109375 42.671875 18.109375 31.390625 \nQ 18.109375 20.125 21.3125 9.0625 \nQ 24.515625 -2 31 -13.1875 \nL 23.1875 -13.1875 \nQ 15.875 -1.703125 12.234375 9.375 \nQ 8.59375 20.453125 8.59375 31.390625 \nQ 8.59375 42.28125 12.203125 53.3125 \nQ 15.828125 64.359375 23.1875 75.875 \nz\n\" id=\"DejaVuSans-40\"/>\n       <path d=\"M 10.59375 45.40625 \nL 73.1875 45.40625 \nL 73.1875 37.203125 \nL 10.59375 37.203125 \nz\nM 10.59375 25.484375 \nL 73.1875 25.484375 \nL 73.1875 17.1875 \nL 10.59375 17.1875 \nz\n\" id=\"DejaVuSans-61\"/>\n       <path d=\"M 8.015625 75.875 \nL 15.828125 75.875 \nQ 23.140625 64.359375 26.78125 53.3125 \nQ 30.421875 42.28125 30.421875 31.390625 \nQ 30.421875 20.453125 26.78125 9.375 \nQ 23.140625 -1.703125 15.828125 -13.1875 \nL 8.015625 -13.1875 \nQ 14.5 -2 17.703125 9.0625 \nQ 20.90625 20.125 20.90625 31.390625 \nQ 20.90625 42.671875 17.703125 53.65625 \nQ 14.5 64.65625 8.015625 75.875 \nz\n\" id=\"DejaVuSans-41\"/>\n      </defs>\n      <use xlink:href=\"#DejaVuSans-80\"/>\n      <use x=\"60.302734\" xlink:href=\"#DejaVuSans-40\"/>\n      <use x=\"99.316406\" xlink:href=\"#DejaVuSans-100\"/>\n      <use x=\"162.792969\" xlink:href=\"#DejaVuSans-105\"/>\n      <use x=\"190.576172\" xlink:href=\"#DejaVuSans-101\"/>\n      <use x=\"252.099609\" xlink:href=\"#DejaVuSans-61\"/>\n      <use x=\"335.888672\" xlink:href=\"#DejaVuSans-49\"/>\n      <use x=\"399.511719\" xlink:href=\"#DejaVuSans-41\"/>\n     </g>\n    </g>\n    <g id=\"line2d_23\">\n     <path d=\"M 310.451563 34.976562 \nL 330.451563 34.976562 \n\" style=\"fill:none;stroke:#ff7f0e;stroke-linecap:square;stroke-width:1.5;\"/>\n    </g>\n    <g id=\"line2d_24\"/>\n    <g id=\"text_17\">\n     <!-- P(die=2) -->\n     <g transform=\"translate(338.451563 38.476562)scale(0.1 -0.1)\">\n      <use xlink:href=\"#DejaVuSans-80\"/>\n      <use x=\"60.302734\" xlink:href=\"#DejaVuSans-40\"/>\n      <use x=\"99.316406\" xlink:href=\"#DejaVuSans-100\"/>\n      <use x=\"162.792969\" xlink:href=\"#DejaVuSans-105\"/>\n      <use x=\"190.576172\" xlink:href=\"#DejaVuSans-101\"/>\n      <use x=\"252.099609\" xlink:href=\"#DejaVuSans-61\"/>\n      <use x=\"335.888672\" xlink:href=\"#DejaVuSans-50\"/>\n      <use x=\"399.511719\" xlink:href=\"#DejaVuSans-41\"/>\n     </g>\n    </g>\n    <g id=\"line2d_25\">\n     <path d=\"M 310.451563 49.654687 \nL 330.451563 49.654687 \n\" style=\"fill:none;stroke:#2ca02c;stroke-linecap:square;stroke-width:1.5;\"/>\n    </g>\n    <g id=\"line2d_26\"/>\n    <g id=\"text_18\">\n     <!-- P(die=3) -->\n     <g transform=\"translate(338.451563 53.154687)scale(0.1 -0.1)\">\n      <defs>\n       <path d=\"M 40.578125 39.3125 \nQ 47.65625 37.796875 51.625 33 \nQ 55.609375 28.21875 55.609375 21.1875 \nQ 55.609375 10.40625 48.1875 4.484375 \nQ 40.765625 -1.421875 27.09375 -1.421875 \nQ 22.515625 -1.421875 17.65625 -0.515625 \nQ 12.796875 0.390625 7.625 2.203125 \nL 7.625 11.71875 \nQ 11.71875 9.328125 16.59375 8.109375 \nQ 21.484375 6.890625 26.8125 6.890625 \nQ 36.078125 6.890625 40.9375 10.546875 \nQ 45.796875 14.203125 45.796875 21.1875 \nQ 45.796875 27.640625 41.28125 31.265625 \nQ 36.765625 34.90625 28.71875 34.90625 \nL 20.21875 34.90625 \nL 20.21875 43.015625 \nL 29.109375 43.015625 \nQ 36.375 43.015625 40.234375 45.921875 \nQ 44.09375 48.828125 44.09375 54.296875 \nQ 44.09375 59.90625 40.109375 62.90625 \nQ 36.140625 65.921875 28.71875 65.921875 \nQ 24.65625 65.921875 20.015625 65.03125 \nQ 15.375 64.15625 9.8125 62.3125 \nL 9.8125 71.09375 \nQ 15.4375 72.65625 20.34375 73.4375 \nQ 25.25 74.21875 29.59375 74.21875 \nQ 40.828125 74.21875 47.359375 69.109375 \nQ 53.90625 64.015625 53.90625 55.328125 \nQ 53.90625 49.265625 50.4375 45.09375 \nQ 46.96875 40.921875 40.578125 39.3125 \nz\n\" id=\"DejaVuSans-51\"/>\n      </defs>\n      <use xlink:href=\"#DejaVuSans-80\"/>\n      <use x=\"60.302734\" xlink:href=\"#DejaVuSans-40\"/>\n      <use x=\"99.316406\" xlink:href=\"#DejaVuSans-100\"/>\n      <use x=\"162.792969\" xlink:href=\"#DejaVuSans-105\"/>\n      <use x=\"190.576172\" xlink:href=\"#DejaVuSans-101\"/>\n      <use x=\"252.099609\" xlink:href=\"#DejaVuSans-61\"/>\n      <use x=\"335.888672\" xlink:href=\"#DejaVuSans-51\"/>\n      <use x=\"399.511719\" xlink:href=\"#DejaVuSans-41\"/>\n     </g>\n    </g>\n    <g id=\"line2d_27\">\n     <path d=\"M 310.451563 64.332812 \nL 330.451563 64.332812 \n\" style=\"fill:none;stroke:#d62728;stroke-linecap:square;stroke-width:1.5;\"/>\n    </g>\n    <g id=\"line2d_28\"/>\n    <g id=\"text_19\">\n     <!-- P(die=4) -->\n     <g transform=\"translate(338.451563 67.832812)scale(0.1 -0.1)\">\n      <use xlink:href=\"#DejaVuSans-80\"/>\n      <use x=\"60.302734\" xlink:href=\"#DejaVuSans-40\"/>\n      <use x=\"99.316406\" xlink:href=\"#DejaVuSans-100\"/>\n      <use x=\"162.792969\" xlink:href=\"#DejaVuSans-105\"/>\n      <use x=\"190.576172\" xlink:href=\"#DejaVuSans-101\"/>\n      <use x=\"252.099609\" xlink:href=\"#DejaVuSans-61\"/>\n      <use x=\"335.888672\" xlink:href=\"#DejaVuSans-52\"/>\n      <use x=\"399.511719\" xlink:href=\"#DejaVuSans-41\"/>\n     </g>\n    </g>\n    <g id=\"line2d_29\">\n     <path d=\"M 310.451563 79.010937 \nL 330.451563 79.010937 \n\" style=\"fill:none;stroke:#9467bd;stroke-linecap:square;stroke-width:1.5;\"/>\n    </g>\n    <g id=\"line2d_30\"/>\n    <g id=\"text_20\">\n     <!-- P(die=5) -->\n     <g transform=\"translate(338.451563 82.510937)scale(0.1 -0.1)\">\n      <use xlink:href=\"#DejaVuSans-80\"/>\n      <use x=\"60.302734\" xlink:href=\"#DejaVuSans-40\"/>\n      <use x=\"99.316406\" xlink:href=\"#DejaVuSans-100\"/>\n      <use x=\"162.792969\" xlink:href=\"#DejaVuSans-105\"/>\n      <use x=\"190.576172\" xlink:href=\"#DejaVuSans-101\"/>\n      <use x=\"252.099609\" xlink:href=\"#DejaVuSans-61\"/>\n      <use x=\"335.888672\" xlink:href=\"#DejaVuSans-53\"/>\n      <use x=\"399.511719\" xlink:href=\"#DejaVuSans-41\"/>\n     </g>\n    </g>\n    <g id=\"line2d_31\">\n     <path d=\"M 310.451563 93.689062 \nL 330.451563 93.689062 \n\" style=\"fill:none;stroke:#8c564b;stroke-linecap:square;stroke-width:1.5;\"/>\n    </g>\n    <g id=\"line2d_32\"/>\n    <g id=\"text_21\">\n     <!-- P(die=6) -->\n     <g transform=\"translate(338.451563 97.189062)scale(0.1 -0.1)\">\n      <use xlink:href=\"#DejaVuSans-80\"/>\n      <use x=\"60.302734\" xlink:href=\"#DejaVuSans-40\"/>\n      <use x=\"99.316406\" xlink:href=\"#DejaVuSans-100\"/>\n      <use x=\"162.792969\" xlink:href=\"#DejaVuSans-105\"/>\n      <use x=\"190.576172\" xlink:href=\"#DejaVuSans-101\"/>\n      <use x=\"252.099609\" xlink:href=\"#DejaVuSans-61\"/>\n      <use x=\"335.888672\" xlink:href=\"#DejaVuSans-54\"/>\n      <use x=\"399.511719\" xlink:href=\"#DejaVuSans-41\"/>\n     </g>\n    </g>\n   </g>\n  </g>\n </g>\n <defs>\n  <clipPath id=\"pbe5d773d16\">\n   <rect height=\"244.62\" width=\"334.8\" x=\"56.50625\" y=\"7.2\"/>\n  </clipPath>\n </defs>\n</svg>\n",
      "text/plain": [
       "<Figure size 432x324 with 1 Axes>"
      ]
     },
     "metadata": {
      "needs_background": "light"
     },
     "output_type": "display_data"
    }
   ],
   "source": [
    "counts = multinomial.Multinomial(100, fair_probs).sample((10000,))\n",
    "cum_counts = counts.cumsum(dim=0)\n",
    "estimates = cum_counts / cum_counts.sum(dim=1, keepdims=True)\n",
    "\n",
    "d2l.set_figsize((6, 4.5))\n",
    "for i in range(6):\n",
    "    d2l.plt.plot(estimates[:, i].numpy(), label=(\"P(die=\" + str(i + 1) + \")\"))\n",
    "d2l.plt.axhline(y=0.167, color='black', linestyle='dashed')\n",
    "d2l.plt.gca().set_xlabel('Groups of experiments')\n",
    "d2l.plt.gca().set_ylabel('Estimated probability')\n",
    "d2l.plt.legend();"
   ]
  },
  {
   "cell_type": "code",
   "execution_count": null,
   "id": "8980f150",
   "metadata": {},
   "outputs": [],
   "source": []
  },
  {
   "cell_type": "code",
   "execution_count": null,
   "id": "90a56ca0",
   "metadata": {},
   "outputs": [],
   "source": []
  },
  {
   "cell_type": "code",
   "execution_count": null,
   "id": "964cd5fd",
   "metadata": {},
   "outputs": [],
   "source": []
  },
  {
   "cell_type": "code",
   "execution_count": null,
   "id": "4deadae1",
   "metadata": {},
   "outputs": [],
   "source": []
  },
  {
   "cell_type": "code",
   "execution_count": 93,
   "id": "606b5340",
   "metadata": {},
   "outputs": [],
   "source": [
    "%matplotlib inline\n",
    "import math\n",
    "import time\n",
    "import numpy as np\n",
    "import torch\n",
    "from d2l import torch as d2l\n"
   ]
  },
  {
   "cell_type": "code",
   "execution_count": 94,
   "id": "09a6327b",
   "metadata": {},
   "outputs": [],
   "source": [
    "n = 10000\n",
    "a, b = torch.ones(n), torch.ones(n)"
   ]
  },
  {
   "cell_type": "code",
   "execution_count": 95,
   "id": "d007e69b",
   "metadata": {},
   "outputs": [
    {
     "data": {
      "text/plain": [
       "(tensor([1., 1., 1.,  ..., 1., 1., 1.]),\n",
       " tensor([1., 1., 1.,  ..., 1., 1., 1.]))"
      ]
     },
     "execution_count": 95,
     "metadata": {},
     "output_type": "execute_result"
    }
   ],
   "source": [
    "a, b"
   ]
  },
  {
   "cell_type": "code",
   "execution_count": 96,
   "id": "c44d73ce",
   "metadata": {},
   "outputs": [],
   "source": [
    "class Timer:  #@save\n",
    "    \"\"\"记录多次运行时间。\"\"\"\n",
    "    def __init__(self):\n",
    "        self.times = []\n",
    "        self.start()\n",
    "\n",
    "    def start(self):\n",
    "        \"\"\"启动计时器。\"\"\"\n",
    "        self.tik = time.time()\n",
    "\n",
    "    def stop(self):\n",
    "        \"\"\"停止计时器并将时间记录在列表中。\"\"\"\n",
    "        self.times.append(time.time() - self.tik)\n",
    "        return self.times[-1]\n",
    "\n",
    "    def avg(self):\n",
    "        \"\"\"返回平均时间。\"\"\"\n",
    "        return sum(self.times) / len(self.times)\n",
    "\n",
    "    def sum(self):\n",
    "        \"\"\"返回时间总和。\"\"\"\n",
    "        return sum(self.times)\n",
    "\n",
    "    def cumsum(self):\n",
    "        \"\"\"返回累计时间。\"\"\"\n",
    "        return np.array(self.times).cumsum().tolist()"
   ]
  },
  {
   "cell_type": "code",
   "execution_count": 97,
   "id": "393e6a73",
   "metadata": {},
   "outputs": [
    {
     "data": {
      "text/plain": [
       "'0.13341 sec'"
      ]
     },
     "execution_count": 97,
     "metadata": {},
     "output_type": "execute_result"
    }
   ],
   "source": [
    "c = torch.zeros(n)\n",
    "timer =Timer()\n",
    "for i in range(n):\n",
    "  c[i] = a[i] + b[i]\n",
    "f'{timer.stop():.5f} sec'"
   ]
  },
  {
   "cell_type": "code",
   "execution_count": 98,
   "id": "b23a0b40",
   "metadata": {},
   "outputs": [
    {
     "data": {
      "text/plain": [
       "'0.00102 sec'"
      ]
     },
     "execution_count": 98,
     "metadata": {},
     "output_type": "execute_result"
    }
   ],
   "source": [
    "timer.start()\n",
    "d = a + b\n",
    "f'{timer.stop():.5f} sec'"
   ]
  },
  {
   "cell_type": "code",
   "execution_count": 99,
   "id": "9c7f1454",
   "metadata": {},
   "outputs": [],
   "source": [
    "def normal(x, mu, sigma):\n",
    "  p = 1 / math.sqrt(2 * math.pi * sigma ** 2)\n",
    "  return p * np.exp(-0.5 / sigma ** 2 * (x - mu) ** 2)"
   ]
  },
  {
   "cell_type": "code",
   "execution_count": 100,
   "id": "4e29d1d3",
   "metadata": {},
   "outputs": [
    {
     "data": {
      "image/svg+xml": "<?xml version=\"1.0\" encoding=\"utf-8\" standalone=\"no\"?>\n<!DOCTYPE svg PUBLIC \"-//W3C//DTD SVG 1.1//EN\"\n  \"http://www.w3.org/Graphics/SVG/1.1/DTD/svg11.dtd\">\n<!-- Created with matplotlib (https://matplotlib.org/) -->\n<svg height=\"180.65625pt\" version=\"1.1\" viewBox=\"0 0 302.08125 180.65625\" width=\"302.08125pt\" xmlns=\"http://www.w3.org/2000/svg\" xmlns:xlink=\"http://www.w3.org/1999/xlink\">\n <metadata>\n  <rdf:RDF xmlns:cc=\"http://creativecommons.org/ns#\" xmlns:dc=\"http://purl.org/dc/elements/1.1/\" xmlns:rdf=\"http://www.w3.org/1999/02/22-rdf-syntax-ns#\">\n   <cc:Work>\n    <dc:type rdf:resource=\"http://purl.org/dc/dcmitype/StillImage\"/>\n    <dc:date>2023-01-17T16:43:56.000858</dc:date>\n    <dc:format>image/svg+xml</dc:format>\n    <dc:creator>\n     <cc:Agent>\n      <dc:title>Matplotlib v3.3.4, https://matplotlib.org/</dc:title>\n     </cc:Agent>\n    </dc:creator>\n   </cc:Work>\n  </rdf:RDF>\n </metadata>\n <defs>\n  <style type=\"text/css\">*{stroke-linecap:butt;stroke-linejoin:round;}</style>\n </defs>\n <g id=\"figure_1\">\n  <g id=\"patch_1\">\n   <path d=\"M 0 180.65625 \nL 302.08125 180.65625 \nL 302.08125 0 \nL 0 0 \nz\n\" style=\"fill:none;\"/>\n  </g>\n  <g id=\"axes_1\">\n   <g id=\"patch_2\">\n    <path d=\"M 43.78125 143.1 \nL 294.88125 143.1 \nL 294.88125 7.2 \nL 43.78125 7.2 \nz\n\" style=\"fill:#ffffff;\"/>\n   </g>\n   <g id=\"matplotlib.axis_1\">\n    <g id=\"xtick_1\">\n     <g id=\"line2d_1\">\n      <path clip-path=\"url(#pa0231889ab)\" d=\"M 71.511736 143.1 \nL 71.511736 7.2 \n\" style=\"fill:none;stroke:#b0b0b0;stroke-linecap:square;stroke-width:0.8;\"/>\n     </g>\n     <g id=\"line2d_2\">\n      <defs>\n       <path d=\"M 0 0 \nL 0 3.5 \n\" id=\"m31a3f18e2e\" style=\"stroke:#000000;stroke-width:0.8;\"/>\n      </defs>\n      <g>\n       <use style=\"stroke:#000000;stroke-width:0.8;\" x=\"71.511736\" xlink:href=\"#m31a3f18e2e\" y=\"143.1\"/>\n      </g>\n     </g>\n     <g id=\"text_1\">\n      <!-- −6 -->\n      <g transform=\"translate(64.140642 157.698438)scale(0.1 -0.1)\">\n       <defs>\n        <path d=\"M 10.59375 35.5 \nL 73.1875 35.5 \nL 73.1875 27.203125 \nL 10.59375 27.203125 \nz\n\" id=\"DejaVuSans-8722\"/>\n        <path d=\"M 33.015625 40.375 \nQ 26.375 40.375 22.484375 35.828125 \nQ 18.609375 31.296875 18.609375 23.390625 \nQ 18.609375 15.53125 22.484375 10.953125 \nQ 26.375 6.390625 33.015625 6.390625 \nQ 39.65625 6.390625 43.53125 10.953125 \nQ 47.40625 15.53125 47.40625 23.390625 \nQ 47.40625 31.296875 43.53125 35.828125 \nQ 39.65625 40.375 33.015625 40.375 \nz\nM 52.59375 71.296875 \nL 52.59375 62.3125 \nQ 48.875 64.0625 45.09375 64.984375 \nQ 41.3125 65.921875 37.59375 65.921875 \nQ 27.828125 65.921875 22.671875 59.328125 \nQ 17.53125 52.734375 16.796875 39.40625 \nQ 19.671875 43.65625 24.015625 45.921875 \nQ 28.375 48.1875 33.59375 48.1875 \nQ 44.578125 48.1875 50.953125 41.515625 \nQ 57.328125 34.859375 57.328125 23.390625 \nQ 57.328125 12.15625 50.6875 5.359375 \nQ 44.046875 -1.421875 33.015625 -1.421875 \nQ 20.359375 -1.421875 13.671875 8.265625 \nQ 6.984375 17.96875 6.984375 36.375 \nQ 6.984375 53.65625 15.1875 63.9375 \nQ 23.390625 74.21875 37.203125 74.21875 \nQ 40.921875 74.21875 44.703125 73.484375 \nQ 48.484375 72.75 52.59375 71.296875 \nz\n\" id=\"DejaVuSans-54\"/>\n       </defs>\n       <use xlink:href=\"#DejaVuSans-8722\"/>\n       <use x=\"83.789062\" xlink:href=\"#DejaVuSans-54\"/>\n      </g>\n     </g>\n    </g>\n    <g id=\"xtick_2\">\n     <g id=\"line2d_3\">\n      <path clip-path=\"url(#pa0231889ab)\" d=\"M 104.145435 143.1 \nL 104.145435 7.2 \n\" style=\"fill:none;stroke:#b0b0b0;stroke-linecap:square;stroke-width:0.8;\"/>\n     </g>\n     <g id=\"line2d_4\">\n      <g>\n       <use style=\"stroke:#000000;stroke-width:0.8;\" x=\"104.145435\" xlink:href=\"#m31a3f18e2e\" y=\"143.1\"/>\n      </g>\n     </g>\n     <g id=\"text_2\">\n      <!-- −4 -->\n      <g transform=\"translate(96.774342 157.698438)scale(0.1 -0.1)\">\n       <defs>\n        <path d=\"M 37.796875 64.3125 \nL 12.890625 25.390625 \nL 37.796875 25.390625 \nz\nM 35.203125 72.90625 \nL 47.609375 72.90625 \nL 47.609375 25.390625 \nL 58.015625 25.390625 \nL 58.015625 17.1875 \nL 47.609375 17.1875 \nL 47.609375 0 \nL 37.796875 0 \nL 37.796875 17.1875 \nL 4.890625 17.1875 \nL 4.890625 26.703125 \nz\n\" id=\"DejaVuSans-52\"/>\n       </defs>\n       <use xlink:href=\"#DejaVuSans-8722\"/>\n       <use x=\"83.789062\" xlink:href=\"#DejaVuSans-52\"/>\n      </g>\n     </g>\n    </g>\n    <g id=\"xtick_3\">\n     <g id=\"line2d_5\">\n      <path clip-path=\"url(#pa0231889ab)\" d=\"M 136.779135 143.1 \nL 136.779135 7.2 \n\" style=\"fill:none;stroke:#b0b0b0;stroke-linecap:square;stroke-width:0.8;\"/>\n     </g>\n     <g id=\"line2d_6\">\n      <g>\n       <use style=\"stroke:#000000;stroke-width:0.8;\" x=\"136.779135\" xlink:href=\"#m31a3f18e2e\" y=\"143.1\"/>\n      </g>\n     </g>\n     <g id=\"text_3\">\n      <!-- −2 -->\n      <g transform=\"translate(129.408041 157.698438)scale(0.1 -0.1)\">\n       <defs>\n        <path d=\"M 19.1875 8.296875 \nL 53.609375 8.296875 \nL 53.609375 0 \nL 7.328125 0 \nL 7.328125 8.296875 \nQ 12.9375 14.109375 22.625 23.890625 \nQ 32.328125 33.6875 34.8125 36.53125 \nQ 39.546875 41.84375 41.421875 45.53125 \nQ 43.3125 49.21875 43.3125 52.78125 \nQ 43.3125 58.59375 39.234375 62.25 \nQ 35.15625 65.921875 28.609375 65.921875 \nQ 23.96875 65.921875 18.8125 64.3125 \nQ 13.671875 62.703125 7.8125 59.421875 \nL 7.8125 69.390625 \nQ 13.765625 71.78125 18.9375 73 \nQ 24.125 74.21875 28.421875 74.21875 \nQ 39.75 74.21875 46.484375 68.546875 \nQ 53.21875 62.890625 53.21875 53.421875 \nQ 53.21875 48.921875 51.53125 44.890625 \nQ 49.859375 40.875 45.40625 35.40625 \nQ 44.1875 33.984375 37.640625 27.21875 \nQ 31.109375 20.453125 19.1875 8.296875 \nz\n\" id=\"DejaVuSans-50\"/>\n       </defs>\n       <use xlink:href=\"#DejaVuSans-8722\"/>\n       <use x=\"83.789062\" xlink:href=\"#DejaVuSans-50\"/>\n      </g>\n     </g>\n    </g>\n    <g id=\"xtick_4\">\n     <g id=\"line2d_7\">\n      <path clip-path=\"url(#pa0231889ab)\" d=\"M 169.412834 143.1 \nL 169.412834 7.2 \n\" style=\"fill:none;stroke:#b0b0b0;stroke-linecap:square;stroke-width:0.8;\"/>\n     </g>\n     <g id=\"line2d_8\">\n      <g>\n       <use style=\"stroke:#000000;stroke-width:0.8;\" x=\"169.412834\" xlink:href=\"#m31a3f18e2e\" y=\"143.1\"/>\n      </g>\n     </g>\n     <g id=\"text_4\">\n      <!-- 0 -->\n      <g transform=\"translate(166.231584 157.698438)scale(0.1 -0.1)\">\n       <defs>\n        <path d=\"M 31.78125 66.40625 \nQ 24.171875 66.40625 20.328125 58.90625 \nQ 16.5 51.421875 16.5 36.375 \nQ 16.5 21.390625 20.328125 13.890625 \nQ 24.171875 6.390625 31.78125 6.390625 \nQ 39.453125 6.390625 43.28125 13.890625 \nQ 47.125 21.390625 47.125 36.375 \nQ 47.125 51.421875 43.28125 58.90625 \nQ 39.453125 66.40625 31.78125 66.40625 \nz\nM 31.78125 74.21875 \nQ 44.046875 74.21875 50.515625 64.515625 \nQ 56.984375 54.828125 56.984375 36.375 \nQ 56.984375 17.96875 50.515625 8.265625 \nQ 44.046875 -1.421875 31.78125 -1.421875 \nQ 19.53125 -1.421875 13.0625 8.265625 \nQ 6.59375 17.96875 6.59375 36.375 \nQ 6.59375 54.828125 13.0625 64.515625 \nQ 19.53125 74.21875 31.78125 74.21875 \nz\n\" id=\"DejaVuSans-48\"/>\n       </defs>\n       <use xlink:href=\"#DejaVuSans-48\"/>\n      </g>\n     </g>\n    </g>\n    <g id=\"xtick_5\">\n     <g id=\"line2d_9\">\n      <path clip-path=\"url(#pa0231889ab)\" d=\"M 202.046534 143.1 \nL 202.046534 7.2 \n\" style=\"fill:none;stroke:#b0b0b0;stroke-linecap:square;stroke-width:0.8;\"/>\n     </g>\n     <g id=\"line2d_10\">\n      <g>\n       <use style=\"stroke:#000000;stroke-width:0.8;\" x=\"202.046534\" xlink:href=\"#m31a3f18e2e\" y=\"143.1\"/>\n      </g>\n     </g>\n     <g id=\"text_5\">\n      <!-- 2 -->\n      <g transform=\"translate(198.865284 157.698438)scale(0.1 -0.1)\">\n       <use xlink:href=\"#DejaVuSans-50\"/>\n      </g>\n     </g>\n    </g>\n    <g id=\"xtick_6\">\n     <g id=\"line2d_11\">\n      <path clip-path=\"url(#pa0231889ab)\" d=\"M 234.680233 143.1 \nL 234.680233 7.2 \n\" style=\"fill:none;stroke:#b0b0b0;stroke-linecap:square;stroke-width:0.8;\"/>\n     </g>\n     <g id=\"line2d_12\">\n      <g>\n       <use style=\"stroke:#000000;stroke-width:0.8;\" x=\"234.680233\" xlink:href=\"#m31a3f18e2e\" y=\"143.1\"/>\n      </g>\n     </g>\n     <g id=\"text_6\">\n      <!-- 4 -->\n      <g transform=\"translate(231.498983 157.698438)scale(0.1 -0.1)\">\n       <use xlink:href=\"#DejaVuSans-52\"/>\n      </g>\n     </g>\n    </g>\n    <g id=\"xtick_7\">\n     <g id=\"line2d_13\">\n      <path clip-path=\"url(#pa0231889ab)\" d=\"M 267.313932 143.1 \nL 267.313932 7.2 \n\" style=\"fill:none;stroke:#b0b0b0;stroke-linecap:square;stroke-width:0.8;\"/>\n     </g>\n     <g id=\"line2d_14\">\n      <g>\n       <use style=\"stroke:#000000;stroke-width:0.8;\" x=\"267.313932\" xlink:href=\"#m31a3f18e2e\" y=\"143.1\"/>\n      </g>\n     </g>\n     <g id=\"text_7\">\n      <!-- 6 -->\n      <g transform=\"translate(264.132682 157.698438)scale(0.1 -0.1)\">\n       <use xlink:href=\"#DejaVuSans-54\"/>\n      </g>\n     </g>\n    </g>\n    <g id=\"text_8\">\n     <!-- x -->\n     <g transform=\"translate(166.371875 171.376563)scale(0.1 -0.1)\">\n      <defs>\n       <path d=\"M 54.890625 54.6875 \nL 35.109375 28.078125 \nL 55.90625 0 \nL 45.3125 0 \nL 29.390625 21.484375 \nL 13.484375 0 \nL 2.875 0 \nL 24.125 28.609375 \nL 4.6875 54.6875 \nL 15.28125 54.6875 \nL 29.78125 35.203125 \nL 44.28125 54.6875 \nz\n\" id=\"DejaVuSans-120\"/>\n      </defs>\n      <use xlink:href=\"#DejaVuSans-120\"/>\n     </g>\n    </g>\n   </g>\n   <g id=\"matplotlib.axis_2\">\n    <g id=\"ytick_1\">\n     <g id=\"line2d_15\">\n      <path clip-path=\"url(#pa0231889ab)\" d=\"M 43.78125 136.922727 \nL 294.88125 136.922727 \n\" style=\"fill:none;stroke:#b0b0b0;stroke-linecap:square;stroke-width:0.8;\"/>\n     </g>\n     <g id=\"line2d_16\">\n      <defs>\n       <path d=\"M 0 0 \nL -3.5 0 \n\" id=\"m26e43cf8b4\" style=\"stroke:#000000;stroke-width:0.8;\"/>\n      </defs>\n      <g>\n       <use style=\"stroke:#000000;stroke-width:0.8;\" x=\"43.78125\" xlink:href=\"#m26e43cf8b4\" y=\"136.922727\"/>\n      </g>\n     </g>\n     <g id=\"text_9\">\n      <!-- 0.0 -->\n      <g transform=\"translate(20.878125 140.721946)scale(0.1 -0.1)\">\n       <defs>\n        <path d=\"M 10.6875 12.40625 \nL 21 12.40625 \nL 21 0 \nL 10.6875 0 \nz\n\" id=\"DejaVuSans-46\"/>\n       </defs>\n       <use xlink:href=\"#DejaVuSans-48\"/>\n       <use x=\"63.623047\" xlink:href=\"#DejaVuSans-46\"/>\n       <use x=\"95.410156\" xlink:href=\"#DejaVuSans-48\"/>\n      </g>\n     </g>\n    </g>\n    <g id=\"ytick_2\">\n     <g id=\"line2d_17\">\n      <path clip-path=\"url(#pa0231889ab)\" d=\"M 43.78125 105.954474 \nL 294.88125 105.954474 \n\" style=\"fill:none;stroke:#b0b0b0;stroke-linecap:square;stroke-width:0.8;\"/>\n     </g>\n     <g id=\"line2d_18\">\n      <g>\n       <use style=\"stroke:#000000;stroke-width:0.8;\" x=\"43.78125\" xlink:href=\"#m26e43cf8b4\" y=\"105.954474\"/>\n      </g>\n     </g>\n     <g id=\"text_10\">\n      <!-- 0.1 -->\n      <g transform=\"translate(20.878125 109.753693)scale(0.1 -0.1)\">\n       <defs>\n        <path d=\"M 12.40625 8.296875 \nL 28.515625 8.296875 \nL 28.515625 63.921875 \nL 10.984375 60.40625 \nL 10.984375 69.390625 \nL 28.421875 72.90625 \nL 38.28125 72.90625 \nL 38.28125 8.296875 \nL 54.390625 8.296875 \nL 54.390625 0 \nL 12.40625 0 \nz\n\" id=\"DejaVuSans-49\"/>\n       </defs>\n       <use xlink:href=\"#DejaVuSans-48\"/>\n       <use x=\"63.623047\" xlink:href=\"#DejaVuSans-46\"/>\n       <use x=\"95.410156\" xlink:href=\"#DejaVuSans-49\"/>\n      </g>\n     </g>\n    </g>\n    <g id=\"ytick_3\">\n     <g id=\"line2d_19\">\n      <path clip-path=\"url(#pa0231889ab)\" d=\"M 43.78125 74.986221 \nL 294.88125 74.986221 \n\" style=\"fill:none;stroke:#b0b0b0;stroke-linecap:square;stroke-width:0.8;\"/>\n     </g>\n     <g id=\"line2d_20\">\n      <g>\n       <use style=\"stroke:#000000;stroke-width:0.8;\" x=\"43.78125\" xlink:href=\"#m26e43cf8b4\" y=\"74.986221\"/>\n      </g>\n     </g>\n     <g id=\"text_11\">\n      <!-- 0.2 -->\n      <g transform=\"translate(20.878125 78.78544)scale(0.1 -0.1)\">\n       <use xlink:href=\"#DejaVuSans-48\"/>\n       <use x=\"63.623047\" xlink:href=\"#DejaVuSans-46\"/>\n       <use x=\"95.410156\" xlink:href=\"#DejaVuSans-50\"/>\n      </g>\n     </g>\n    </g>\n    <g id=\"ytick_4\">\n     <g id=\"line2d_21\">\n      <path clip-path=\"url(#pa0231889ab)\" d=\"M 43.78125 44.017968 \nL 294.88125 44.017968 \n\" style=\"fill:none;stroke:#b0b0b0;stroke-linecap:square;stroke-width:0.8;\"/>\n     </g>\n     <g id=\"line2d_22\">\n      <g>\n       <use style=\"stroke:#000000;stroke-width:0.8;\" x=\"43.78125\" xlink:href=\"#m26e43cf8b4\" y=\"44.017968\"/>\n      </g>\n     </g>\n     <g id=\"text_12\">\n      <!-- 0.3 -->\n      <g transform=\"translate(20.878125 47.817187)scale(0.1 -0.1)\">\n       <defs>\n        <path d=\"M 40.578125 39.3125 \nQ 47.65625 37.796875 51.625 33 \nQ 55.609375 28.21875 55.609375 21.1875 \nQ 55.609375 10.40625 48.1875 4.484375 \nQ 40.765625 -1.421875 27.09375 -1.421875 \nQ 22.515625 -1.421875 17.65625 -0.515625 \nQ 12.796875 0.390625 7.625 2.203125 \nL 7.625 11.71875 \nQ 11.71875 9.328125 16.59375 8.109375 \nQ 21.484375 6.890625 26.8125 6.890625 \nQ 36.078125 6.890625 40.9375 10.546875 \nQ 45.796875 14.203125 45.796875 21.1875 \nQ 45.796875 27.640625 41.28125 31.265625 \nQ 36.765625 34.90625 28.71875 34.90625 \nL 20.21875 34.90625 \nL 20.21875 43.015625 \nL 29.109375 43.015625 \nQ 36.375 43.015625 40.234375 45.921875 \nQ 44.09375 48.828125 44.09375 54.296875 \nQ 44.09375 59.90625 40.109375 62.90625 \nQ 36.140625 65.921875 28.71875 65.921875 \nQ 24.65625 65.921875 20.015625 65.03125 \nQ 15.375 64.15625 9.8125 62.3125 \nL 9.8125 71.09375 \nQ 15.4375 72.65625 20.34375 73.4375 \nQ 25.25 74.21875 29.59375 74.21875 \nQ 40.828125 74.21875 47.359375 69.109375 \nQ 53.90625 64.015625 53.90625 55.328125 \nQ 53.90625 49.265625 50.4375 45.09375 \nQ 46.96875 40.921875 40.578125 39.3125 \nz\n\" id=\"DejaVuSans-51\"/>\n       </defs>\n       <use xlink:href=\"#DejaVuSans-48\"/>\n       <use x=\"63.623047\" xlink:href=\"#DejaVuSans-46\"/>\n       <use x=\"95.410156\" xlink:href=\"#DejaVuSans-51\"/>\n      </g>\n     </g>\n    </g>\n    <g id=\"ytick_5\">\n     <g id=\"line2d_23\">\n      <path clip-path=\"url(#pa0231889ab)\" d=\"M 43.78125 13.049715 \nL 294.88125 13.049715 \n\" style=\"fill:none;stroke:#b0b0b0;stroke-linecap:square;stroke-width:0.8;\"/>\n     </g>\n     <g id=\"line2d_24\">\n      <g>\n       <use style=\"stroke:#000000;stroke-width:0.8;\" x=\"43.78125\" xlink:href=\"#m26e43cf8b4\" y=\"13.049715\"/>\n      </g>\n     </g>\n     <g id=\"text_13\">\n      <!-- 0.4 -->\n      <g transform=\"translate(20.878125 16.848934)scale(0.1 -0.1)\">\n       <use xlink:href=\"#DejaVuSans-48\"/>\n       <use x=\"63.623047\" xlink:href=\"#DejaVuSans-46\"/>\n       <use x=\"95.410156\" xlink:href=\"#DejaVuSans-52\"/>\n      </g>\n     </g>\n    </g>\n    <g id=\"text_14\">\n     <!-- p(x) -->\n     <g transform=\"translate(14.798438 85.185156)rotate(-90)scale(0.1 -0.1)\">\n      <defs>\n       <path d=\"M 18.109375 8.203125 \nL 18.109375 -20.796875 \nL 9.078125 -20.796875 \nL 9.078125 54.6875 \nL 18.109375 54.6875 \nL 18.109375 46.390625 \nQ 20.953125 51.265625 25.265625 53.625 \nQ 29.59375 56 35.59375 56 \nQ 45.5625 56 51.78125 48.09375 \nQ 58.015625 40.1875 58.015625 27.296875 \nQ 58.015625 14.40625 51.78125 6.484375 \nQ 45.5625 -1.421875 35.59375 -1.421875 \nQ 29.59375 -1.421875 25.265625 0.953125 \nQ 20.953125 3.328125 18.109375 8.203125 \nz\nM 48.6875 27.296875 \nQ 48.6875 37.203125 44.609375 42.84375 \nQ 40.53125 48.484375 33.40625 48.484375 \nQ 26.265625 48.484375 22.1875 42.84375 \nQ 18.109375 37.203125 18.109375 27.296875 \nQ 18.109375 17.390625 22.1875 11.75 \nQ 26.265625 6.109375 33.40625 6.109375 \nQ 40.53125 6.109375 44.609375 11.75 \nQ 48.6875 17.390625 48.6875 27.296875 \nz\n\" id=\"DejaVuSans-112\"/>\n       <path d=\"M 31 75.875 \nQ 24.46875 64.65625 21.28125 53.65625 \nQ 18.109375 42.671875 18.109375 31.390625 \nQ 18.109375 20.125 21.3125 9.0625 \nQ 24.515625 -2 31 -13.1875 \nL 23.1875 -13.1875 \nQ 15.875 -1.703125 12.234375 9.375 \nQ 8.59375 20.453125 8.59375 31.390625 \nQ 8.59375 42.28125 12.203125 53.3125 \nQ 15.828125 64.359375 23.1875 75.875 \nz\n\" id=\"DejaVuSans-40\"/>\n       <path d=\"M 8.015625 75.875 \nL 15.828125 75.875 \nQ 23.140625 64.359375 26.78125 53.3125 \nQ 30.421875 42.28125 30.421875 31.390625 \nQ 30.421875 20.453125 26.78125 9.375 \nQ 23.140625 -1.703125 15.828125 -13.1875 \nL 8.015625 -13.1875 \nQ 14.5 -2 17.703125 9.0625 \nQ 20.90625 20.125 20.90625 31.390625 \nQ 20.90625 42.671875 17.703125 53.65625 \nQ 14.5 64.65625 8.015625 75.875 \nz\n\" id=\"DejaVuSans-41\"/>\n      </defs>\n      <use xlink:href=\"#DejaVuSans-112\"/>\n      <use x=\"63.476562\" xlink:href=\"#DejaVuSans-40\"/>\n      <use x=\"102.490234\" xlink:href=\"#DejaVuSans-120\"/>\n      <use x=\"161.669922\" xlink:href=\"#DejaVuSans-41\"/>\n     </g>\n    </g>\n   </g>\n   <g id=\"line2d_25\">\n    <path clip-path=\"url(#pa0231889ab)\" d=\"M 55.194886 136.922727 \nL 108.224648 136.813535 \nL 113.609208 136.566288 \nL 117.198915 136.184417 \nL 119.97278 135.668952 \nL 122.257139 135.025186 \nL 124.215161 134.257847 \nL 126.010014 133.330368 \nL 127.804868 132.138334 \nL 129.436552 130.779445 \nL 131.068237 129.113085 \nL 132.699922 127.093512 \nL 134.331607 124.67477 \nL 135.963292 121.812692 \nL 137.594977 118.467288 \nL 139.226662 114.605495 \nL 141.021516 109.733818 \nL 142.816369 104.197078 \nL 144.774391 97.412516 \nL 146.895582 89.247632 \nL 149.506278 78.224523 \nL 153.259153 61.239305 \nL 157.501534 42.275258 \nL 159.785893 33.113056 \nL 161.580746 26.820515 \nL 163.049263 22.424523 \nL 164.354611 19.173268 \nL 165.49679 16.884633 \nL 166.475801 15.362585 \nL 167.454812 14.263605 \nL 168.270655 13.679589 \nL 169.086497 13.401979 \nL 169.739171 13.401979 \nL 170.391845 13.599455 \nL 171.207688 14.122466 \nL 172.02353 14.948577 \nL 173.002541 16.331186 \nL 173.981552 18.12656 \nL 175.123732 20.717347 \nL 176.42908 24.286979 \nL 177.897596 29.000684 \nL 179.69245 35.615359 \nL 181.81364 44.367165 \nL 184.913841 58.245076 \nL 190.46157 83.161144 \nL 192.909098 93.115047 \nL 195.030288 100.899673 \nL 196.98831 107.299489 \nL 198.783164 112.473243 \nL 200.578017 116.986089 \nL 202.209702 120.534567 \nL 203.841387 123.5855 \nL 205.473072 126.176453 \nL 207.104757 128.35023 \nL 208.736442 130.152334 \nL 210.368127 131.628806 \nL 211.999812 132.824481 \nL 213.794665 133.865803 \nL 215.752687 134.73293 \nL 217.873878 135.421686 \nL 220.321405 135.97206 \nL 223.258438 136.389278 \nL 227.011314 136.67952 \nL 232.395874 136.850878 \nL 243.001826 136.917995 \nL 283.467614 136.922727 \nL 283.467614 136.922727 \n\" style=\"fill:none;stroke:#1f77b4;stroke-linecap:square;stroke-width:1.5;\"/>\n   </g>\n   <g id=\"line2d_26\">\n    <path clip-path=\"url(#pa0231889ab)\" d=\"M 55.194886 136.7876 \nL 65.800839 136.522951 \nL 73.143421 136.126434 \nL 79.017487 135.590287 \nL 83.912542 134.926494 \nL 88.318091 134.105229 \nL 92.234135 133.153577 \nL 95.823842 132.06316 \nL 99.250381 130.798749 \nL 102.51375 129.367709 \nL 105.77712 127.695008 \nL 109.04049 125.764111 \nL 112.30386 123.563438 \nL 115.56723 121.087897 \nL 118.993769 118.196043 \nL 122.583476 114.860886 \nL 126.49952 110.903144 \nL 131.068237 105.948686 \nL 138.247651 97.770807 \nL 144.611223 90.644946 \nL 148.527267 86.589675 \nL 151.790637 83.530672 \nL 154.564501 81.224436 \nL 157.175197 79.344214 \nL 159.459556 77.957408 \nL 161.743915 76.832365 \nL 163.865105 76.036198 \nL 165.823127 75.522597 \nL 167.781149 75.227168 \nL 169.739171 75.153089 \nL 171.697193 75.301158 \nL 173.655215 75.66978 \nL 175.613237 76.254995 \nL 177.734428 77.126088 \nL 179.855618 78.233161 \nL 182.139977 79.673625 \nL 184.587504 81.48006 \nL 187.361369 83.820867 \nL 190.46157 86.751111 \nL 194.051277 90.469337 \nL 198.783164 95.721751 \nL 211.673475 110.215093 \nL 215.752687 114.383393 \nL 219.505563 117.90542 \nL 222.932101 120.82526 \nL 226.195471 123.328273 \nL 229.458841 125.556324 \nL 232.722211 127.513772 \nL 235.985581 129.211619 \nL 239.248951 130.665971 \nL 242.675489 131.95258 \nL 246.265196 133.063568 \nL 250.18124 134.034481 \nL 254.423621 134.846714 \nL 259.155508 135.514669 \nL 264.540068 136.040363 \nL 270.903639 136.432354 \nL 279.225233 136.707949 \nL 283.467614 136.785216 \nL 283.467614 136.785216 \n\" style=\"fill:none;stroke:#bf00bf;stroke-dasharray:5.55,2.4;stroke-dashoffset:0;stroke-width:1.5;\"/>\n   </g>\n   <g id=\"line2d_27\">\n    <path clip-path=\"url(#pa0231889ab)\" d=\"M 55.194886 136.922727 \nL 157.175197 136.813535 \nL 162.559757 136.566288 \nL 166.149464 136.184417 \nL 168.923329 135.668952 \nL 171.207688 135.025186 \nL 173.16571 134.257847 \nL 174.960563 133.330368 \nL 176.755417 132.138334 \nL 178.387102 130.779445 \nL 180.018787 129.113085 \nL 181.650472 127.093512 \nL 183.282156 124.67477 \nL 184.913841 121.812692 \nL 186.545526 118.467288 \nL 188.177211 114.605495 \nL 189.972065 109.733818 \nL 191.766918 104.197078 \nL 193.72494 97.412516 \nL 195.846131 89.247632 \nL 198.456827 78.224523 \nL 202.209702 61.239305 \nL 206.452083 42.275258 \nL 208.736442 33.113056 \nL 210.531295 26.820515 \nL 211.999812 22.424523 \nL 213.30516 19.173268 \nL 214.447339 16.884633 \nL 215.42635 15.362585 \nL 216.405361 14.263605 \nL 217.221204 13.679589 \nL 218.037046 13.401979 \nL 218.68972 13.401979 \nL 219.342394 13.599455 \nL 220.158237 14.122466 \nL 220.974079 14.948577 \nL 221.95309 16.331186 \nL 222.932101 18.12656 \nL 224.074281 20.717347 \nL 225.379629 24.286979 \nL 226.848145 29.000684 \nL 228.642999 35.615359 \nL 230.764189 44.367165 \nL 233.864391 58.245076 \nL 239.412119 83.161144 \nL 241.859647 93.115047 \nL 243.980837 100.899673 \nL 245.938859 107.299489 \nL 247.733713 112.473243 \nL 249.528566 116.986089 \nL 251.160251 120.534567 \nL 252.791936 123.5855 \nL 254.423621 126.176453 \nL 256.055306 128.35023 \nL 257.686991 130.152334 \nL 259.318676 131.628806 \nL 260.950361 132.824481 \nL 262.745215 133.865803 \nL 264.703236 134.73293 \nL 266.824427 135.421686 \nL 269.271954 135.97206 \nL 272.208987 136.389278 \nL 275.961863 136.67952 \nL 281.346423 136.850878 \nL 283.467614 136.879593 \nL 283.467614 136.879593 \n\" style=\"fill:none;stroke:#008000;stroke-dasharray:9.6,2.4,1.5,2.4;stroke-dashoffset:0;stroke-width:1.5;\"/>\n   </g>\n   <g id=\"patch_3\">\n    <path d=\"M 43.78125 143.1 \nL 43.78125 7.2 \n\" style=\"fill:none;stroke:#000000;stroke-linecap:square;stroke-linejoin:miter;stroke-width:0.8;\"/>\n   </g>\n   <g id=\"patch_4\">\n    <path d=\"M 294.88125 143.1 \nL 294.88125 7.2 \n\" style=\"fill:none;stroke:#000000;stroke-linecap:square;stroke-linejoin:miter;stroke-width:0.8;\"/>\n   </g>\n   <g id=\"patch_5\">\n    <path d=\"M 43.78125 143.1 \nL 294.88125 143.1 \n\" style=\"fill:none;stroke:#000000;stroke-linecap:square;stroke-linejoin:miter;stroke-width:0.8;\"/>\n   </g>\n   <g id=\"patch_6\">\n    <path d=\"M 43.78125 7.2 \nL 294.88125 7.2 \n\" style=\"fill:none;stroke:#000000;stroke-linecap:square;stroke-linejoin:miter;stroke-width:0.8;\"/>\n   </g>\n   <g id=\"legend_1\">\n    <g id=\"patch_7\">\n     <path d=\"M 50.78125 59.234375 \nL 152.05625 59.234375 \nQ 154.05625 59.234375 154.05625 57.234375 \nL 154.05625 14.2 \nQ 154.05625 12.2 152.05625 12.2 \nL 50.78125 12.2 \nQ 48.78125 12.2 48.78125 14.2 \nL 48.78125 57.234375 \nQ 48.78125 59.234375 50.78125 59.234375 \nz\n\" style=\"fill:#ffffff;opacity:0.8;stroke:#cccccc;stroke-linejoin:miter;\"/>\n    </g>\n    <g id=\"line2d_28\">\n     <path d=\"M 52.78125 20.298438 \nL 72.78125 20.298438 \n\" style=\"fill:none;stroke:#1f77b4;stroke-linecap:square;stroke-width:1.5;\"/>\n    </g>\n    <g id=\"line2d_29\"/>\n    <g id=\"text_15\">\n     <!-- mean 0, std 1 -->\n     <g transform=\"translate(80.78125 23.798438)scale(0.1 -0.1)\">\n      <defs>\n       <path d=\"M 52 44.1875 \nQ 55.375 50.25 60.0625 53.125 \nQ 64.75 56 71.09375 56 \nQ 79.640625 56 84.28125 50.015625 \nQ 88.921875 44.046875 88.921875 33.015625 \nL 88.921875 0 \nL 79.890625 0 \nL 79.890625 32.71875 \nQ 79.890625 40.578125 77.09375 44.375 \nQ 74.3125 48.1875 68.609375 48.1875 \nQ 61.625 48.1875 57.5625 43.546875 \nQ 53.515625 38.921875 53.515625 30.90625 \nL 53.515625 0 \nL 44.484375 0 \nL 44.484375 32.71875 \nQ 44.484375 40.625 41.703125 44.40625 \nQ 38.921875 48.1875 33.109375 48.1875 \nQ 26.21875 48.1875 22.15625 43.53125 \nQ 18.109375 38.875 18.109375 30.90625 \nL 18.109375 0 \nL 9.078125 0 \nL 9.078125 54.6875 \nL 18.109375 54.6875 \nL 18.109375 46.1875 \nQ 21.1875 51.21875 25.484375 53.609375 \nQ 29.78125 56 35.6875 56 \nQ 41.65625 56 45.828125 52.96875 \nQ 50 49.953125 52 44.1875 \nz\n\" id=\"DejaVuSans-109\"/>\n       <path d=\"M 56.203125 29.59375 \nL 56.203125 25.203125 \nL 14.890625 25.203125 \nQ 15.484375 15.921875 20.484375 11.0625 \nQ 25.484375 6.203125 34.421875 6.203125 \nQ 39.59375 6.203125 44.453125 7.46875 \nQ 49.3125 8.734375 54.109375 11.28125 \nL 54.109375 2.78125 \nQ 49.265625 0.734375 44.1875 -0.34375 \nQ 39.109375 -1.421875 33.890625 -1.421875 \nQ 20.796875 -1.421875 13.15625 6.1875 \nQ 5.515625 13.8125 5.515625 26.8125 \nQ 5.515625 40.234375 12.765625 48.109375 \nQ 20.015625 56 32.328125 56 \nQ 43.359375 56 49.78125 48.890625 \nQ 56.203125 41.796875 56.203125 29.59375 \nz\nM 47.21875 32.234375 \nQ 47.125 39.59375 43.09375 43.984375 \nQ 39.0625 48.390625 32.421875 48.390625 \nQ 24.90625 48.390625 20.390625 44.140625 \nQ 15.875 39.890625 15.1875 32.171875 \nz\n\" id=\"DejaVuSans-101\"/>\n       <path d=\"M 34.28125 27.484375 \nQ 23.390625 27.484375 19.1875 25 \nQ 14.984375 22.515625 14.984375 16.5 \nQ 14.984375 11.71875 18.140625 8.90625 \nQ 21.296875 6.109375 26.703125 6.109375 \nQ 34.1875 6.109375 38.703125 11.40625 \nQ 43.21875 16.703125 43.21875 25.484375 \nL 43.21875 27.484375 \nz\nM 52.203125 31.203125 \nL 52.203125 0 \nL 43.21875 0 \nL 43.21875 8.296875 \nQ 40.140625 3.328125 35.546875 0.953125 \nQ 30.953125 -1.421875 24.3125 -1.421875 \nQ 15.921875 -1.421875 10.953125 3.296875 \nQ 6 8.015625 6 15.921875 \nQ 6 25.140625 12.171875 29.828125 \nQ 18.359375 34.515625 30.609375 34.515625 \nL 43.21875 34.515625 \nL 43.21875 35.40625 \nQ 43.21875 41.609375 39.140625 45 \nQ 35.0625 48.390625 27.6875 48.390625 \nQ 23 48.390625 18.546875 47.265625 \nQ 14.109375 46.140625 10.015625 43.890625 \nL 10.015625 52.203125 \nQ 14.9375 54.109375 19.578125 55.046875 \nQ 24.21875 56 28.609375 56 \nQ 40.484375 56 46.34375 49.84375 \nQ 52.203125 43.703125 52.203125 31.203125 \nz\n\" id=\"DejaVuSans-97\"/>\n       <path d=\"M 54.890625 33.015625 \nL 54.890625 0 \nL 45.90625 0 \nL 45.90625 32.71875 \nQ 45.90625 40.484375 42.875 44.328125 \nQ 39.84375 48.1875 33.796875 48.1875 \nQ 26.515625 48.1875 22.3125 43.546875 \nQ 18.109375 38.921875 18.109375 30.90625 \nL 18.109375 0 \nL 9.078125 0 \nL 9.078125 54.6875 \nL 18.109375 54.6875 \nL 18.109375 46.1875 \nQ 21.34375 51.125 25.703125 53.5625 \nQ 30.078125 56 35.796875 56 \nQ 45.21875 56 50.046875 50.171875 \nQ 54.890625 44.34375 54.890625 33.015625 \nz\n\" id=\"DejaVuSans-110\"/>\n       <path id=\"DejaVuSans-32\"/>\n       <path d=\"M 11.71875 12.40625 \nL 22.015625 12.40625 \nL 22.015625 4 \nL 14.015625 -11.625 \nL 7.71875 -11.625 \nL 11.71875 4 \nz\n\" id=\"DejaVuSans-44\"/>\n       <path d=\"M 44.28125 53.078125 \nL 44.28125 44.578125 \nQ 40.484375 46.53125 36.375 47.5 \nQ 32.28125 48.484375 27.875 48.484375 \nQ 21.1875 48.484375 17.84375 46.4375 \nQ 14.5 44.390625 14.5 40.28125 \nQ 14.5 37.15625 16.890625 35.375 \nQ 19.28125 33.59375 26.515625 31.984375 \nL 29.59375 31.296875 \nQ 39.15625 29.25 43.1875 25.515625 \nQ 47.21875 21.78125 47.21875 15.09375 \nQ 47.21875 7.46875 41.1875 3.015625 \nQ 35.15625 -1.421875 24.609375 -1.421875 \nQ 20.21875 -1.421875 15.453125 -0.5625 \nQ 10.6875 0.296875 5.421875 2 \nL 5.421875 11.28125 \nQ 10.40625 8.6875 15.234375 7.390625 \nQ 20.0625 6.109375 24.8125 6.109375 \nQ 31.15625 6.109375 34.5625 8.28125 \nQ 37.984375 10.453125 37.984375 14.40625 \nQ 37.984375 18.0625 35.515625 20.015625 \nQ 33.0625 21.96875 24.703125 23.78125 \nL 21.578125 24.515625 \nQ 13.234375 26.265625 9.515625 29.90625 \nQ 5.8125 33.546875 5.8125 39.890625 \nQ 5.8125 47.609375 11.28125 51.796875 \nQ 16.75 56 26.8125 56 \nQ 31.78125 56 36.171875 55.265625 \nQ 40.578125 54.546875 44.28125 53.078125 \nz\n\" id=\"DejaVuSans-115\"/>\n       <path d=\"M 18.3125 70.21875 \nL 18.3125 54.6875 \nL 36.8125 54.6875 \nL 36.8125 47.703125 \nL 18.3125 47.703125 \nL 18.3125 18.015625 \nQ 18.3125 11.328125 20.140625 9.421875 \nQ 21.96875 7.515625 27.59375 7.515625 \nL 36.8125 7.515625 \nL 36.8125 0 \nL 27.59375 0 \nQ 17.1875 0 13.234375 3.875 \nQ 9.28125 7.765625 9.28125 18.015625 \nL 9.28125 47.703125 \nL 2.6875 47.703125 \nL 2.6875 54.6875 \nL 9.28125 54.6875 \nL 9.28125 70.21875 \nz\n\" id=\"DejaVuSans-116\"/>\n       <path d=\"M 45.40625 46.390625 \nL 45.40625 75.984375 \nL 54.390625 75.984375 \nL 54.390625 0 \nL 45.40625 0 \nL 45.40625 8.203125 \nQ 42.578125 3.328125 38.25 0.953125 \nQ 33.9375 -1.421875 27.875 -1.421875 \nQ 17.96875 -1.421875 11.734375 6.484375 \nQ 5.515625 14.40625 5.515625 27.296875 \nQ 5.515625 40.1875 11.734375 48.09375 \nQ 17.96875 56 27.875 56 \nQ 33.9375 56 38.25 53.625 \nQ 42.578125 51.265625 45.40625 46.390625 \nz\nM 14.796875 27.296875 \nQ 14.796875 17.390625 18.875 11.75 \nQ 22.953125 6.109375 30.078125 6.109375 \nQ 37.203125 6.109375 41.296875 11.75 \nQ 45.40625 17.390625 45.40625 27.296875 \nQ 45.40625 37.203125 41.296875 42.84375 \nQ 37.203125 48.484375 30.078125 48.484375 \nQ 22.953125 48.484375 18.875 42.84375 \nQ 14.796875 37.203125 14.796875 27.296875 \nz\n\" id=\"DejaVuSans-100\"/>\n      </defs>\n      <use xlink:href=\"#DejaVuSans-109\"/>\n      <use x=\"97.412109\" xlink:href=\"#DejaVuSans-101\"/>\n      <use x=\"158.935547\" xlink:href=\"#DejaVuSans-97\"/>\n      <use x=\"220.214844\" xlink:href=\"#DejaVuSans-110\"/>\n      <use x=\"283.59375\" xlink:href=\"#DejaVuSans-32\"/>\n      <use x=\"315.380859\" xlink:href=\"#DejaVuSans-48\"/>\n      <use x=\"379.003906\" xlink:href=\"#DejaVuSans-44\"/>\n      <use x=\"410.791016\" xlink:href=\"#DejaVuSans-32\"/>\n      <use x=\"442.578125\" xlink:href=\"#DejaVuSans-115\"/>\n      <use x=\"494.677734\" xlink:href=\"#DejaVuSans-116\"/>\n      <use x=\"533.886719\" xlink:href=\"#DejaVuSans-100\"/>\n      <use x=\"597.363281\" xlink:href=\"#DejaVuSans-32\"/>\n      <use x=\"629.150391\" xlink:href=\"#DejaVuSans-49\"/>\n     </g>\n    </g>\n    <g id=\"line2d_30\">\n     <path d=\"M 52.78125 34.976562 \nL 72.78125 34.976562 \n\" style=\"fill:none;stroke:#bf00bf;stroke-dasharray:5.55,2.4;stroke-dashoffset:0;stroke-width:1.5;\"/>\n    </g>\n    <g id=\"line2d_31\"/>\n    <g id=\"text_16\">\n     <!-- mean 0, std 2 -->\n     <g transform=\"translate(80.78125 38.476562)scale(0.1 -0.1)\">\n      <use xlink:href=\"#DejaVuSans-109\"/>\n      <use x=\"97.412109\" xlink:href=\"#DejaVuSans-101\"/>\n      <use x=\"158.935547\" xlink:href=\"#DejaVuSans-97\"/>\n      <use x=\"220.214844\" xlink:href=\"#DejaVuSans-110\"/>\n      <use x=\"283.59375\" xlink:href=\"#DejaVuSans-32\"/>\n      <use x=\"315.380859\" xlink:href=\"#DejaVuSans-48\"/>\n      <use x=\"379.003906\" xlink:href=\"#DejaVuSans-44\"/>\n      <use x=\"410.791016\" xlink:href=\"#DejaVuSans-32\"/>\n      <use x=\"442.578125\" xlink:href=\"#DejaVuSans-115\"/>\n      <use x=\"494.677734\" xlink:href=\"#DejaVuSans-116\"/>\n      <use x=\"533.886719\" xlink:href=\"#DejaVuSans-100\"/>\n      <use x=\"597.363281\" xlink:href=\"#DejaVuSans-32\"/>\n      <use x=\"629.150391\" xlink:href=\"#DejaVuSans-50\"/>\n     </g>\n    </g>\n    <g id=\"line2d_32\">\n     <path d=\"M 52.78125 49.654688 \nL 72.78125 49.654688 \n\" style=\"fill:none;stroke:#008000;stroke-dasharray:9.6,2.4,1.5,2.4;stroke-dashoffset:0;stroke-width:1.5;\"/>\n    </g>\n    <g id=\"line2d_33\"/>\n    <g id=\"text_17\">\n     <!-- mean 3, std 1 -->\n     <g transform=\"translate(80.78125 53.154688)scale(0.1 -0.1)\">\n      <use xlink:href=\"#DejaVuSans-109\"/>\n      <use x=\"97.412109\" xlink:href=\"#DejaVuSans-101\"/>\n      <use x=\"158.935547\" xlink:href=\"#DejaVuSans-97\"/>\n      <use x=\"220.214844\" xlink:href=\"#DejaVuSans-110\"/>\n      <use x=\"283.59375\" xlink:href=\"#DejaVuSans-32\"/>\n      <use x=\"315.380859\" xlink:href=\"#DejaVuSans-51\"/>\n      <use x=\"379.003906\" xlink:href=\"#DejaVuSans-44\"/>\n      <use x=\"410.791016\" xlink:href=\"#DejaVuSans-32\"/>\n      <use x=\"442.578125\" xlink:href=\"#DejaVuSans-115\"/>\n      <use x=\"494.677734\" xlink:href=\"#DejaVuSans-116\"/>\n      <use x=\"533.886719\" xlink:href=\"#DejaVuSans-100\"/>\n      <use x=\"597.363281\" xlink:href=\"#DejaVuSans-32\"/>\n      <use x=\"629.150391\" xlink:href=\"#DejaVuSans-49\"/>\n     </g>\n    </g>\n   </g>\n  </g>\n </g>\n <defs>\n  <clipPath id=\"pa0231889ab\">\n   <rect height=\"135.9\" width=\"251.1\" x=\"43.78125\" y=\"7.2\"/>\n  </clipPath>\n </defs>\n</svg>\n",
      "text/plain": [
       "<Figure size 324x180 with 1 Axes>"
      ]
     },
     "metadata": {
      "needs_background": "light"
     },
     "output_type": "display_data"
    }
   ],
   "source": [
    "# 再次使用numpy进行可视化\n",
    "x = np.arange(-7, 7, 0.01)\n",
    "\n",
    "# 均值和标准差对\n",
    "params = [(0, 1), (0, 2), (3, 1)]\n",
    "d2l.plot(x, [normal(x, mu, sigma) for mu, sigma in params], xlabel='x',\n",
    "         ylabel='p(x)', figsize=(4.5, 2.5),\n",
    "         legend=[f'mean {mu}, std {sigma}' for mu, sigma in params])"
   ]
  },
  {
   "cell_type": "code",
   "execution_count": null,
   "id": "6bd5e0d4",
   "metadata": {},
   "outputs": [],
   "source": []
  },
  {
   "cell_type": "code",
   "execution_count": null,
   "id": "3f118487",
   "metadata": {},
   "outputs": [],
   "source": []
  },
  {
   "cell_type": "code",
   "execution_count": null,
   "id": "3cfec678",
   "metadata": {},
   "outputs": [],
   "source": []
  },
  {
   "cell_type": "code",
   "execution_count": 101,
   "id": "512e7ed1",
   "metadata": {},
   "outputs": [],
   "source": [
    "%matplotlib inline\n",
    "import random\n",
    "import torch\n",
    "from d2l import torch as d2l\n"
   ]
  },
  {
   "cell_type": "code",
   "execution_count": 102,
   "id": "10ac9193",
   "metadata": {},
   "outputs": [],
   "source": [
    "def systhetic_data(w, b, num): # y=Xw+b+c\n",
    "  X = torch.normal(0, 1, (num, len(w)))\n",
    "  y = torch.matmul(X, w) + b \n",
    "  y += torch.normal(0, 0.01, y.shape)\n",
    "  return X, y.reshape((-1, 1)) "
   ]
  },
  {
   "cell_type": "code",
   "execution_count": 103,
   "id": "c835a681",
   "metadata": {},
   "outputs": [],
   "source": [
    "true_w = torch.tensor([2, -3.4])\n",
    "true_b = 4.2\n",
    "features, labels = systhetic_data(true_w, true_b, 1000)"
   ]
  },
  {
   "cell_type": "code",
   "execution_count": 104,
   "id": "90727c38",
   "metadata": {},
   "outputs": [
    {
     "name": "stdout",
     "output_type": "stream",
     "text": [
      "features: tensor([ 0.2843, -0.0889]) \n",
      "label: tensor([5.0832])\n"
     ]
    }
   ],
   "source": [
    "print('features:', features[0], '\\nlabel:', labels[0])"
   ]
  },
  {
   "cell_type": "code",
   "execution_count": 105,
   "id": "4332d44a",
   "metadata": {},
   "outputs": [
    {
     "data": {
      "image/svg+xml": "<?xml version=\"1.0\" encoding=\"utf-8\" standalone=\"no\"?>\n<!DOCTYPE svg PUBLIC \"-//W3C//DTD SVG 1.1//EN\"\n  \"http://www.w3.org/Graphics/SVG/1.1/DTD/svg11.dtd\">\n<!-- Created with matplotlib (https://matplotlib.org/) -->\n<svg height=\"166.978125pt\" version=\"1.1\" viewBox=\"0 0 231.442187 166.978125\" width=\"231.442187pt\" xmlns=\"http://www.w3.org/2000/svg\" xmlns:xlink=\"http://www.w3.org/1999/xlink\">\n <metadata>\n  <rdf:RDF xmlns:cc=\"http://creativecommons.org/ns#\" xmlns:dc=\"http://purl.org/dc/elements/1.1/\" xmlns:rdf=\"http://www.w3.org/1999/02/22-rdf-syntax-ns#\">\n   <cc:Work>\n    <dc:type rdf:resource=\"http://purl.org/dc/dcmitype/StillImage\"/>\n    <dc:date>2023-01-17T16:43:56.547923</dc:date>\n    <dc:format>image/svg+xml</dc:format>\n    <dc:creator>\n     <cc:Agent>\n      <dc:title>Matplotlib v3.3.4, https://matplotlib.org/</dc:title>\n     </cc:Agent>\n    </dc:creator>\n   </cc:Work>\n  </rdf:RDF>\n </metadata>\n <defs>\n  <style type=\"text/css\">*{stroke-linecap:butt;stroke-linejoin:round;}</style>\n </defs>\n <g id=\"figure_1\">\n  <g id=\"patch_1\">\n   <path d=\"M 0 166.978125 \nL 231.442187 166.978125 \nL 231.442187 0 \nL 0 0 \nz\n\" style=\"fill:none;\"/>\n  </g>\n  <g id=\"axes_1\">\n   <g id=\"patch_2\">\n    <path d=\"M 28.942188 143.1 \nL 224.242188 143.1 \nL 224.242188 7.2 \nL 28.942188 7.2 \nz\n\" style=\"fill:#ffffff;\"/>\n   </g>\n   <g id=\"PathCollection_1\">\n    <defs>\n     <path d=\"M 0 0.5 \nC 0.132602 0.5 0.25979 0.447317 0.353553 0.353553 \nC 0.447317 0.25979 0.5 0.132602 0.5 0 \nC 0.5 -0.132602 0.447317 -0.25979 0.353553 -0.353553 \nC 0.25979 -0.447317 0.132602 -0.5 0 -0.5 \nC -0.132602 -0.5 -0.25979 -0.447317 -0.353553 -0.353553 \nC -0.447317 -0.25979 -0.5 -0.132602 -0.5 0 \nC -0.5 0.132602 -0.447317 0.25979 -0.353553 0.353553 \nC -0.25979 0.447317 -0.132602 0.5 0 0.5 \nz\n\" id=\"m0c2fda8e03\" style=\"stroke:#1f77b4;\"/>\n    </defs>\n    <g clip-path=\"url(#p689bcdf954)\">\n     <use style=\"fill:#1f77b4;stroke:#1f77b4;\" x=\"116.040317\" xlink:href=\"#m0c2fda8e03\" y=\"74.903679\"/>\n     <use style=\"fill:#1f77b4;stroke:#1f77b4;\" x=\"144.629351\" xlink:href=\"#m0c2fda8e03\" y=\"87.901266\"/>\n     <use style=\"fill:#1f77b4;stroke:#1f77b4;\" x=\"111.251876\" xlink:href=\"#m0c2fda8e03\" y=\"113.490195\"/>\n     <use style=\"fill:#1f77b4;stroke:#1f77b4;\" x=\"65.241421\" xlink:href=\"#m0c2fda8e03\" y=\"28.656426\"/>\n     <use style=\"fill:#1f77b4;stroke:#1f77b4;\" x=\"92.011226\" xlink:href=\"#m0c2fda8e03\" y=\"51.428707\"/>\n     <use style=\"fill:#1f77b4;stroke:#1f77b4;\" x=\"104.501231\" xlink:href=\"#m0c2fda8e03\" y=\"69.195287\"/>\n     <use style=\"fill:#1f77b4;stroke:#1f77b4;\" x=\"123.45404\" xlink:href=\"#m0c2fda8e03\" y=\"60.044257\"/>\n     <use style=\"fill:#1f77b4;stroke:#1f77b4;\" x=\"145.863786\" xlink:href=\"#m0c2fda8e03\" y=\"85.72607\"/>\n     <use style=\"fill:#1f77b4;stroke:#1f77b4;\" x=\"132.321095\" xlink:href=\"#m0c2fda8e03\" y=\"94.423915\"/>\n     <use style=\"fill:#1f77b4;stroke:#1f77b4;\" x=\"96.241345\" xlink:href=\"#m0c2fda8e03\" y=\"69.559534\"/>\n     <use style=\"fill:#1f77b4;stroke:#1f77b4;\" x=\"104.543246\" xlink:href=\"#m0c2fda8e03\" y=\"75.893232\"/>\n     <use style=\"fill:#1f77b4;stroke:#1f77b4;\" x=\"139.098726\" xlink:href=\"#m0c2fda8e03\" y=\"78.211255\"/>\n     <use style=\"fill:#1f77b4;stroke:#1f77b4;\" x=\"153.182294\" xlink:href=\"#m0c2fda8e03\" y=\"102.271906\"/>\n     <use style=\"fill:#1f77b4;stroke:#1f77b4;\" x=\"110.284305\" xlink:href=\"#m0c2fda8e03\" y=\"69.870589\"/>\n     <use style=\"fill:#1f77b4;stroke:#1f77b4;\" x=\"129.458539\" xlink:href=\"#m0c2fda8e03\" y=\"77.939649\"/>\n     <use style=\"fill:#1f77b4;stroke:#1f77b4;\" x=\"100.477449\" xlink:href=\"#m0c2fda8e03\" y=\"53.900895\"/>\n     <use style=\"fill:#1f77b4;stroke:#1f77b4;\" x=\"94.590237\" xlink:href=\"#m0c2fda8e03\" y=\"70.169036\"/>\n     <use style=\"fill:#1f77b4;stroke:#1f77b4;\" x=\"113.407904\" xlink:href=\"#m0c2fda8e03\" y=\"79.69692\"/>\n     <use style=\"fill:#1f77b4;stroke:#1f77b4;\" x=\"122.762683\" xlink:href=\"#m0c2fda8e03\" y=\"98.301544\"/>\n     <use style=\"fill:#1f77b4;stroke:#1f77b4;\" x=\"100.206016\" xlink:href=\"#m0c2fda8e03\" y=\"53.156951\"/>\n     <use style=\"fill:#1f77b4;stroke:#1f77b4;\" x=\"128.406332\" xlink:href=\"#m0c2fda8e03\" y=\"100.040162\"/>\n     <use style=\"fill:#1f77b4;stroke:#1f77b4;\" x=\"150.811001\" xlink:href=\"#m0c2fda8e03\" y=\"85.188316\"/>\n     <use style=\"fill:#1f77b4;stroke:#1f77b4;\" x=\"119.863012\" xlink:href=\"#m0c2fda8e03\" y=\"98.846638\"/>\n     <use style=\"fill:#1f77b4;stroke:#1f77b4;\" x=\"103.776598\" xlink:href=\"#m0c2fda8e03\" y=\"83.583046\"/>\n     <use style=\"fill:#1f77b4;stroke:#1f77b4;\" x=\"79.728825\" xlink:href=\"#m0c2fda8e03\" y=\"42.353019\"/>\n     <use style=\"fill:#1f77b4;stroke:#1f77b4;\" x=\"131.424266\" xlink:href=\"#m0c2fda8e03\" y=\"90.143387\"/>\n     <use style=\"fill:#1f77b4;stroke:#1f77b4;\" x=\"79.966925\" xlink:href=\"#m0c2fda8e03\" y=\"54.852221\"/>\n     <use style=\"fill:#1f77b4;stroke:#1f77b4;\" x=\"58.416783\" xlink:href=\"#m0c2fda8e03\" y=\"38.098797\"/>\n     <use style=\"fill:#1f77b4;stroke:#1f77b4;\" x=\"98.826841\" xlink:href=\"#m0c2fda8e03\" y=\"68.675854\"/>\n     <use style=\"fill:#1f77b4;stroke:#1f77b4;\" x=\"121.86951\" xlink:href=\"#m0c2fda8e03\" y=\"80.468203\"/>\n     <use style=\"fill:#1f77b4;stroke:#1f77b4;\" x=\"135.361029\" xlink:href=\"#m0c2fda8e03\" y=\"73.280835\"/>\n     <use style=\"fill:#1f77b4;stroke:#1f77b4;\" x=\"91.329435\" xlink:href=\"#m0c2fda8e03\" y=\"67.784814\"/>\n     <use style=\"fill:#1f77b4;stroke:#1f77b4;\" x=\"130.484253\" xlink:href=\"#m0c2fda8e03\" y=\"91.980252\"/>\n     <use style=\"fill:#1f77b4;stroke:#1f77b4;\" x=\"153.55368\" xlink:href=\"#m0c2fda8e03\" y=\"96.098437\"/>\n     <use style=\"fill:#1f77b4;stroke:#1f77b4;\" x=\"130.4085\" xlink:href=\"#m0c2fda8e03\" y=\"55.694572\"/>\n     <use style=\"fill:#1f77b4;stroke:#1f77b4;\" x=\"141.418865\" xlink:href=\"#m0c2fda8e03\" y=\"105.030699\"/>\n     <use style=\"fill:#1f77b4;stroke:#1f77b4;\" x=\"94.330386\" xlink:href=\"#m0c2fda8e03\" y=\"64.848368\"/>\n     <use style=\"fill:#1f77b4;stroke:#1f77b4;\" x=\"159.541871\" xlink:href=\"#m0c2fda8e03\" y=\"118.05576\"/>\n     <use style=\"fill:#1f77b4;stroke:#1f77b4;\" x=\"104.547486\" xlink:href=\"#m0c2fda8e03\" y=\"78.91841\"/>\n     <use style=\"fill:#1f77b4;stroke:#1f77b4;\" x=\"124.789732\" xlink:href=\"#m0c2fda8e03\" y=\"78.479577\"/>\n     <use style=\"fill:#1f77b4;stroke:#1f77b4;\" x=\"72.418307\" xlink:href=\"#m0c2fda8e03\" y=\"51.915287\"/>\n     <use style=\"fill:#1f77b4;stroke:#1f77b4;\" x=\"107.071938\" xlink:href=\"#m0c2fda8e03\" y=\"74.323495\"/>\n     <use style=\"fill:#1f77b4;stroke:#1f77b4;\" x=\"51.778913\" xlink:href=\"#m0c2fda8e03\" y=\"46.579641\"/>\n     <use style=\"fill:#1f77b4;stroke:#1f77b4;\" x=\"116.74786\" xlink:href=\"#m0c2fda8e03\" y=\"77.894151\"/>\n     <use style=\"fill:#1f77b4;stroke:#1f77b4;\" x=\"78.723435\" xlink:href=\"#m0c2fda8e03\" y=\"41.786943\"/>\n     <use style=\"fill:#1f77b4;stroke:#1f77b4;\" x=\"108.287453\" xlink:href=\"#m0c2fda8e03\" y=\"65.013329\"/>\n     <use style=\"fill:#1f77b4;stroke:#1f77b4;\" x=\"132.536877\" xlink:href=\"#m0c2fda8e03\" y=\"105.161163\"/>\n     <use style=\"fill:#1f77b4;stroke:#1f77b4;\" x=\"109.434433\" xlink:href=\"#m0c2fda8e03\" y=\"65.824032\"/>\n     <use style=\"fill:#1f77b4;stroke:#1f77b4;\" x=\"114.979735\" xlink:href=\"#m0c2fda8e03\" y=\"69.808524\"/>\n     <use style=\"fill:#1f77b4;stroke:#1f77b4;\" x=\"100.319312\" xlink:href=\"#m0c2fda8e03\" y=\"75.115204\"/>\n     <use style=\"fill:#1f77b4;stroke:#1f77b4;\" x=\"111.735151\" xlink:href=\"#m0c2fda8e03\" y=\"72.265154\"/>\n     <use style=\"fill:#1f77b4;stroke:#1f77b4;\" x=\"95.311684\" xlink:href=\"#m0c2fda8e03\" y=\"75.391571\"/>\n     <use style=\"fill:#1f77b4;stroke:#1f77b4;\" x=\"155.868004\" xlink:href=\"#m0c2fda8e03\" y=\"101.366073\"/>\n     <use style=\"fill:#1f77b4;stroke:#1f77b4;\" x=\"115.666961\" xlink:href=\"#m0c2fda8e03\" y=\"86.534095\"/>\n     <use style=\"fill:#1f77b4;stroke:#1f77b4;\" x=\"125.884857\" xlink:href=\"#m0c2fda8e03\" y=\"84.362298\"/>\n     <use style=\"fill:#1f77b4;stroke:#1f77b4;\" x=\"149.927352\" xlink:href=\"#m0c2fda8e03\" y=\"91.519841\"/>\n     <use style=\"fill:#1f77b4;stroke:#1f77b4;\" x=\"128.251743\" xlink:href=\"#m0c2fda8e03\" y=\"95.229825\"/>\n     <use style=\"fill:#1f77b4;stroke:#1f77b4;\" x=\"121.682658\" xlink:href=\"#m0c2fda8e03\" y=\"92.92878\"/>\n     <use style=\"fill:#1f77b4;stroke:#1f77b4;\" x=\"89.026345\" xlink:href=\"#m0c2fda8e03\" y=\"72.378313\"/>\n     <use style=\"fill:#1f77b4;stroke:#1f77b4;\" x=\"51.64607\" xlink:href=\"#m0c2fda8e03\" y=\"45.184547\"/>\n     <use style=\"fill:#1f77b4;stroke:#1f77b4;\" x=\"114.473053\" xlink:href=\"#m0c2fda8e03\" y=\"86.342313\"/>\n     <use style=\"fill:#1f77b4;stroke:#1f77b4;\" x=\"131.68221\" xlink:href=\"#m0c2fda8e03\" y=\"97.285706\"/>\n     <use style=\"fill:#1f77b4;stroke:#1f77b4;\" x=\"105.908138\" xlink:href=\"#m0c2fda8e03\" y=\"63.410384\"/>\n     <use style=\"fill:#1f77b4;stroke:#1f77b4;\" x=\"80.1722\" xlink:href=\"#m0c2fda8e03\" y=\"35.71624\"/>\n     <use style=\"fill:#1f77b4;stroke:#1f77b4;\" x=\"100.787264\" xlink:href=\"#m0c2fda8e03\" y=\"60.707655\"/>\n     <use style=\"fill:#1f77b4;stroke:#1f77b4;\" x=\"141.335754\" xlink:href=\"#m0c2fda8e03\" y=\"94.970969\"/>\n     <use style=\"fill:#1f77b4;stroke:#1f77b4;\" x=\"105.719144\" xlink:href=\"#m0c2fda8e03\" y=\"55.637651\"/>\n     <use style=\"fill:#1f77b4;stroke:#1f77b4;\" x=\"74.24957\" xlink:href=\"#m0c2fda8e03\" y=\"55.940425\"/>\n     <use style=\"fill:#1f77b4;stroke:#1f77b4;\" x=\"98.549455\" xlink:href=\"#m0c2fda8e03\" y=\"60.065216\"/>\n     <use style=\"fill:#1f77b4;stroke:#1f77b4;\" x=\"103.921992\" xlink:href=\"#m0c2fda8e03\" y=\"70.116178\"/>\n     <use style=\"fill:#1f77b4;stroke:#1f77b4;\" x=\"97.594242\" xlink:href=\"#m0c2fda8e03\" y=\"60.6301\"/>\n     <use style=\"fill:#1f77b4;stroke:#1f77b4;\" x=\"137.59635\" xlink:href=\"#m0c2fda8e03\" y=\"87.566134\"/>\n     <use style=\"fill:#1f77b4;stroke:#1f77b4;\" x=\"123.011621\" xlink:href=\"#m0c2fda8e03\" y=\"74.349773\"/>\n     <use style=\"fill:#1f77b4;stroke:#1f77b4;\" x=\"91.10864\" xlink:href=\"#m0c2fda8e03\" y=\"69.00516\"/>\n     <use style=\"fill:#1f77b4;stroke:#1f77b4;\" x=\"96.128017\" xlink:href=\"#m0c2fda8e03\" y=\"70.962199\"/>\n     <use style=\"fill:#1f77b4;stroke:#1f77b4;\" x=\"87.994251\" xlink:href=\"#m0c2fda8e03\" y=\"40.541117\"/>\n     <use style=\"fill:#1f77b4;stroke:#1f77b4;\" x=\"139.088413\" xlink:href=\"#m0c2fda8e03\" y=\"97.118978\"/>\n     <use style=\"fill:#1f77b4;stroke:#1f77b4;\" x=\"63.407861\" xlink:href=\"#m0c2fda8e03\" y=\"50.324332\"/>\n     <use style=\"fill:#1f77b4;stroke:#1f77b4;\" x=\"113.137386\" xlink:href=\"#m0c2fda8e03\" y=\"65.714385\"/>\n     <use style=\"fill:#1f77b4;stroke:#1f77b4;\" x=\"148.491166\" xlink:href=\"#m0c2fda8e03\" y=\"86.145632\"/>\n     <use style=\"fill:#1f77b4;stroke:#1f77b4;\" x=\"71.302174\" xlink:href=\"#m0c2fda8e03\" y=\"42.55199\"/>\n     <use style=\"fill:#1f77b4;stroke:#1f77b4;\" x=\"142.259019\" xlink:href=\"#m0c2fda8e03\" y=\"102.436104\"/>\n     <use style=\"fill:#1f77b4;stroke:#1f77b4;\" x=\"112.25148\" xlink:href=\"#m0c2fda8e03\" y=\"72.217521\"/>\n     <use style=\"fill:#1f77b4;stroke:#1f77b4;\" x=\"138.591601\" xlink:href=\"#m0c2fda8e03\" y=\"112.260882\"/>\n     <use style=\"fill:#1f77b4;stroke:#1f77b4;\" x=\"60.823609\" xlink:href=\"#m0c2fda8e03\" y=\"40.094769\"/>\n     <use style=\"fill:#1f77b4;stroke:#1f77b4;\" x=\"102.356395\" xlink:href=\"#m0c2fda8e03\" y=\"71.884937\"/>\n     <use style=\"fill:#1f77b4;stroke:#1f77b4;\" x=\"113.969724\" xlink:href=\"#m0c2fda8e03\" y=\"71.832609\"/>\n     <use style=\"fill:#1f77b4;stroke:#1f77b4;\" x=\"121.928393\" xlink:href=\"#m0c2fda8e03\" y=\"62.942984\"/>\n     <use style=\"fill:#1f77b4;stroke:#1f77b4;\" x=\"118.426674\" xlink:href=\"#m0c2fda8e03\" y=\"75.975928\"/>\n     <use style=\"fill:#1f77b4;stroke:#1f77b4;\" x=\"101.377934\" xlink:href=\"#m0c2fda8e03\" y=\"68.302057\"/>\n     <use style=\"fill:#1f77b4;stroke:#1f77b4;\" x=\"115.271227\" xlink:href=\"#m0c2fda8e03\" y=\"66.119203\"/>\n     <use style=\"fill:#1f77b4;stroke:#1f77b4;\" x=\"88.112477\" xlink:href=\"#m0c2fda8e03\" y=\"59.496095\"/>\n     <use style=\"fill:#1f77b4;stroke:#1f77b4;\" x=\"70.067055\" xlink:href=\"#m0c2fda8e03\" y=\"43.565205\"/>\n     <use style=\"fill:#1f77b4;stroke:#1f77b4;\" x=\"80.589068\" xlink:href=\"#m0c2fda8e03\" y=\"44.533478\"/>\n     <use style=\"fill:#1f77b4;stroke:#1f77b4;\" x=\"119.369979\" xlink:href=\"#m0c2fda8e03\" y=\"64.472422\"/>\n     <use style=\"fill:#1f77b4;stroke:#1f77b4;\" x=\"109.546456\" xlink:href=\"#m0c2fda8e03\" y=\"94.438257\"/>\n     <use style=\"fill:#1f77b4;stroke:#1f77b4;\" x=\"137.407299\" xlink:href=\"#m0c2fda8e03\" y=\"98.231072\"/>\n     <use style=\"fill:#1f77b4;stroke:#1f77b4;\" x=\"173.36244\" xlink:href=\"#m0c2fda8e03\" y=\"136.066393\"/>\n     <use style=\"fill:#1f77b4;stroke:#1f77b4;\" x=\"157.329987\" xlink:href=\"#m0c2fda8e03\" y=\"112.638596\"/>\n     <use style=\"fill:#1f77b4;stroke:#1f77b4;\" x=\"116.191878\" xlink:href=\"#m0c2fda8e03\" y=\"71.569629\"/>\n     <use style=\"fill:#1f77b4;stroke:#1f77b4;\" x=\"110.03451\" xlink:href=\"#m0c2fda8e03\" y=\"69.474557\"/>\n     <use style=\"fill:#1f77b4;stroke:#1f77b4;\" x=\"107.650399\" xlink:href=\"#m0c2fda8e03\" y=\"85.60232\"/>\n     <use style=\"fill:#1f77b4;stroke:#1f77b4;\" x=\"105.147305\" xlink:href=\"#m0c2fda8e03\" y=\"85.712077\"/>\n     <use style=\"fill:#1f77b4;stroke:#1f77b4;\" x=\"161.33934\" xlink:href=\"#m0c2fda8e03\" y=\"82.879509\"/>\n     <use style=\"fill:#1f77b4;stroke:#1f77b4;\" x=\"141.318927\" xlink:href=\"#m0c2fda8e03\" y=\"72.647837\"/>\n     <use style=\"fill:#1f77b4;stroke:#1f77b4;\" x=\"109.352384\" xlink:href=\"#m0c2fda8e03\" y=\"68.070098\"/>\n     <use style=\"fill:#1f77b4;stroke:#1f77b4;\" x=\"135.124978\" xlink:href=\"#m0c2fda8e03\" y=\"81.114747\"/>\n     <use style=\"fill:#1f77b4;stroke:#1f77b4;\" x=\"129.719255\" xlink:href=\"#m0c2fda8e03\" y=\"106.808235\"/>\n     <use style=\"fill:#1f77b4;stroke:#1f77b4;\" x=\"102.252288\" xlink:href=\"#m0c2fda8e03\" y=\"80.230496\"/>\n     <use style=\"fill:#1f77b4;stroke:#1f77b4;\" x=\"92.478862\" xlink:href=\"#m0c2fda8e03\" y=\"62.076369\"/>\n     <use style=\"fill:#1f77b4;stroke:#1f77b4;\" x=\"137.480016\" xlink:href=\"#m0c2fda8e03\" y=\"99.740841\"/>\n     <use style=\"fill:#1f77b4;stroke:#1f77b4;\" x=\"107.514171\" xlink:href=\"#m0c2fda8e03\" y=\"82.259433\"/>\n     <use style=\"fill:#1f77b4;stroke:#1f77b4;\" x=\"90.883401\" xlink:href=\"#m0c2fda8e03\" y=\"79.616607\"/>\n     <use style=\"fill:#1f77b4;stroke:#1f77b4;\" x=\"120.091694\" xlink:href=\"#m0c2fda8e03\" y=\"90.547696\"/>\n     <use style=\"fill:#1f77b4;stroke:#1f77b4;\" x=\"93.711854\" xlink:href=\"#m0c2fda8e03\" y=\"39.650757\"/>\n     <use style=\"fill:#1f77b4;stroke:#1f77b4;\" x=\"115.894209\" xlink:href=\"#m0c2fda8e03\" y=\"60.087637\"/>\n     <use style=\"fill:#1f77b4;stroke:#1f77b4;\" x=\"128.132103\" xlink:href=\"#m0c2fda8e03\" y=\"64.059098\"/>\n     <use style=\"fill:#1f77b4;stroke:#1f77b4;\" x=\"119.227905\" xlink:href=\"#m0c2fda8e03\" y=\"82.637196\"/>\n     <use style=\"fill:#1f77b4;stroke:#1f77b4;\" x=\"99.107952\" xlink:href=\"#m0c2fda8e03\" y=\"81.17685\"/>\n     <use style=\"fill:#1f77b4;stroke:#1f77b4;\" x=\"127.755455\" xlink:href=\"#m0c2fda8e03\" y=\"105.565134\"/>\n     <use style=\"fill:#1f77b4;stroke:#1f77b4;\" x=\"126.358976\" xlink:href=\"#m0c2fda8e03\" y=\"87.036599\"/>\n     <use style=\"fill:#1f77b4;stroke:#1f77b4;\" x=\"81.795885\" xlink:href=\"#m0c2fda8e03\" y=\"56.92876\"/>\n     <use style=\"fill:#1f77b4;stroke:#1f77b4;\" x=\"139.291472\" xlink:href=\"#m0c2fda8e03\" y=\"96.366733\"/>\n     <use style=\"fill:#1f77b4;stroke:#1f77b4;\" x=\"63.557406\" xlink:href=\"#m0c2fda8e03\" y=\"33.798125\"/>\n     <use style=\"fill:#1f77b4;stroke:#1f77b4;\" x=\"125.142731\" xlink:href=\"#m0c2fda8e03\" y=\"90.775215\"/>\n     <use style=\"fill:#1f77b4;stroke:#1f77b4;\" x=\"99.700161\" xlink:href=\"#m0c2fda8e03\" y=\"81.503445\"/>\n     <use style=\"fill:#1f77b4;stroke:#1f77b4;\" x=\"79.819513\" xlink:href=\"#m0c2fda8e03\" y=\"42.119992\"/>\n     <use style=\"fill:#1f77b4;stroke:#1f77b4;\" x=\"124.45293\" xlink:href=\"#m0c2fda8e03\" y=\"74.037318\"/>\n     <use style=\"fill:#1f77b4;stroke:#1f77b4;\" x=\"134.988203\" xlink:href=\"#m0c2fda8e03\" y=\"85.571035\"/>\n     <use style=\"fill:#1f77b4;stroke:#1f77b4;\" x=\"111.277826\" xlink:href=\"#m0c2fda8e03\" y=\"59.407826\"/>\n     <use style=\"fill:#1f77b4;stroke:#1f77b4;\" x=\"96.461652\" xlink:href=\"#m0c2fda8e03\" y=\"61.320833\"/>\n     <use style=\"fill:#1f77b4;stroke:#1f77b4;\" x=\"129.016501\" xlink:href=\"#m0c2fda8e03\" y=\"81.441684\"/>\n     <use style=\"fill:#1f77b4;stroke:#1f77b4;\" x=\"113.241034\" xlink:href=\"#m0c2fda8e03\" y=\"65.029225\"/>\n     <use style=\"fill:#1f77b4;stroke:#1f77b4;\" x=\"44.399341\" xlink:href=\"#m0c2fda8e03\" y=\"45.951853\"/>\n     <use style=\"fill:#1f77b4;stroke:#1f77b4;\" x=\"80.509278\" xlink:href=\"#m0c2fda8e03\" y=\"55.399005\"/>\n     <use style=\"fill:#1f77b4;stroke:#1f77b4;\" x=\"91.28172\" xlink:href=\"#m0c2fda8e03\" y=\"74.154768\"/>\n     <use style=\"fill:#1f77b4;stroke:#1f77b4;\" x=\"167.942276\" xlink:href=\"#m0c2fda8e03\" y=\"101.061001\"/>\n     <use style=\"fill:#1f77b4;stroke:#1f77b4;\" x=\"97.77828\" xlink:href=\"#m0c2fda8e03\" y=\"74.786071\"/>\n     <use style=\"fill:#1f77b4;stroke:#1f77b4;\" x=\"111.462974\" xlink:href=\"#m0c2fda8e03\" y=\"92.43449\"/>\n     <use style=\"fill:#1f77b4;stroke:#1f77b4;\" x=\"140.359067\" xlink:href=\"#m0c2fda8e03\" y=\"84.582139\"/>\n     <use style=\"fill:#1f77b4;stroke:#1f77b4;\" x=\"112.670299\" xlink:href=\"#m0c2fda8e03\" y=\"63.558411\"/>\n     <use style=\"fill:#1f77b4;stroke:#1f77b4;\" x=\"116.509576\" xlink:href=\"#m0c2fda8e03\" y=\"87.431126\"/>\n     <use style=\"fill:#1f77b4;stroke:#1f77b4;\" x=\"121.719469\" xlink:href=\"#m0c2fda8e03\" y=\"81.662977\"/>\n     <use style=\"fill:#1f77b4;stroke:#1f77b4;\" x=\"144.128532\" xlink:href=\"#m0c2fda8e03\" y=\"106.565559\"/>\n     <use style=\"fill:#1f77b4;stroke:#1f77b4;\" x=\"138.359077\" xlink:href=\"#m0c2fda8e03\" y=\"94.700826\"/>\n     <use style=\"fill:#1f77b4;stroke:#1f77b4;\" x=\"146.878863\" xlink:href=\"#m0c2fda8e03\" y=\"104.300945\"/>\n     <use style=\"fill:#1f77b4;stroke:#1f77b4;\" x=\"155.952141\" xlink:href=\"#m0c2fda8e03\" y=\"98.082885\"/>\n     <use style=\"fill:#1f77b4;stroke:#1f77b4;\" x=\"108.910525\" xlink:href=\"#m0c2fda8e03\" y=\"83.927039\"/>\n     <use style=\"fill:#1f77b4;stroke:#1f77b4;\" x=\"93.065198\" xlink:href=\"#m0c2fda8e03\" y=\"43.104774\"/>\n     <use style=\"fill:#1f77b4;stroke:#1f77b4;\" x=\"118.18561\" xlink:href=\"#m0c2fda8e03\" y=\"75.40281\"/>\n     <use style=\"fill:#1f77b4;stroke:#1f77b4;\" x=\"106.980775\" xlink:href=\"#m0c2fda8e03\" y=\"63.950375\"/>\n     <use style=\"fill:#1f77b4;stroke:#1f77b4;\" x=\"74.092923\" xlink:href=\"#m0c2fda8e03\" y=\"51.051289\"/>\n     <use style=\"fill:#1f77b4;stroke:#1f77b4;\" x=\"112.179204\" xlink:href=\"#m0c2fda8e03\" y=\"86.994813\"/>\n     <use style=\"fill:#1f77b4;stroke:#1f77b4;\" x=\"90.860806\" xlink:href=\"#m0c2fda8e03\" y=\"78.984629\"/>\n     <use style=\"fill:#1f77b4;stroke:#1f77b4;\" x=\"121.317173\" xlink:href=\"#m0c2fda8e03\" y=\"78.246643\"/>\n     <use style=\"fill:#1f77b4;stroke:#1f77b4;\" x=\"119.246258\" xlink:href=\"#m0c2fda8e03\" y=\"74.145653\"/>\n     <use style=\"fill:#1f77b4;stroke:#1f77b4;\" x=\"134.022909\" xlink:href=\"#m0c2fda8e03\" y=\"96.911861\"/>\n     <use style=\"fill:#1f77b4;stroke:#1f77b4;\" x=\"130.039318\" xlink:href=\"#m0c2fda8e03\" y=\"104.240313\"/>\n     <use style=\"fill:#1f77b4;stroke:#1f77b4;\" x=\"113.885346\" xlink:href=\"#m0c2fda8e03\" y=\"53.948503\"/>\n     <use style=\"fill:#1f77b4;stroke:#1f77b4;\" x=\"112.131458\" xlink:href=\"#m0c2fda8e03\" y=\"75.955944\"/>\n     <use style=\"fill:#1f77b4;stroke:#1f77b4;\" x=\"123.471553\" xlink:href=\"#m0c2fda8e03\" y=\"72.738383\"/>\n     <use style=\"fill:#1f77b4;stroke:#1f77b4;\" x=\"111.784798\" xlink:href=\"#m0c2fda8e03\" y=\"56.672787\"/>\n     <use style=\"fill:#1f77b4;stroke:#1f77b4;\" x=\"104.146568\" xlink:href=\"#m0c2fda8e03\" y=\"62.849264\"/>\n     <use style=\"fill:#1f77b4;stroke:#1f77b4;\" x=\"88.797858\" xlink:href=\"#m0c2fda8e03\" y=\"57.549463\"/>\n     <use style=\"fill:#1f77b4;stroke:#1f77b4;\" x=\"157.701737\" xlink:href=\"#m0c2fda8e03\" y=\"108.940699\"/>\n     <use style=\"fill:#1f77b4;stroke:#1f77b4;\" x=\"92.435438\" xlink:href=\"#m0c2fda8e03\" y=\"58.915196\"/>\n     <use style=\"fill:#1f77b4;stroke:#1f77b4;\" x=\"103.455718\" xlink:href=\"#m0c2fda8e03\" y=\"58.878546\"/>\n     <use style=\"fill:#1f77b4;stroke:#1f77b4;\" x=\"131.00992\" xlink:href=\"#m0c2fda8e03\" y=\"88.647099\"/>\n     <use style=\"fill:#1f77b4;stroke:#1f77b4;\" x=\"113.502165\" xlink:href=\"#m0c2fda8e03\" y=\"86.71915\"/>\n     <use style=\"fill:#1f77b4;stroke:#1f77b4;\" x=\"115.411257\" xlink:href=\"#m0c2fda8e03\" y=\"81.246384\"/>\n     <use style=\"fill:#1f77b4;stroke:#1f77b4;\" x=\"120.602901\" xlink:href=\"#m0c2fda8e03\" y=\"84.46041\"/>\n     <use style=\"fill:#1f77b4;stroke:#1f77b4;\" x=\"165.588076\" xlink:href=\"#m0c2fda8e03\" y=\"127.541923\"/>\n     <use style=\"fill:#1f77b4;stroke:#1f77b4;\" x=\"192.206616\" xlink:href=\"#m0c2fda8e03\" y=\"115.654599\"/>\n     <use style=\"fill:#1f77b4;stroke:#1f77b4;\" x=\"104.62971\" xlink:href=\"#m0c2fda8e03\" y=\"73.470851\"/>\n     <use style=\"fill:#1f77b4;stroke:#1f77b4;\" x=\"76.764499\" xlink:href=\"#m0c2fda8e03\" y=\"45.182019\"/>\n     <use style=\"fill:#1f77b4;stroke:#1f77b4;\" x=\"116.54491\" xlink:href=\"#m0c2fda8e03\" y=\"67.063057\"/>\n     <use style=\"fill:#1f77b4;stroke:#1f77b4;\" x=\"97.089617\" xlink:href=\"#m0c2fda8e03\" y=\"61.052222\"/>\n     <use style=\"fill:#1f77b4;stroke:#1f77b4;\" x=\"117.305686\" xlink:href=\"#m0c2fda8e03\" y=\"88.719383\"/>\n     <use style=\"fill:#1f77b4;stroke:#1f77b4;\" x=\"87.953112\" xlink:href=\"#m0c2fda8e03\" y=\"75.61278\"/>\n     <use style=\"fill:#1f77b4;stroke:#1f77b4;\" x=\"94.772964\" xlink:href=\"#m0c2fda8e03\" y=\"72.012543\"/>\n     <use style=\"fill:#1f77b4;stroke:#1f77b4;\" x=\"92.727821\" xlink:href=\"#m0c2fda8e03\" y=\"65.631603\"/>\n     <use style=\"fill:#1f77b4;stroke:#1f77b4;\" x=\"91.938657\" xlink:href=\"#m0c2fda8e03\" y=\"70.756\"/>\n     <use style=\"fill:#1f77b4;stroke:#1f77b4;\" x=\"113.051761\" xlink:href=\"#m0c2fda8e03\" y=\"63.292558\"/>\n     <use style=\"fill:#1f77b4;stroke:#1f77b4;\" x=\"117.421384\" xlink:href=\"#m0c2fda8e03\" y=\"76.520168\"/>\n     <use style=\"fill:#1f77b4;stroke:#1f77b4;\" x=\"148.930062\" xlink:href=\"#m0c2fda8e03\" y=\"91.99528\"/>\n     <use style=\"fill:#1f77b4;stroke:#1f77b4;\" x=\"141.127572\" xlink:href=\"#m0c2fda8e03\" y=\"94.981636\"/>\n     <use style=\"fill:#1f77b4;stroke:#1f77b4;\" x=\"167.798484\" xlink:href=\"#m0c2fda8e03\" y=\"112.724585\"/>\n     <use style=\"fill:#1f77b4;stroke:#1f77b4;\" x=\"97.832923\" xlink:href=\"#m0c2fda8e03\" y=\"72.042023\"/>\n     <use style=\"fill:#1f77b4;stroke:#1f77b4;\" x=\"134.352459\" xlink:href=\"#m0c2fda8e03\" y=\"105.402604\"/>\n     <use style=\"fill:#1f77b4;stroke:#1f77b4;\" x=\"121.680647\" xlink:href=\"#m0c2fda8e03\" y=\"87.086208\"/>\n     <use style=\"fill:#1f77b4;stroke:#1f77b4;\" x=\"73.487805\" xlink:href=\"#m0c2fda8e03\" y=\"51.945602\"/>\n     <use style=\"fill:#1f77b4;stroke:#1f77b4;\" x=\"112.168306\" xlink:href=\"#m0c2fda8e03\" y=\"68.61955\"/>\n     <use style=\"fill:#1f77b4;stroke:#1f77b4;\" x=\"161.515478\" xlink:href=\"#m0c2fda8e03\" y=\"94.78321\"/>\n     <use style=\"fill:#1f77b4;stroke:#1f77b4;\" x=\"117.971722\" xlink:href=\"#m0c2fda8e03\" y=\"75.037969\"/>\n     <use style=\"fill:#1f77b4;stroke:#1f77b4;\" x=\"142.891577\" xlink:href=\"#m0c2fda8e03\" y=\"87.646772\"/>\n     <use style=\"fill:#1f77b4;stroke:#1f77b4;\" x=\"150.78851\" xlink:href=\"#m0c2fda8e03\" y=\"108.537478\"/>\n     <use style=\"fill:#1f77b4;stroke:#1f77b4;\" x=\"132.395426\" xlink:href=\"#m0c2fda8e03\" y=\"77.407906\"/>\n     <use style=\"fill:#1f77b4;stroke:#1f77b4;\" x=\"72.999886\" xlink:href=\"#m0c2fda8e03\" y=\"50.237395\"/>\n     <use style=\"fill:#1f77b4;stroke:#1f77b4;\" x=\"169.326127\" xlink:href=\"#m0c2fda8e03\" y=\"122.201786\"/>\n     <use style=\"fill:#1f77b4;stroke:#1f77b4;\" x=\"124.328949\" xlink:href=\"#m0c2fda8e03\" y=\"93.391344\"/>\n     <use style=\"fill:#1f77b4;stroke:#1f77b4;\" x=\"86.703065\" xlink:href=\"#m0c2fda8e03\" y=\"60.613112\"/>\n     <use style=\"fill:#1f77b4;stroke:#1f77b4;\" x=\"119.710959\" xlink:href=\"#m0c2fda8e03\" y=\"88.519267\"/>\n     <use style=\"fill:#1f77b4;stroke:#1f77b4;\" x=\"111.403028\" xlink:href=\"#m0c2fda8e03\" y=\"75.233479\"/>\n     <use style=\"fill:#1f77b4;stroke:#1f77b4;\" x=\"115.71816\" xlink:href=\"#m0c2fda8e03\" y=\"85.873176\"/>\n     <use style=\"fill:#1f77b4;stroke:#1f77b4;\" x=\"104.279784\" xlink:href=\"#m0c2fda8e03\" y=\"50.746419\"/>\n     <use style=\"fill:#1f77b4;stroke:#1f77b4;\" x=\"106.536281\" xlink:href=\"#m0c2fda8e03\" y=\"54.736694\"/>\n     <use style=\"fill:#1f77b4;stroke:#1f77b4;\" x=\"98.924327\" xlink:href=\"#m0c2fda8e03\" y=\"53.309244\"/>\n     <use style=\"fill:#1f77b4;stroke:#1f77b4;\" x=\"56.354818\" xlink:href=\"#m0c2fda8e03\" y=\"31.188661\"/>\n     <use style=\"fill:#1f77b4;stroke:#1f77b4;\" x=\"155.04114\" xlink:href=\"#m0c2fda8e03\" y=\"116.143854\"/>\n     <use style=\"fill:#1f77b4;stroke:#1f77b4;\" x=\"113.3283\" xlink:href=\"#m0c2fda8e03\" y=\"54.418526\"/>\n     <use style=\"fill:#1f77b4;stroke:#1f77b4;\" x=\"148.677645\" xlink:href=\"#m0c2fda8e03\" y=\"81.632375\"/>\n     <use style=\"fill:#1f77b4;stroke:#1f77b4;\" x=\"77.5661\" xlink:href=\"#m0c2fda8e03\" y=\"36.475649\"/>\n     <use style=\"fill:#1f77b4;stroke:#1f77b4;\" x=\"97.17784\" xlink:href=\"#m0c2fda8e03\" y=\"54.17042\"/>\n     <use style=\"fill:#1f77b4;stroke:#1f77b4;\" x=\"134.089111\" xlink:href=\"#m0c2fda8e03\" y=\"105.396942\"/>\n     <use style=\"fill:#1f77b4;stroke:#1f77b4;\" x=\"64.046974\" xlink:href=\"#m0c2fda8e03\" y=\"59.620339\"/>\n     <use style=\"fill:#1f77b4;stroke:#1f77b4;\" x=\"79.062799\" xlink:href=\"#m0c2fda8e03\" y=\"73.543473\"/>\n     <use style=\"fill:#1f77b4;stroke:#1f77b4;\" x=\"192.704967\" xlink:href=\"#m0c2fda8e03\" y=\"130.276097\"/>\n     <use style=\"fill:#1f77b4;stroke:#1f77b4;\" x=\"139.149417\" xlink:href=\"#m0c2fda8e03\" y=\"75.749667\"/>\n     <use style=\"fill:#1f77b4;stroke:#1f77b4;\" x=\"140.71154\" xlink:href=\"#m0c2fda8e03\" y=\"109.412727\"/>\n     <use style=\"fill:#1f77b4;stroke:#1f77b4;\" x=\"110.340039\" xlink:href=\"#m0c2fda8e03\" y=\"70.690631\"/>\n     <use style=\"fill:#1f77b4;stroke:#1f77b4;\" x=\"102.054035\" xlink:href=\"#m0c2fda8e03\" y=\"69.479315\"/>\n     <use style=\"fill:#1f77b4;stroke:#1f77b4;\" x=\"133.05412\" xlink:href=\"#m0c2fda8e03\" y=\"69.767971\"/>\n     <use style=\"fill:#1f77b4;stroke:#1f77b4;\" x=\"147.746388\" xlink:href=\"#m0c2fda8e03\" y=\"96.335431\"/>\n     <use style=\"fill:#1f77b4;stroke:#1f77b4;\" x=\"111.741557\" xlink:href=\"#m0c2fda8e03\" y=\"64.122779\"/>\n     <use style=\"fill:#1f77b4;stroke:#1f77b4;\" x=\"128.181182\" xlink:href=\"#m0c2fda8e03\" y=\"87.582512\"/>\n     <use style=\"fill:#1f77b4;stroke:#1f77b4;\" x=\"152.919247\" xlink:href=\"#m0c2fda8e03\" y=\"97.937455\"/>\n     <use style=\"fill:#1f77b4;stroke:#1f77b4;\" x=\"132.788777\" xlink:href=\"#m0c2fda8e03\" y=\"71.184042\"/>\n     <use style=\"fill:#1f77b4;stroke:#1f77b4;\" x=\"156.923311\" xlink:href=\"#m0c2fda8e03\" y=\"106.475941\"/>\n     <use style=\"fill:#1f77b4;stroke:#1f77b4;\" x=\"143.408516\" xlink:href=\"#m0c2fda8e03\" y=\"99.670305\"/>\n     <use style=\"fill:#1f77b4;stroke:#1f77b4;\" x=\"133.806461\" xlink:href=\"#m0c2fda8e03\" y=\"91.607619\"/>\n     <use style=\"fill:#1f77b4;stroke:#1f77b4;\" x=\"90.080729\" xlink:href=\"#m0c2fda8e03\" y=\"66.828901\"/>\n     <use style=\"fill:#1f77b4;stroke:#1f77b4;\" x=\"82.041591\" xlink:href=\"#m0c2fda8e03\" y=\"50.314273\"/>\n     <use style=\"fill:#1f77b4;stroke:#1f77b4;\" x=\"152.516251\" xlink:href=\"#m0c2fda8e03\" y=\"107.575512\"/>\n     <use style=\"fill:#1f77b4;stroke:#1f77b4;\" x=\"139.847242\" xlink:href=\"#m0c2fda8e03\" y=\"78.958518\"/>\n     <use style=\"fill:#1f77b4;stroke:#1f77b4;\" x=\"115.318353\" xlink:href=\"#m0c2fda8e03\" y=\"65.308467\"/>\n     <use style=\"fill:#1f77b4;stroke:#1f77b4;\" x=\"129.676695\" xlink:href=\"#m0c2fda8e03\" y=\"77.415709\"/>\n     <use style=\"fill:#1f77b4;stroke:#1f77b4;\" x=\"174.826519\" xlink:href=\"#m0c2fda8e03\" y=\"97.229915\"/>\n     <use style=\"fill:#1f77b4;stroke:#1f77b4;\" x=\"84.325224\" xlink:href=\"#m0c2fda8e03\" y=\"68.839361\"/>\n     <use style=\"fill:#1f77b4;stroke:#1f77b4;\" x=\"130.819445\" xlink:href=\"#m0c2fda8e03\" y=\"81.929228\"/>\n     <use style=\"fill:#1f77b4;stroke:#1f77b4;\" x=\"153.720338\" xlink:href=\"#m0c2fda8e03\" y=\"97.701446\"/>\n     <use style=\"fill:#1f77b4;stroke:#1f77b4;\" x=\"69.17445\" xlink:href=\"#m0c2fda8e03\" y=\"65.450543\"/>\n     <use style=\"fill:#1f77b4;stroke:#1f77b4;\" x=\"141.614528\" xlink:href=\"#m0c2fda8e03\" y=\"80.851376\"/>\n     <use style=\"fill:#1f77b4;stroke:#1f77b4;\" x=\"149.854332\" xlink:href=\"#m0c2fda8e03\" y=\"99.498552\"/>\n     <use style=\"fill:#1f77b4;stroke:#1f77b4;\" x=\"161.984386\" xlink:href=\"#m0c2fda8e03\" y=\"89.460966\"/>\n     <use style=\"fill:#1f77b4;stroke:#1f77b4;\" x=\"89.19416\" xlink:href=\"#m0c2fda8e03\" y=\"77.434694\"/>\n     <use style=\"fill:#1f77b4;stroke:#1f77b4;\" x=\"143.195172\" xlink:href=\"#m0c2fda8e03\" y=\"91.239442\"/>\n     <use style=\"fill:#1f77b4;stroke:#1f77b4;\" x=\"117.788301\" xlink:href=\"#m0c2fda8e03\" y=\"51.566971\"/>\n     <use style=\"fill:#1f77b4;stroke:#1f77b4;\" x=\"127.92833\" xlink:href=\"#m0c2fda8e03\" y=\"82.378811\"/>\n     <use style=\"fill:#1f77b4;stroke:#1f77b4;\" x=\"147.777886\" xlink:href=\"#m0c2fda8e03\" y=\"97.99904\"/>\n     <use style=\"fill:#1f77b4;stroke:#1f77b4;\" x=\"146.336657\" xlink:href=\"#m0c2fda8e03\" y=\"92.76741\"/>\n     <use style=\"fill:#1f77b4;stroke:#1f77b4;\" x=\"140.639072\" xlink:href=\"#m0c2fda8e03\" y=\"90.555145\"/>\n     <use style=\"fill:#1f77b4;stroke:#1f77b4;\" x=\"109.499399\" xlink:href=\"#m0c2fda8e03\" y=\"70.240868\"/>\n     <use style=\"fill:#1f77b4;stroke:#1f77b4;\" x=\"151.593342\" xlink:href=\"#m0c2fda8e03\" y=\"108.149873\"/>\n     <use style=\"fill:#1f77b4;stroke:#1f77b4;\" x=\"140.867922\" xlink:href=\"#m0c2fda8e03\" y=\"98.617731\"/>\n     <use style=\"fill:#1f77b4;stroke:#1f77b4;\" x=\"129.954717\" xlink:href=\"#m0c2fda8e03\" y=\"68.214514\"/>\n     <use style=\"fill:#1f77b4;stroke:#1f77b4;\" x=\"81.0095\" xlink:href=\"#m0c2fda8e03\" y=\"59.594104\"/>\n     <use style=\"fill:#1f77b4;stroke:#1f77b4;\" x=\"139.062525\" xlink:href=\"#m0c2fda8e03\" y=\"88.800118\"/>\n     <use style=\"fill:#1f77b4;stroke:#1f77b4;\" x=\"113.490787\" xlink:href=\"#m0c2fda8e03\" y=\"63.62821\"/>\n     <use style=\"fill:#1f77b4;stroke:#1f77b4;\" x=\"112.543078\" xlink:href=\"#m0c2fda8e03\" y=\"83.375352\"/>\n     <use style=\"fill:#1f77b4;stroke:#1f77b4;\" x=\"151.371773\" xlink:href=\"#m0c2fda8e03\" y=\"117.321356\"/>\n     <use style=\"fill:#1f77b4;stroke:#1f77b4;\" x=\"75.318241\" xlink:href=\"#m0c2fda8e03\" y=\"44.561306\"/>\n     <use style=\"fill:#1f77b4;stroke:#1f77b4;\" x=\"127.119475\" xlink:href=\"#m0c2fda8e03\" y=\"83.982287\"/>\n     <use style=\"fill:#1f77b4;stroke:#1f77b4;\" x=\"139.3168\" xlink:href=\"#m0c2fda8e03\" y=\"88.472337\"/>\n     <use style=\"fill:#1f77b4;stroke:#1f77b4;\" x=\"148.062332\" xlink:href=\"#m0c2fda8e03\" y=\"93.746571\"/>\n     <use style=\"fill:#1f77b4;stroke:#1f77b4;\" x=\"99.001598\" xlink:href=\"#m0c2fda8e03\" y=\"66.255749\"/>\n     <use style=\"fill:#1f77b4;stroke:#1f77b4;\" x=\"105.923139\" xlink:href=\"#m0c2fda8e03\" y=\"81.865326\"/>\n     <use style=\"fill:#1f77b4;stroke:#1f77b4;\" x=\"87.799163\" xlink:href=\"#m0c2fda8e03\" y=\"55.332583\"/>\n     <use style=\"fill:#1f77b4;stroke:#1f77b4;\" x=\"92.603492\" xlink:href=\"#m0c2fda8e03\" y=\"83.769799\"/>\n     <use style=\"fill:#1f77b4;stroke:#1f77b4;\" x=\"106.431847\" xlink:href=\"#m0c2fda8e03\" y=\"68.185427\"/>\n     <use style=\"fill:#1f77b4;stroke:#1f77b4;\" x=\"170.886445\" xlink:href=\"#m0c2fda8e03\" y=\"86.875372\"/>\n     <use style=\"fill:#1f77b4;stroke:#1f77b4;\" x=\"141.203851\" xlink:href=\"#m0c2fda8e03\" y=\"90.091223\"/>\n     <use style=\"fill:#1f77b4;stroke:#1f77b4;\" x=\"50.379811\" xlink:href=\"#m0c2fda8e03\" y=\"38.301727\"/>\n     <use style=\"fill:#1f77b4;stroke:#1f77b4;\" x=\"111.872847\" xlink:href=\"#m0c2fda8e03\" y=\"76.17627\"/>\n     <use style=\"fill:#1f77b4;stroke:#1f77b4;\" x=\"99.432017\" xlink:href=\"#m0c2fda8e03\" y=\"90.668975\"/>\n     <use style=\"fill:#1f77b4;stroke:#1f77b4;\" x=\"122.585544\" xlink:href=\"#m0c2fda8e03\" y=\"90.96407\"/>\n     <use style=\"fill:#1f77b4;stroke:#1f77b4;\" x=\"79.85912\" xlink:href=\"#m0c2fda8e03\" y=\"58.854083\"/>\n     <use style=\"fill:#1f77b4;stroke:#1f77b4;\" x=\"102.959889\" xlink:href=\"#m0c2fda8e03\" y=\"77.777599\"/>\n     <use style=\"fill:#1f77b4;stroke:#1f77b4;\" x=\"184.543478\" xlink:href=\"#m0c2fda8e03\" y=\"133.753258\"/>\n     <use style=\"fill:#1f77b4;stroke:#1f77b4;\" x=\"157.37586\" xlink:href=\"#m0c2fda8e03\" y=\"112.874118\"/>\n     <use style=\"fill:#1f77b4;stroke:#1f77b4;\" x=\"156.959993\" xlink:href=\"#m0c2fda8e03\" y=\"97.696598\"/>\n     <use style=\"fill:#1f77b4;stroke:#1f77b4;\" x=\"127.962142\" xlink:href=\"#m0c2fda8e03\" y=\"113.790601\"/>\n     <use style=\"fill:#1f77b4;stroke:#1f77b4;\" x=\"119.43801\" xlink:href=\"#m0c2fda8e03\" y=\"87.951167\"/>\n     <use style=\"fill:#1f77b4;stroke:#1f77b4;\" x=\"111.256919\" xlink:href=\"#m0c2fda8e03\" y=\"56.809534\"/>\n     <use style=\"fill:#1f77b4;stroke:#1f77b4;\" x=\"79.864209\" xlink:href=\"#m0c2fda8e03\" y=\"36.355159\"/>\n     <use style=\"fill:#1f77b4;stroke:#1f77b4;\" x=\"95.80797\" xlink:href=\"#m0c2fda8e03\" y=\"67.077053\"/>\n     <use style=\"fill:#1f77b4;stroke:#1f77b4;\" x=\"167.804729\" xlink:href=\"#m0c2fda8e03\" y=\"102.462353\"/>\n     <use style=\"fill:#1f77b4;stroke:#1f77b4;\" x=\"122.688317\" xlink:href=\"#m0c2fda8e03\" y=\"77.689995\"/>\n     <use style=\"fill:#1f77b4;stroke:#1f77b4;\" x=\"130.193782\" xlink:href=\"#m0c2fda8e03\" y=\"96.484523\"/>\n     <use style=\"fill:#1f77b4;stroke:#1f77b4;\" x=\"147.947714\" xlink:href=\"#m0c2fda8e03\" y=\"98.899661\"/>\n     <use style=\"fill:#1f77b4;stroke:#1f77b4;\" x=\"104.346092\" xlink:href=\"#m0c2fda8e03\" y=\"59.403903\"/>\n     <use style=\"fill:#1f77b4;stroke:#1f77b4;\" x=\"157.84738\" xlink:href=\"#m0c2fda8e03\" y=\"103.709107\"/>\n     <use style=\"fill:#1f77b4;stroke:#1f77b4;\" x=\"150.447106\" xlink:href=\"#m0c2fda8e03\" y=\"87.054796\"/>\n     <use style=\"fill:#1f77b4;stroke:#1f77b4;\" x=\"108.640783\" xlink:href=\"#m0c2fda8e03\" y=\"75.485154\"/>\n     <use style=\"fill:#1f77b4;stroke:#1f77b4;\" x=\"130.192134\" xlink:href=\"#m0c2fda8e03\" y=\"69.08984\"/>\n     <use style=\"fill:#1f77b4;stroke:#1f77b4;\" x=\"109.348648\" xlink:href=\"#m0c2fda8e03\" y=\"73.183296\"/>\n     <use style=\"fill:#1f77b4;stroke:#1f77b4;\" x=\"115.797447\" xlink:href=\"#m0c2fda8e03\" y=\"98.845367\"/>\n     <use style=\"fill:#1f77b4;stroke:#1f77b4;\" x=\"113.844695\" xlink:href=\"#m0c2fda8e03\" y=\"82.481664\"/>\n     <use style=\"fill:#1f77b4;stroke:#1f77b4;\" x=\"142.242868\" xlink:href=\"#m0c2fda8e03\" y=\"108.777707\"/>\n     <use style=\"fill:#1f77b4;stroke:#1f77b4;\" x=\"153.489081\" xlink:href=\"#m0c2fda8e03\" y=\"86.661853\"/>\n     <use style=\"fill:#1f77b4;stroke:#1f77b4;\" x=\"102.832822\" xlink:href=\"#m0c2fda8e03\" y=\"73.447598\"/>\n     <use style=\"fill:#1f77b4;stroke:#1f77b4;\" x=\"110.572626\" xlink:href=\"#m0c2fda8e03\" y=\"70.144585\"/>\n     <use style=\"fill:#1f77b4;stroke:#1f77b4;\" x=\"126.410639\" xlink:href=\"#m0c2fda8e03\" y=\"108.734221\"/>\n     <use style=\"fill:#1f77b4;stroke:#1f77b4;\" x=\"155.117335\" xlink:href=\"#m0c2fda8e03\" y=\"84.437264\"/>\n     <use style=\"fill:#1f77b4;stroke:#1f77b4;\" x=\"62.890373\" xlink:href=\"#m0c2fda8e03\" y=\"27.932829\"/>\n     <use style=\"fill:#1f77b4;stroke:#1f77b4;\" x=\"82.585295\" xlink:href=\"#m0c2fda8e03\" y=\"65.360548\"/>\n     <use style=\"fill:#1f77b4;stroke:#1f77b4;\" x=\"118.486105\" xlink:href=\"#m0c2fda8e03\" y=\"82.570746\"/>\n     <use style=\"fill:#1f77b4;stroke:#1f77b4;\" x=\"102.400573\" xlink:href=\"#m0c2fda8e03\" y=\"76.297073\"/>\n     <use style=\"fill:#1f77b4;stroke:#1f77b4;\" x=\"109.745715\" xlink:href=\"#m0c2fda8e03\" y=\"71.271926\"/>\n     <use style=\"fill:#1f77b4;stroke:#1f77b4;\" x=\"90.465678\" xlink:href=\"#m0c2fda8e03\" y=\"64.261251\"/>\n     <use style=\"fill:#1f77b4;stroke:#1f77b4;\" x=\"158.068891\" xlink:href=\"#m0c2fda8e03\" y=\"117.063433\"/>\n     <use style=\"fill:#1f77b4;stroke:#1f77b4;\" x=\"132.74725\" xlink:href=\"#m0c2fda8e03\" y=\"87.408343\"/>\n     <use style=\"fill:#1f77b4;stroke:#1f77b4;\" x=\"109.786727\" xlink:href=\"#m0c2fda8e03\" y=\"73.468057\"/>\n     <use style=\"fill:#1f77b4;stroke:#1f77b4;\" x=\"64.027667\" xlink:href=\"#m0c2fda8e03\" y=\"30.726271\"/>\n     <use style=\"fill:#1f77b4;stroke:#1f77b4;\" x=\"132.812341\" xlink:href=\"#m0c2fda8e03\" y=\"72.999673\"/>\n     <use style=\"fill:#1f77b4;stroke:#1f77b4;\" x=\"115.66557\" xlink:href=\"#m0c2fda8e03\" y=\"78.924297\"/>\n     <use style=\"fill:#1f77b4;stroke:#1f77b4;\" x=\"121.205635\" xlink:href=\"#m0c2fda8e03\" y=\"80.209435\"/>\n     <use style=\"fill:#1f77b4;stroke:#1f77b4;\" x=\"91.7048\" xlink:href=\"#m0c2fda8e03\" y=\"46.72059\"/>\n     <use style=\"fill:#1f77b4;stroke:#1f77b4;\" x=\"109.440011\" xlink:href=\"#m0c2fda8e03\" y=\"58.029602\"/>\n     <use style=\"fill:#1f77b4;stroke:#1f77b4;\" x=\"98.442873\" xlink:href=\"#m0c2fda8e03\" y=\"84.132114\"/>\n     <use style=\"fill:#1f77b4;stroke:#1f77b4;\" x=\"37.81946\" xlink:href=\"#m0c2fda8e03\" y=\"32.421911\"/>\n     <use style=\"fill:#1f77b4;stroke:#1f77b4;\" x=\"62.777926\" xlink:href=\"#m0c2fda8e03\" y=\"60.330716\"/>\n     <use style=\"fill:#1f77b4;stroke:#1f77b4;\" x=\"134.979279\" xlink:href=\"#m0c2fda8e03\" y=\"92.053777\"/>\n     <use style=\"fill:#1f77b4;stroke:#1f77b4;\" x=\"146.089286\" xlink:href=\"#m0c2fda8e03\" y=\"107.368105\"/>\n     <use style=\"fill:#1f77b4;stroke:#1f77b4;\" x=\"121.500407\" xlink:href=\"#m0c2fda8e03\" y=\"93.373262\"/>\n     <use style=\"fill:#1f77b4;stroke:#1f77b4;\" x=\"100.37731\" xlink:href=\"#m0c2fda8e03\" y=\"52.681573\"/>\n     <use style=\"fill:#1f77b4;stroke:#1f77b4;\" x=\"119.449988\" xlink:href=\"#m0c2fda8e03\" y=\"71.597234\"/>\n     <use style=\"fill:#1f77b4;stroke:#1f77b4;\" x=\"100.070584\" xlink:href=\"#m0c2fda8e03\" y=\"71.597138\"/>\n     <use style=\"fill:#1f77b4;stroke:#1f77b4;\" x=\"78.247582\" xlink:href=\"#m0c2fda8e03\" y=\"45.675558\"/>\n     <use style=\"fill:#1f77b4;stroke:#1f77b4;\" x=\"129.912644\" xlink:href=\"#m0c2fda8e03\" y=\"78.853655\"/>\n     <use style=\"fill:#1f77b4;stroke:#1f77b4;\" x=\"119.548882\" xlink:href=\"#m0c2fda8e03\" y=\"79.033464\"/>\n     <use style=\"fill:#1f77b4;stroke:#1f77b4;\" x=\"110.308771\" xlink:href=\"#m0c2fda8e03\" y=\"65.279308\"/>\n     <use style=\"fill:#1f77b4;stroke:#1f77b4;\" x=\"134.147524\" xlink:href=\"#m0c2fda8e03\" y=\"82.61945\"/>\n     <use style=\"fill:#1f77b4;stroke:#1f77b4;\" x=\"166.410096\" xlink:href=\"#m0c2fda8e03\" y=\"129.308508\"/>\n     <use style=\"fill:#1f77b4;stroke:#1f77b4;\" x=\"161.937329\" xlink:href=\"#m0c2fda8e03\" y=\"110.676427\"/>\n     <use style=\"fill:#1f77b4;stroke:#1f77b4;\" x=\"136.701428\" xlink:href=\"#m0c2fda8e03\" y=\"97.29573\"/>\n     <use style=\"fill:#1f77b4;stroke:#1f77b4;\" x=\"170.181342\" xlink:href=\"#m0c2fda8e03\" y=\"115.297839\"/>\n     <use style=\"fill:#1f77b4;stroke:#1f77b4;\" x=\"159.75829\" xlink:href=\"#m0c2fda8e03\" y=\"117.119019\"/>\n     <use style=\"fill:#1f77b4;stroke:#1f77b4;\" x=\"134.288715\" xlink:href=\"#m0c2fda8e03\" y=\"112.386366\"/>\n     <use style=\"fill:#1f77b4;stroke:#1f77b4;\" x=\"63.272361\" xlink:href=\"#m0c2fda8e03\" y=\"53.79925\"/>\n     <use style=\"fill:#1f77b4;stroke:#1f77b4;\" x=\"164.097663\" xlink:href=\"#m0c2fda8e03\" y=\"113.702205\"/>\n     <use style=\"fill:#1f77b4;stroke:#1f77b4;\" x=\"117.437071\" xlink:href=\"#m0c2fda8e03\" y=\"84.34982\"/>\n     <use style=\"fill:#1f77b4;stroke:#1f77b4;\" x=\"77.455567\" xlink:href=\"#m0c2fda8e03\" y=\"74.340633\"/>\n     <use style=\"fill:#1f77b4;stroke:#1f77b4;\" x=\"160.32262\" xlink:href=\"#m0c2fda8e03\" y=\"116.836794\"/>\n     <use style=\"fill:#1f77b4;stroke:#1f77b4;\" x=\"96.234712\" xlink:href=\"#m0c2fda8e03\" y=\"70.823531\"/>\n     <use style=\"fill:#1f77b4;stroke:#1f77b4;\" x=\"108.816108\" xlink:href=\"#m0c2fda8e03\" y=\"67.665045\"/>\n     <use style=\"fill:#1f77b4;stroke:#1f77b4;\" x=\"127.760489\" xlink:href=\"#m0c2fda8e03\" y=\"94.567563\"/>\n     <use style=\"fill:#1f77b4;stroke:#1f77b4;\" x=\"116.32223\" xlink:href=\"#m0c2fda8e03\" y=\"82.77037\"/>\n     <use style=\"fill:#1f77b4;stroke:#1f77b4;\" x=\"105.851101\" xlink:href=\"#m0c2fda8e03\" y=\"82.345735\"/>\n     <use style=\"fill:#1f77b4;stroke:#1f77b4;\" x=\"148.738529\" xlink:href=\"#m0c2fda8e03\" y=\"72.163011\"/>\n     <use style=\"fill:#1f77b4;stroke:#1f77b4;\" x=\"103.872898\" xlink:href=\"#m0c2fda8e03\" y=\"66.068604\"/>\n     <use style=\"fill:#1f77b4;stroke:#1f77b4;\" x=\"74.50398\" xlink:href=\"#m0c2fda8e03\" y=\"37.639\"/>\n     <use style=\"fill:#1f77b4;stroke:#1f77b4;\" x=\"145.758161\" xlink:href=\"#m0c2fda8e03\" y=\"84.164146\"/>\n     <use style=\"fill:#1f77b4;stroke:#1f77b4;\" x=\"125.210928\" xlink:href=\"#m0c2fda8e03\" y=\"67.761823\"/>\n     <use style=\"fill:#1f77b4;stroke:#1f77b4;\" x=\"55.9499\" xlink:href=\"#m0c2fda8e03\" y=\"43.585482\"/>\n     <use style=\"fill:#1f77b4;stroke:#1f77b4;\" x=\"160.398393\" xlink:href=\"#m0c2fda8e03\" y=\"109.391319\"/>\n     <use style=\"fill:#1f77b4;stroke:#1f77b4;\" x=\"98.959008\" xlink:href=\"#m0c2fda8e03\" y=\"69.347892\"/>\n     <use style=\"fill:#1f77b4;stroke:#1f77b4;\" x=\"136.240263\" xlink:href=\"#m0c2fda8e03\" y=\"95.503648\"/>\n     <use style=\"fill:#1f77b4;stroke:#1f77b4;\" x=\"59.720201\" xlink:href=\"#m0c2fda8e03\" y=\"39.561054\"/>\n     <use style=\"fill:#1f77b4;stroke:#1f77b4;\" x=\"123.039697\" xlink:href=\"#m0c2fda8e03\" y=\"86.587325\"/>\n     <use style=\"fill:#1f77b4;stroke:#1f77b4;\" x=\"140.818797\" xlink:href=\"#m0c2fda8e03\" y=\"103.572166\"/>\n     <use style=\"fill:#1f77b4;stroke:#1f77b4;\" x=\"98.883058\" xlink:href=\"#m0c2fda8e03\" y=\"86.911878\"/>\n     <use style=\"fill:#1f77b4;stroke:#1f77b4;\" x=\"151.25689\" xlink:href=\"#m0c2fda8e03\" y=\"86.410839\"/>\n     <use style=\"fill:#1f77b4;stroke:#1f77b4;\" x=\"120.992375\" xlink:href=\"#m0c2fda8e03\" y=\"78.669382\"/>\n     <use style=\"fill:#1f77b4;stroke:#1f77b4;\" x=\"107.15599\" xlink:href=\"#m0c2fda8e03\" y=\"70.378064\"/>\n     <use style=\"fill:#1f77b4;stroke:#1f77b4;\" x=\"104.143721\" xlink:href=\"#m0c2fda8e03\" y=\"51.320468\"/>\n     <use style=\"fill:#1f77b4;stroke:#1f77b4;\" x=\"120.935077\" xlink:href=\"#m0c2fda8e03\" y=\"71.449781\"/>\n     <use style=\"fill:#1f77b4;stroke:#1f77b4;\" x=\"135.565121\" xlink:href=\"#m0c2fda8e03\" y=\"84.471501\"/>\n     <use style=\"fill:#1f77b4;stroke:#1f77b4;\" x=\"154.810439\" xlink:href=\"#m0c2fda8e03\" y=\"85.064328\"/>\n     <use style=\"fill:#1f77b4;stroke:#1f77b4;\" x=\"108.750336\" xlink:href=\"#m0c2fda8e03\" y=\"71.049323\"/>\n     <use style=\"fill:#1f77b4;stroke:#1f77b4;\" x=\"101.916712\" xlink:href=\"#m0c2fda8e03\" y=\"41.859628\"/>\n     <use style=\"fill:#1f77b4;stroke:#1f77b4;\" x=\"105.477279\" xlink:href=\"#m0c2fda8e03\" y=\"83.514131\"/>\n     <use style=\"fill:#1f77b4;stroke:#1f77b4;\" x=\"138.110341\" xlink:href=\"#m0c2fda8e03\" y=\"90.609217\"/>\n     <use style=\"fill:#1f77b4;stroke:#1f77b4;\" x=\"77.052034\" xlink:href=\"#m0c2fda8e03\" y=\"61.378599\"/>\n     <use style=\"fill:#1f77b4;stroke:#1f77b4;\" x=\"166.578295\" xlink:href=\"#m0c2fda8e03\" y=\"117.902428\"/>\n     <use style=\"fill:#1f77b4;stroke:#1f77b4;\" x=\"121.72087\" xlink:href=\"#m0c2fda8e03\" y=\"73.140221\"/>\n     <use style=\"fill:#1f77b4;stroke:#1f77b4;\" x=\"133.142774\" xlink:href=\"#m0c2fda8e03\" y=\"99.365975\"/>\n     <use style=\"fill:#1f77b4;stroke:#1f77b4;\" x=\"166.812333\" xlink:href=\"#m0c2fda8e03\" y=\"124.247389\"/>\n     <use style=\"fill:#1f77b4;stroke:#1f77b4;\" x=\"116.790692\" xlink:href=\"#m0c2fda8e03\" y=\"89.526134\"/>\n     <use style=\"fill:#1f77b4;stroke:#1f77b4;\" x=\"91.175405\" xlink:href=\"#m0c2fda8e03\" y=\"55.063617\"/>\n     <use style=\"fill:#1f77b4;stroke:#1f77b4;\" x=\"82.881755\" xlink:href=\"#m0c2fda8e03\" y=\"39.770988\"/>\n     <use style=\"fill:#1f77b4;stroke:#1f77b4;\" x=\"180.707977\" xlink:href=\"#m0c2fda8e03\" y=\"110.5852\"/>\n     <use style=\"fill:#1f77b4;stroke:#1f77b4;\" x=\"101.785454\" xlink:href=\"#m0c2fda8e03\" y=\"61.386319\"/>\n     <use style=\"fill:#1f77b4;stroke:#1f77b4;\" x=\"150.296901\" xlink:href=\"#m0c2fda8e03\" y=\"92.359348\"/>\n     <use style=\"fill:#1f77b4;stroke:#1f77b4;\" x=\"111.304429\" xlink:href=\"#m0c2fda8e03\" y=\"68.528885\"/>\n     <use style=\"fill:#1f77b4;stroke:#1f77b4;\" x=\"105.160567\" xlink:href=\"#m0c2fda8e03\" y=\"89.955396\"/>\n     <use style=\"fill:#1f77b4;stroke:#1f77b4;\" x=\"108.315007\" xlink:href=\"#m0c2fda8e03\" y=\"87.958792\"/>\n     <use style=\"fill:#1f77b4;stroke:#1f77b4;\" x=\"149.270769\" xlink:href=\"#m0c2fda8e03\" y=\"87.712889\"/>\n     <use style=\"fill:#1f77b4;stroke:#1f77b4;\" x=\"151.426123\" xlink:href=\"#m0c2fda8e03\" y=\"92.946584\"/>\n     <use style=\"fill:#1f77b4;stroke:#1f77b4;\" x=\"129.653203\" xlink:href=\"#m0c2fda8e03\" y=\"85.80723\"/>\n     <use style=\"fill:#1f77b4;stroke:#1f77b4;\" x=\"107.814305\" xlink:href=\"#m0c2fda8e03\" y=\"61.397381\"/>\n     <use style=\"fill:#1f77b4;stroke:#1f77b4;\" x=\"140.355322\" xlink:href=\"#m0c2fda8e03\" y=\"61.431005\"/>\n     <use style=\"fill:#1f77b4;stroke:#1f77b4;\" x=\"150.1266\" xlink:href=\"#m0c2fda8e03\" y=\"110.58971\"/>\n     <use style=\"fill:#1f77b4;stroke:#1f77b4;\" x=\"111.021034\" xlink:href=\"#m0c2fda8e03\" y=\"63.049425\"/>\n     <use style=\"fill:#1f77b4;stroke:#1f77b4;\" x=\"70.920852\" xlink:href=\"#m0c2fda8e03\" y=\"45.992598\"/>\n     <use style=\"fill:#1f77b4;stroke:#1f77b4;\" x=\"101.122859\" xlink:href=\"#m0c2fda8e03\" y=\"60.655279\"/>\n     <use style=\"fill:#1f77b4;stroke:#1f77b4;\" x=\"81.322604\" xlink:href=\"#m0c2fda8e03\" y=\"49.37219\"/>\n     <use style=\"fill:#1f77b4;stroke:#1f77b4;\" x=\"104.30254\" xlink:href=\"#m0c2fda8e03\" y=\"71.002919\"/>\n     <use style=\"fill:#1f77b4;stroke:#1f77b4;\" x=\"123.802914\" xlink:href=\"#m0c2fda8e03\" y=\"82.62384\"/>\n     <use style=\"fill:#1f77b4;stroke:#1f77b4;\" x=\"80.094438\" xlink:href=\"#m0c2fda8e03\" y=\"44.436096\"/>\n     <use style=\"fill:#1f77b4;stroke:#1f77b4;\" x=\"73.216907\" xlink:href=\"#m0c2fda8e03\" y=\"47.78126\"/>\n     <use style=\"fill:#1f77b4;stroke:#1f77b4;\" x=\"53.57826\" xlink:href=\"#m0c2fda8e03\" y=\"53.787186\"/>\n     <use style=\"fill:#1f77b4;stroke:#1f77b4;\" x=\"115.205292\" xlink:href=\"#m0c2fda8e03\" y=\"66.70096\"/>\n     <use style=\"fill:#1f77b4;stroke:#1f77b4;\" x=\"95.677445\" xlink:href=\"#m0c2fda8e03\" y=\"65.953833\"/>\n     <use style=\"fill:#1f77b4;stroke:#1f77b4;\" x=\"104.725467\" xlink:href=\"#m0c2fda8e03\" y=\"50.789235\"/>\n     <use style=\"fill:#1f77b4;stroke:#1f77b4;\" x=\"85.828519\" xlink:href=\"#m0c2fda8e03\" y=\"54.128822\"/>\n     <use style=\"fill:#1f77b4;stroke:#1f77b4;\" x=\"97.276896\" xlink:href=\"#m0c2fda8e03\" y=\"59.263161\"/>\n     <use style=\"fill:#1f77b4;stroke:#1f77b4;\" x=\"81.215422\" xlink:href=\"#m0c2fda8e03\" y=\"34.286999\"/>\n     <use style=\"fill:#1f77b4;stroke:#1f77b4;\" x=\"119.271785\" xlink:href=\"#m0c2fda8e03\" y=\"76.878355\"/>\n     <use style=\"fill:#1f77b4;stroke:#1f77b4;\" x=\"106.025901\" xlink:href=\"#m0c2fda8e03\" y=\"86.295287\"/>\n     <use style=\"fill:#1f77b4;stroke:#1f77b4;\" x=\"81.68091\" xlink:href=\"#m0c2fda8e03\" y=\"70.463595\"/>\n     <use style=\"fill:#1f77b4;stroke:#1f77b4;\" x=\"131.555274\" xlink:href=\"#m0c2fda8e03\" y=\"73.884026\"/>\n     <use style=\"fill:#1f77b4;stroke:#1f77b4;\" x=\"146.710293\" xlink:href=\"#m0c2fda8e03\" y=\"83.746432\"/>\n     <use style=\"fill:#1f77b4;stroke:#1f77b4;\" x=\"126.215774\" xlink:href=\"#m0c2fda8e03\" y=\"75.465195\"/>\n     <use style=\"fill:#1f77b4;stroke:#1f77b4;\" x=\"75.661625\" xlink:href=\"#m0c2fda8e03\" y=\"48.122582\"/>\n     <use style=\"fill:#1f77b4;stroke:#1f77b4;\" x=\"118.378324\" xlink:href=\"#m0c2fda8e03\" y=\"92.572618\"/>\n     <use style=\"fill:#1f77b4;stroke:#1f77b4;\" x=\"67.440178\" xlink:href=\"#m0c2fda8e03\" y=\"33.733784\"/>\n     <use style=\"fill:#1f77b4;stroke:#1f77b4;\" x=\"135.022711\" xlink:href=\"#m0c2fda8e03\" y=\"88.311839\"/>\n     <use style=\"fill:#1f77b4;stroke:#1f77b4;\" x=\"139.576006\" xlink:href=\"#m0c2fda8e03\" y=\"93.580511\"/>\n     <use style=\"fill:#1f77b4;stroke:#1f77b4;\" x=\"119.656211\" xlink:href=\"#m0c2fda8e03\" y=\"75.649808\"/>\n     <use style=\"fill:#1f77b4;stroke:#1f77b4;\" x=\"137.133839\" xlink:href=\"#m0c2fda8e03\" y=\"90.759547\"/>\n     <use style=\"fill:#1f77b4;stroke:#1f77b4;\" x=\"138.848819\" xlink:href=\"#m0c2fda8e03\" y=\"74.847986\"/>\n     <use style=\"fill:#1f77b4;stroke:#1f77b4;\" x=\"107.985373\" xlink:href=\"#m0c2fda8e03\" y=\"70.236166\"/>\n     <use style=\"fill:#1f77b4;stroke:#1f77b4;\" x=\"118.638756\" xlink:href=\"#m0c2fda8e03\" y=\"70.723535\"/>\n     <use style=\"fill:#1f77b4;stroke:#1f77b4;\" x=\"102.478636\" xlink:href=\"#m0c2fda8e03\" y=\"67.493782\"/>\n     <use style=\"fill:#1f77b4;stroke:#1f77b4;\" x=\"153.089807\" xlink:href=\"#m0c2fda8e03\" y=\"85.051355\"/>\n     <use style=\"fill:#1f77b4;stroke:#1f77b4;\" x=\"84.220844\" xlink:href=\"#m0c2fda8e03\" y=\"63.590959\"/>\n     <use style=\"fill:#1f77b4;stroke:#1f77b4;\" x=\"189.491837\" xlink:href=\"#m0c2fda8e03\" y=\"125.019562\"/>\n     <use style=\"fill:#1f77b4;stroke:#1f77b4;\" x=\"82.553433\" xlink:href=\"#m0c2fda8e03\" y=\"58.072155\"/>\n     <use style=\"fill:#1f77b4;stroke:#1f77b4;\" x=\"109.384077\" xlink:href=\"#m0c2fda8e03\" y=\"62.299157\"/>\n     <use style=\"fill:#1f77b4;stroke:#1f77b4;\" x=\"96.203806\" xlink:href=\"#m0c2fda8e03\" y=\"65.103466\"/>\n     <use style=\"fill:#1f77b4;stroke:#1f77b4;\" x=\"80.074808\" xlink:href=\"#m0c2fda8e03\" y=\"64.964757\"/>\n     <use style=\"fill:#1f77b4;stroke:#1f77b4;\" x=\"97.672227\" xlink:href=\"#m0c2fda8e03\" y=\"47.501453\"/>\n     <use style=\"fill:#1f77b4;stroke:#1f77b4;\" x=\"106.543549\" xlink:href=\"#m0c2fda8e03\" y=\"76.382984\"/>\n     <use style=\"fill:#1f77b4;stroke:#1f77b4;\" x=\"81.84634\" xlink:href=\"#m0c2fda8e03\" y=\"58.647113\"/>\n     <use style=\"fill:#1f77b4;stroke:#1f77b4;\" x=\"107.51638\" xlink:href=\"#m0c2fda8e03\" y=\"74.406702\"/>\n     <use style=\"fill:#1f77b4;stroke:#1f77b4;\" x=\"125.015882\" xlink:href=\"#m0c2fda8e03\" y=\"91.39699\"/>\n     <use style=\"fill:#1f77b4;stroke:#1f77b4;\" x=\"139.243192\" xlink:href=\"#m0c2fda8e03\" y=\"86.988219\"/>\n     <use style=\"fill:#1f77b4;stroke:#1f77b4;\" x=\"107.908781\" xlink:href=\"#m0c2fda8e03\" y=\"66.634913\"/>\n     <use style=\"fill:#1f77b4;stroke:#1f77b4;\" x=\"169.798847\" xlink:href=\"#m0c2fda8e03\" y=\"112.835953\"/>\n     <use style=\"fill:#1f77b4;stroke:#1f77b4;\" x=\"111.882271\" xlink:href=\"#m0c2fda8e03\" y=\"77.864234\"/>\n     <use style=\"fill:#1f77b4;stroke:#1f77b4;\" x=\"149.813925\" xlink:href=\"#m0c2fda8e03\" y=\"101.579561\"/>\n     <use style=\"fill:#1f77b4;stroke:#1f77b4;\" x=\"131.690044\" xlink:href=\"#m0c2fda8e03\" y=\"87.982928\"/>\n     <use style=\"fill:#1f77b4;stroke:#1f77b4;\" x=\"81.598811\" xlink:href=\"#m0c2fda8e03\" y=\"58.654289\"/>\n     <use style=\"fill:#1f77b4;stroke:#1f77b4;\" x=\"78.50704\" xlink:href=\"#m0c2fda8e03\" y=\"54.476107\"/>\n     <use style=\"fill:#1f77b4;stroke:#1f77b4;\" x=\"102.25587\" xlink:href=\"#m0c2fda8e03\" y=\"67.387887\"/>\n     <use style=\"fill:#1f77b4;stroke:#1f77b4;\" x=\"116.025089\" xlink:href=\"#m0c2fda8e03\" y=\"91.602794\"/>\n     <use style=\"fill:#1f77b4;stroke:#1f77b4;\" x=\"93.841161\" xlink:href=\"#m0c2fda8e03\" y=\"81.776714\"/>\n     <use style=\"fill:#1f77b4;stroke:#1f77b4;\" x=\"145.643858\" xlink:href=\"#m0c2fda8e03\" y=\"90.680088\"/>\n     <use style=\"fill:#1f77b4;stroke:#1f77b4;\" x=\"136.603139\" xlink:href=\"#m0c2fda8e03\" y=\"109.631862\"/>\n     <use style=\"fill:#1f77b4;stroke:#1f77b4;\" x=\"144.014661\" xlink:href=\"#m0c2fda8e03\" y=\"85.496674\"/>\n     <use style=\"fill:#1f77b4;stroke:#1f77b4;\" x=\"126.161999\" xlink:href=\"#m0c2fda8e03\" y=\"101.093721\"/>\n     <use style=\"fill:#1f77b4;stroke:#1f77b4;\" x=\"80.198144\" xlink:href=\"#m0c2fda8e03\" y=\"56.544825\"/>\n     <use style=\"fill:#1f77b4;stroke:#1f77b4;\" x=\"152.689253\" xlink:href=\"#m0c2fda8e03\" y=\"90.648025\"/>\n     <use style=\"fill:#1f77b4;stroke:#1f77b4;\" x=\"116.457041\" xlink:href=\"#m0c2fda8e03\" y=\"63.875187\"/>\n     <use style=\"fill:#1f77b4;stroke:#1f77b4;\" x=\"162.404743\" xlink:href=\"#m0c2fda8e03\" y=\"118.361671\"/>\n     <use style=\"fill:#1f77b4;stroke:#1f77b4;\" x=\"98.108488\" xlink:href=\"#m0c2fda8e03\" y=\"62.552222\"/>\n     <use style=\"fill:#1f77b4;stroke:#1f77b4;\" x=\"84.610483\" xlink:href=\"#m0c2fda8e03\" y=\"56.919919\"/>\n     <use style=\"fill:#1f77b4;stroke:#1f77b4;\" x=\"70.43441\" xlink:href=\"#m0c2fda8e03\" y=\"64.936951\"/>\n     <use style=\"fill:#1f77b4;stroke:#1f77b4;\" x=\"104.763263\" xlink:href=\"#m0c2fda8e03\" y=\"57.885867\"/>\n     <use style=\"fill:#1f77b4;stroke:#1f77b4;\" x=\"203.280288\" xlink:href=\"#m0c2fda8e03\" y=\"130.677354\"/>\n     <use style=\"fill:#1f77b4;stroke:#1f77b4;\" x=\"143.353198\" xlink:href=\"#m0c2fda8e03\" y=\"78.764193\"/>\n     <use style=\"fill:#1f77b4;stroke:#1f77b4;\" x=\"130.563812\" xlink:href=\"#m0c2fda8e03\" y=\"99.902094\"/>\n     <use style=\"fill:#1f77b4;stroke:#1f77b4;\" x=\"137.79499\" xlink:href=\"#m0c2fda8e03\" y=\"81.878268\"/>\n     <use style=\"fill:#1f77b4;stroke:#1f77b4;\" x=\"98.501563\" xlink:href=\"#m0c2fda8e03\" y=\"51.331634\"/>\n     <use style=\"fill:#1f77b4;stroke:#1f77b4;\" x=\"93.224036\" xlink:href=\"#m0c2fda8e03\" y=\"76.837602\"/>\n     <use style=\"fill:#1f77b4;stroke:#1f77b4;\" x=\"124.313039\" xlink:href=\"#m0c2fda8e03\" y=\"71.808455\"/>\n     <use style=\"fill:#1f77b4;stroke:#1f77b4;\" x=\"131.555223\" xlink:href=\"#m0c2fda8e03\" y=\"81.272326\"/>\n     <use style=\"fill:#1f77b4;stroke:#1f77b4;\" x=\"98.511579\" xlink:href=\"#m0c2fda8e03\" y=\"79.865236\"/>\n     <use style=\"fill:#1f77b4;stroke:#1f77b4;\" x=\"108.293828\" xlink:href=\"#m0c2fda8e03\" y=\"51.164866\"/>\n     <use style=\"fill:#1f77b4;stroke:#1f77b4;\" x=\"115.889957\" xlink:href=\"#m0c2fda8e03\" y=\"74.069836\"/>\n     <use style=\"fill:#1f77b4;stroke:#1f77b4;\" x=\"64.0511\" xlink:href=\"#m0c2fda8e03\" y=\"52.172981\"/>\n     <use style=\"fill:#1f77b4;stroke:#1f77b4;\" x=\"90.836216\" xlink:href=\"#m0c2fda8e03\" y=\"47.043737\"/>\n     <use style=\"fill:#1f77b4;stroke:#1f77b4;\" x=\"120.553939\" xlink:href=\"#m0c2fda8e03\" y=\"104.528678\"/>\n     <use style=\"fill:#1f77b4;stroke:#1f77b4;\" x=\"110.902523\" xlink:href=\"#m0c2fda8e03\" y=\"86.21337\"/>\n     <use style=\"fill:#1f77b4;stroke:#1f77b4;\" x=\"95.299257\" xlink:href=\"#m0c2fda8e03\" y=\"66.877437\"/>\n     <use style=\"fill:#1f77b4;stroke:#1f77b4;\" x=\"169.638458\" xlink:href=\"#m0c2fda8e03\" y=\"120.637627\"/>\n     <use style=\"fill:#1f77b4;stroke:#1f77b4;\" x=\"94.413509\" xlink:href=\"#m0c2fda8e03\" y=\"64.779304\"/>\n     <use style=\"fill:#1f77b4;stroke:#1f77b4;\" x=\"113.000071\" xlink:href=\"#m0c2fda8e03\" y=\"73.76908\"/>\n     <use style=\"fill:#1f77b4;stroke:#1f77b4;\" x=\"132.423565\" xlink:href=\"#m0c2fda8e03\" y=\"93.501005\"/>\n     <use style=\"fill:#1f77b4;stroke:#1f77b4;\" x=\"97.630737\" xlink:href=\"#m0c2fda8e03\" y=\"65.161754\"/>\n     <use style=\"fill:#1f77b4;stroke:#1f77b4;\" x=\"164.908818\" xlink:href=\"#m0c2fda8e03\" y=\"122.35844\"/>\n     <use style=\"fill:#1f77b4;stroke:#1f77b4;\" x=\"176.331021\" xlink:href=\"#m0c2fda8e03\" y=\"136.015264\"/>\n     <use style=\"fill:#1f77b4;stroke:#1f77b4;\" x=\"143.383334\" xlink:href=\"#m0c2fda8e03\" y=\"94.489994\"/>\n     <use style=\"fill:#1f77b4;stroke:#1f77b4;\" x=\"98.977806\" xlink:href=\"#m0c2fda8e03\" y=\"85.817032\"/>\n     <use style=\"fill:#1f77b4;stroke:#1f77b4;\" x=\"152.813473\" xlink:href=\"#m0c2fda8e03\" y=\"101.31892\"/>\n     <use style=\"fill:#1f77b4;stroke:#1f77b4;\" x=\"100.722856\" xlink:href=\"#m0c2fda8e03\" y=\"43.22903\"/>\n     <use style=\"fill:#1f77b4;stroke:#1f77b4;\" x=\"82.983706\" xlink:href=\"#m0c2fda8e03\" y=\"45.782101\"/>\n     <use style=\"fill:#1f77b4;stroke:#1f77b4;\" x=\"114.008465\" xlink:href=\"#m0c2fda8e03\" y=\"56.027255\"/>\n     <use style=\"fill:#1f77b4;stroke:#1f77b4;\" x=\"125.930702\" xlink:href=\"#m0c2fda8e03\" y=\"88.856775\"/>\n     <use style=\"fill:#1f77b4;stroke:#1f77b4;\" x=\"114.912713\" xlink:href=\"#m0c2fda8e03\" y=\"77.926418\"/>\n     <use style=\"fill:#1f77b4;stroke:#1f77b4;\" x=\"78.978747\" xlink:href=\"#m0c2fda8e03\" y=\"44.816848\"/>\n     <use style=\"fill:#1f77b4;stroke:#1f77b4;\" x=\"72.581549\" xlink:href=\"#m0c2fda8e03\" y=\"50.07553\"/>\n     <use style=\"fill:#1f77b4;stroke:#1f77b4;\" x=\"126.209639\" xlink:href=\"#m0c2fda8e03\" y=\"75.295189\"/>\n     <use style=\"fill:#1f77b4;stroke:#1f77b4;\" x=\"95.21373\" xlink:href=\"#m0c2fda8e03\" y=\"54.835167\"/>\n     <use style=\"fill:#1f77b4;stroke:#1f77b4;\" x=\"138.921989\" xlink:href=\"#m0c2fda8e03\" y=\"89.108074\"/>\n     <use style=\"fill:#1f77b4;stroke:#1f77b4;\" x=\"124.516898\" xlink:href=\"#m0c2fda8e03\" y=\"107.125281\"/>\n     <use style=\"fill:#1f77b4;stroke:#1f77b4;\" x=\"71.648204\" xlink:href=\"#m0c2fda8e03\" y=\"26.714831\"/>\n     <use style=\"fill:#1f77b4;stroke:#1f77b4;\" x=\"121.818091\" xlink:href=\"#m0c2fda8e03\" y=\"73.285441\"/>\n     <use style=\"fill:#1f77b4;stroke:#1f77b4;\" x=\"124.007802\" xlink:href=\"#m0c2fda8e03\" y=\"91.954233\"/>\n     <use style=\"fill:#1f77b4;stroke:#1f77b4;\" x=\"139.084031\" xlink:href=\"#m0c2fda8e03\" y=\"87.787754\"/>\n     <use style=\"fill:#1f77b4;stroke:#1f77b4;\" x=\"109.777241\" xlink:href=\"#m0c2fda8e03\" y=\"58.761797\"/>\n     <use style=\"fill:#1f77b4;stroke:#1f77b4;\" x=\"108.816794\" xlink:href=\"#m0c2fda8e03\" y=\"69.306698\"/>\n     <use style=\"fill:#1f77b4;stroke:#1f77b4;\" x=\"124.341671\" xlink:href=\"#m0c2fda8e03\" y=\"87.908002\"/>\n     <use style=\"fill:#1f77b4;stroke:#1f77b4;\" x=\"102.340337\" xlink:href=\"#m0c2fda8e03\" y=\"74.64718\"/>\n     <use style=\"fill:#1f77b4;stroke:#1f77b4;\" x=\"105.718364\" xlink:href=\"#m0c2fda8e03\" y=\"93.900366\"/>\n     <use style=\"fill:#1f77b4;stroke:#1f77b4;\" x=\"119.840101\" xlink:href=\"#m0c2fda8e03\" y=\"81.509508\"/>\n     <use style=\"fill:#1f77b4;stroke:#1f77b4;\" x=\"58.989471\" xlink:href=\"#m0c2fda8e03\" y=\"54.98036\"/>\n     <use style=\"fill:#1f77b4;stroke:#1f77b4;\" x=\"151.13832\" xlink:href=\"#m0c2fda8e03\" y=\"108.939946\"/>\n     <use style=\"fill:#1f77b4;stroke:#1f77b4;\" x=\"117.358078\" xlink:href=\"#m0c2fda8e03\" y=\"95.78202\"/>\n     <use style=\"fill:#1f77b4;stroke:#1f77b4;\" x=\"129.8899\" xlink:href=\"#m0c2fda8e03\" y=\"110.701113\"/>\n     <use style=\"fill:#1f77b4;stroke:#1f77b4;\" x=\"50.281167\" xlink:href=\"#m0c2fda8e03\" y=\"19.330393\"/>\n     <use style=\"fill:#1f77b4;stroke:#1f77b4;\" x=\"138.588937\" xlink:href=\"#m0c2fda8e03\" y=\"91.422773\"/>\n     <use style=\"fill:#1f77b4;stroke:#1f77b4;\" x=\"114.46992\" xlink:href=\"#m0c2fda8e03\" y=\"82.218737\"/>\n     <use style=\"fill:#1f77b4;stroke:#1f77b4;\" x=\"103.617263\" xlink:href=\"#m0c2fda8e03\" y=\"61.961655\"/>\n     <use style=\"fill:#1f77b4;stroke:#1f77b4;\" x=\"60.237607\" xlink:href=\"#m0c2fda8e03\" y=\"43.621964\"/>\n     <use style=\"fill:#1f77b4;stroke:#1f77b4;\" x=\"103.927792\" xlink:href=\"#m0c2fda8e03\" y=\"60.433288\"/>\n     <use style=\"fill:#1f77b4;stroke:#1f77b4;\" x=\"141.617616\" xlink:href=\"#m0c2fda8e03\" y=\"88.831847\"/>\n     <use style=\"fill:#1f77b4;stroke:#1f77b4;\" x=\"119.314771\" xlink:href=\"#m0c2fda8e03\" y=\"62.52516\"/>\n     <use style=\"fill:#1f77b4;stroke:#1f77b4;\" x=\"102.169493\" xlink:href=\"#m0c2fda8e03\" y=\"42.437296\"/>\n     <use style=\"fill:#1f77b4;stroke:#1f77b4;\" x=\"78.250538\" xlink:href=\"#m0c2fda8e03\" y=\"48.994249\"/>\n     <use style=\"fill:#1f77b4;stroke:#1f77b4;\" x=\"74.021786\" xlink:href=\"#m0c2fda8e03\" y=\"63.488941\"/>\n     <use style=\"fill:#1f77b4;stroke:#1f77b4;\" x=\"162.871222\" xlink:href=\"#m0c2fda8e03\" y=\"99.622516\"/>\n     <use style=\"fill:#1f77b4;stroke:#1f77b4;\" x=\"133.360001\" xlink:href=\"#m0c2fda8e03\" y=\"106.783088\"/>\n     <use style=\"fill:#1f77b4;stroke:#1f77b4;\" x=\"169.979557\" xlink:href=\"#m0c2fda8e03\" y=\"129.119783\"/>\n     <use style=\"fill:#1f77b4;stroke:#1f77b4;\" x=\"112.873622\" xlink:href=\"#m0c2fda8e03\" y=\"81.256371\"/>\n     <use style=\"fill:#1f77b4;stroke:#1f77b4;\" x=\"62.696605\" xlink:href=\"#m0c2fda8e03\" y=\"36.541472\"/>\n     <use style=\"fill:#1f77b4;stroke:#1f77b4;\" x=\"130.761773\" xlink:href=\"#m0c2fda8e03\" y=\"90.575572\"/>\n     <use style=\"fill:#1f77b4;stroke:#1f77b4;\" x=\"67.898782\" xlink:href=\"#m0c2fda8e03\" y=\"51.809779\"/>\n     <use style=\"fill:#1f77b4;stroke:#1f77b4;\" x=\"143.558722\" xlink:href=\"#m0c2fda8e03\" y=\"96.346763\"/>\n     <use style=\"fill:#1f77b4;stroke:#1f77b4;\" x=\"141.635781\" xlink:href=\"#m0c2fda8e03\" y=\"111.379512\"/>\n     <use style=\"fill:#1f77b4;stroke:#1f77b4;\" x=\"120.364356\" xlink:href=\"#m0c2fda8e03\" y=\"64.727989\"/>\n     <use style=\"fill:#1f77b4;stroke:#1f77b4;\" x=\"68.615787\" xlink:href=\"#m0c2fda8e03\" y=\"26.697509\"/>\n     <use style=\"fill:#1f77b4;stroke:#1f77b4;\" x=\"147.652105\" xlink:href=\"#m0c2fda8e03\" y=\"93.614845\"/>\n     <use style=\"fill:#1f77b4;stroke:#1f77b4;\" x=\"118.080094\" xlink:href=\"#m0c2fda8e03\" y=\"76.467498\"/>\n     <use style=\"fill:#1f77b4;stroke:#1f77b4;\" x=\"113.98464\" xlink:href=\"#m0c2fda8e03\" y=\"65.723836\"/>\n     <use style=\"fill:#1f77b4;stroke:#1f77b4;\" x=\"75.082362\" xlink:href=\"#m0c2fda8e03\" y=\"52.412916\"/>\n     <use style=\"fill:#1f77b4;stroke:#1f77b4;\" x=\"114.28097\" xlink:href=\"#m0c2fda8e03\" y=\"97.641274\"/>\n     <use style=\"fill:#1f77b4;stroke:#1f77b4;\" x=\"139.562875\" xlink:href=\"#m0c2fda8e03\" y=\"87.511719\"/>\n     <use style=\"fill:#1f77b4;stroke:#1f77b4;\" x=\"149.959486\" xlink:href=\"#m0c2fda8e03\" y=\"82.110353\"/>\n     <use style=\"fill:#1f77b4;stroke:#1f77b4;\" x=\"167.131301\" xlink:href=\"#m0c2fda8e03\" y=\"107.397446\"/>\n     <use style=\"fill:#1f77b4;stroke:#1f77b4;\" x=\"52.825101\" xlink:href=\"#m0c2fda8e03\" y=\"13.377273\"/>\n     <use style=\"fill:#1f77b4;stroke:#1f77b4;\" x=\"130.14094\" xlink:href=\"#m0c2fda8e03\" y=\"90.154246\"/>\n     <use style=\"fill:#1f77b4;stroke:#1f77b4;\" x=\"119.761854\" xlink:href=\"#m0c2fda8e03\" y=\"73.961697\"/>\n     <use style=\"fill:#1f77b4;stroke:#1f77b4;\" x=\"162.634761\" xlink:href=\"#m0c2fda8e03\" y=\"107.734462\"/>\n     <use style=\"fill:#1f77b4;stroke:#1f77b4;\" x=\"110.28968\" xlink:href=\"#m0c2fda8e03\" y=\"64.690814\"/>\n     <use style=\"fill:#1f77b4;stroke:#1f77b4;\" x=\"154.567308\" xlink:href=\"#m0c2fda8e03\" y=\"100.91152\"/>\n     <use style=\"fill:#1f77b4;stroke:#1f77b4;\" x=\"108.318802\" xlink:href=\"#m0c2fda8e03\" y=\"66.084119\"/>\n     <use style=\"fill:#1f77b4;stroke:#1f77b4;\" x=\"142.197706\" xlink:href=\"#m0c2fda8e03\" y=\"81.676461\"/>\n     <use style=\"fill:#1f77b4;stroke:#1f77b4;\" x=\"135.2436\" xlink:href=\"#m0c2fda8e03\" y=\"94.119037\"/>\n     <use style=\"fill:#1f77b4;stroke:#1f77b4;\" x=\"105.798886\" xlink:href=\"#m0c2fda8e03\" y=\"52.046349\"/>\n     <use style=\"fill:#1f77b4;stroke:#1f77b4;\" x=\"92.868991\" xlink:href=\"#m0c2fda8e03\" y=\"68.719711\"/>\n     <use style=\"fill:#1f77b4;stroke:#1f77b4;\" x=\"117.732114\" xlink:href=\"#m0c2fda8e03\" y=\"87.154677\"/>\n     <use style=\"fill:#1f77b4;stroke:#1f77b4;\" x=\"91.956025\" xlink:href=\"#m0c2fda8e03\" y=\"81.048173\"/>\n     <use style=\"fill:#1f77b4;stroke:#1f77b4;\" x=\"99.147777\" xlink:href=\"#m0c2fda8e03\" y=\"78.701167\"/>\n     <use style=\"fill:#1f77b4;stroke:#1f77b4;\" x=\"132.562185\" xlink:href=\"#m0c2fda8e03\" y=\"85.595547\"/>\n     <use style=\"fill:#1f77b4;stroke:#1f77b4;\" x=\"139.081793\" xlink:href=\"#m0c2fda8e03\" y=\"92.072085\"/>\n     <use style=\"fill:#1f77b4;stroke:#1f77b4;\" x=\"118.939362\" xlink:href=\"#m0c2fda8e03\" y=\"76.979878\"/>\n     <use style=\"fill:#1f77b4;stroke:#1f77b4;\" x=\"61.12929\" xlink:href=\"#m0c2fda8e03\" y=\"31.744216\"/>\n     <use style=\"fill:#1f77b4;stroke:#1f77b4;\" x=\"52.478261\" xlink:href=\"#m0c2fda8e03\" y=\"34.348269\"/>\n     <use style=\"fill:#1f77b4;stroke:#1f77b4;\" x=\"81.592858\" xlink:href=\"#m0c2fda8e03\" y=\"50.900392\"/>\n     <use style=\"fill:#1f77b4;stroke:#1f77b4;\" x=\"122.046266\" xlink:href=\"#m0c2fda8e03\" y=\"82.872985\"/>\n     <use style=\"fill:#1f77b4;stroke:#1f77b4;\" x=\"158.085837\" xlink:href=\"#m0c2fda8e03\" y=\"118.047676\"/>\n     <use style=\"fill:#1f77b4;stroke:#1f77b4;\" x=\"145.765963\" xlink:href=\"#m0c2fda8e03\" y=\"125.475788\"/>\n     <use style=\"fill:#1f77b4;stroke:#1f77b4;\" x=\"127.294419\" xlink:href=\"#m0c2fda8e03\" y=\"78.045368\"/>\n     <use style=\"fill:#1f77b4;stroke:#1f77b4;\" x=\"113.960943\" xlink:href=\"#m0c2fda8e03\" y=\"76.977792\"/>\n     <use style=\"fill:#1f77b4;stroke:#1f77b4;\" x=\"100.380285\" xlink:href=\"#m0c2fda8e03\" y=\"49.599659\"/>\n     <use style=\"fill:#1f77b4;stroke:#1f77b4;\" x=\"160.268162\" xlink:href=\"#m0c2fda8e03\" y=\"114.523971\"/>\n     <use style=\"fill:#1f77b4;stroke:#1f77b4;\" x=\"108.74179\" xlink:href=\"#m0c2fda8e03\" y=\"86.764655\"/>\n     <use style=\"fill:#1f77b4;stroke:#1f77b4;\" x=\"113.702936\" xlink:href=\"#m0c2fda8e03\" y=\"78.856036\"/>\n     <use style=\"fill:#1f77b4;stroke:#1f77b4;\" x=\"156.048026\" xlink:href=\"#m0c2fda8e03\" y=\"94.269907\"/>\n     <use style=\"fill:#1f77b4;stroke:#1f77b4;\" x=\"112.447323\" xlink:href=\"#m0c2fda8e03\" y=\"75.117963\"/>\n     <use style=\"fill:#1f77b4;stroke:#1f77b4;\" x=\"139.324737\" xlink:href=\"#m0c2fda8e03\" y=\"90.897467\"/>\n     <use style=\"fill:#1f77b4;stroke:#1f77b4;\" x=\"90.933017\" xlink:href=\"#m0c2fda8e03\" y=\"65.57687\"/>\n     <use style=\"fill:#1f77b4;stroke:#1f77b4;\" x=\"134.666046\" xlink:href=\"#m0c2fda8e03\" y=\"89.28753\"/>\n     <use style=\"fill:#1f77b4;stroke:#1f77b4;\" x=\"142.513829\" xlink:href=\"#m0c2fda8e03\" y=\"94.433186\"/>\n     <use style=\"fill:#1f77b4;stroke:#1f77b4;\" x=\"118.6465\" xlink:href=\"#m0c2fda8e03\" y=\"58.962362\"/>\n     <use style=\"fill:#1f77b4;stroke:#1f77b4;\" x=\"148.355534\" xlink:href=\"#m0c2fda8e03\" y=\"105.266768\"/>\n     <use style=\"fill:#1f77b4;stroke:#1f77b4;\" x=\"90.929573\" xlink:href=\"#m0c2fda8e03\" y=\"67.672914\"/>\n     <use style=\"fill:#1f77b4;stroke:#1f77b4;\" x=\"200.923526\" xlink:href=\"#m0c2fda8e03\" y=\"127.965297\"/>\n     <use style=\"fill:#1f77b4;stroke:#1f77b4;\" x=\"143.0027\" xlink:href=\"#m0c2fda8e03\" y=\"106.345358\"/>\n     <use style=\"fill:#1f77b4;stroke:#1f77b4;\" x=\"163.01415\" xlink:href=\"#m0c2fda8e03\" y=\"93.742842\"/>\n     <use style=\"fill:#1f77b4;stroke:#1f77b4;\" x=\"157.418556\" xlink:href=\"#m0c2fda8e03\" y=\"96.3579\"/>\n     <use style=\"fill:#1f77b4;stroke:#1f77b4;\" x=\"74.868546\" xlink:href=\"#m0c2fda8e03\" y=\"60.443543\"/>\n     <use style=\"fill:#1f77b4;stroke:#1f77b4;\" x=\"157.189579\" xlink:href=\"#m0c2fda8e03\" y=\"109.97469\"/>\n     <use style=\"fill:#1f77b4;stroke:#1f77b4;\" x=\"155.967989\" xlink:href=\"#m0c2fda8e03\" y=\"102.799503\"/>\n     <use style=\"fill:#1f77b4;stroke:#1f77b4;\" x=\"103.187623\" xlink:href=\"#m0c2fda8e03\" y=\"61.734421\"/>\n     <use style=\"fill:#1f77b4;stroke:#1f77b4;\" x=\"148.041573\" xlink:href=\"#m0c2fda8e03\" y=\"87.340064\"/>\n     <use style=\"fill:#1f77b4;stroke:#1f77b4;\" x=\"171.812153\" xlink:href=\"#m0c2fda8e03\" y=\"124.575187\"/>\n     <use style=\"fill:#1f77b4;stroke:#1f77b4;\" x=\"150.333984\" xlink:href=\"#m0c2fda8e03\" y=\"106.191651\"/>\n     <use style=\"fill:#1f77b4;stroke:#1f77b4;\" x=\"157.515524\" xlink:href=\"#m0c2fda8e03\" y=\"102.515629\"/>\n     <use style=\"fill:#1f77b4;stroke:#1f77b4;\" x=\"119.657598\" xlink:href=\"#m0c2fda8e03\" y=\"79.551598\"/>\n     <use style=\"fill:#1f77b4;stroke:#1f77b4;\" x=\"160.353119\" xlink:href=\"#m0c2fda8e03\" y=\"109.022497\"/>\n     <use style=\"fill:#1f77b4;stroke:#1f77b4;\" x=\"142.15012\" xlink:href=\"#m0c2fda8e03\" y=\"114.234147\"/>\n     <use style=\"fill:#1f77b4;stroke:#1f77b4;\" x=\"147.989352\" xlink:href=\"#m0c2fda8e03\" y=\"85.967486\"/>\n     <use style=\"fill:#1f77b4;stroke:#1f77b4;\" x=\"177.008054\" xlink:href=\"#m0c2fda8e03\" y=\"136.799854\"/>\n     <use style=\"fill:#1f77b4;stroke:#1f77b4;\" x=\"112.676242\" xlink:href=\"#m0c2fda8e03\" y=\"80.888913\"/>\n     <use style=\"fill:#1f77b4;stroke:#1f77b4;\" x=\"131.920089\" xlink:href=\"#m0c2fda8e03\" y=\"95.196034\"/>\n     <use style=\"fill:#1f77b4;stroke:#1f77b4;\" x=\"112.347155\" xlink:href=\"#m0c2fda8e03\" y=\"68.588417\"/>\n     <use style=\"fill:#1f77b4;stroke:#1f77b4;\" x=\"148.703704\" xlink:href=\"#m0c2fda8e03\" y=\"101.630701\"/>\n     <use style=\"fill:#1f77b4;stroke:#1f77b4;\" x=\"96.884552\" xlink:href=\"#m0c2fda8e03\" y=\"76.997388\"/>\n     <use style=\"fill:#1f77b4;stroke:#1f77b4;\" x=\"104.98442\" xlink:href=\"#m0c2fda8e03\" y=\"65.1719\"/>\n     <use style=\"fill:#1f77b4;stroke:#1f77b4;\" x=\"51.275004\" xlink:href=\"#m0c2fda8e03\" y=\"41.007791\"/>\n     <use style=\"fill:#1f77b4;stroke:#1f77b4;\" x=\"91.067505\" xlink:href=\"#m0c2fda8e03\" y=\"71.54346\"/>\n     <use style=\"fill:#1f77b4;stroke:#1f77b4;\" x=\"94.786504\" xlink:href=\"#m0c2fda8e03\" y=\"68.257683\"/>\n     <use style=\"fill:#1f77b4;stroke:#1f77b4;\" x=\"139.105157\" xlink:href=\"#m0c2fda8e03\" y=\"79.945171\"/>\n     <use style=\"fill:#1f77b4;stroke:#1f77b4;\" x=\"170.774164\" xlink:href=\"#m0c2fda8e03\" y=\"103.887811\"/>\n     <use style=\"fill:#1f77b4;stroke:#1f77b4;\" x=\"131.052348\" xlink:href=\"#m0c2fda8e03\" y=\"67.158145\"/>\n     <use style=\"fill:#1f77b4;stroke:#1f77b4;\" x=\"81.542587\" xlink:href=\"#m0c2fda8e03\" y=\"66.546332\"/>\n     <use style=\"fill:#1f77b4;stroke:#1f77b4;\" x=\"113.768909\" xlink:href=\"#m0c2fda8e03\" y=\"76.898651\"/>\n     <use style=\"fill:#1f77b4;stroke:#1f77b4;\" x=\"79.400659\" xlink:href=\"#m0c2fda8e03\" y=\"42.630817\"/>\n     <use style=\"fill:#1f77b4;stroke:#1f77b4;\" x=\"103.012305\" xlink:href=\"#m0c2fda8e03\" y=\"65.393424\"/>\n     <use style=\"fill:#1f77b4;stroke:#1f77b4;\" x=\"96.202677\" xlink:href=\"#m0c2fda8e03\" y=\"57.813831\"/>\n     <use style=\"fill:#1f77b4;stroke:#1f77b4;\" x=\"133.323247\" xlink:href=\"#m0c2fda8e03\" y=\"90.166198\"/>\n     <use style=\"fill:#1f77b4;stroke:#1f77b4;\" x=\"125.788492\" xlink:href=\"#m0c2fda8e03\" y=\"87.430105\"/>\n     <use style=\"fill:#1f77b4;stroke:#1f77b4;\" x=\"143.368704\" xlink:href=\"#m0c2fda8e03\" y=\"121.530174\"/>\n     <use style=\"fill:#1f77b4;stroke:#1f77b4;\" x=\"142.23848\" xlink:href=\"#m0c2fda8e03\" y=\"88.490808\"/>\n     <use style=\"fill:#1f77b4;stroke:#1f77b4;\" x=\"72.780977\" xlink:href=\"#m0c2fda8e03\" y=\"50.965174\"/>\n     <use style=\"fill:#1f77b4;stroke:#1f77b4;\" x=\"142.410058\" xlink:href=\"#m0c2fda8e03\" y=\"91.382882\"/>\n     <use style=\"fill:#1f77b4;stroke:#1f77b4;\" x=\"87.537599\" xlink:href=\"#m0c2fda8e03\" y=\"50.646332\"/>\n     <use style=\"fill:#1f77b4;stroke:#1f77b4;\" x=\"157.274757\" xlink:href=\"#m0c2fda8e03\" y=\"91.374653\"/>\n     <use style=\"fill:#1f77b4;stroke:#1f77b4;\" x=\"145.827148\" xlink:href=\"#m0c2fda8e03\" y=\"95.099452\"/>\n     <use style=\"fill:#1f77b4;stroke:#1f77b4;\" x=\"134.421532\" xlink:href=\"#m0c2fda8e03\" y=\"114.026656\"/>\n     <use style=\"fill:#1f77b4;stroke:#1f77b4;\" x=\"112.036008\" xlink:href=\"#m0c2fda8e03\" y=\"63.420136\"/>\n     <use style=\"fill:#1f77b4;stroke:#1f77b4;\" x=\"151.420204\" xlink:href=\"#m0c2fda8e03\" y=\"116.045117\"/>\n     <use style=\"fill:#1f77b4;stroke:#1f77b4;\" x=\"61.510071\" xlink:href=\"#m0c2fda8e03\" y=\"25.150665\"/>\n     <use style=\"fill:#1f77b4;stroke:#1f77b4;\" x=\"152.680096\" xlink:href=\"#m0c2fda8e03\" y=\"91.68496\"/>\n     <use style=\"fill:#1f77b4;stroke:#1f77b4;\" x=\"90.777547\" xlink:href=\"#m0c2fda8e03\" y=\"75.056931\"/>\n     <use style=\"fill:#1f77b4;stroke:#1f77b4;\" x=\"64.068832\" xlink:href=\"#m0c2fda8e03\" y=\"47.150214\"/>\n     <use style=\"fill:#1f77b4;stroke:#1f77b4;\" x=\"122.741998\" xlink:href=\"#m0c2fda8e03\" y=\"73.446642\"/>\n     <use style=\"fill:#1f77b4;stroke:#1f77b4;\" x=\"165.060819\" xlink:href=\"#m0c2fda8e03\" y=\"103.275646\"/>\n     <use style=\"fill:#1f77b4;stroke:#1f77b4;\" x=\"102.339333\" xlink:href=\"#m0c2fda8e03\" y=\"83.296062\"/>\n     <use style=\"fill:#1f77b4;stroke:#1f77b4;\" x=\"160.782262\" xlink:href=\"#m0c2fda8e03\" y=\"113.555929\"/>\n     <use style=\"fill:#1f77b4;stroke:#1f77b4;\" x=\"91.428621\" xlink:href=\"#m0c2fda8e03\" y=\"69.395449\"/>\n     <use style=\"fill:#1f77b4;stroke:#1f77b4;\" x=\"145.581013\" xlink:href=\"#m0c2fda8e03\" y=\"90.655503\"/>\n     <use style=\"fill:#1f77b4;stroke:#1f77b4;\" x=\"138.829238\" xlink:href=\"#m0c2fda8e03\" y=\"89.656785\"/>\n     <use style=\"fill:#1f77b4;stroke:#1f77b4;\" x=\"135.836081\" xlink:href=\"#m0c2fda8e03\" y=\"103.523419\"/>\n     <use style=\"fill:#1f77b4;stroke:#1f77b4;\" x=\"108.904528\" xlink:href=\"#m0c2fda8e03\" y=\"82.397078\"/>\n     <use style=\"fill:#1f77b4;stroke:#1f77b4;\" x=\"100.672246\" xlink:href=\"#m0c2fda8e03\" y=\"50.998809\"/>\n     <use style=\"fill:#1f77b4;stroke:#1f77b4;\" x=\"125.551491\" xlink:href=\"#m0c2fda8e03\" y=\"99.667869\"/>\n     <use style=\"fill:#1f77b4;stroke:#1f77b4;\" x=\"130.334238\" xlink:href=\"#m0c2fda8e03\" y=\"106.524166\"/>\n     <use style=\"fill:#1f77b4;stroke:#1f77b4;\" x=\"129.128214\" xlink:href=\"#m0c2fda8e03\" y=\"67.348123\"/>\n     <use style=\"fill:#1f77b4;stroke:#1f77b4;\" x=\"132.793843\" xlink:href=\"#m0c2fda8e03\" y=\"78.411338\"/>\n     <use style=\"fill:#1f77b4;stroke:#1f77b4;\" x=\"134.429596\" xlink:href=\"#m0c2fda8e03\" y=\"81.062137\"/>\n     <use style=\"fill:#1f77b4;stroke:#1f77b4;\" x=\"164.818035\" xlink:href=\"#m0c2fda8e03\" y=\"108.965404\"/>\n     <use style=\"fill:#1f77b4;stroke:#1f77b4;\" x=\"109.283425\" xlink:href=\"#m0c2fda8e03\" y=\"56.230338\"/>\n     <use style=\"fill:#1f77b4;stroke:#1f77b4;\" x=\"181.05926\" xlink:href=\"#m0c2fda8e03\" y=\"112.885313\"/>\n     <use style=\"fill:#1f77b4;stroke:#1f77b4;\" x=\"131.15987\" xlink:href=\"#m0c2fda8e03\" y=\"68.460469\"/>\n     <use style=\"fill:#1f77b4;stroke:#1f77b4;\" x=\"59.414723\" xlink:href=\"#m0c2fda8e03\" y=\"42.513184\"/>\n     <use style=\"fill:#1f77b4;stroke:#1f77b4;\" x=\"105.69865\" xlink:href=\"#m0c2fda8e03\" y=\"103.264292\"/>\n     <use style=\"fill:#1f77b4;stroke:#1f77b4;\" x=\"112.697142\" xlink:href=\"#m0c2fda8e03\" y=\"63.408696\"/>\n     <use style=\"fill:#1f77b4;stroke:#1f77b4;\" x=\"152.137005\" xlink:href=\"#m0c2fda8e03\" y=\"98.439103\"/>\n     <use style=\"fill:#1f77b4;stroke:#1f77b4;\" x=\"111.235737\" xlink:href=\"#m0c2fda8e03\" y=\"71.22243\"/>\n     <use style=\"fill:#1f77b4;stroke:#1f77b4;\" x=\"134.870454\" xlink:href=\"#m0c2fda8e03\" y=\"96.915061\"/>\n     <use style=\"fill:#1f77b4;stroke:#1f77b4;\" x=\"81.635922\" xlink:href=\"#m0c2fda8e03\" y=\"58.086229\"/>\n     <use style=\"fill:#1f77b4;stroke:#1f77b4;\" x=\"156.838977\" xlink:href=\"#m0c2fda8e03\" y=\"102.099453\"/>\n     <use style=\"fill:#1f77b4;stroke:#1f77b4;\" x=\"112.012947\" xlink:href=\"#m0c2fda8e03\" y=\"77.227914\"/>\n     <use style=\"fill:#1f77b4;stroke:#1f77b4;\" x=\"111.331985\" xlink:href=\"#m0c2fda8e03\" y=\"100.732965\"/>\n     <use style=\"fill:#1f77b4;stroke:#1f77b4;\" x=\"85.214363\" xlink:href=\"#m0c2fda8e03\" y=\"77.646138\"/>\n     <use style=\"fill:#1f77b4;stroke:#1f77b4;\" x=\"78.850173\" xlink:href=\"#m0c2fda8e03\" y=\"62.178591\"/>\n     <use style=\"fill:#1f77b4;stroke:#1f77b4;\" x=\"55.912776\" xlink:href=\"#m0c2fda8e03\" y=\"57.892795\"/>\n     <use style=\"fill:#1f77b4;stroke:#1f77b4;\" x=\"150.97771\" xlink:href=\"#m0c2fda8e03\" y=\"95.348578\"/>\n     <use style=\"fill:#1f77b4;stroke:#1f77b4;\" x=\"102.765466\" xlink:href=\"#m0c2fda8e03\" y=\"52.376479\"/>\n     <use style=\"fill:#1f77b4;stroke:#1f77b4;\" x=\"112.818093\" xlink:href=\"#m0c2fda8e03\" y=\"76.377764\"/>\n     <use style=\"fill:#1f77b4;stroke:#1f77b4;\" x=\"119.198191\" xlink:href=\"#m0c2fda8e03\" y=\"72.181128\"/>\n     <use style=\"fill:#1f77b4;stroke:#1f77b4;\" x=\"101.128988\" xlink:href=\"#m0c2fda8e03\" y=\"57.033903\"/>\n     <use style=\"fill:#1f77b4;stroke:#1f77b4;\" x=\"136.567564\" xlink:href=\"#m0c2fda8e03\" y=\"97.024914\"/>\n     <use style=\"fill:#1f77b4;stroke:#1f77b4;\" x=\"98.312024\" xlink:href=\"#m0c2fda8e03\" y=\"70.559817\"/>\n     <use style=\"fill:#1f77b4;stroke:#1f77b4;\" x=\"141.740684\" xlink:href=\"#m0c2fda8e03\" y=\"92.170658\"/>\n     <use style=\"fill:#1f77b4;stroke:#1f77b4;\" x=\"89.774569\" xlink:href=\"#m0c2fda8e03\" y=\"66.226954\"/>\n     <use style=\"fill:#1f77b4;stroke:#1f77b4;\" x=\"148.651466\" xlink:href=\"#m0c2fda8e03\" y=\"89.832061\"/>\n     <use style=\"fill:#1f77b4;stroke:#1f77b4;\" x=\"112.101345\" xlink:href=\"#m0c2fda8e03\" y=\"59.049349\"/>\n     <use style=\"fill:#1f77b4;stroke:#1f77b4;\" x=\"82.713675\" xlink:href=\"#m0c2fda8e03\" y=\"54.186057\"/>\n     <use style=\"fill:#1f77b4;stroke:#1f77b4;\" x=\"93.541179\" xlink:href=\"#m0c2fda8e03\" y=\"66.292287\"/>\n     <use style=\"fill:#1f77b4;stroke:#1f77b4;\" x=\"148.426272\" xlink:href=\"#m0c2fda8e03\" y=\"117.575938\"/>\n     <use style=\"fill:#1f77b4;stroke:#1f77b4;\" x=\"149.799577\" xlink:href=\"#m0c2fda8e03\" y=\"92.582228\"/>\n     <use style=\"fill:#1f77b4;stroke:#1f77b4;\" x=\"143.103055\" xlink:href=\"#m0c2fda8e03\" y=\"95.534253\"/>\n     <use style=\"fill:#1f77b4;stroke:#1f77b4;\" x=\"92.11556\" xlink:href=\"#m0c2fda8e03\" y=\"61.350786\"/>\n     <use style=\"fill:#1f77b4;stroke:#1f77b4;\" x=\"113.863241\" xlink:href=\"#m0c2fda8e03\" y=\"81.403525\"/>\n     <use style=\"fill:#1f77b4;stroke:#1f77b4;\" x=\"163.494432\" xlink:href=\"#m0c2fda8e03\" y=\"93.811432\"/>\n     <use style=\"fill:#1f77b4;stroke:#1f77b4;\" x=\"142.539718\" xlink:href=\"#m0c2fda8e03\" y=\"90.068002\"/>\n     <use style=\"fill:#1f77b4;stroke:#1f77b4;\" x=\"116.309364\" xlink:href=\"#m0c2fda8e03\" y=\"83.569235\"/>\n     <use style=\"fill:#1f77b4;stroke:#1f77b4;\" x=\"155.867535\" xlink:href=\"#m0c2fda8e03\" y=\"107.377562\"/>\n     <use style=\"fill:#1f77b4;stroke:#1f77b4;\" x=\"131.414648\" xlink:href=\"#m0c2fda8e03\" y=\"92.014781\"/>\n     <use style=\"fill:#1f77b4;stroke:#1f77b4;\" x=\"134.344862\" xlink:href=\"#m0c2fda8e03\" y=\"103.602314\"/>\n     <use style=\"fill:#1f77b4;stroke:#1f77b4;\" x=\"132.931631\" xlink:href=\"#m0c2fda8e03\" y=\"91.815757\"/>\n     <use style=\"fill:#1f77b4;stroke:#1f77b4;\" x=\"175.571266\" xlink:href=\"#m0c2fda8e03\" y=\"108.084858\"/>\n     <use style=\"fill:#1f77b4;stroke:#1f77b4;\" x=\"120.869497\" xlink:href=\"#m0c2fda8e03\" y=\"72.887082\"/>\n     <use style=\"fill:#1f77b4;stroke:#1f77b4;\" x=\"129.722286\" xlink:href=\"#m0c2fda8e03\" y=\"84.622784\"/>\n     <use style=\"fill:#1f77b4;stroke:#1f77b4;\" x=\"196.901186\" xlink:href=\"#m0c2fda8e03\" y=\"136.922727\"/>\n     <use style=\"fill:#1f77b4;stroke:#1f77b4;\" x=\"141.233479\" xlink:href=\"#m0c2fda8e03\" y=\"117.604517\"/>\n     <use style=\"fill:#1f77b4;stroke:#1f77b4;\" x=\"99.375494\" xlink:href=\"#m0c2fda8e03\" y=\"62.958322\"/>\n     <use style=\"fill:#1f77b4;stroke:#1f77b4;\" x=\"118.665591\" xlink:href=\"#m0c2fda8e03\" y=\"73.572289\"/>\n     <use style=\"fill:#1f77b4;stroke:#1f77b4;\" x=\"116.613871\" xlink:href=\"#m0c2fda8e03\" y=\"99.50809\"/>\n     <use style=\"fill:#1f77b4;stroke:#1f77b4;\" x=\"105.986584\" xlink:href=\"#m0c2fda8e03\" y=\"58.138648\"/>\n     <use style=\"fill:#1f77b4;stroke:#1f77b4;\" x=\"129.703391\" xlink:href=\"#m0c2fda8e03\" y=\"69.936381\"/>\n     <use style=\"fill:#1f77b4;stroke:#1f77b4;\" x=\"141.828792\" xlink:href=\"#m0c2fda8e03\" y=\"92.055316\"/>\n     <use style=\"fill:#1f77b4;stroke:#1f77b4;\" x=\"116.830552\" xlink:href=\"#m0c2fda8e03\" y=\"81.175812\"/>\n     <use style=\"fill:#1f77b4;stroke:#1f77b4;\" x=\"103.903907\" xlink:href=\"#m0c2fda8e03\" y=\"101.04933\"/>\n     <use style=\"fill:#1f77b4;stroke:#1f77b4;\" x=\"69.858562\" xlink:href=\"#m0c2fda8e03\" y=\"44.479871\"/>\n     <use style=\"fill:#1f77b4;stroke:#1f77b4;\" x=\"102.944149\" xlink:href=\"#m0c2fda8e03\" y=\"65.613621\"/>\n     <use style=\"fill:#1f77b4;stroke:#1f77b4;\" x=\"74.016157\" xlink:href=\"#m0c2fda8e03\" y=\"44.124186\"/>\n     <use style=\"fill:#1f77b4;stroke:#1f77b4;\" x=\"104.887566\" xlink:href=\"#m0c2fda8e03\" y=\"62.252694\"/>\n     <use style=\"fill:#1f77b4;stroke:#1f77b4;\" x=\"108.018384\" xlink:href=\"#m0c2fda8e03\" y=\"71.29796\"/>\n     <use style=\"fill:#1f77b4;stroke:#1f77b4;\" x=\"66.180252\" xlink:href=\"#m0c2fda8e03\" y=\"49.361587\"/>\n     <use style=\"fill:#1f77b4;stroke:#1f77b4;\" x=\"215.364915\" xlink:href=\"#m0c2fda8e03\" y=\"133.735332\"/>\n     <use style=\"fill:#1f77b4;stroke:#1f77b4;\" x=\"131.880449\" xlink:href=\"#m0c2fda8e03\" y=\"80.965697\"/>\n     <use style=\"fill:#1f77b4;stroke:#1f77b4;\" x=\"147.742898\" xlink:href=\"#m0c2fda8e03\" y=\"108.867819\"/>\n     <use style=\"fill:#1f77b4;stroke:#1f77b4;\" x=\"134.939833\" xlink:href=\"#m0c2fda8e03\" y=\"91.920948\"/>\n     <use style=\"fill:#1f77b4;stroke:#1f77b4;\" x=\"125.600295\" xlink:href=\"#m0c2fda8e03\" y=\"80.022789\"/>\n     <use style=\"fill:#1f77b4;stroke:#1f77b4;\" x=\"144.511134\" xlink:href=\"#m0c2fda8e03\" y=\"105.940154\"/>\n     <use style=\"fill:#1f77b4;stroke:#1f77b4;\" x=\"152.293754\" xlink:href=\"#m0c2fda8e03\" y=\"99.779932\"/>\n     <use style=\"fill:#1f77b4;stroke:#1f77b4;\" x=\"182.846885\" xlink:href=\"#m0c2fda8e03\" y=\"121.354111\"/>\n     <use style=\"fill:#1f77b4;stroke:#1f77b4;\" x=\"109.101604\" xlink:href=\"#m0c2fda8e03\" y=\"64.855415\"/>\n     <use style=\"fill:#1f77b4;stroke:#1f77b4;\" x=\"141.499983\" xlink:href=\"#m0c2fda8e03\" y=\"85.08369\"/>\n     <use style=\"fill:#1f77b4;stroke:#1f77b4;\" x=\"139.757539\" xlink:href=\"#m0c2fda8e03\" y=\"89.827598\"/>\n     <use style=\"fill:#1f77b4;stroke:#1f77b4;\" x=\"112.39326\" xlink:href=\"#m0c2fda8e03\" y=\"85.049377\"/>\n     <use style=\"fill:#1f77b4;stroke:#1f77b4;\" x=\"81.691969\" xlink:href=\"#m0c2fda8e03\" y=\"57.494324\"/>\n     <use style=\"fill:#1f77b4;stroke:#1f77b4;\" x=\"70.897504\" xlink:href=\"#m0c2fda8e03\" y=\"39.969356\"/>\n     <use style=\"fill:#1f77b4;stroke:#1f77b4;\" x=\"119.836664\" xlink:href=\"#m0c2fda8e03\" y=\"90.295525\"/>\n     <use style=\"fill:#1f77b4;stroke:#1f77b4;\" x=\"90.029803\" xlink:href=\"#m0c2fda8e03\" y=\"64.552453\"/>\n     <use style=\"fill:#1f77b4;stroke:#1f77b4;\" x=\"111.665999\" xlink:href=\"#m0c2fda8e03\" y=\"79.105327\"/>\n     <use style=\"fill:#1f77b4;stroke:#1f77b4;\" x=\"146.507338\" xlink:href=\"#m0c2fda8e03\" y=\"89.485318\"/>\n     <use style=\"fill:#1f77b4;stroke:#1f77b4;\" x=\"148.739335\" xlink:href=\"#m0c2fda8e03\" y=\"94.169023\"/>\n     <use style=\"fill:#1f77b4;stroke:#1f77b4;\" x=\"128.647448\" xlink:href=\"#m0c2fda8e03\" y=\"80.470157\"/>\n     <use style=\"fill:#1f77b4;stroke:#1f77b4;\" x=\"117.157874\" xlink:href=\"#m0c2fda8e03\" y=\"82.890544\"/>\n     <use style=\"fill:#1f77b4;stroke:#1f77b4;\" x=\"135.126478\" xlink:href=\"#m0c2fda8e03\" y=\"94.046414\"/>\n     <use style=\"fill:#1f77b4;stroke:#1f77b4;\" x=\"157.528504\" xlink:href=\"#m0c2fda8e03\" y=\"120.152499\"/>\n     <use style=\"fill:#1f77b4;stroke:#1f77b4;\" x=\"119.096296\" xlink:href=\"#m0c2fda8e03\" y=\"80.500954\"/>\n     <use style=\"fill:#1f77b4;stroke:#1f77b4;\" x=\"97.091377\" xlink:href=\"#m0c2fda8e03\" y=\"49.060179\"/>\n     <use style=\"fill:#1f77b4;stroke:#1f77b4;\" x=\"125.302146\" xlink:href=\"#m0c2fda8e03\" y=\"66.163491\"/>\n     <use style=\"fill:#1f77b4;stroke:#1f77b4;\" x=\"138.055426\" xlink:href=\"#m0c2fda8e03\" y=\"100.667965\"/>\n     <use style=\"fill:#1f77b4;stroke:#1f77b4;\" x=\"118.83806\" xlink:href=\"#m0c2fda8e03\" y=\"80.925098\"/>\n     <use style=\"fill:#1f77b4;stroke:#1f77b4;\" x=\"99.805391\" xlink:href=\"#m0c2fda8e03\" y=\"52.269525\"/>\n     <use style=\"fill:#1f77b4;stroke:#1f77b4;\" x=\"105.865626\" xlink:href=\"#m0c2fda8e03\" y=\"63.414561\"/>\n     <use style=\"fill:#1f77b4;stroke:#1f77b4;\" x=\"108.282186\" xlink:href=\"#m0c2fda8e03\" y=\"54.056984\"/>\n     <use style=\"fill:#1f77b4;stroke:#1f77b4;\" x=\"134.393262\" xlink:href=\"#m0c2fda8e03\" y=\"76.226035\"/>\n     <use style=\"fill:#1f77b4;stroke:#1f77b4;\" x=\"170.530516\" xlink:href=\"#m0c2fda8e03\" y=\"107.589306\"/>\n     <use style=\"fill:#1f77b4;stroke:#1f77b4;\" x=\"129.674186\" xlink:href=\"#m0c2fda8e03\" y=\"92.323672\"/>\n     <use style=\"fill:#1f77b4;stroke:#1f77b4;\" x=\"147.997771\" xlink:href=\"#m0c2fda8e03\" y=\"110.780647\"/>\n     <use style=\"fill:#1f77b4;stroke:#1f77b4;\" x=\"117.499966\" xlink:href=\"#m0c2fda8e03\" y=\"66.407103\"/>\n     <use style=\"fill:#1f77b4;stroke:#1f77b4;\" x=\"140.7252\" xlink:href=\"#m0c2fda8e03\" y=\"105.13299\"/>\n     <use style=\"fill:#1f77b4;stroke:#1f77b4;\" x=\"120.953799\" xlink:href=\"#m0c2fda8e03\" y=\"80.084517\"/>\n     <use style=\"fill:#1f77b4;stroke:#1f77b4;\" x=\"105.478609\" xlink:href=\"#m0c2fda8e03\" y=\"65.000153\"/>\n     <use style=\"fill:#1f77b4;stroke:#1f77b4;\" x=\"106.88064\" xlink:href=\"#m0c2fda8e03\" y=\"81.167714\"/>\n     <use style=\"fill:#1f77b4;stroke:#1f77b4;\" x=\"72.167349\" xlink:href=\"#m0c2fda8e03\" y=\"52.676746\"/>\n     <use style=\"fill:#1f77b4;stroke:#1f77b4;\" x=\"111.096374\" xlink:href=\"#m0c2fda8e03\" y=\"60.579643\"/>\n     <use style=\"fill:#1f77b4;stroke:#1f77b4;\" x=\"75.209715\" xlink:href=\"#m0c2fda8e03\" y=\"25.981008\"/>\n     <use style=\"fill:#1f77b4;stroke:#1f77b4;\" x=\"99.637755\" xlink:href=\"#m0c2fda8e03\" y=\"64.527152\"/>\n     <use style=\"fill:#1f77b4;stroke:#1f77b4;\" x=\"149.254812\" xlink:href=\"#m0c2fda8e03\" y=\"99.452297\"/>\n     <use style=\"fill:#1f77b4;stroke:#1f77b4;\" x=\"74.69885\" xlink:href=\"#m0c2fda8e03\" y=\"71.367909\"/>\n     <use style=\"fill:#1f77b4;stroke:#1f77b4;\" x=\"145.728209\" xlink:href=\"#m0c2fda8e03\" y=\"103.607938\"/>\n     <use style=\"fill:#1f77b4;stroke:#1f77b4;\" x=\"95.786378\" xlink:href=\"#m0c2fda8e03\" y=\"65.084671\"/>\n     <use style=\"fill:#1f77b4;stroke:#1f77b4;\" x=\"111.870542\" xlink:href=\"#m0c2fda8e03\" y=\"72.041262\"/>\n     <use style=\"fill:#1f77b4;stroke:#1f77b4;\" x=\"95.994723\" xlink:href=\"#m0c2fda8e03\" y=\"84.596964\"/>\n     <use style=\"fill:#1f77b4;stroke:#1f77b4;\" x=\"106.239315\" xlink:href=\"#m0c2fda8e03\" y=\"71.100217\"/>\n     <use style=\"fill:#1f77b4;stroke:#1f77b4;\" x=\"142.817825\" xlink:href=\"#m0c2fda8e03\" y=\"105.978007\"/>\n     <use style=\"fill:#1f77b4;stroke:#1f77b4;\" x=\"95.982283\" xlink:href=\"#m0c2fda8e03\" y=\"75.094144\"/>\n     <use style=\"fill:#1f77b4;stroke:#1f77b4;\" x=\"119.75891\" xlink:href=\"#m0c2fda8e03\" y=\"81.842503\"/>\n     <use style=\"fill:#1f77b4;stroke:#1f77b4;\" x=\"105.959503\" xlink:href=\"#m0c2fda8e03\" y=\"68.773848\"/>\n     <use style=\"fill:#1f77b4;stroke:#1f77b4;\" x=\"88.909455\" xlink:href=\"#m0c2fda8e03\" y=\"77.342611\"/>\n     <use style=\"fill:#1f77b4;stroke:#1f77b4;\" x=\"123.121035\" xlink:href=\"#m0c2fda8e03\" y=\"69.670584\"/>\n     <use style=\"fill:#1f77b4;stroke:#1f77b4;\" x=\"110.839641\" xlink:href=\"#m0c2fda8e03\" y=\"68.510989\"/>\n     <use style=\"fill:#1f77b4;stroke:#1f77b4;\" x=\"141.334933\" xlink:href=\"#m0c2fda8e03\" y=\"89.011559\"/>\n     <use style=\"fill:#1f77b4;stroke:#1f77b4;\" x=\"89.292522\" xlink:href=\"#m0c2fda8e03\" y=\"77.536981\"/>\n     <use style=\"fill:#1f77b4;stroke:#1f77b4;\" x=\"122.260377\" xlink:href=\"#m0c2fda8e03\" y=\"82.614947\"/>\n     <use style=\"fill:#1f77b4;stroke:#1f77b4;\" x=\"99.591098\" xlink:href=\"#m0c2fda8e03\" y=\"61.036212\"/>\n     <use style=\"fill:#1f77b4;stroke:#1f77b4;\" x=\"118.247093\" xlink:href=\"#m0c2fda8e03\" y=\"65.161582\"/>\n     <use style=\"fill:#1f77b4;stroke:#1f77b4;\" x=\"141.295703\" xlink:href=\"#m0c2fda8e03\" y=\"107.81703\"/>\n     <use style=\"fill:#1f77b4;stroke:#1f77b4;\" x=\"117.201692\" xlink:href=\"#m0c2fda8e03\" y=\"71.714421\"/>\n     <use style=\"fill:#1f77b4;stroke:#1f77b4;\" x=\"139.355764\" xlink:href=\"#m0c2fda8e03\" y=\"85.923882\"/>\n     <use style=\"fill:#1f77b4;stroke:#1f77b4;\" x=\"159.449071\" xlink:href=\"#m0c2fda8e03\" y=\"112.279161\"/>\n     <use style=\"fill:#1f77b4;stroke:#1f77b4;\" x=\"124.506729\" xlink:href=\"#m0c2fda8e03\" y=\"81.15396\"/>\n     <use style=\"fill:#1f77b4;stroke:#1f77b4;\" x=\"134.371848\" xlink:href=\"#m0c2fda8e03\" y=\"82.353888\"/>\n     <use style=\"fill:#1f77b4;stroke:#1f77b4;\" x=\"122.127117\" xlink:href=\"#m0c2fda8e03\" y=\"95.581481\"/>\n     <use style=\"fill:#1f77b4;stroke:#1f77b4;\" x=\"129.92343\" xlink:href=\"#m0c2fda8e03\" y=\"86.625829\"/>\n     <use style=\"fill:#1f77b4;stroke:#1f77b4;\" x=\"78.844139\" xlink:href=\"#m0c2fda8e03\" y=\"46.433175\"/>\n     <use style=\"fill:#1f77b4;stroke:#1f77b4;\" x=\"114.227574\" xlink:href=\"#m0c2fda8e03\" y=\"79.768257\"/>\n     <use style=\"fill:#1f77b4;stroke:#1f77b4;\" x=\"129.998255\" xlink:href=\"#m0c2fda8e03\" y=\"91.441653\"/>\n     <use style=\"fill:#1f77b4;stroke:#1f77b4;\" x=\"127.607096\" xlink:href=\"#m0c2fda8e03\" y=\"83.095213\"/>\n     <use style=\"fill:#1f77b4;stroke:#1f77b4;\" x=\"126.646755\" xlink:href=\"#m0c2fda8e03\" y=\"75.610115\"/>\n     <use style=\"fill:#1f77b4;stroke:#1f77b4;\" x=\"200.024863\" xlink:href=\"#m0c2fda8e03\" y=\"116.192463\"/>\n     <use style=\"fill:#1f77b4;stroke:#1f77b4;\" x=\"133.371649\" xlink:href=\"#m0c2fda8e03\" y=\"84.799692\"/>\n     <use style=\"fill:#1f77b4;stroke:#1f77b4;\" x=\"79.566657\" xlink:href=\"#m0c2fda8e03\" y=\"61.21461\"/>\n     <use style=\"fill:#1f77b4;stroke:#1f77b4;\" x=\"107.669853\" xlink:href=\"#m0c2fda8e03\" y=\"82.760109\"/>\n     <use style=\"fill:#1f77b4;stroke:#1f77b4;\" x=\"88.232956\" xlink:href=\"#m0c2fda8e03\" y=\"78.581689\"/>\n     <use style=\"fill:#1f77b4;stroke:#1f77b4;\" x=\"120.135694\" xlink:href=\"#m0c2fda8e03\" y=\"64.441941\"/>\n     <use style=\"fill:#1f77b4;stroke:#1f77b4;\" x=\"89.197391\" xlink:href=\"#m0c2fda8e03\" y=\"68.950835\"/>\n     <use style=\"fill:#1f77b4;stroke:#1f77b4;\" x=\"101.458759\" xlink:href=\"#m0c2fda8e03\" y=\"71.053416\"/>\n     <use style=\"fill:#1f77b4;stroke:#1f77b4;\" x=\"98.368361\" xlink:href=\"#m0c2fda8e03\" y=\"71.877752\"/>\n     <use style=\"fill:#1f77b4;stroke:#1f77b4;\" x=\"135.08907\" xlink:href=\"#m0c2fda8e03\" y=\"93.428787\"/>\n     <use style=\"fill:#1f77b4;stroke:#1f77b4;\" x=\"78.618648\" xlink:href=\"#m0c2fda8e03\" y=\"56.618054\"/>\n     <use style=\"fill:#1f77b4;stroke:#1f77b4;\" x=\"141.994456\" xlink:href=\"#m0c2fda8e03\" y=\"58.631592\"/>\n     <use style=\"fill:#1f77b4;stroke:#1f77b4;\" x=\"155.151384\" xlink:href=\"#m0c2fda8e03\" y=\"92.484432\"/>\n     <use style=\"fill:#1f77b4;stroke:#1f77b4;\" x=\"106.471851\" xlink:href=\"#m0c2fda8e03\" y=\"78.523159\"/>\n     <use style=\"fill:#1f77b4;stroke:#1f77b4;\" x=\"106.297238\" xlink:href=\"#m0c2fda8e03\" y=\"87.651285\"/>\n     <use style=\"fill:#1f77b4;stroke:#1f77b4;\" x=\"114.015695\" xlink:href=\"#m0c2fda8e03\" y=\"72.239421\"/>\n     <use style=\"fill:#1f77b4;stroke:#1f77b4;\" x=\"127.296324\" xlink:href=\"#m0c2fda8e03\" y=\"61.41971\"/>\n     <use style=\"fill:#1f77b4;stroke:#1f77b4;\" x=\"144.561979\" xlink:href=\"#m0c2fda8e03\" y=\"100.451424\"/>\n     <use style=\"fill:#1f77b4;stroke:#1f77b4;\" x=\"124.947214\" xlink:href=\"#m0c2fda8e03\" y=\"97.361207\"/>\n     <use style=\"fill:#1f77b4;stroke:#1f77b4;\" x=\"116.050377\" xlink:href=\"#m0c2fda8e03\" y=\"87.736868\"/>\n     <use style=\"fill:#1f77b4;stroke:#1f77b4;\" x=\"81.391947\" xlink:href=\"#m0c2fda8e03\" y=\"39.284124\"/>\n     <use style=\"fill:#1f77b4;stroke:#1f77b4;\" x=\"87.305938\" xlink:href=\"#m0c2fda8e03\" y=\"64.901553\"/>\n     <use style=\"fill:#1f77b4;stroke:#1f77b4;\" x=\"115.384835\" xlink:href=\"#m0c2fda8e03\" y=\"90.420008\"/>\n     <use style=\"fill:#1f77b4;stroke:#1f77b4;\" x=\"120.786606\" xlink:href=\"#m0c2fda8e03\" y=\"82.156837\"/>\n     <use style=\"fill:#1f77b4;stroke:#1f77b4;\" x=\"165.733018\" xlink:href=\"#m0c2fda8e03\" y=\"127.813844\"/>\n     <use style=\"fill:#1f77b4;stroke:#1f77b4;\" x=\"100.681077\" xlink:href=\"#m0c2fda8e03\" y=\"79.371682\"/>\n     <use style=\"fill:#1f77b4;stroke:#1f77b4;\" x=\"118.524154\" xlink:href=\"#m0c2fda8e03\" y=\"79.302748\"/>\n     <use style=\"fill:#1f77b4;stroke:#1f77b4;\" x=\"98.134244\" xlink:href=\"#m0c2fda8e03\" y=\"55.899558\"/>\n     <use style=\"fill:#1f77b4;stroke:#1f77b4;\" x=\"94.403861\" xlink:href=\"#m0c2fda8e03\" y=\"72.481295\"/>\n     <use style=\"fill:#1f77b4;stroke:#1f77b4;\" x=\"181.157523\" xlink:href=\"#m0c2fda8e03\" y=\"124.953944\"/>\n     <use style=\"fill:#1f77b4;stroke:#1f77b4;\" x=\"164.5403\" xlink:href=\"#m0c2fda8e03\" y=\"112.869369\"/>\n     <use style=\"fill:#1f77b4;stroke:#1f77b4;\" x=\"119.157527\" xlink:href=\"#m0c2fda8e03\" y=\"76.136794\"/>\n     <use style=\"fill:#1f77b4;stroke:#1f77b4;\" x=\"147.618865\" xlink:href=\"#m0c2fda8e03\" y=\"106.731429\"/>\n     <use style=\"fill:#1f77b4;stroke:#1f77b4;\" x=\"152.973995\" xlink:href=\"#m0c2fda8e03\" y=\"111.045132\"/>\n     <use style=\"fill:#1f77b4;stroke:#1f77b4;\" x=\"134.794403\" xlink:href=\"#m0c2fda8e03\" y=\"82.871245\"/>\n     <use style=\"fill:#1f77b4;stroke:#1f77b4;\" x=\"91.766902\" xlink:href=\"#m0c2fda8e03\" y=\"52.826592\"/>\n     <use style=\"fill:#1f77b4;stroke:#1f77b4;\" x=\"130.541937\" xlink:href=\"#m0c2fda8e03\" y=\"94.732001\"/>\n     <use style=\"fill:#1f77b4;stroke:#1f77b4;\" x=\"128.222971\" xlink:href=\"#m0c2fda8e03\" y=\"78.867587\"/>\n     <use style=\"fill:#1f77b4;stroke:#1f77b4;\" x=\"106.531324\" xlink:href=\"#m0c2fda8e03\" y=\"68.775114\"/>\n     <use style=\"fill:#1f77b4;stroke:#1f77b4;\" x=\"114.334877\" xlink:href=\"#m0c2fda8e03\" y=\"83.463715\"/>\n     <use style=\"fill:#1f77b4;stroke:#1f77b4;\" x=\"163.347769\" xlink:href=\"#m0c2fda8e03\" y=\"115.822382\"/>\n     <use style=\"fill:#1f77b4;stroke:#1f77b4;\" x=\"141.017762\" xlink:href=\"#m0c2fda8e03\" y=\"91.911273\"/>\n     <use style=\"fill:#1f77b4;stroke:#1f77b4;\" x=\"128.357804\" xlink:href=\"#m0c2fda8e03\" y=\"90.15699\"/>\n     <use style=\"fill:#1f77b4;stroke:#1f77b4;\" x=\"146.364586\" xlink:href=\"#m0c2fda8e03\" y=\"95.152567\"/>\n     <use style=\"fill:#1f77b4;stroke:#1f77b4;\" x=\"125.244125\" xlink:href=\"#m0c2fda8e03\" y=\"75.328689\"/>\n     <use style=\"fill:#1f77b4;stroke:#1f77b4;\" x=\"91.47892\" xlink:href=\"#m0c2fda8e03\" y=\"59.77639\"/>\n     <use style=\"fill:#1f77b4;stroke:#1f77b4;\" x=\"102.290375\" xlink:href=\"#m0c2fda8e03\" y=\"53.356034\"/>\n     <use style=\"fill:#1f77b4;stroke:#1f77b4;\" x=\"149.962021\" xlink:href=\"#m0c2fda8e03\" y=\"100.641816\"/>\n     <use style=\"fill:#1f77b4;stroke:#1f77b4;\" x=\"135.117828\" xlink:href=\"#m0c2fda8e03\" y=\"87.319437\"/>\n     <use style=\"fill:#1f77b4;stroke:#1f77b4;\" x=\"124.226705\" xlink:href=\"#m0c2fda8e03\" y=\"102.714435\"/>\n     <use style=\"fill:#1f77b4;stroke:#1f77b4;\" x=\"131.068783\" xlink:href=\"#m0c2fda8e03\" y=\"92.488278\"/>\n     <use style=\"fill:#1f77b4;stroke:#1f77b4;\" x=\"189.318168\" xlink:href=\"#m0c2fda8e03\" y=\"130.019241\"/>\n     <use style=\"fill:#1f77b4;stroke:#1f77b4;\" x=\"81.834979\" xlink:href=\"#m0c2fda8e03\" y=\"58.471067\"/>\n     <use style=\"fill:#1f77b4;stroke:#1f77b4;\" x=\"108.354662\" xlink:href=\"#m0c2fda8e03\" y=\"70.50701\"/>\n     <use style=\"fill:#1f77b4;stroke:#1f77b4;\" x=\"144.317404\" xlink:href=\"#m0c2fda8e03\" y=\"101.16658\"/>\n     <use style=\"fill:#1f77b4;stroke:#1f77b4;\" x=\"117.837942\" xlink:href=\"#m0c2fda8e03\" y=\"85.97038\"/>\n     <use style=\"fill:#1f77b4;stroke:#1f77b4;\" x=\"162.298959\" xlink:href=\"#m0c2fda8e03\" y=\"89.10639\"/>\n     <use style=\"fill:#1f77b4;stroke:#1f77b4;\" x=\"124.391046\" xlink:href=\"#m0c2fda8e03\" y=\"109.687829\"/>\n     <use style=\"fill:#1f77b4;stroke:#1f77b4;\" x=\"129.954959\" xlink:href=\"#m0c2fda8e03\" y=\"95.677856\"/>\n     <use style=\"fill:#1f77b4;stroke:#1f77b4;\" x=\"136.48953\" xlink:href=\"#m0c2fda8e03\" y=\"96.851987\"/>\n     <use style=\"fill:#1f77b4;stroke:#1f77b4;\" x=\"128.09036\" xlink:href=\"#m0c2fda8e03\" y=\"85.649554\"/>\n     <use style=\"fill:#1f77b4;stroke:#1f77b4;\" x=\"141.700716\" xlink:href=\"#m0c2fda8e03\" y=\"85.320045\"/>\n     <use style=\"fill:#1f77b4;stroke:#1f77b4;\" x=\"132.621831\" xlink:href=\"#m0c2fda8e03\" y=\"82.84922\"/>\n     <use style=\"fill:#1f77b4;stroke:#1f77b4;\" x=\"88.769391\" xlink:href=\"#m0c2fda8e03\" y=\"67.567366\"/>\n     <use style=\"fill:#1f77b4;stroke:#1f77b4;\" x=\"134.761442\" xlink:href=\"#m0c2fda8e03\" y=\"90.885439\"/>\n     <use style=\"fill:#1f77b4;stroke:#1f77b4;\" x=\"119.500927\" xlink:href=\"#m0c2fda8e03\" y=\"69.308971\"/>\n     <use style=\"fill:#1f77b4;stroke:#1f77b4;\" x=\"109.092729\" xlink:href=\"#m0c2fda8e03\" y=\"78.217967\"/>\n     <use style=\"fill:#1f77b4;stroke:#1f77b4;\" x=\"75.236866\" xlink:href=\"#m0c2fda8e03\" y=\"61.287693\"/>\n     <use style=\"fill:#1f77b4;stroke:#1f77b4;\" x=\"117.955269\" xlink:href=\"#m0c2fda8e03\" y=\"81.945488\"/>\n     <use style=\"fill:#1f77b4;stroke:#1f77b4;\" x=\"142.050966\" xlink:href=\"#m0c2fda8e03\" y=\"90.182724\"/>\n     <use style=\"fill:#1f77b4;stroke:#1f77b4;\" x=\"118.48104\" xlink:href=\"#m0c2fda8e03\" y=\"71.445142\"/>\n     <use style=\"fill:#1f77b4;stroke:#1f77b4;\" x=\"106.36694\" xlink:href=\"#m0c2fda8e03\" y=\"54.890677\"/>\n     <use style=\"fill:#1f77b4;stroke:#1f77b4;\" x=\"112.391538\" xlink:href=\"#m0c2fda8e03\" y=\"80.79427\"/>\n     <use style=\"fill:#1f77b4;stroke:#1f77b4;\" x=\"149.800948\" xlink:href=\"#m0c2fda8e03\" y=\"114.648668\"/>\n     <use style=\"fill:#1f77b4;stroke:#1f77b4;\" x=\"140.60265\" xlink:href=\"#m0c2fda8e03\" y=\"91.415352\"/>\n     <use style=\"fill:#1f77b4;stroke:#1f77b4;\" x=\"124.552412\" xlink:href=\"#m0c2fda8e03\" y=\"78.226456\"/>\n     <use style=\"fill:#1f77b4;stroke:#1f77b4;\" x=\"71.340699\" xlink:href=\"#m0c2fda8e03\" y=\"56.550094\"/>\n     <use style=\"fill:#1f77b4;stroke:#1f77b4;\" x=\"154.885677\" xlink:href=\"#m0c2fda8e03\" y=\"115.661406\"/>\n     <use style=\"fill:#1f77b4;stroke:#1f77b4;\" x=\"139.575108\" xlink:href=\"#m0c2fda8e03\" y=\"99.97888\"/>\n     <use style=\"fill:#1f77b4;stroke:#1f77b4;\" x=\"172.511565\" xlink:href=\"#m0c2fda8e03\" y=\"130.617939\"/>\n     <use style=\"fill:#1f77b4;stroke:#1f77b4;\" x=\"111.9262\" xlink:href=\"#m0c2fda8e03\" y=\"55.28832\"/>\n     <use style=\"fill:#1f77b4;stroke:#1f77b4;\" x=\"126.026627\" xlink:href=\"#m0c2fda8e03\" y=\"80.688434\"/>\n     <use style=\"fill:#1f77b4;stroke:#1f77b4;\" x=\"98.382474\" xlink:href=\"#m0c2fda8e03\" y=\"66.73006\"/>\n     <use style=\"fill:#1f77b4;stroke:#1f77b4;\" x=\"108.519635\" xlink:href=\"#m0c2fda8e03\" y=\"66.10286\"/>\n     <use style=\"fill:#1f77b4;stroke:#1f77b4;\" x=\"176.861061\" xlink:href=\"#m0c2fda8e03\" y=\"133.062786\"/>\n     <use style=\"fill:#1f77b4;stroke:#1f77b4;\" x=\"109.791038\" xlink:href=\"#m0c2fda8e03\" y=\"69.395748\"/>\n     <use style=\"fill:#1f77b4;stroke:#1f77b4;\" x=\"154.058926\" xlink:href=\"#m0c2fda8e03\" y=\"107.730157\"/>\n     <use style=\"fill:#1f77b4;stroke:#1f77b4;\" x=\"140.61288\" xlink:href=\"#m0c2fda8e03\" y=\"88.429652\"/>\n     <use style=\"fill:#1f77b4;stroke:#1f77b4;\" x=\"147.178704\" xlink:href=\"#m0c2fda8e03\" y=\"87.56629\"/>\n     <use style=\"fill:#1f77b4;stroke:#1f77b4;\" x=\"138.322657\" xlink:href=\"#m0c2fda8e03\" y=\"66.035144\"/>\n     <use style=\"fill:#1f77b4;stroke:#1f77b4;\" x=\"123.823402\" xlink:href=\"#m0c2fda8e03\" y=\"88.153861\"/>\n     <use style=\"fill:#1f77b4;stroke:#1f77b4;\" x=\"83.469505\" xlink:href=\"#m0c2fda8e03\" y=\"43.245409\"/>\n     <use style=\"fill:#1f77b4;stroke:#1f77b4;\" x=\"133.261958\" xlink:href=\"#m0c2fda8e03\" y=\"90.095636\"/>\n     <use style=\"fill:#1f77b4;stroke:#1f77b4;\" x=\"119.64962\" xlink:href=\"#m0c2fda8e03\" y=\"85.321166\"/>\n     <use style=\"fill:#1f77b4;stroke:#1f77b4;\" x=\"72.396319\" xlink:href=\"#m0c2fda8e03\" y=\"59.354021\"/>\n     <use style=\"fill:#1f77b4;stroke:#1f77b4;\" x=\"114.804964\" xlink:href=\"#m0c2fda8e03\" y=\"76.012786\"/>\n     <use style=\"fill:#1f77b4;stroke:#1f77b4;\" x=\"120.159111\" xlink:href=\"#m0c2fda8e03\" y=\"82.462837\"/>\n     <use style=\"fill:#1f77b4;stroke:#1f77b4;\" x=\"120.703154\" xlink:href=\"#m0c2fda8e03\" y=\"78.82809\"/>\n     <use style=\"fill:#1f77b4;stroke:#1f77b4;\" x=\"75.979665\" xlink:href=\"#m0c2fda8e03\" y=\"52.720669\"/>\n     <use style=\"fill:#1f77b4;stroke:#1f77b4;\" x=\"94.068827\" xlink:href=\"#m0c2fda8e03\" y=\"57.481508\"/>\n     <use style=\"fill:#1f77b4;stroke:#1f77b4;\" x=\"137.932715\" xlink:href=\"#m0c2fda8e03\" y=\"90.337959\"/>\n     <use style=\"fill:#1f77b4;stroke:#1f77b4;\" x=\"133.137241\" xlink:href=\"#m0c2fda8e03\" y=\"90.41913\"/>\n     <use style=\"fill:#1f77b4;stroke:#1f77b4;\" x=\"110.673034\" xlink:href=\"#m0c2fda8e03\" y=\"82.129797\"/>\n     <use style=\"fill:#1f77b4;stroke:#1f77b4;\" x=\"65.413677\" xlink:href=\"#m0c2fda8e03\" y=\"36.538691\"/>\n     <use style=\"fill:#1f77b4;stroke:#1f77b4;\" x=\"87.991941\" xlink:href=\"#m0c2fda8e03\" y=\"50.696593\"/>\n     <use style=\"fill:#1f77b4;stroke:#1f77b4;\" x=\"156.758303\" xlink:href=\"#m0c2fda8e03\" y=\"106.76764\"/>\n     <use style=\"fill:#1f77b4;stroke:#1f77b4;\" x=\"91.658088\" xlink:href=\"#m0c2fda8e03\" y=\"62.575095\"/>\n     <use style=\"fill:#1f77b4;stroke:#1f77b4;\" x=\"144.570249\" xlink:href=\"#m0c2fda8e03\" y=\"103.595367\"/>\n     <use style=\"fill:#1f77b4;stroke:#1f77b4;\" x=\"130.206866\" xlink:href=\"#m0c2fda8e03\" y=\"75.777957\"/>\n     <use style=\"fill:#1f77b4;stroke:#1f77b4;\" x=\"117.979802\" xlink:href=\"#m0c2fda8e03\" y=\"67.611405\"/>\n     <use style=\"fill:#1f77b4;stroke:#1f77b4;\" x=\"103.489902\" xlink:href=\"#m0c2fda8e03\" y=\"61.886036\"/>\n     <use style=\"fill:#1f77b4;stroke:#1f77b4;\" x=\"144.687906\" xlink:href=\"#m0c2fda8e03\" y=\"98.108247\"/>\n     <use style=\"fill:#1f77b4;stroke:#1f77b4;\" x=\"150.25132\" xlink:href=\"#m0c2fda8e03\" y=\"100.029878\"/>\n     <use style=\"fill:#1f77b4;stroke:#1f77b4;\" x=\"104.261024\" xlink:href=\"#m0c2fda8e03\" y=\"71.968691\"/>\n     <use style=\"fill:#1f77b4;stroke:#1f77b4;\" x=\"177.794018\" xlink:href=\"#m0c2fda8e03\" y=\"106.594084\"/>\n     <use style=\"fill:#1f77b4;stroke:#1f77b4;\" x=\"108.533062\" xlink:href=\"#m0c2fda8e03\" y=\"72.360186\"/>\n     <use style=\"fill:#1f77b4;stroke:#1f77b4;\" x=\"125.56345\" xlink:href=\"#m0c2fda8e03\" y=\"74.159341\"/>\n     <use style=\"fill:#1f77b4;stroke:#1f77b4;\" x=\"80.315973\" xlink:href=\"#m0c2fda8e03\" y=\"58.847729\"/>\n     <use style=\"fill:#1f77b4;stroke:#1f77b4;\" x=\"100.34328\" xlink:href=\"#m0c2fda8e03\" y=\"54.202451\"/>\n     <use style=\"fill:#1f77b4;stroke:#1f77b4;\" x=\"149.942547\" xlink:href=\"#m0c2fda8e03\" y=\"95.316955\"/>\n     <use style=\"fill:#1f77b4;stroke:#1f77b4;\" x=\"127.825055\" xlink:href=\"#m0c2fda8e03\" y=\"78.025914\"/>\n     <use style=\"fill:#1f77b4;stroke:#1f77b4;\" x=\"108.005211\" xlink:href=\"#m0c2fda8e03\" y=\"61.92855\"/>\n     <use style=\"fill:#1f77b4;stroke:#1f77b4;\" x=\"146.594736\" xlink:href=\"#m0c2fda8e03\" y=\"96.270727\"/>\n     <use style=\"fill:#1f77b4;stroke:#1f77b4;\" x=\"173.860424\" xlink:href=\"#m0c2fda8e03\" y=\"104.214852\"/>\n     <use style=\"fill:#1f77b4;stroke:#1f77b4;\" x=\"167.013217\" xlink:href=\"#m0c2fda8e03\" y=\"108.716093\"/>\n     <use style=\"fill:#1f77b4;stroke:#1f77b4;\" x=\"143.392044\" xlink:href=\"#m0c2fda8e03\" y=\"75.877531\"/>\n     <use style=\"fill:#1f77b4;stroke:#1f77b4;\" x=\"111.182156\" xlink:href=\"#m0c2fda8e03\" y=\"85.339914\"/>\n     <use style=\"fill:#1f77b4;stroke:#1f77b4;\" x=\"111.647794\" xlink:href=\"#m0c2fda8e03\" y=\"67.990389\"/>\n     <use style=\"fill:#1f77b4;stroke:#1f77b4;\" x=\"157.304027\" xlink:href=\"#m0c2fda8e03\" y=\"88.346678\"/>\n     <use style=\"fill:#1f77b4;stroke:#1f77b4;\" x=\"117.471826\" xlink:href=\"#m0c2fda8e03\" y=\"88.823421\"/>\n     <use style=\"fill:#1f77b4;stroke:#1f77b4;\" x=\"123.390417\" xlink:href=\"#m0c2fda8e03\" y=\"87.220113\"/>\n     <use style=\"fill:#1f77b4;stroke:#1f77b4;\" x=\"69.774731\" xlink:href=\"#m0c2fda8e03\" y=\"39.405508\"/>\n     <use style=\"fill:#1f77b4;stroke:#1f77b4;\" x=\"168.608564\" xlink:href=\"#m0c2fda8e03\" y=\"82.775835\"/>\n     <use style=\"fill:#1f77b4;stroke:#1f77b4;\" x=\"88.428605\" xlink:href=\"#m0c2fda8e03\" y=\"62.43039\"/>\n     <use style=\"fill:#1f77b4;stroke:#1f77b4;\" x=\"127.232684\" xlink:href=\"#m0c2fda8e03\" y=\"67.660058\"/>\n     <use style=\"fill:#1f77b4;stroke:#1f77b4;\" x=\"102.537385\" xlink:href=\"#m0c2fda8e03\" y=\"67.019247\"/>\n     <use style=\"fill:#1f77b4;stroke:#1f77b4;\" x=\"134.635942\" xlink:href=\"#m0c2fda8e03\" y=\"103.219464\"/>\n     <use style=\"fill:#1f77b4;stroke:#1f77b4;\" x=\"120.324285\" xlink:href=\"#m0c2fda8e03\" y=\"78.038564\"/>\n     <use style=\"fill:#1f77b4;stroke:#1f77b4;\" x=\"111.797579\" xlink:href=\"#m0c2fda8e03\" y=\"77.55357\"/>\n     <use style=\"fill:#1f77b4;stroke:#1f77b4;\" x=\"138.301553\" xlink:href=\"#m0c2fda8e03\" y=\"110.593184\"/>\n     <use style=\"fill:#1f77b4;stroke:#1f77b4;\" x=\"96.47857\" xlink:href=\"#m0c2fda8e03\" y=\"62.343887\"/>\n     <use style=\"fill:#1f77b4;stroke:#1f77b4;\" x=\"111.368166\" xlink:href=\"#m0c2fda8e03\" y=\"81.732077\"/>\n     <use style=\"fill:#1f77b4;stroke:#1f77b4;\" x=\"133.642181\" xlink:href=\"#m0c2fda8e03\" y=\"100.711137\"/>\n     <use style=\"fill:#1f77b4;stroke:#1f77b4;\" x=\"178.574376\" xlink:href=\"#m0c2fda8e03\" y=\"91.110709\"/>\n     <use style=\"fill:#1f77b4;stroke:#1f77b4;\" x=\"123.101204\" xlink:href=\"#m0c2fda8e03\" y=\"95.217922\"/>\n     <use style=\"fill:#1f77b4;stroke:#1f77b4;\" x=\"107.764141\" xlink:href=\"#m0c2fda8e03\" y=\"51.296655\"/>\n     <use style=\"fill:#1f77b4;stroke:#1f77b4;\" x=\"86.697731\" xlink:href=\"#m0c2fda8e03\" y=\"53.629345\"/>\n     <use style=\"fill:#1f77b4;stroke:#1f77b4;\" x=\"117.992376\" xlink:href=\"#m0c2fda8e03\" y=\"74.715056\"/>\n     <use style=\"fill:#1f77b4;stroke:#1f77b4;\" x=\"143.260144\" xlink:href=\"#m0c2fda8e03\" y=\"92.656852\"/>\n     <use style=\"fill:#1f77b4;stroke:#1f77b4;\" x=\"125.730852\" xlink:href=\"#m0c2fda8e03\" y=\"90.244056\"/>\n     <use style=\"fill:#1f77b4;stroke:#1f77b4;\" x=\"108.835085\" xlink:href=\"#m0c2fda8e03\" y=\"79.530345\"/>\n     <use style=\"fill:#1f77b4;stroke:#1f77b4;\" x=\"152.638778\" xlink:href=\"#m0c2fda8e03\" y=\"89.251067\"/>\n     <use style=\"fill:#1f77b4;stroke:#1f77b4;\" x=\"132.971145\" xlink:href=\"#m0c2fda8e03\" y=\"91.599436\"/>\n     <use style=\"fill:#1f77b4;stroke:#1f77b4;\" x=\"88.628299\" xlink:href=\"#m0c2fda8e03\" y=\"52.597981\"/>\n     <use style=\"fill:#1f77b4;stroke:#1f77b4;\" x=\"139.127052\" xlink:href=\"#m0c2fda8e03\" y=\"74.594469\"/>\n     <use style=\"fill:#1f77b4;stroke:#1f77b4;\" x=\"131.678826\" xlink:href=\"#m0c2fda8e03\" y=\"96.498494\"/>\n     <use style=\"fill:#1f77b4;stroke:#1f77b4;\" x=\"149.841783\" xlink:href=\"#m0c2fda8e03\" y=\"104.090388\"/>\n     <use style=\"fill:#1f77b4;stroke:#1f77b4;\" x=\"108.340139\" xlink:href=\"#m0c2fda8e03\" y=\"76.821439\"/>\n     <use style=\"fill:#1f77b4;stroke:#1f77b4;\" x=\"75.766913\" xlink:href=\"#m0c2fda8e03\" y=\"55.834648\"/>\n     <use style=\"fill:#1f77b4;stroke:#1f77b4;\" x=\"96.683991\" xlink:href=\"#m0c2fda8e03\" y=\"90.884156\"/>\n     <use style=\"fill:#1f77b4;stroke:#1f77b4;\" x=\"90.534868\" xlink:href=\"#m0c2fda8e03\" y=\"61.023472\"/>\n     <use style=\"fill:#1f77b4;stroke:#1f77b4;\" x=\"94.241433\" xlink:href=\"#m0c2fda8e03\" y=\"62.319568\"/>\n     <use style=\"fill:#1f77b4;stroke:#1f77b4;\" x=\"147.420263\" xlink:href=\"#m0c2fda8e03\" y=\"85.605976\"/>\n     <use style=\"fill:#1f77b4;stroke:#1f77b4;\" x=\"96.65883\" xlink:href=\"#m0c2fda8e03\" y=\"60.096689\"/>\n     <use style=\"fill:#1f77b4;stroke:#1f77b4;\" x=\"157.73067\" xlink:href=\"#m0c2fda8e03\" y=\"98.412868\"/>\n     <use style=\"fill:#1f77b4;stroke:#1f77b4;\" x=\"179.968465\" xlink:href=\"#m0c2fda8e03\" y=\"106.33808\"/>\n     <use style=\"fill:#1f77b4;stroke:#1f77b4;\" x=\"141.894451\" xlink:href=\"#m0c2fda8e03\" y=\"100.827102\"/>\n     <use style=\"fill:#1f77b4;stroke:#1f77b4;\" x=\"130.892148\" xlink:href=\"#m0c2fda8e03\" y=\"121.138758\"/>\n     <use style=\"fill:#1f77b4;stroke:#1f77b4;\" x=\"108.028593\" xlink:href=\"#m0c2fda8e03\" y=\"58.923413\"/>\n     <use style=\"fill:#1f77b4;stroke:#1f77b4;\" x=\"97.345619\" xlink:href=\"#m0c2fda8e03\" y=\"45.602147\"/>\n     <use style=\"fill:#1f77b4;stroke:#1f77b4;\" x=\"180.721862\" xlink:href=\"#m0c2fda8e03\" y=\"122.218643\"/>\n     <use style=\"fill:#1f77b4;stroke:#1f77b4;\" x=\"110.036446\" xlink:href=\"#m0c2fda8e03\" y=\"74.861487\"/>\n     <use style=\"fill:#1f77b4;stroke:#1f77b4;\" x=\"116.085204\" xlink:href=\"#m0c2fda8e03\" y=\"70.594122\"/>\n     <use style=\"fill:#1f77b4;stroke:#1f77b4;\" x=\"165.407149\" xlink:href=\"#m0c2fda8e03\" y=\"119.487082\"/>\n     <use style=\"fill:#1f77b4;stroke:#1f77b4;\" x=\"100.909613\" xlink:href=\"#m0c2fda8e03\" y=\"79.280746\"/>\n     <use style=\"fill:#1f77b4;stroke:#1f77b4;\" x=\"115.007381\" xlink:href=\"#m0c2fda8e03\" y=\"79.079554\"/>\n     <use style=\"fill:#1f77b4;stroke:#1f77b4;\" x=\"146.606526\" xlink:href=\"#m0c2fda8e03\" y=\"90.289428\"/>\n     <use style=\"fill:#1f77b4;stroke:#1f77b4;\" x=\"146.419554\" xlink:href=\"#m0c2fda8e03\" y=\"117.394258\"/>\n     <use style=\"fill:#1f77b4;stroke:#1f77b4;\" x=\"126.403523\" xlink:href=\"#m0c2fda8e03\" y=\"80.490453\"/>\n     <use style=\"fill:#1f77b4;stroke:#1f77b4;\" x=\"111.954728\" xlink:href=\"#m0c2fda8e03\" y=\"72.324955\"/>\n     <use style=\"fill:#1f77b4;stroke:#1f77b4;\" x=\"127.70734\" xlink:href=\"#m0c2fda8e03\" y=\"83.503794\"/>\n     <use style=\"fill:#1f77b4;stroke:#1f77b4;\" x=\"130.189531\" xlink:href=\"#m0c2fda8e03\" y=\"97.00735\"/>\n     <use style=\"fill:#1f77b4;stroke:#1f77b4;\" x=\"132.701429\" xlink:href=\"#m0c2fda8e03\" y=\"104.387694\"/>\n     <use style=\"fill:#1f77b4;stroke:#1f77b4;\" x=\"162.771285\" xlink:href=\"#m0c2fda8e03\" y=\"108.441744\"/>\n     <use style=\"fill:#1f77b4;stroke:#1f77b4;\" x=\"58.890167\" xlink:href=\"#m0c2fda8e03\" y=\"37.171686\"/>\n     <use style=\"fill:#1f77b4;stroke:#1f77b4;\" x=\"88.721402\" xlink:href=\"#m0c2fda8e03\" y=\"68.21944\"/>\n     <use style=\"fill:#1f77b4;stroke:#1f77b4;\" x=\"82.860036\" xlink:href=\"#m0c2fda8e03\" y=\"58.51669\"/>\n     <use style=\"fill:#1f77b4;stroke:#1f77b4;\" x=\"104.34674\" xlink:href=\"#m0c2fda8e03\" y=\"65.512978\"/>\n     <use style=\"fill:#1f77b4;stroke:#1f77b4;\" x=\"147.976967\" xlink:href=\"#m0c2fda8e03\" y=\"94.007808\"/>\n     <use style=\"fill:#1f77b4;stroke:#1f77b4;\" x=\"99.99013\" xlink:href=\"#m0c2fda8e03\" y=\"65.978424\"/>\n     <use style=\"fill:#1f77b4;stroke:#1f77b4;\" x=\"67.151079\" xlink:href=\"#m0c2fda8e03\" y=\"41.825861\"/>\n     <use style=\"fill:#1f77b4;stroke:#1f77b4;\" x=\"122.94874\" xlink:href=\"#m0c2fda8e03\" y=\"85.377798\"/>\n     <use style=\"fill:#1f77b4;stroke:#1f77b4;\" x=\"118.124684\" xlink:href=\"#m0c2fda8e03\" y=\"76.624866\"/>\n     <use style=\"fill:#1f77b4;stroke:#1f77b4;\" x=\"115.679921\" xlink:href=\"#m0c2fda8e03\" y=\"78.473684\"/>\n     <use style=\"fill:#1f77b4;stroke:#1f77b4;\" x=\"82.33401\" xlink:href=\"#m0c2fda8e03\" y=\"47.004215\"/>\n     <use style=\"fill:#1f77b4;stroke:#1f77b4;\" x=\"92.682785\" xlink:href=\"#m0c2fda8e03\" y=\"60.644123\"/>\n     <use style=\"fill:#1f77b4;stroke:#1f77b4;\" x=\"123.467771\" xlink:href=\"#m0c2fda8e03\" y=\"101.137317\"/>\n     <use style=\"fill:#1f77b4;stroke:#1f77b4;\" x=\"106.666535\" xlink:href=\"#m0c2fda8e03\" y=\"61.889043\"/>\n     <use style=\"fill:#1f77b4;stroke:#1f77b4;\" x=\"98.217818\" xlink:href=\"#m0c2fda8e03\" y=\"71.039391\"/>\n     <use style=\"fill:#1f77b4;stroke:#1f77b4;\" x=\"101.996956\" xlink:href=\"#m0c2fda8e03\" y=\"55.332776\"/>\n     <use style=\"fill:#1f77b4;stroke:#1f77b4;\" x=\"123.506175\" xlink:href=\"#m0c2fda8e03\" y=\"83.74633\"/>\n     <use style=\"fill:#1f77b4;stroke:#1f77b4;\" x=\"105.274793\" xlink:href=\"#m0c2fda8e03\" y=\"56.343875\"/>\n     <use style=\"fill:#1f77b4;stroke:#1f77b4;\" x=\"82.856676\" xlink:href=\"#m0c2fda8e03\" y=\"38.300408\"/>\n     <use style=\"fill:#1f77b4;stroke:#1f77b4;\" x=\"88.533899\" xlink:href=\"#m0c2fda8e03\" y=\"61.549623\"/>\n     <use style=\"fill:#1f77b4;stroke:#1f77b4;\" x=\"146.479734\" xlink:href=\"#m0c2fda8e03\" y=\"116.143061\"/>\n     <use style=\"fill:#1f77b4;stroke:#1f77b4;\" x=\"123.238533\" xlink:href=\"#m0c2fda8e03\" y=\"61.459471\"/>\n     <use style=\"fill:#1f77b4;stroke:#1f77b4;\" x=\"108.686603\" xlink:href=\"#m0c2fda8e03\" y=\"60.045887\"/>\n     <use style=\"fill:#1f77b4;stroke:#1f77b4;\" x=\"124.870778\" xlink:href=\"#m0c2fda8e03\" y=\"72.801125\"/>\n     <use style=\"fill:#1f77b4;stroke:#1f77b4;\" x=\"158.129067\" xlink:href=\"#m0c2fda8e03\" y=\"110.54659\"/>\n     <use style=\"fill:#1f77b4;stroke:#1f77b4;\" x=\"105.17863\" xlink:href=\"#m0c2fda8e03\" y=\"68.549588\"/>\n     <use style=\"fill:#1f77b4;stroke:#1f77b4;\" x=\"130.702324\" xlink:href=\"#m0c2fda8e03\" y=\"89.130877\"/>\n     <use style=\"fill:#1f77b4;stroke:#1f77b4;\" x=\"145.064299\" xlink:href=\"#m0c2fda8e03\" y=\"95.964298\"/>\n     <use style=\"fill:#1f77b4;stroke:#1f77b4;\" x=\"92.063028\" xlink:href=\"#m0c2fda8e03\" y=\"60.998727\"/>\n     <use style=\"fill:#1f77b4;stroke:#1f77b4;\" x=\"103.160794\" xlink:href=\"#m0c2fda8e03\" y=\"68.686751\"/>\n     <use style=\"fill:#1f77b4;stroke:#1f77b4;\" x=\"123.887996\" xlink:href=\"#m0c2fda8e03\" y=\"75.917876\"/>\n     <use style=\"fill:#1f77b4;stroke:#1f77b4;\" x=\"128.298109\" xlink:href=\"#m0c2fda8e03\" y=\"87.879651\"/>\n     <use style=\"fill:#1f77b4;stroke:#1f77b4;\" x=\"115.749234\" xlink:href=\"#m0c2fda8e03\" y=\"83.733403\"/>\n     <use style=\"fill:#1f77b4;stroke:#1f77b4;\" x=\"114.117868\" xlink:href=\"#m0c2fda8e03\" y=\"66.004433\"/>\n     <use style=\"fill:#1f77b4;stroke:#1f77b4;\" x=\"124.513853\" xlink:href=\"#m0c2fda8e03\" y=\"78.323208\"/>\n     <use style=\"fill:#1f77b4;stroke:#1f77b4;\" x=\"53.172832\" xlink:href=\"#m0c2fda8e03\" y=\"44.095901\"/>\n    </g>\n   </g>\n   <g id=\"matplotlib.axis_1\">\n    <g id=\"xtick_1\">\n     <g id=\"line2d_1\">\n      <defs>\n       <path d=\"M 0 0 \nL 0 3.5 \n\" id=\"meb176d3a93\" style=\"stroke:#000000;stroke-width:0.8;\"/>\n      </defs>\n      <g>\n       <use style=\"stroke:#000000;stroke-width:0.8;\" x=\"61.509982\" xlink:href=\"#meb176d3a93\" y=\"143.1\"/>\n      </g>\n     </g>\n     <g id=\"text_1\">\n      <!-- −2 -->\n      <g transform=\"translate(54.138889 157.698438)scale(0.1 -0.1)\">\n       <defs>\n        <path d=\"M 10.59375 35.5 \nL 73.1875 35.5 \nL 73.1875 27.203125 \nL 10.59375 27.203125 \nz\n\" id=\"DejaVuSans-8722\"/>\n        <path d=\"M 19.1875 8.296875 \nL 53.609375 8.296875 \nL 53.609375 0 \nL 7.328125 0 \nL 7.328125 8.296875 \nQ 12.9375 14.109375 22.625 23.890625 \nQ 32.328125 33.6875 34.8125 36.53125 \nQ 39.546875 41.84375 41.421875 45.53125 \nQ 43.3125 49.21875 43.3125 52.78125 \nQ 43.3125 58.59375 39.234375 62.25 \nQ 35.15625 65.921875 28.609375 65.921875 \nQ 23.96875 65.921875 18.8125 64.3125 \nQ 13.671875 62.703125 7.8125 59.421875 \nL 7.8125 69.390625 \nQ 13.765625 71.78125 18.9375 73 \nQ 24.125 74.21875 28.421875 74.21875 \nQ 39.75 74.21875 46.484375 68.546875 \nQ 53.21875 62.890625 53.21875 53.421875 \nQ 53.21875 48.921875 51.53125 44.890625 \nQ 49.859375 40.875 45.40625 35.40625 \nQ 44.1875 33.984375 37.640625 27.21875 \nQ 31.109375 20.453125 19.1875 8.296875 \nz\n\" id=\"DejaVuSans-50\"/>\n       </defs>\n       <use xlink:href=\"#DejaVuSans-8722\"/>\n       <use x=\"83.789062\" xlink:href=\"#DejaVuSans-50\"/>\n      </g>\n     </g>\n    </g>\n    <g id=\"xtick_2\">\n     <g id=\"line2d_2\">\n      <g>\n       <use style=\"stroke:#000000;stroke-width:0.8;\" x=\"118.578141\" xlink:href=\"#meb176d3a93\" y=\"143.1\"/>\n      </g>\n     </g>\n     <g id=\"text_2\">\n      <!-- 0 -->\n      <g transform=\"translate(115.396891 157.698438)scale(0.1 -0.1)\">\n       <defs>\n        <path d=\"M 31.78125 66.40625 \nQ 24.171875 66.40625 20.328125 58.90625 \nQ 16.5 51.421875 16.5 36.375 \nQ 16.5 21.390625 20.328125 13.890625 \nQ 24.171875 6.390625 31.78125 6.390625 \nQ 39.453125 6.390625 43.28125 13.890625 \nQ 47.125 21.390625 47.125 36.375 \nQ 47.125 51.421875 43.28125 58.90625 \nQ 39.453125 66.40625 31.78125 66.40625 \nz\nM 31.78125 74.21875 \nQ 44.046875 74.21875 50.515625 64.515625 \nQ 56.984375 54.828125 56.984375 36.375 \nQ 56.984375 17.96875 50.515625 8.265625 \nQ 44.046875 -1.421875 31.78125 -1.421875 \nQ 19.53125 -1.421875 13.0625 8.265625 \nQ 6.59375 17.96875 6.59375 36.375 \nQ 6.59375 54.828125 13.0625 64.515625 \nQ 19.53125 74.21875 31.78125 74.21875 \nz\n\" id=\"DejaVuSans-48\"/>\n       </defs>\n       <use xlink:href=\"#DejaVuSans-48\"/>\n      </g>\n     </g>\n    </g>\n    <g id=\"xtick_3\">\n     <g id=\"line2d_3\">\n      <g>\n       <use style=\"stroke:#000000;stroke-width:0.8;\" x=\"175.6463\" xlink:href=\"#meb176d3a93\" y=\"143.1\"/>\n      </g>\n     </g>\n     <g id=\"text_3\">\n      <!-- 2 -->\n      <g transform=\"translate(172.46505 157.698438)scale(0.1 -0.1)\">\n       <use xlink:href=\"#DejaVuSans-50\"/>\n      </g>\n     </g>\n    </g>\n   </g>\n   <g id=\"matplotlib.axis_2\">\n    <g id=\"ytick_1\">\n     <g id=\"line2d_4\">\n      <defs>\n       <path d=\"M 0 0 \nL -3.5 0 \n\" id=\"m9a0015cc78\" style=\"stroke:#000000;stroke-width:0.8;\"/>\n      </defs>\n      <g>\n       <use style=\"stroke:#000000;stroke-width:0.8;\" x=\"28.942188\" xlink:href=\"#m9a0015cc78\" y=\"128.566086\"/>\n      </g>\n     </g>\n     <g id=\"text_4\">\n      <!-- −5 -->\n      <g transform=\"translate(7.2 132.365305)scale(0.1 -0.1)\">\n       <defs>\n        <path d=\"M 10.796875 72.90625 \nL 49.515625 72.90625 \nL 49.515625 64.59375 \nL 19.828125 64.59375 \nL 19.828125 46.734375 \nQ 21.96875 47.46875 24.109375 47.828125 \nQ 26.265625 48.1875 28.421875 48.1875 \nQ 40.625 48.1875 47.75 41.5 \nQ 54.890625 34.8125 54.890625 23.390625 \nQ 54.890625 11.625 47.5625 5.09375 \nQ 40.234375 -1.421875 26.90625 -1.421875 \nQ 22.3125 -1.421875 17.546875 -0.640625 \nQ 12.796875 0.140625 7.71875 1.703125 \nL 7.71875 11.625 \nQ 12.109375 9.234375 16.796875 8.0625 \nQ 21.484375 6.890625 26.703125 6.890625 \nQ 35.15625 6.890625 40.078125 11.328125 \nQ 45.015625 15.765625 45.015625 23.390625 \nQ 45.015625 31 40.078125 35.4375 \nQ 35.15625 39.890625 26.703125 39.890625 \nQ 22.75 39.890625 18.8125 39.015625 \nQ 14.890625 38.140625 10.796875 36.28125 \nz\n\" id=\"DejaVuSans-53\"/>\n       </defs>\n       <use xlink:href=\"#DejaVuSans-8722\"/>\n       <use x=\"83.789062\" xlink:href=\"#DejaVuSans-53\"/>\n      </g>\n     </g>\n    </g>\n    <g id=\"ytick_2\">\n     <g id=\"line2d_5\">\n      <g>\n       <use style=\"stroke:#000000;stroke-width:0.8;\" x=\"28.942188\" xlink:href=\"#m9a0015cc78\" y=\"101.9563\"/>\n      </g>\n     </g>\n     <g id=\"text_5\">\n      <!-- 0 -->\n      <g transform=\"translate(15.579688 105.755519)scale(0.1 -0.1)\">\n       <use xlink:href=\"#DejaVuSans-48\"/>\n      </g>\n     </g>\n    </g>\n    <g id=\"ytick_3\">\n     <g id=\"line2d_6\">\n      <g>\n       <use style=\"stroke:#000000;stroke-width:0.8;\" x=\"28.942188\" xlink:href=\"#m9a0015cc78\" y=\"75.346514\"/>\n      </g>\n     </g>\n     <g id=\"text_6\">\n      <!-- 5 -->\n      <g transform=\"translate(15.579688 79.145732)scale(0.1 -0.1)\">\n       <use xlink:href=\"#DejaVuSans-53\"/>\n      </g>\n     </g>\n    </g>\n    <g id=\"ytick_4\">\n     <g id=\"line2d_7\">\n      <g>\n       <use style=\"stroke:#000000;stroke-width:0.8;\" x=\"28.942188\" xlink:href=\"#m9a0015cc78\" y=\"48.736727\"/>\n      </g>\n     </g>\n     <g id=\"text_7\">\n      <!-- 10 -->\n      <g transform=\"translate(9.217188 52.535946)scale(0.1 -0.1)\">\n       <defs>\n        <path d=\"M 12.40625 8.296875 \nL 28.515625 8.296875 \nL 28.515625 63.921875 \nL 10.984375 60.40625 \nL 10.984375 69.390625 \nL 28.421875 72.90625 \nL 38.28125 72.90625 \nL 38.28125 8.296875 \nL 54.390625 8.296875 \nL 54.390625 0 \nL 12.40625 0 \nz\n\" id=\"DejaVuSans-49\"/>\n       </defs>\n       <use xlink:href=\"#DejaVuSans-49\"/>\n       <use x=\"63.623047\" xlink:href=\"#DejaVuSans-48\"/>\n      </g>\n     </g>\n    </g>\n    <g id=\"ytick_5\">\n     <g id=\"line2d_8\">\n      <g>\n       <use style=\"stroke:#000000;stroke-width:0.8;\" x=\"28.942188\" xlink:href=\"#m9a0015cc78\" y=\"22.126941\"/>\n      </g>\n     </g>\n     <g id=\"text_8\">\n      <!-- 15 -->\n      <g transform=\"translate(9.217188 25.92616)scale(0.1 -0.1)\">\n       <use xlink:href=\"#DejaVuSans-49\"/>\n       <use x=\"63.623047\" xlink:href=\"#DejaVuSans-53\"/>\n      </g>\n     </g>\n    </g>\n   </g>\n   <g id=\"patch_3\">\n    <path d=\"M 28.942188 143.1 \nL 28.942188 7.2 \n\" style=\"fill:none;stroke:#000000;stroke-linecap:square;stroke-linejoin:miter;stroke-width:0.8;\"/>\n   </g>\n   <g id=\"patch_4\">\n    <path d=\"M 224.242188 143.1 \nL 224.242188 7.2 \n\" style=\"fill:none;stroke:#000000;stroke-linecap:square;stroke-linejoin:miter;stroke-width:0.8;\"/>\n   </g>\n   <g id=\"patch_5\">\n    <path d=\"M 28.942188 143.1 \nL 224.242188 143.1 \n\" style=\"fill:none;stroke:#000000;stroke-linecap:square;stroke-linejoin:miter;stroke-width:0.8;\"/>\n   </g>\n   <g id=\"patch_6\">\n    <path d=\"M 28.942188 7.2 \nL 224.242188 7.2 \n\" style=\"fill:none;stroke:#000000;stroke-linecap:square;stroke-linejoin:miter;stroke-width:0.8;\"/>\n   </g>\n  </g>\n </g>\n <defs>\n  <clipPath id=\"p689bcdf954\">\n   <rect height=\"135.9\" width=\"195.3\" x=\"28.942188\" y=\"7.2\"/>\n  </clipPath>\n </defs>\n</svg>\n",
      "text/plain": [
       "<Figure size 252x180 with 1 Axes>"
      ]
     },
     "metadata": {
      "needs_background": "light"
     },
     "output_type": "display_data"
    }
   ],
   "source": [
    "d2l.set_figsize()\n",
    "d2l.plt.scatter(features[:, (1)].detach().numpy(), labels.detach().numpy(), 1);"
   ]
  },
  {
   "cell_type": "code",
   "execution_count": 106,
   "id": "05dae00a",
   "metadata": {},
   "outputs": [],
   "source": [
    "def data_iter(batch_size, features, labels):\n",
    "    num_examples = len(features)\n",
    "    indices = list(range(num_examples))\n",
    "    # 这些样本是随机读取的，没有特定的顺序\n",
    "    random.shuffle(indices)\n",
    "    for i in range(0, num_examples, batch_size):\n",
    "        batch_indices = torch.tensor(indices[i:min(i + batch_size, num_examples)])\n",
    "        yield features[batch_indices], labels[batch_indices]"
   ]
  },
  {
   "cell_type": "code",
   "execution_count": 107,
   "id": "71b89e3a",
   "metadata": {},
   "outputs": [
    {
     "name": "stdout",
     "output_type": "stream",
     "text": [
      "tensor([[-1.1629,  2.3118],\n",
      "        [ 0.8424,  0.8033],\n",
      "        [ 0.1820, -0.5642],\n",
      "        [ 0.6614, -0.0482],\n",
      "        [ 0.8981, -1.2702],\n",
      "        [ 0.3834, -0.9162],\n",
      "        [ 1.3103, -0.3697],\n",
      "        [ 0.6687, -0.2184],\n",
      "        [ 0.0859, -0.9147],\n",
      "        [-0.2844,  1.3381]]) \n",
      " tensor([[-5.9747],\n",
      "        [ 3.1704],\n",
      "        [ 6.4755],\n",
      "        [ 5.6825],\n",
      "        [10.3255],\n",
      "        [ 8.0875],\n",
      "        [ 8.0859],\n",
      "        [ 6.2699],\n",
      "        [ 7.4935],\n",
      "        [-0.9041]])\n"
     ]
    }
   ],
   "source": [
    "batch_size = 10\n",
    "\n",
    "for X, y in data_iter(batch_size, features, labels):\n",
    "    print(X, '\\n', y)\n",
    "    break"
   ]
  },
  {
   "cell_type": "code",
   "execution_count": 108,
   "id": "8d143c0a",
   "metadata": {},
   "outputs": [],
   "source": [
    "w = torch.normal(0, 0.01, size=(2, 1), requires_grad=True)\n",
    "b = torch.zeros(1, requires_grad=True)"
   ]
  },
  {
   "cell_type": "code",
   "execution_count": 109,
   "id": "75e8f4da",
   "metadata": {},
   "outputs": [
    {
     "data": {
      "text/plain": [
       "(tensor([[0.0066],\n",
       "         [0.0013]], requires_grad=True),\n",
       " tensor([0.], requires_grad=True))"
      ]
     },
     "execution_count": 109,
     "metadata": {},
     "output_type": "execute_result"
    }
   ],
   "source": [
    "w, b"
   ]
  },
  {
   "cell_type": "code",
   "execution_count": 110,
   "id": "59ea90d9",
   "metadata": {},
   "outputs": [],
   "source": [
    "def linreg(X, w, b):\n",
    "  return torch.matmul(X, w) + b"
   ]
  },
  {
   "cell_type": "code",
   "execution_count": 111,
   "id": "2edee6ae",
   "metadata": {},
   "outputs": [],
   "source": [
    "def squared_loss(y_hat, y):\n",
    "  return (y_hat - y.reshape(y_hat.shape)) ** 2 / 2"
   ]
  },
  {
   "cell_type": "code",
   "execution_count": 112,
   "id": "67868a51",
   "metadata": {},
   "outputs": [],
   "source": [
    "def sgd(params, lr, batch_size):  #@save\n",
    "    \"\"\"小批量随机梯度下降。\"\"\"\n",
    "    with torch.no_grad():\n",
    "        for param in params:\n",
    "            param -= lr * param.grad / batch_size\n",
    "            param.grad.zero_()"
   ]
  },
  {
   "cell_type": "code",
   "execution_count": 113,
   "id": "b79e57c9",
   "metadata": {},
   "outputs": [],
   "source": [
    "lr = 0.03\n",
    "num_epochs = 100\n",
    "net = linreg\n",
    "loss = squared_loss"
   ]
  },
  {
   "cell_type": "code",
   "execution_count": 114,
   "id": "da7b74b5",
   "metadata": {},
   "outputs": [
    {
     "name": "stdout",
     "output_type": "stream",
     "text": [
      "epoch 1, loss 0.033422\n",
      "epoch 2, loss 0.000131\n",
      "epoch 3, loss 0.000051\n",
      "epoch 4, loss 0.000051\n",
      "epoch 5, loss 0.000051\n",
      "epoch 6, loss 0.000051\n",
      "epoch 7, loss 0.000051\n",
      "epoch 8, loss 0.000051\n",
      "epoch 9, loss 0.000051\n",
      "epoch 10, loss 0.000051\n",
      "epoch 11, loss 0.000051\n",
      "epoch 12, loss 0.000051\n",
      "epoch 13, loss 0.000051\n",
      "epoch 14, loss 0.000051\n",
      "epoch 15, loss 0.000051\n",
      "epoch 16, loss 0.000051\n",
      "epoch 17, loss 0.000051\n",
      "epoch 18, loss 0.000051\n",
      "epoch 19, loss 0.000051\n",
      "epoch 20, loss 0.000051\n",
      "epoch 21, loss 0.000051\n",
      "epoch 22, loss 0.000051\n",
      "epoch 23, loss 0.000051\n",
      "epoch 24, loss 0.000051\n",
      "epoch 25, loss 0.000051\n",
      "epoch 26, loss 0.000051\n",
      "epoch 27, loss 0.000051\n",
      "epoch 28, loss 0.000051\n",
      "epoch 29, loss 0.000051\n",
      "epoch 30, loss 0.000051\n",
      "epoch 31, loss 0.000051\n",
      "epoch 32, loss 0.000051\n",
      "epoch 33, loss 0.000051\n",
      "epoch 34, loss 0.000051\n",
      "epoch 35, loss 0.000051\n",
      "epoch 36, loss 0.000051\n",
      "epoch 37, loss 0.000051\n",
      "epoch 38, loss 0.000051\n",
      "epoch 39, loss 0.000051\n",
      "epoch 40, loss 0.000051\n",
      "epoch 41, loss 0.000051\n",
      "epoch 42, loss 0.000051\n",
      "epoch 43, loss 0.000051\n",
      "epoch 44, loss 0.000051\n",
      "epoch 45, loss 0.000051\n",
      "epoch 46, loss 0.000051\n",
      "epoch 47, loss 0.000051\n",
      "epoch 48, loss 0.000051\n",
      "epoch 49, loss 0.000051\n",
      "epoch 50, loss 0.000051\n",
      "epoch 51, loss 0.000051\n",
      "epoch 52, loss 0.000051\n",
      "epoch 53, loss 0.000051\n",
      "epoch 54, loss 0.000051\n",
      "epoch 55, loss 0.000051\n",
      "epoch 56, loss 0.000051\n",
      "epoch 57, loss 0.000051\n",
      "epoch 58, loss 0.000051\n",
      "epoch 59, loss 0.000051\n",
      "epoch 60, loss 0.000051\n",
      "epoch 61, loss 0.000051\n",
      "epoch 62, loss 0.000051\n",
      "epoch 63, loss 0.000051\n",
      "epoch 64, loss 0.000051\n",
      "epoch 65, loss 0.000051\n",
      "epoch 66, loss 0.000051\n",
      "epoch 67, loss 0.000051\n",
      "epoch 68, loss 0.000051\n",
      "epoch 69, loss 0.000051\n",
      "epoch 70, loss 0.000051\n",
      "epoch 71, loss 0.000051\n",
      "epoch 72, loss 0.000051\n",
      "epoch 73, loss 0.000051\n",
      "epoch 74, loss 0.000051\n",
      "epoch 75, loss 0.000051\n",
      "epoch 76, loss 0.000051\n",
      "epoch 77, loss 0.000051\n",
      "epoch 78, loss 0.000051\n",
      "epoch 79, loss 0.000051\n",
      "epoch 80, loss 0.000051\n",
      "epoch 81, loss 0.000051\n",
      "epoch 82, loss 0.000051\n",
      "epoch 83, loss 0.000051\n",
      "epoch 84, loss 0.000051\n",
      "epoch 85, loss 0.000051\n",
      "epoch 86, loss 0.000051\n",
      "epoch 87, loss 0.000051\n",
      "epoch 88, loss 0.000051\n",
      "epoch 89, loss 0.000051\n",
      "epoch 90, loss 0.000051\n",
      "epoch 91, loss 0.000051\n",
      "epoch 92, loss 0.000051\n",
      "epoch 93, loss 0.000051\n",
      "epoch 94, loss 0.000051\n",
      "epoch 95, loss 0.000051\n",
      "epoch 96, loss 0.000051\n",
      "epoch 97, loss 0.000051\n",
      "epoch 98, loss 0.000051\n",
      "epoch 99, loss 0.000051\n",
      "epoch 100, loss 0.000051\n"
     ]
    }
   ],
   "source": [
    "for epoch in range(num_epochs):\n",
    "    for X, y in data_iter(batch_size, features, labels):\n",
    "        l = loss(net(X, w, b), y)  # `X`和`y`的小批量损失\n",
    "        # 因为`l`形状是(`batch_size`, 1)，而不是一个标量。`l`中的所有元素被加到一起，\n",
    "        # 并以此计算关于[`w`, `b`]的梯度\n",
    "        l.sum().backward()\n",
    "        sgd([w, b], lr, batch_size)  # 使用参数的梯度更新参数\n",
    "    with torch.no_grad():\n",
    "        train_l = loss(net(features, w, b), labels)\n",
    "        print(f'epoch {epoch + 1}, loss {float(train_l.mean()):f}')"
   ]
  },
  {
   "cell_type": "code",
   "execution_count": 115,
   "id": "d2fc1c02",
   "metadata": {},
   "outputs": [
    {
     "name": "stdout",
     "output_type": "stream",
     "text": [
      "w的估计误差: tensor([ 5.6601e-04, -7.4625e-05], grad_fn=<SubBackward0>)\n",
      "b的估计误差: tensor([-0.0002], grad_fn=<RsubBackward1>)\n"
     ]
    }
   ],
   "source": [
    "print(f'w的估计误差: {true_w - w.reshape(true_w.shape)}')\n",
    "print(f'b的估计误差: {true_b - b}')"
   ]
  },
  {
   "cell_type": "code",
   "execution_count": null,
   "id": "2eedbcc1",
   "metadata": {},
   "outputs": [],
   "source": []
  },
  {
   "cell_type": "code",
   "execution_count": null,
   "id": "5ce069eb",
   "metadata": {},
   "outputs": [],
   "source": []
  },
  {
   "cell_type": "code",
   "execution_count": null,
   "id": "4ac10009",
   "metadata": {},
   "outputs": [],
   "source": []
  },
  {
   "cell_type": "code",
   "execution_count": 116,
   "id": "0ebc5554",
   "metadata": {},
   "outputs": [],
   "source": [
    "%matplotlib inline\n",
    "import torch, torchvision\n",
    "from torch.utils import data\n",
    "from torchvision import transforms\n",
    "from d2l import torch as d2l\n",
    "d2l.use_svg_display()"
   ]
  },
  {
   "cell_type": "code",
   "execution_count": 117,
   "id": "9558728f",
   "metadata": {},
   "outputs": [],
   "source": [
    "trans = transforms.ToTensor()\n",
    "mnist_train = torchvision.datasets.FashionMNIST(root='../data', train=True, transform=trans, download=True)\n",
    "mnist_test = torchvision.datasets.FashionMNIST(root='../data', train=False, transform=trans, download=True)"
   ]
  },
  {
   "cell_type": "code",
   "execution_count": 118,
   "id": "71ec0ddb",
   "metadata": {},
   "outputs": [
    {
     "data": {
      "text/plain": [
       "(60000, 10000)"
      ]
     },
     "execution_count": 118,
     "metadata": {},
     "output_type": "execute_result"
    }
   ],
   "source": [
    "len(mnist_train), len(mnist_test)"
   ]
  },
  {
   "cell_type": "code",
   "execution_count": 119,
   "id": "8238fd9a",
   "metadata": {},
   "outputs": [
    {
     "data": {
      "text/plain": [
       "torch.Size([1, 28, 28])"
      ]
     },
     "execution_count": 119,
     "metadata": {},
     "output_type": "execute_result"
    }
   ],
   "source": [
    "mnist_train[0][0].shape"
   ]
  },
  {
   "cell_type": "code",
   "execution_count": 120,
   "id": "794a84fc",
   "metadata": {},
   "outputs": [],
   "source": [
    "def get_fashion_mnist_labels(labels):\n",
    "  text_labels = ['t-shirt', 'trouser', 'pullover', 'dress', 'coat', 'sandal', 'shirt',\n",
    "        'sneaker', 'bag', 'ankle boot']\n",
    "  return [text_labels[int(i)] for i in labels]"
   ]
  },
  {
   "cell_type": "code",
   "execution_count": 121,
   "id": "5c2a03a8",
   "metadata": {},
   "outputs": [],
   "source": [
    "def show_images(imgs, num_rows, num_cols, titles=None, scale=1.5):  #@save\n",
    "    \"\"\"Plot a list of images.\"\"\"\n",
    "    figsize = (num_cols * scale, num_rows * scale)\n",
    "    _, axes = d2l.plt.subplots(num_rows, num_cols, figsize=figsize)\n",
    "    axes = axes.flatten()\n",
    "    for i, (ax, img) in enumerate(zip(axes, imgs)):\n",
    "        if torch.is_tensor(img):\n",
    "            # 图片张量\n",
    "            ax.imshow(img.numpy())\n",
    "        else:\n",
    "            # PIL图片\n",
    "            ax.imshow(img)\n",
    "        ax.axes.get_xaxis().set_visible(False)\n",
    "        ax.axes.get_yaxis().set_visible(False)\n",
    "        if titles:\n",
    "            ax.set_title(titles[i])\n",
    "    return axes"
   ]
  },
  {
   "cell_type": "code",
   "execution_count": 122,
   "id": "b77a734a",
   "metadata": {},
   "outputs": [
    {
     "data": {
      "text/plain": [
       "(torch.Size([18, 1, 28, 28]), torch.Size([1, 28, 28]), torch.Size([18]))"
      ]
     },
     "execution_count": 122,
     "metadata": {},
     "output_type": "execute_result"
    }
   ],
   "source": [
    "X, y = next(iter(data.DataLoader(mnist_train, batch_size=18)))\n",
    "X.shape, X[0].shape, y.shape"
   ]
  },
  {
   "cell_type": "code",
   "execution_count": null,
   "id": "8f5a221e",
   "metadata": {},
   "outputs": [],
   "source": []
  },
  {
   "cell_type": "code",
   "execution_count": 123,
   "id": "e730d45e",
   "metadata": {},
   "outputs": [
    {
     "data": {
      "image/svg+xml": "<?xml version=\"1.0\" encoding=\"utf-8\" standalone=\"no\"?>\n<!DOCTYPE svg PUBLIC \"-//W3C//DTD SVG 1.1//EN\"\n  \"http://www.w3.org/Graphics/SVG/1.1/DTD/svg11.dtd\">\n<!-- Created with matplotlib (https://matplotlib.org/) -->\n<svg height=\"193.03689pt\" version=\"1.1\" viewBox=\"0 0 771.2 193.03689\" width=\"771.2pt\" xmlns=\"http://www.w3.org/2000/svg\" xmlns:xlink=\"http://www.w3.org/1999/xlink\">\n <metadata>\n  <rdf:RDF xmlns:cc=\"http://creativecommons.org/ns#\" xmlns:dc=\"http://purl.org/dc/elements/1.1/\" xmlns:rdf=\"http://www.w3.org/1999/02/22-rdf-syntax-ns#\">\n   <cc:Work>\n    <dc:type rdf:resource=\"http://purl.org/dc/dcmitype/StillImage\"/>\n    <dc:date>2023-01-17T16:44:03.873281</dc:date>\n    <dc:format>image/svg+xml</dc:format>\n    <dc:creator>\n     <cc:Agent>\n      <dc:title>Matplotlib v3.3.4, https://matplotlib.org/</dc:title>\n     </cc:Agent>\n    </dc:creator>\n   </cc:Work>\n  </rdf:RDF>\n </metadata>\n <defs>\n  <style type=\"text/css\">*{stroke-linecap:butt;stroke-linejoin:round;}</style>\n </defs>\n <g id=\"figure_1\">\n  <g id=\"patch_1\">\n   <path d=\"M 0 193.03689 \nL 771.2 193.03689 \nL 771.2 -0 \nL 0 -0 \nz\n\" style=\"fill:none;\"/>\n  </g>\n  <g id=\"axes_1\">\n   <g id=\"patch_2\">\n    <path d=\"M 10.7 93.384163 \nL 81.766038 93.384163 \nL 81.766038 22.318125 \nL 10.7 22.318125 \nz\n\" style=\"fill:#ffffff;\"/>\n   </g>\n   <g clip-path=\"url(#peb7d40c357)\">\n    <image height=\"72\" id=\"imagedc5c45ea47\" transform=\"scale(1 -1)translate(0 -72)\" width=\"72\" x=\"10.7\" xlink:href=\"data:image/png;base64,\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\" y=\"-21.384163\"/>\n   </g>\n   <g id=\"patch_3\">\n    <path d=\"M 10.7 93.384163 \nL 10.7 22.318125 \n\" style=\"fill:none;stroke:#000000;stroke-linecap:square;stroke-linejoin:miter;stroke-width:0.8;\"/>\n   </g>\n   <g id=\"patch_4\">\n    <path d=\"M 81.766038 93.384163 \nL 81.766038 22.318125 \n\" style=\"fill:none;stroke:#000000;stroke-linecap:square;stroke-linejoin:miter;stroke-width:0.8;\"/>\n   </g>\n   <g id=\"patch_5\">\n    <path d=\"M 10.7 93.384163 \nL 81.766038 93.384163 \n\" style=\"fill:none;stroke:#000000;stroke-linecap:square;stroke-linejoin:miter;stroke-width:0.8;\"/>\n   </g>\n   <g id=\"patch_6\">\n    <path d=\"M 10.7 22.318125 \nL 81.766038 22.318125 \n\" style=\"fill:none;stroke:#000000;stroke-linecap:square;stroke-linejoin:miter;stroke-width:0.8;\"/>\n   </g>\n   <g id=\"text_1\">\n    <!-- ankle boot -->\n    <g transform=\"translate(14.509894 16.318125)scale(0.12 -0.12)\">\n     <defs>\n      <path d=\"M 34.28125 27.484375 \nQ 23.390625 27.484375 19.1875 25 \nQ 14.984375 22.515625 14.984375 16.5 \nQ 14.984375 11.71875 18.140625 8.90625 \nQ 21.296875 6.109375 26.703125 6.109375 \nQ 34.1875 6.109375 38.703125 11.40625 \nQ 43.21875 16.703125 43.21875 25.484375 \nL 43.21875 27.484375 \nz\nM 52.203125 31.203125 \nL 52.203125 0 \nL 43.21875 0 \nL 43.21875 8.296875 \nQ 40.140625 3.328125 35.546875 0.953125 \nQ 30.953125 -1.421875 24.3125 -1.421875 \nQ 15.921875 -1.421875 10.953125 3.296875 \nQ 6 8.015625 6 15.921875 \nQ 6 25.140625 12.171875 29.828125 \nQ 18.359375 34.515625 30.609375 34.515625 \nL 43.21875 34.515625 \nL 43.21875 35.40625 \nQ 43.21875 41.609375 39.140625 45 \nQ 35.0625 48.390625 27.6875 48.390625 \nQ 23 48.390625 18.546875 47.265625 \nQ 14.109375 46.140625 10.015625 43.890625 \nL 10.015625 52.203125 \nQ 14.9375 54.109375 19.578125 55.046875 \nQ 24.21875 56 28.609375 56 \nQ 40.484375 56 46.34375 49.84375 \nQ 52.203125 43.703125 52.203125 31.203125 \nz\n\" id=\"DejaVuSans-97\"/>\n      <path d=\"M 54.890625 33.015625 \nL 54.890625 0 \nL 45.90625 0 \nL 45.90625 32.71875 \nQ 45.90625 40.484375 42.875 44.328125 \nQ 39.84375 48.1875 33.796875 48.1875 \nQ 26.515625 48.1875 22.3125 43.546875 \nQ 18.109375 38.921875 18.109375 30.90625 \nL 18.109375 0 \nL 9.078125 0 \nL 9.078125 54.6875 \nL 18.109375 54.6875 \nL 18.109375 46.1875 \nQ 21.34375 51.125 25.703125 53.5625 \nQ 30.078125 56 35.796875 56 \nQ 45.21875 56 50.046875 50.171875 \nQ 54.890625 44.34375 54.890625 33.015625 \nz\n\" id=\"DejaVuSans-110\"/>\n      <path d=\"M 9.078125 75.984375 \nL 18.109375 75.984375 \nL 18.109375 31.109375 \nL 44.921875 54.6875 \nL 56.390625 54.6875 \nL 27.390625 29.109375 \nL 57.625 0 \nL 45.90625 0 \nL 18.109375 26.703125 \nL 18.109375 0 \nL 9.078125 0 \nz\n\" id=\"DejaVuSans-107\"/>\n      <path d=\"M 9.421875 75.984375 \nL 18.40625 75.984375 \nL 18.40625 0 \nL 9.421875 0 \nz\n\" id=\"DejaVuSans-108\"/>\n      <path d=\"M 56.203125 29.59375 \nL 56.203125 25.203125 \nL 14.890625 25.203125 \nQ 15.484375 15.921875 20.484375 11.0625 \nQ 25.484375 6.203125 34.421875 6.203125 \nQ 39.59375 6.203125 44.453125 7.46875 \nQ 49.3125 8.734375 54.109375 11.28125 \nL 54.109375 2.78125 \nQ 49.265625 0.734375 44.1875 -0.34375 \nQ 39.109375 -1.421875 33.890625 -1.421875 \nQ 20.796875 -1.421875 13.15625 6.1875 \nQ 5.515625 13.8125 5.515625 26.8125 \nQ 5.515625 40.234375 12.765625 48.109375 \nQ 20.015625 56 32.328125 56 \nQ 43.359375 56 49.78125 48.890625 \nQ 56.203125 41.796875 56.203125 29.59375 \nz\nM 47.21875 32.234375 \nQ 47.125 39.59375 43.09375 43.984375 \nQ 39.0625 48.390625 32.421875 48.390625 \nQ 24.90625 48.390625 20.390625 44.140625 \nQ 15.875 39.890625 15.1875 32.171875 \nz\n\" id=\"DejaVuSans-101\"/>\n      <path id=\"DejaVuSans-32\"/>\n      <path d=\"M 48.6875 27.296875 \nQ 48.6875 37.203125 44.609375 42.84375 \nQ 40.53125 48.484375 33.40625 48.484375 \nQ 26.265625 48.484375 22.1875 42.84375 \nQ 18.109375 37.203125 18.109375 27.296875 \nQ 18.109375 17.390625 22.1875 11.75 \nQ 26.265625 6.109375 33.40625 6.109375 \nQ 40.53125 6.109375 44.609375 11.75 \nQ 48.6875 17.390625 48.6875 27.296875 \nz\nM 18.109375 46.390625 \nQ 20.953125 51.265625 25.265625 53.625 \nQ 29.59375 56 35.59375 56 \nQ 45.5625 56 51.78125 48.09375 \nQ 58.015625 40.1875 58.015625 27.296875 \nQ 58.015625 14.40625 51.78125 6.484375 \nQ 45.5625 -1.421875 35.59375 -1.421875 \nQ 29.59375 -1.421875 25.265625 0.953125 \nQ 20.953125 3.328125 18.109375 8.203125 \nL 18.109375 0 \nL 9.078125 0 \nL 9.078125 75.984375 \nL 18.109375 75.984375 \nz\n\" id=\"DejaVuSans-98\"/>\n      <path d=\"M 30.609375 48.390625 \nQ 23.390625 48.390625 19.1875 42.75 \nQ 14.984375 37.109375 14.984375 27.296875 \nQ 14.984375 17.484375 19.15625 11.84375 \nQ 23.34375 6.203125 30.609375 6.203125 \nQ 37.796875 6.203125 41.984375 11.859375 \nQ 46.1875 17.53125 46.1875 27.296875 \nQ 46.1875 37.015625 41.984375 42.703125 \nQ 37.796875 48.390625 30.609375 48.390625 \nz\nM 30.609375 56 \nQ 42.328125 56 49.015625 48.375 \nQ 55.71875 40.765625 55.71875 27.296875 \nQ 55.71875 13.875 49.015625 6.21875 \nQ 42.328125 -1.421875 30.609375 -1.421875 \nQ 18.84375 -1.421875 12.171875 6.21875 \nQ 5.515625 13.875 5.515625 27.296875 \nQ 5.515625 40.765625 12.171875 48.375 \nQ 18.84375 56 30.609375 56 \nz\n\" id=\"DejaVuSans-111\"/>\n      <path d=\"M 18.3125 70.21875 \nL 18.3125 54.6875 \nL 36.8125 54.6875 \nL 36.8125 47.703125 \nL 18.3125 47.703125 \nL 18.3125 18.015625 \nQ 18.3125 11.328125 20.140625 9.421875 \nQ 21.96875 7.515625 27.59375 7.515625 \nL 36.8125 7.515625 \nL 36.8125 0 \nL 27.59375 0 \nQ 17.1875 0 13.234375 3.875 \nQ 9.28125 7.765625 9.28125 18.015625 \nL 9.28125 47.703125 \nL 2.6875 47.703125 \nL 2.6875 54.6875 \nL 9.28125 54.6875 \nL 9.28125 70.21875 \nz\n\" id=\"DejaVuSans-116\"/>\n     </defs>\n     <use xlink:href=\"#DejaVuSans-97\"/>\n     <use x=\"61.279297\" xlink:href=\"#DejaVuSans-110\"/>\n     <use x=\"124.658203\" xlink:href=\"#DejaVuSans-107\"/>\n     <use x=\"182.568359\" xlink:href=\"#DejaVuSans-108\"/>\n     <use x=\"210.351562\" xlink:href=\"#DejaVuSans-101\"/>\n     <use x=\"271.875\" xlink:href=\"#DejaVuSans-32\"/>\n     <use x=\"303.662109\" xlink:href=\"#DejaVuSans-98\"/>\n     <use x=\"367.138672\" xlink:href=\"#DejaVuSans-111\"/>\n     <use x=\"428.320312\" xlink:href=\"#DejaVuSans-111\"/>\n     <use x=\"489.501953\" xlink:href=\"#DejaVuSans-116\"/>\n    </g>\n   </g>\n  </g>\n  <g id=\"axes_2\">\n   <g id=\"patch_7\">\n    <path d=\"M 95.979245 93.384163 \nL 167.045283 93.384163 \nL 167.045283 22.318125 \nL 95.979245 22.318125 \nz\n\" style=\"fill:#ffffff;\"/>\n   </g>\n   <g clip-path=\"url(#pa13bdb4491)\">\n    <image height=\"72\" id=\"image43211c04a5\" transform=\"scale(1 -1)translate(0 -72)\" width=\"72\" x=\"95.979245\" xlink:href=\"data:image/png;base64,\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\" y=\"-21.384163\"/>\n   </g>\n   <g id=\"patch_8\">\n    <path d=\"M 95.979245 93.384163 \nL 95.979245 22.318125 \n\" style=\"fill:none;stroke:#000000;stroke-linecap:square;stroke-linejoin:miter;stroke-width:0.8;\"/>\n   </g>\n   <g id=\"patch_9\">\n    <path d=\"M 167.045283 93.384163 \nL 167.045283 22.318125 \n\" style=\"fill:none;stroke:#000000;stroke-linecap:square;stroke-linejoin:miter;stroke-width:0.8;\"/>\n   </g>\n   <g id=\"patch_10\">\n    <path d=\"M 95.979245 93.384163 \nL 167.045283 93.384163 \n\" style=\"fill:none;stroke:#000000;stroke-linecap:square;stroke-linejoin:miter;stroke-width:0.8;\"/>\n   </g>\n   <g id=\"patch_11\">\n    <path d=\"M 95.979245 22.318125 \nL 167.045283 22.318125 \n\" style=\"fill:none;stroke:#000000;stroke-linecap:square;stroke-linejoin:miter;stroke-width:0.8;\"/>\n   </g>\n   <g id=\"text_2\">\n    <!-- t-shirt -->\n    <g transform=\"translate(113.581639 16.318125)scale(0.12 -0.12)\">\n     <defs>\n      <path d=\"M 4.890625 31.390625 \nL 31.203125 31.390625 \nL 31.203125 23.390625 \nL 4.890625 23.390625 \nz\n\" id=\"DejaVuSans-45\"/>\n      <path d=\"M 44.28125 53.078125 \nL 44.28125 44.578125 \nQ 40.484375 46.53125 36.375 47.5 \nQ 32.28125 48.484375 27.875 48.484375 \nQ 21.1875 48.484375 17.84375 46.4375 \nQ 14.5 44.390625 14.5 40.28125 \nQ 14.5 37.15625 16.890625 35.375 \nQ 19.28125 33.59375 26.515625 31.984375 \nL 29.59375 31.296875 \nQ 39.15625 29.25 43.1875 25.515625 \nQ 47.21875 21.78125 47.21875 15.09375 \nQ 47.21875 7.46875 41.1875 3.015625 \nQ 35.15625 -1.421875 24.609375 -1.421875 \nQ 20.21875 -1.421875 15.453125 -0.5625 \nQ 10.6875 0.296875 5.421875 2 \nL 5.421875 11.28125 \nQ 10.40625 8.6875 15.234375 7.390625 \nQ 20.0625 6.109375 24.8125 6.109375 \nQ 31.15625 6.109375 34.5625 8.28125 \nQ 37.984375 10.453125 37.984375 14.40625 \nQ 37.984375 18.0625 35.515625 20.015625 \nQ 33.0625 21.96875 24.703125 23.78125 \nL 21.578125 24.515625 \nQ 13.234375 26.265625 9.515625 29.90625 \nQ 5.8125 33.546875 5.8125 39.890625 \nQ 5.8125 47.609375 11.28125 51.796875 \nQ 16.75 56 26.8125 56 \nQ 31.78125 56 36.171875 55.265625 \nQ 40.578125 54.546875 44.28125 53.078125 \nz\n\" id=\"DejaVuSans-115\"/>\n      <path d=\"M 54.890625 33.015625 \nL 54.890625 0 \nL 45.90625 0 \nL 45.90625 32.71875 \nQ 45.90625 40.484375 42.875 44.328125 \nQ 39.84375 48.1875 33.796875 48.1875 \nQ 26.515625 48.1875 22.3125 43.546875 \nQ 18.109375 38.921875 18.109375 30.90625 \nL 18.109375 0 \nL 9.078125 0 \nL 9.078125 75.984375 \nL 18.109375 75.984375 \nL 18.109375 46.1875 \nQ 21.34375 51.125 25.703125 53.5625 \nQ 30.078125 56 35.796875 56 \nQ 45.21875 56 50.046875 50.171875 \nQ 54.890625 44.34375 54.890625 33.015625 \nz\n\" id=\"DejaVuSans-104\"/>\n      <path d=\"M 9.421875 54.6875 \nL 18.40625 54.6875 \nL 18.40625 0 \nL 9.421875 0 \nz\nM 9.421875 75.984375 \nL 18.40625 75.984375 \nL 18.40625 64.59375 \nL 9.421875 64.59375 \nz\n\" id=\"DejaVuSans-105\"/>\n      <path d=\"M 41.109375 46.296875 \nQ 39.59375 47.171875 37.8125 47.578125 \nQ 36.03125 48 33.890625 48 \nQ 26.265625 48 22.1875 43.046875 \nQ 18.109375 38.09375 18.109375 28.8125 \nL 18.109375 0 \nL 9.078125 0 \nL 9.078125 54.6875 \nL 18.109375 54.6875 \nL 18.109375 46.1875 \nQ 20.953125 51.171875 25.484375 53.578125 \nQ 30.03125 56 36.53125 56 \nQ 37.453125 56 38.578125 55.875 \nQ 39.703125 55.765625 41.0625 55.515625 \nz\n\" id=\"DejaVuSans-114\"/>\n     </defs>\n     <use xlink:href=\"#DejaVuSans-116\"/>\n     <use x=\"39.208984\" xlink:href=\"#DejaVuSans-45\"/>\n     <use x=\"75.292969\" xlink:href=\"#DejaVuSans-115\"/>\n     <use x=\"127.392578\" xlink:href=\"#DejaVuSans-104\"/>\n     <use x=\"190.771484\" xlink:href=\"#DejaVuSans-105\"/>\n     <use x=\"218.554688\" xlink:href=\"#DejaVuSans-114\"/>\n     <use x=\"259.667969\" xlink:href=\"#DejaVuSans-116\"/>\n    </g>\n   </g>\n  </g>\n  <g id=\"axes_3\">\n   <g id=\"patch_12\">\n    <path d=\"M 181.258491 93.384163 \nL 252.324528 93.384163 \nL 252.324528 22.318125 \nL 181.258491 22.318125 \nz\n\" style=\"fill:#ffffff;\"/>\n   </g>\n   <g clip-path=\"url(#p9bd7cfaa9c)\">\n    <image height=\"72\" id=\"image23a3fee28a\" transform=\"scale(1 -1)translate(0 -72)\" width=\"72\" x=\"181.258491\" xlink:href=\"data:image/png;base64,\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\" y=\"-21.384163\"/>\n   </g>\n   <g id=\"patch_13\">\n    <path d=\"M 181.258491 93.384163 \nL 181.258491 22.318125 \n\" style=\"fill:none;stroke:#000000;stroke-linecap:square;stroke-linejoin:miter;stroke-width:0.8;\"/>\n   </g>\n   <g id=\"patch_14\">\n    <path d=\"M 252.324528 93.384163 \nL 252.324528 22.318125 \n\" style=\"fill:none;stroke:#000000;stroke-linecap:square;stroke-linejoin:miter;stroke-width:0.8;\"/>\n   </g>\n   <g id=\"patch_15\">\n    <path d=\"M 181.258491 93.384163 \nL 252.324528 93.384163 \n\" style=\"fill:none;stroke:#000000;stroke-linecap:square;stroke-linejoin:miter;stroke-width:0.8;\"/>\n   </g>\n   <g id=\"patch_16\">\n    <path d=\"M 181.258491 22.318125 \nL 252.324528 22.318125 \n\" style=\"fill:none;stroke:#000000;stroke-linecap:square;stroke-linejoin:miter;stroke-width:0.8;\"/>\n   </g>\n   <g id=\"text_3\">\n    <!-- t-shirt -->\n    <g transform=\"translate(198.860884 16.318125)scale(0.12 -0.12)\">\n     <use xlink:href=\"#DejaVuSans-116\"/>\n     <use x=\"39.208984\" xlink:href=\"#DejaVuSans-45\"/>\n     <use x=\"75.292969\" xlink:href=\"#DejaVuSans-115\"/>\n     <use x=\"127.392578\" xlink:href=\"#DejaVuSans-104\"/>\n     <use x=\"190.771484\" xlink:href=\"#DejaVuSans-105\"/>\n     <use x=\"218.554688\" xlink:href=\"#DejaVuSans-114\"/>\n     <use x=\"259.667969\" xlink:href=\"#DejaVuSans-116\"/>\n    </g>\n   </g>\n  </g>\n  <g id=\"axes_4\">\n   <g id=\"patch_17\">\n    <path d=\"M 266.537736 93.384163 \nL 337.603774 93.384163 \nL 337.603774 22.318125 \nL 266.537736 22.318125 \nz\n\" style=\"fill:#ffffff;\"/>\n   </g>\n   <g clip-path=\"url(#pefac0d85ca)\">\n    <image height=\"72\" id=\"imaged05010060c\" transform=\"scale(1 -1)translate(0 -72)\" width=\"72\" x=\"266.537736\" xlink:href=\"data:image/png;base64,\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\" y=\"-21.384163\"/>\n   </g>\n   <g id=\"patch_18\">\n    <path d=\"M 266.537736 93.384163 \nL 266.537736 22.318125 \n\" style=\"fill:none;stroke:#000000;stroke-linecap:square;stroke-linejoin:miter;stroke-width:0.8;\"/>\n   </g>\n   <g id=\"patch_19\">\n    <path d=\"M 337.603774 93.384163 \nL 337.603774 22.318125 \n\" style=\"fill:none;stroke:#000000;stroke-linecap:square;stroke-linejoin:miter;stroke-width:0.8;\"/>\n   </g>\n   <g id=\"patch_20\">\n    <path d=\"M 266.537736 93.384163 \nL 337.603774 93.384163 \n\" style=\"fill:none;stroke:#000000;stroke-linecap:square;stroke-linejoin:miter;stroke-width:0.8;\"/>\n   </g>\n   <g id=\"patch_21\">\n    <path d=\"M 266.537736 22.318125 \nL 337.603774 22.318125 \n\" style=\"fill:none;stroke:#000000;stroke-linecap:square;stroke-linejoin:miter;stroke-width:0.8;\"/>\n   </g>\n   <g id=\"text_4\">\n    <!-- dress -->\n    <g transform=\"translate(285.987005 16.318125)scale(0.12 -0.12)\">\n     <defs>\n      <path d=\"M 45.40625 46.390625 \nL 45.40625 75.984375 \nL 54.390625 75.984375 \nL 54.390625 0 \nL 45.40625 0 \nL 45.40625 8.203125 \nQ 42.578125 3.328125 38.25 0.953125 \nQ 33.9375 -1.421875 27.875 -1.421875 \nQ 17.96875 -1.421875 11.734375 6.484375 \nQ 5.515625 14.40625 5.515625 27.296875 \nQ 5.515625 40.1875 11.734375 48.09375 \nQ 17.96875 56 27.875 56 \nQ 33.9375 56 38.25 53.625 \nQ 42.578125 51.265625 45.40625 46.390625 \nz\nM 14.796875 27.296875 \nQ 14.796875 17.390625 18.875 11.75 \nQ 22.953125 6.109375 30.078125 6.109375 \nQ 37.203125 6.109375 41.296875 11.75 \nQ 45.40625 17.390625 45.40625 27.296875 \nQ 45.40625 37.203125 41.296875 42.84375 \nQ 37.203125 48.484375 30.078125 48.484375 \nQ 22.953125 48.484375 18.875 42.84375 \nQ 14.796875 37.203125 14.796875 27.296875 \nz\n\" id=\"DejaVuSans-100\"/>\n     </defs>\n     <use xlink:href=\"#DejaVuSans-100\"/>\n     <use x=\"63.476562\" xlink:href=\"#DejaVuSans-114\"/>\n     <use x=\"102.339844\" xlink:href=\"#DejaVuSans-101\"/>\n     <use x=\"163.863281\" xlink:href=\"#DejaVuSans-115\"/>\n     <use x=\"215.962891\" xlink:href=\"#DejaVuSans-115\"/>\n    </g>\n   </g>\n  </g>\n  <g id=\"axes_5\">\n   <g id=\"patch_22\">\n    <path d=\"M 351.816981 93.384163 \nL 422.883019 93.384163 \nL 422.883019 22.318125 \nL 351.816981 22.318125 \nz\n\" style=\"fill:#ffffff;\"/>\n   </g>\n   <g clip-path=\"url(#p7402709052)\">\n    <image height=\"72\" id=\"image77cc8133d6\" transform=\"scale(1 -1)translate(0 -72)\" width=\"72\" x=\"351.816981\" xlink:href=\"data:image/png;base64,\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\" y=\"-21.384163\"/>\n   </g>\n   <g id=\"patch_23\">\n    <path d=\"M 351.816981 93.384163 \nL 351.816981 22.318125 \n\" style=\"fill:none;stroke:#000000;stroke-linecap:square;stroke-linejoin:miter;stroke-width:0.8;\"/>\n   </g>\n   <g id=\"patch_24\">\n    <path d=\"M 422.883019 93.384163 \nL 422.883019 22.318125 \n\" style=\"fill:none;stroke:#000000;stroke-linecap:square;stroke-linejoin:miter;stroke-width:0.8;\"/>\n   </g>\n   <g id=\"patch_25\">\n    <path d=\"M 351.816981 93.384163 \nL 422.883019 93.384163 \n\" style=\"fill:none;stroke:#000000;stroke-linecap:square;stroke-linejoin:miter;stroke-width:0.8;\"/>\n   </g>\n   <g id=\"patch_26\">\n    <path d=\"M 351.816981 22.318125 \nL 422.883019 22.318125 \n\" style=\"fill:none;stroke:#000000;stroke-linecap:square;stroke-linejoin:miter;stroke-width:0.8;\"/>\n   </g>\n   <g id=\"text_5\">\n    <!-- t-shirt -->\n    <g transform=\"translate(369.419375 16.318125)scale(0.12 -0.12)\">\n     <use xlink:href=\"#DejaVuSans-116\"/>\n     <use x=\"39.208984\" xlink:href=\"#DejaVuSans-45\"/>\n     <use x=\"75.292969\" xlink:href=\"#DejaVuSans-115\"/>\n     <use x=\"127.392578\" xlink:href=\"#DejaVuSans-104\"/>\n     <use x=\"190.771484\" xlink:href=\"#DejaVuSans-105\"/>\n     <use x=\"218.554688\" xlink:href=\"#DejaVuSans-114\"/>\n     <use x=\"259.667969\" xlink:href=\"#DejaVuSans-116\"/>\n    </g>\n   </g>\n  </g>\n  <g id=\"axes_6\">\n   <g id=\"patch_27\">\n    <path d=\"M 437.096226 93.384163 \nL 508.162264 93.384163 \nL 508.162264 22.318125 \nL 437.096226 22.318125 \nz\n\" style=\"fill:#ffffff;\"/>\n   </g>\n   <g clip-path=\"url(#p8fa90a8807)\">\n    <image height=\"72\" id=\"image8029838857\" transform=\"scale(1 -1)translate(0 -72)\" width=\"72\" x=\"437.096226\" xlink:href=\"data:image/png;base64,\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\" y=\"-21.384163\"/>\n   </g>\n   <g id=\"patch_28\">\n    <path d=\"M 437.096226 93.384163 \nL 437.096226 22.318125 \n\" style=\"fill:none;stroke:#000000;stroke-linecap:square;stroke-linejoin:miter;stroke-width:0.8;\"/>\n   </g>\n   <g id=\"patch_29\">\n    <path d=\"M 508.162264 93.384163 \nL 508.162264 22.318125 \n\" style=\"fill:none;stroke:#000000;stroke-linecap:square;stroke-linejoin:miter;stroke-width:0.8;\"/>\n   </g>\n   <g id=\"patch_30\">\n    <path d=\"M 437.096226 93.384163 \nL 508.162264 93.384163 \n\" style=\"fill:none;stroke:#000000;stroke-linecap:square;stroke-linejoin:miter;stroke-width:0.8;\"/>\n   </g>\n   <g id=\"patch_31\">\n    <path d=\"M 437.096226 22.318125 \nL 508.162264 22.318125 \n\" style=\"fill:none;stroke:#000000;stroke-linecap:square;stroke-linejoin:miter;stroke-width:0.8;\"/>\n   </g>\n   <g id=\"text_6\">\n    <!-- pullover -->\n    <g transform=\"translate(448.302995 16.318125)scale(0.12 -0.12)\">\n     <defs>\n      <path d=\"M 18.109375 8.203125 \nL 18.109375 -20.796875 \nL 9.078125 -20.796875 \nL 9.078125 54.6875 \nL 18.109375 54.6875 \nL 18.109375 46.390625 \nQ 20.953125 51.265625 25.265625 53.625 \nQ 29.59375 56 35.59375 56 \nQ 45.5625 56 51.78125 48.09375 \nQ 58.015625 40.1875 58.015625 27.296875 \nQ 58.015625 14.40625 51.78125 6.484375 \nQ 45.5625 -1.421875 35.59375 -1.421875 \nQ 29.59375 -1.421875 25.265625 0.953125 \nQ 20.953125 3.328125 18.109375 8.203125 \nz\nM 48.6875 27.296875 \nQ 48.6875 37.203125 44.609375 42.84375 \nQ 40.53125 48.484375 33.40625 48.484375 \nQ 26.265625 48.484375 22.1875 42.84375 \nQ 18.109375 37.203125 18.109375 27.296875 \nQ 18.109375 17.390625 22.1875 11.75 \nQ 26.265625 6.109375 33.40625 6.109375 \nQ 40.53125 6.109375 44.609375 11.75 \nQ 48.6875 17.390625 48.6875 27.296875 \nz\n\" id=\"DejaVuSans-112\"/>\n      <path d=\"M 8.5 21.578125 \nL 8.5 54.6875 \nL 17.484375 54.6875 \nL 17.484375 21.921875 \nQ 17.484375 14.15625 20.5 10.265625 \nQ 23.53125 6.390625 29.59375 6.390625 \nQ 36.859375 6.390625 41.078125 11.03125 \nQ 45.3125 15.671875 45.3125 23.6875 \nL 45.3125 54.6875 \nL 54.296875 54.6875 \nL 54.296875 0 \nL 45.3125 0 \nL 45.3125 8.40625 \nQ 42.046875 3.421875 37.71875 1 \nQ 33.40625 -1.421875 27.6875 -1.421875 \nQ 18.265625 -1.421875 13.375 4.4375 \nQ 8.5 10.296875 8.5 21.578125 \nz\nM 31.109375 56 \nz\n\" id=\"DejaVuSans-117\"/>\n      <path d=\"M 2.984375 54.6875 \nL 12.5 54.6875 \nL 29.59375 8.796875 \nL 46.6875 54.6875 \nL 56.203125 54.6875 \nL 35.6875 0 \nL 23.484375 0 \nz\n\" id=\"DejaVuSans-118\"/>\n     </defs>\n     <use xlink:href=\"#DejaVuSans-112\"/>\n     <use x=\"63.476562\" xlink:href=\"#DejaVuSans-117\"/>\n     <use x=\"126.855469\" xlink:href=\"#DejaVuSans-108\"/>\n     <use x=\"154.638672\" xlink:href=\"#DejaVuSans-108\"/>\n     <use x=\"182.421875\" xlink:href=\"#DejaVuSans-111\"/>\n     <use x=\"243.603516\" xlink:href=\"#DejaVuSans-118\"/>\n     <use x=\"302.783203\" xlink:href=\"#DejaVuSans-101\"/>\n     <use x=\"364.306641\" xlink:href=\"#DejaVuSans-114\"/>\n    </g>\n   </g>\n  </g>\n  <g id=\"axes_7\">\n   <g id=\"patch_32\">\n    <path d=\"M 522.375472 93.384163 \nL 593.441509 93.384163 \nL 593.441509 22.318125 \nL 522.375472 22.318125 \nz\n\" style=\"fill:#ffffff;\"/>\n   </g>\n   <g clip-path=\"url(#pe01117d370)\">\n    <image height=\"72\" id=\"image9f6e5bb935\" transform=\"scale(1 -1)translate(0 -72)\" width=\"72\" x=\"522.375472\" xlink:href=\"data:image/png;base64,\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\" y=\"-21.384163\"/>\n   </g>\n   <g id=\"patch_33\">\n    <path d=\"M 522.375472 93.384163 \nL 522.375472 22.318125 \n\" style=\"fill:none;stroke:#000000;stroke-linecap:square;stroke-linejoin:miter;stroke-width:0.8;\"/>\n   </g>\n   <g id=\"patch_34\">\n    <path d=\"M 593.441509 93.384163 \nL 593.441509 22.318125 \n\" style=\"fill:none;stroke:#000000;stroke-linecap:square;stroke-linejoin:miter;stroke-width:0.8;\"/>\n   </g>\n   <g id=\"patch_35\">\n    <path d=\"M 522.375472 93.384163 \nL 593.441509 93.384163 \n\" style=\"fill:none;stroke:#000000;stroke-linecap:square;stroke-linejoin:miter;stroke-width:0.8;\"/>\n   </g>\n   <g id=\"patch_36\">\n    <path d=\"M 522.375472 22.318125 \nL 593.441509 22.318125 \n\" style=\"fill:none;stroke:#000000;stroke-linecap:square;stroke-linejoin:miter;stroke-width:0.8;\"/>\n   </g>\n   <g id=\"text_7\">\n    <!-- sneaker -->\n    <g transform=\"translate(534.196303 16.318125)scale(0.12 -0.12)\">\n     <use xlink:href=\"#DejaVuSans-115\"/>\n     <use x=\"52.099609\" xlink:href=\"#DejaVuSans-110\"/>\n     <use x=\"115.478516\" xlink:href=\"#DejaVuSans-101\"/>\n     <use x=\"177.001953\" xlink:href=\"#DejaVuSans-97\"/>\n     <use x=\"238.28125\" xlink:href=\"#DejaVuSans-107\"/>\n     <use x=\"292.566406\" xlink:href=\"#DejaVuSans-101\"/>\n     <use x=\"354.089844\" xlink:href=\"#DejaVuSans-114\"/>\n    </g>\n   </g>\n  </g>\n  <g id=\"axes_8\">\n   <g id=\"patch_37\">\n    <path d=\"M 607.654717 93.384163 \nL 678.720755 93.384163 \nL 678.720755 22.318125 \nL 607.654717 22.318125 \nz\n\" style=\"fill:#ffffff;\"/>\n   </g>\n   <g clip-path=\"url(#p4e9117e158)\">\n    <image height=\"72\" id=\"image8f8f01c80d\" transform=\"scale(1 -1)translate(0 -72)\" width=\"72\" x=\"607.654717\" xlink:href=\"data:image/png;base64,\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\" y=\"-21.384163\"/>\n   </g>\n   <g id=\"patch_38\">\n    <path d=\"M 607.654717 93.384163 \nL 607.654717 22.318125 \n\" style=\"fill:none;stroke:#000000;stroke-linecap:square;stroke-linejoin:miter;stroke-width:0.8;\"/>\n   </g>\n   <g id=\"patch_39\">\n    <path d=\"M 678.720755 93.384163 \nL 678.720755 22.318125 \n\" style=\"fill:none;stroke:#000000;stroke-linecap:square;stroke-linejoin:miter;stroke-width:0.8;\"/>\n   </g>\n   <g id=\"patch_40\">\n    <path d=\"M 607.654717 93.384163 \nL 678.720755 93.384163 \n\" style=\"fill:none;stroke:#000000;stroke-linecap:square;stroke-linejoin:miter;stroke-width:0.8;\"/>\n   </g>\n   <g id=\"patch_41\">\n    <path d=\"M 607.654717 22.318125 \nL 678.720755 22.318125 \n\" style=\"fill:none;stroke:#000000;stroke-linecap:square;stroke-linejoin:miter;stroke-width:0.8;\"/>\n   </g>\n   <g id=\"text_8\">\n    <!-- pullover -->\n    <g transform=\"translate(618.861486 16.318125)scale(0.12 -0.12)\">\n     <use xlink:href=\"#DejaVuSans-112\"/>\n     <use x=\"63.476562\" xlink:href=\"#DejaVuSans-117\"/>\n     <use x=\"126.855469\" xlink:href=\"#DejaVuSans-108\"/>\n     <use x=\"154.638672\" xlink:href=\"#DejaVuSans-108\"/>\n     <use x=\"182.421875\" xlink:href=\"#DejaVuSans-111\"/>\n     <use x=\"243.603516\" xlink:href=\"#DejaVuSans-118\"/>\n     <use x=\"302.783203\" xlink:href=\"#DejaVuSans-101\"/>\n     <use x=\"364.306641\" xlink:href=\"#DejaVuSans-114\"/>\n    </g>\n   </g>\n  </g>\n  <g id=\"axes_9\">\n   <g id=\"patch_42\">\n    <path d=\"M 692.933962 93.384163 \nL 764 93.384163 \nL 764 22.318125 \nL 692.933962 22.318125 \nz\n\" style=\"fill:#ffffff;\"/>\n   </g>\n   <g clip-path=\"url(#p02214ac290)\">\n    <image height=\"72\" id=\"image5c529568bd\" transform=\"scale(1 -1)translate(0 -72)\" width=\"72\" x=\"692.933962\" xlink:href=\"data:image/png;base64,\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\" y=\"-21.384163\"/>\n   </g>\n   <g id=\"patch_43\">\n    <path d=\"M 692.933962 93.384163 \nL 692.933962 22.318125 \n\" style=\"fill:none;stroke:#000000;stroke-linecap:square;stroke-linejoin:miter;stroke-width:0.8;\"/>\n   </g>\n   <g id=\"patch_44\">\n    <path d=\"M 764 93.384163 \nL 764 22.318125 \n\" style=\"fill:none;stroke:#000000;stroke-linecap:square;stroke-linejoin:miter;stroke-width:0.8;\"/>\n   </g>\n   <g id=\"patch_45\">\n    <path d=\"M 692.933962 93.384163 \nL 764 93.384163 \n\" style=\"fill:none;stroke:#000000;stroke-linecap:square;stroke-linejoin:miter;stroke-width:0.8;\"/>\n   </g>\n   <g id=\"patch_46\">\n    <path d=\"M 692.933962 22.318125 \nL 764 22.318125 \n\" style=\"fill:none;stroke:#000000;stroke-linecap:square;stroke-linejoin:miter;stroke-width:0.8;\"/>\n   </g>\n   <g id=\"text_9\">\n    <!-- sandal -->\n    <g transform=\"translate(708.709169 16.318125)scale(0.12 -0.12)\">\n     <use xlink:href=\"#DejaVuSans-115\"/>\n     <use x=\"52.099609\" xlink:href=\"#DejaVuSans-97\"/>\n     <use x=\"113.378906\" xlink:href=\"#DejaVuSans-110\"/>\n     <use x=\"176.757812\" xlink:href=\"#DejaVuSans-100\"/>\n     <use x=\"240.234375\" xlink:href=\"#DejaVuSans-97\"/>\n     <use x=\"301.513672\" xlink:href=\"#DejaVuSans-108\"/>\n    </g>\n   </g>\n  </g>\n  <g id=\"axes_10\">\n   <g id=\"patch_47\">\n    <path d=\"M 10.7 182.33689 \nL 81.766038 182.33689 \nL 81.766038 111.270852 \nL 10.7 111.270852 \nz\n\" style=\"fill:#ffffff;\"/>\n   </g>\n   <g clip-path=\"url(#p24f18bcb0d)\">\n    <image height=\"72\" id=\"imagec7918d4575\" transform=\"scale(1 -1)translate(0 -72)\" width=\"72\" x=\"10.7\" xlink:href=\"data:image/png;base64,\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\" y=\"-110.33689\"/>\n   </g>\n   <g id=\"patch_48\">\n    <path d=\"M 10.7 182.33689 \nL 10.7 111.270852 \n\" style=\"fill:none;stroke:#000000;stroke-linecap:square;stroke-linejoin:miter;stroke-width:0.8;\"/>\n   </g>\n   <g id=\"patch_49\">\n    <path d=\"M 81.766038 182.33689 \nL 81.766038 111.270852 \n\" style=\"fill:none;stroke:#000000;stroke-linecap:square;stroke-linejoin:miter;stroke-width:0.8;\"/>\n   </g>\n   <g id=\"patch_50\">\n    <path d=\"M 10.7 182.33689 \nL 81.766038 182.33689 \n\" style=\"fill:none;stroke:#000000;stroke-linecap:square;stroke-linejoin:miter;stroke-width:0.8;\"/>\n   </g>\n   <g id=\"patch_51\">\n    <path d=\"M 10.7 111.270852 \nL 81.766038 111.270852 \n\" style=\"fill:none;stroke:#000000;stroke-linecap:square;stroke-linejoin:miter;stroke-width:0.8;\"/>\n   </g>\n   <g id=\"text_10\">\n    <!-- sandal -->\n    <g transform=\"translate(26.475206 105.270852)scale(0.12 -0.12)\">\n     <use xlink:href=\"#DejaVuSans-115\"/>\n     <use x=\"52.099609\" xlink:href=\"#DejaVuSans-97\"/>\n     <use x=\"113.378906\" xlink:href=\"#DejaVuSans-110\"/>\n     <use x=\"176.757812\" xlink:href=\"#DejaVuSans-100\"/>\n     <use x=\"240.234375\" xlink:href=\"#DejaVuSans-97\"/>\n     <use x=\"301.513672\" xlink:href=\"#DejaVuSans-108\"/>\n    </g>\n   </g>\n  </g>\n  <g id=\"axes_11\">\n   <g id=\"patch_52\">\n    <path d=\"M 95.979245 182.33689 \nL 167.045283 182.33689 \nL 167.045283 111.270852 \nL 95.979245 111.270852 \nz\n\" style=\"fill:#ffffff;\"/>\n   </g>\n   <g clip-path=\"url(#pfe94cea388)\">\n    <image height=\"72\" id=\"imagee50abb97f9\" transform=\"scale(1 -1)translate(0 -72)\" width=\"72\" x=\"95.979245\" xlink:href=\"data:image/png;base64,\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\" y=\"-110.33689\"/>\n   </g>\n   <g id=\"patch_53\">\n    <path d=\"M 95.979245 182.33689 \nL 95.979245 111.270852 \n\" style=\"fill:none;stroke:#000000;stroke-linecap:square;stroke-linejoin:miter;stroke-width:0.8;\"/>\n   </g>\n   <g id=\"patch_54\">\n    <path d=\"M 167.045283 182.33689 \nL 167.045283 111.270852 \n\" style=\"fill:none;stroke:#000000;stroke-linecap:square;stroke-linejoin:miter;stroke-width:0.8;\"/>\n   </g>\n   <g id=\"patch_55\">\n    <path d=\"M 95.979245 182.33689 \nL 167.045283 182.33689 \n\" style=\"fill:none;stroke:#000000;stroke-linecap:square;stroke-linejoin:miter;stroke-width:0.8;\"/>\n   </g>\n   <g id=\"patch_56\">\n    <path d=\"M 95.979245 111.270852 \nL 167.045283 111.270852 \n\" style=\"fill:none;stroke:#000000;stroke-linecap:square;stroke-linejoin:miter;stroke-width:0.8;\"/>\n   </g>\n   <g id=\"text_11\">\n    <!-- t-shirt -->\n    <g transform=\"translate(113.581639 105.270852)scale(0.12 -0.12)\">\n     <use xlink:href=\"#DejaVuSans-116\"/>\n     <use x=\"39.208984\" xlink:href=\"#DejaVuSans-45\"/>\n     <use x=\"75.292969\" xlink:href=\"#DejaVuSans-115\"/>\n     <use x=\"127.392578\" xlink:href=\"#DejaVuSans-104\"/>\n     <use x=\"190.771484\" xlink:href=\"#DejaVuSans-105\"/>\n     <use x=\"218.554688\" xlink:href=\"#DejaVuSans-114\"/>\n     <use x=\"259.667969\" xlink:href=\"#DejaVuSans-116\"/>\n    </g>\n   </g>\n  </g>\n  <g id=\"axes_12\">\n   <g id=\"patch_57\">\n    <path d=\"M 181.258491 182.33689 \nL 252.324528 182.33689 \nL 252.324528 111.270852 \nL 181.258491 111.270852 \nz\n\" style=\"fill:#ffffff;\"/>\n   </g>\n   <g clip-path=\"url(#p0d8b1afd46)\">\n    <image height=\"72\" id=\"imageb360a8a073\" transform=\"scale(1 -1)translate(0 -72)\" width=\"72\" x=\"181.258491\" xlink:href=\"data:image/png;base64,\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\" y=\"-110.33689\"/>\n   </g>\n   <g id=\"patch_58\">\n    <path d=\"M 181.258491 182.33689 \nL 181.258491 111.270852 \n\" style=\"fill:none;stroke:#000000;stroke-linecap:square;stroke-linejoin:miter;stroke-width:0.8;\"/>\n   </g>\n   <g id=\"patch_59\">\n    <path d=\"M 252.324528 182.33689 \nL 252.324528 111.270852 \n\" style=\"fill:none;stroke:#000000;stroke-linecap:square;stroke-linejoin:miter;stroke-width:0.8;\"/>\n   </g>\n   <g id=\"patch_60\">\n    <path d=\"M 181.258491 182.33689 \nL 252.324528 182.33689 \n\" style=\"fill:none;stroke:#000000;stroke-linecap:square;stroke-linejoin:miter;stroke-width:0.8;\"/>\n   </g>\n   <g id=\"patch_61\">\n    <path d=\"M 181.258491 111.270852 \nL 252.324528 111.270852 \n\" style=\"fill:none;stroke:#000000;stroke-linecap:square;stroke-linejoin:miter;stroke-width:0.8;\"/>\n   </g>\n   <g id=\"text_12\">\n    <!-- ankle boot -->\n    <g transform=\"translate(185.068384 105.270852)scale(0.12 -0.12)\">\n     <use xlink:href=\"#DejaVuSans-97\"/>\n     <use x=\"61.279297\" xlink:href=\"#DejaVuSans-110\"/>\n     <use x=\"124.658203\" xlink:href=\"#DejaVuSans-107\"/>\n     <use x=\"182.568359\" xlink:href=\"#DejaVuSans-108\"/>\n     <use x=\"210.351562\" xlink:href=\"#DejaVuSans-101\"/>\n     <use x=\"271.875\" xlink:href=\"#DejaVuSans-32\"/>\n     <use x=\"303.662109\" xlink:href=\"#DejaVuSans-98\"/>\n     <use x=\"367.138672\" xlink:href=\"#DejaVuSans-111\"/>\n     <use x=\"428.320312\" xlink:href=\"#DejaVuSans-111\"/>\n     <use x=\"489.501953\" xlink:href=\"#DejaVuSans-116\"/>\n    </g>\n   </g>\n  </g>\n  <g id=\"axes_13\">\n   <g id=\"patch_62\">\n    <path d=\"M 266.537736 182.33689 \nL 337.603774 182.33689 \nL 337.603774 111.270852 \nL 266.537736 111.270852 \nz\n\" style=\"fill:#ffffff;\"/>\n   </g>\n   <g clip-path=\"url(#p48c4bd0df9)\">\n    <image height=\"72\" id=\"image199d01300c\" transform=\"scale(1 -1)translate(0 -72)\" width=\"72\" x=\"266.537736\" xlink:href=\"data:image/png;base64,\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\" y=\"-110.33689\"/>\n   </g>\n   <g id=\"patch_63\">\n    <path d=\"M 266.537736 182.33689 \nL 266.537736 111.270852 \n\" style=\"fill:none;stroke:#000000;stroke-linecap:square;stroke-linejoin:miter;stroke-width:0.8;\"/>\n   </g>\n   <g id=\"patch_64\">\n    <path d=\"M 337.603774 182.33689 \nL 337.603774 111.270852 \n\" style=\"fill:none;stroke:#000000;stroke-linecap:square;stroke-linejoin:miter;stroke-width:0.8;\"/>\n   </g>\n   <g id=\"patch_65\">\n    <path d=\"M 266.537736 182.33689 \nL 337.603774 182.33689 \n\" style=\"fill:none;stroke:#000000;stroke-linecap:square;stroke-linejoin:miter;stroke-width:0.8;\"/>\n   </g>\n   <g id=\"patch_66\">\n    <path d=\"M 266.537736 111.270852 \nL 337.603774 111.270852 \n\" style=\"fill:none;stroke:#000000;stroke-linecap:square;stroke-linejoin:miter;stroke-width:0.8;\"/>\n   </g>\n   <g id=\"text_13\">\n    <!-- sandal -->\n    <g transform=\"translate(282.312942 105.270852)scale(0.12 -0.12)\">\n     <use xlink:href=\"#DejaVuSans-115\"/>\n     <use x=\"52.099609\" xlink:href=\"#DejaVuSans-97\"/>\n     <use x=\"113.378906\" xlink:href=\"#DejaVuSans-110\"/>\n     <use x=\"176.757812\" xlink:href=\"#DejaVuSans-100\"/>\n     <use x=\"240.234375\" xlink:href=\"#DejaVuSans-97\"/>\n     <use x=\"301.513672\" xlink:href=\"#DejaVuSans-108\"/>\n    </g>\n   </g>\n  </g>\n  <g id=\"axes_14\">\n   <g id=\"patch_67\">\n    <path d=\"M 351.816981 182.33689 \nL 422.883019 182.33689 \nL 422.883019 111.270852 \nL 351.816981 111.270852 \nz\n\" style=\"fill:#ffffff;\"/>\n   </g>\n   <g clip-path=\"url(#pe37fa02af6)\">\n    <image height=\"72\" id=\"image8fe590855b\" transform=\"scale(1 -1)translate(0 -72)\" width=\"72\" x=\"351.816981\" xlink:href=\"data:image/png;base64,\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\" y=\"-110.33689\"/>\n   </g>\n   <g id=\"patch_68\">\n    <path d=\"M 351.816981 182.33689 \nL 351.816981 111.270852 \n\" style=\"fill:none;stroke:#000000;stroke-linecap:square;stroke-linejoin:miter;stroke-width:0.8;\"/>\n   </g>\n   <g id=\"patch_69\">\n    <path d=\"M 422.883019 182.33689 \nL 422.883019 111.270852 \n\" style=\"fill:none;stroke:#000000;stroke-linecap:square;stroke-linejoin:miter;stroke-width:0.8;\"/>\n   </g>\n   <g id=\"patch_70\">\n    <path d=\"M 351.816981 182.33689 \nL 422.883019 182.33689 \n\" style=\"fill:none;stroke:#000000;stroke-linecap:square;stroke-linejoin:miter;stroke-width:0.8;\"/>\n   </g>\n   <g id=\"patch_71\">\n    <path d=\"M 351.816981 111.270852 \nL 422.883019 111.270852 \n\" style=\"fill:none;stroke:#000000;stroke-linecap:square;stroke-linejoin:miter;stroke-width:0.8;\"/>\n   </g>\n   <g id=\"text_14\">\n    <!-- sandal -->\n    <g transform=\"translate(367.592188 105.270852)scale(0.12 -0.12)\">\n     <use xlink:href=\"#DejaVuSans-115\"/>\n     <use x=\"52.099609\" xlink:href=\"#DejaVuSans-97\"/>\n     <use x=\"113.378906\" xlink:href=\"#DejaVuSans-110\"/>\n     <use x=\"176.757812\" xlink:href=\"#DejaVuSans-100\"/>\n     <use x=\"240.234375\" xlink:href=\"#DejaVuSans-97\"/>\n     <use x=\"301.513672\" xlink:href=\"#DejaVuSans-108\"/>\n    </g>\n   </g>\n  </g>\n  <g id=\"axes_15\">\n   <g id=\"patch_72\">\n    <path d=\"M 437.096226 182.33689 \nL 508.162264 182.33689 \nL 508.162264 111.270852 \nL 437.096226 111.270852 \nz\n\" style=\"fill:#ffffff;\"/>\n   </g>\n   <g clip-path=\"url(#p764e5011e5)\">\n    <image height=\"72\" id=\"image6e893a2adc\" transform=\"scale(1 -1)translate(0 -72)\" width=\"72\" x=\"437.096226\" xlink:href=\"data:image/png;base64,\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\" y=\"-110.33689\"/>\n   </g>\n   <g id=\"patch_73\">\n    <path d=\"M 437.096226 182.33689 \nL 437.096226 111.270852 \n\" style=\"fill:none;stroke:#000000;stroke-linecap:square;stroke-linejoin:miter;stroke-width:0.8;\"/>\n   </g>\n   <g id=\"patch_74\">\n    <path d=\"M 508.162264 182.33689 \nL 508.162264 111.270852 \n\" style=\"fill:none;stroke:#000000;stroke-linecap:square;stroke-linejoin:miter;stroke-width:0.8;\"/>\n   </g>\n   <g id=\"patch_75\">\n    <path d=\"M 437.096226 182.33689 \nL 508.162264 182.33689 \n\" style=\"fill:none;stroke:#000000;stroke-linecap:square;stroke-linejoin:miter;stroke-width:0.8;\"/>\n   </g>\n   <g id=\"patch_76\">\n    <path d=\"M 437.096226 111.270852 \nL 508.162264 111.270852 \n\" style=\"fill:none;stroke:#000000;stroke-linecap:square;stroke-linejoin:miter;stroke-width:0.8;\"/>\n   </g>\n   <g id=\"text_15\">\n    <!-- sneaker -->\n    <g transform=\"translate(448.917058 105.270852)scale(0.12 -0.12)\">\n     <use xlink:href=\"#DejaVuSans-115\"/>\n     <use x=\"52.099609\" xlink:href=\"#DejaVuSans-110\"/>\n     <use x=\"115.478516\" xlink:href=\"#DejaVuSans-101\"/>\n     <use x=\"177.001953\" xlink:href=\"#DejaVuSans-97\"/>\n     <use x=\"238.28125\" xlink:href=\"#DejaVuSans-107\"/>\n     <use x=\"292.566406\" xlink:href=\"#DejaVuSans-101\"/>\n     <use x=\"354.089844\" xlink:href=\"#DejaVuSans-114\"/>\n    </g>\n   </g>\n  </g>\n  <g id=\"axes_16\">\n   <g id=\"patch_77\">\n    <path d=\"M 522.375472 182.33689 \nL 593.441509 182.33689 \nL 593.441509 111.270852 \nL 522.375472 111.270852 \nz\n\" style=\"fill:#ffffff;\"/>\n   </g>\n   <g clip-path=\"url(#pe8ed752953)\">\n    <image height=\"72\" id=\"imagedfa5648b07\" transform=\"scale(1 -1)translate(0 -72)\" width=\"72\" x=\"522.375472\" xlink:href=\"data:image/png;base64,\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\" y=\"-110.33689\"/>\n   </g>\n   <g id=\"patch_78\">\n    <path d=\"M 522.375472 182.33689 \nL 522.375472 111.270852 \n\" style=\"fill:none;stroke:#000000;stroke-linecap:square;stroke-linejoin:miter;stroke-width:0.8;\"/>\n   </g>\n   <g id=\"patch_79\">\n    <path d=\"M 593.441509 182.33689 \nL 593.441509 111.270852 \n\" style=\"fill:none;stroke:#000000;stroke-linecap:square;stroke-linejoin:miter;stroke-width:0.8;\"/>\n   </g>\n   <g id=\"patch_80\">\n    <path d=\"M 522.375472 182.33689 \nL 593.441509 182.33689 \n\" style=\"fill:none;stroke:#000000;stroke-linecap:square;stroke-linejoin:miter;stroke-width:0.8;\"/>\n   </g>\n   <g id=\"patch_81\">\n    <path d=\"M 522.375472 111.270852 \nL 593.441509 111.270852 \n\" style=\"fill:none;stroke:#000000;stroke-linecap:square;stroke-linejoin:miter;stroke-width:0.8;\"/>\n   </g>\n   <g id=\"text_16\">\n    <!-- ankle boot -->\n    <g transform=\"translate(526.185366 105.270852)scale(0.12 -0.12)\">\n     <use xlink:href=\"#DejaVuSans-97\"/>\n     <use x=\"61.279297\" xlink:href=\"#DejaVuSans-110\"/>\n     <use x=\"124.658203\" xlink:href=\"#DejaVuSans-107\"/>\n     <use x=\"182.568359\" xlink:href=\"#DejaVuSans-108\"/>\n     <use x=\"210.351562\" xlink:href=\"#DejaVuSans-101\"/>\n     <use x=\"271.875\" xlink:href=\"#DejaVuSans-32\"/>\n     <use x=\"303.662109\" xlink:href=\"#DejaVuSans-98\"/>\n     <use x=\"367.138672\" xlink:href=\"#DejaVuSans-111\"/>\n     <use x=\"428.320312\" xlink:href=\"#DejaVuSans-111\"/>\n     <use x=\"489.501953\" xlink:href=\"#DejaVuSans-116\"/>\n    </g>\n   </g>\n  </g>\n  <g id=\"axes_17\">\n   <g id=\"patch_82\">\n    <path d=\"M 607.654717 182.33689 \nL 678.720755 182.33689 \nL 678.720755 111.270852 \nL 607.654717 111.270852 \nz\n\" style=\"fill:#ffffff;\"/>\n   </g>\n   <g clip-path=\"url(#pbaa435a7a2)\">\n    <image height=\"72\" id=\"image67df50f20f\" transform=\"scale(1 -1)translate(0 -72)\" width=\"72\" x=\"607.654717\" xlink:href=\"data:image/png;base64,\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\" y=\"-110.33689\"/>\n   </g>\n   <g id=\"patch_83\">\n    <path d=\"M 607.654717 182.33689 \nL 607.654717 111.270852 \n\" style=\"fill:none;stroke:#000000;stroke-linecap:square;stroke-linejoin:miter;stroke-width:0.8;\"/>\n   </g>\n   <g id=\"patch_84\">\n    <path d=\"M 678.720755 182.33689 \nL 678.720755 111.270852 \n\" style=\"fill:none;stroke:#000000;stroke-linecap:square;stroke-linejoin:miter;stroke-width:0.8;\"/>\n   </g>\n   <g id=\"patch_85\">\n    <path d=\"M 607.654717 182.33689 \nL 678.720755 182.33689 \n\" style=\"fill:none;stroke:#000000;stroke-linecap:square;stroke-linejoin:miter;stroke-width:0.8;\"/>\n   </g>\n   <g id=\"patch_86\">\n    <path d=\"M 607.654717 111.270852 \nL 678.720755 111.270852 \n\" style=\"fill:none;stroke:#000000;stroke-linecap:square;stroke-linejoin:miter;stroke-width:0.8;\"/>\n   </g>\n   <g id=\"text_17\">\n    <!-- trouser -->\n    <g transform=\"translate(621.746173 105.270852)scale(0.12 -0.12)\">\n     <use xlink:href=\"#DejaVuSans-116\"/>\n     <use x=\"39.208984\" xlink:href=\"#DejaVuSans-114\"/>\n     <use x=\"78.072266\" xlink:href=\"#DejaVuSans-111\"/>\n     <use x=\"139.253906\" xlink:href=\"#DejaVuSans-117\"/>\n     <use x=\"202.632812\" xlink:href=\"#DejaVuSans-115\"/>\n     <use x=\"254.732422\" xlink:href=\"#DejaVuSans-101\"/>\n     <use x=\"316.255859\" xlink:href=\"#DejaVuSans-114\"/>\n    </g>\n   </g>\n  </g>\n  <g id=\"axes_18\">\n   <g id=\"patch_87\">\n    <path d=\"M 692.933962 182.33689 \nL 764 182.33689 \nL 764 111.270852 \nL 692.933962 111.270852 \nz\n\" style=\"fill:#ffffff;\"/>\n   </g>\n   <g clip-path=\"url(#p02046c84d3)\">\n    <image height=\"72\" id=\"imagea82cf5afb2\" transform=\"scale(1 -1)translate(0 -72)\" width=\"72\" x=\"692.933962\" xlink:href=\"data:image/png;base64,\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\" y=\"-110.33689\"/>\n   </g>\n   <g id=\"patch_88\">\n    <path d=\"M 692.933962 182.33689 \nL 692.933962 111.270852 \n\" style=\"fill:none;stroke:#000000;stroke-linecap:square;stroke-linejoin:miter;stroke-width:0.8;\"/>\n   </g>\n   <g id=\"patch_89\">\n    <path d=\"M 764 182.33689 \nL 764 111.270852 \n\" style=\"fill:none;stroke:#000000;stroke-linecap:square;stroke-linejoin:miter;stroke-width:0.8;\"/>\n   </g>\n   <g id=\"patch_90\">\n    <path d=\"M 692.933962 182.33689 \nL 764 182.33689 \n\" style=\"fill:none;stroke:#000000;stroke-linecap:square;stroke-linejoin:miter;stroke-width:0.8;\"/>\n   </g>\n   <g id=\"patch_91\">\n    <path d=\"M 692.933962 111.270852 \nL 764 111.270852 \n\" style=\"fill:none;stroke:#000000;stroke-linecap:square;stroke-linejoin:miter;stroke-width:0.8;\"/>\n   </g>\n   <g id=\"text_18\">\n    <!-- t-shirt -->\n    <g transform=\"translate(710.536356 105.270852)scale(0.12 -0.12)\">\n     <use xlink:href=\"#DejaVuSans-116\"/>\n     <use x=\"39.208984\" xlink:href=\"#DejaVuSans-45\"/>\n     <use x=\"75.292969\" xlink:href=\"#DejaVuSans-115\"/>\n     <use x=\"127.392578\" xlink:href=\"#DejaVuSans-104\"/>\n     <use x=\"190.771484\" xlink:href=\"#DejaVuSans-105\"/>\n     <use x=\"218.554688\" xlink:href=\"#DejaVuSans-114\"/>\n     <use x=\"259.667969\" xlink:href=\"#DejaVuSans-116\"/>\n    </g>\n   </g>\n  </g>\n </g>\n <defs>\n  <clipPath id=\"peb7d40c357\">\n   <rect height=\"71.066038\" width=\"71.066038\" x=\"10.7\" y=\"22.318125\"/>\n  </clipPath>\n  <clipPath id=\"pa13bdb4491\">\n   <rect height=\"71.066038\" width=\"71.066038\" x=\"95.979245\" y=\"22.318125\"/>\n  </clipPath>\n  <clipPath id=\"p9bd7cfaa9c\">\n   <rect height=\"71.066038\" width=\"71.066038\" x=\"181.258491\" y=\"22.318125\"/>\n  </clipPath>\n  <clipPath id=\"pefac0d85ca\">\n   <rect height=\"71.066038\" width=\"71.066038\" x=\"266.537736\" y=\"22.318125\"/>\n  </clipPath>\n  <clipPath id=\"p7402709052\">\n   <rect height=\"71.066038\" width=\"71.066038\" x=\"351.816981\" y=\"22.318125\"/>\n  </clipPath>\n  <clipPath id=\"p8fa90a8807\">\n   <rect height=\"71.066038\" width=\"71.066038\" x=\"437.096226\" y=\"22.318125\"/>\n  </clipPath>\n  <clipPath id=\"pe01117d370\">\n   <rect height=\"71.066038\" width=\"71.066038\" x=\"522.375472\" y=\"22.318125\"/>\n  </clipPath>\n  <clipPath id=\"p4e9117e158\">\n   <rect height=\"71.066038\" width=\"71.066038\" x=\"607.654717\" y=\"22.318125\"/>\n  </clipPath>\n  <clipPath id=\"p02214ac290\">\n   <rect height=\"71.066038\" width=\"71.066038\" x=\"692.933962\" y=\"22.318125\"/>\n  </clipPath>\n  <clipPath id=\"p24f18bcb0d\">\n   <rect height=\"71.066038\" width=\"71.066038\" x=\"10.7\" y=\"111.270852\"/>\n  </clipPath>\n  <clipPath id=\"pfe94cea388\">\n   <rect height=\"71.066038\" width=\"71.066038\" x=\"95.979245\" y=\"111.270852\"/>\n  </clipPath>\n  <clipPath id=\"p0d8b1afd46\">\n   <rect height=\"71.066038\" width=\"71.066038\" x=\"181.258491\" y=\"111.270852\"/>\n  </clipPath>\n  <clipPath id=\"p48c4bd0df9\">\n   <rect height=\"71.066038\" width=\"71.066038\" x=\"266.537736\" y=\"111.270852\"/>\n  </clipPath>\n  <clipPath id=\"pe37fa02af6\">\n   <rect height=\"71.066038\" width=\"71.066038\" x=\"351.816981\" y=\"111.270852\"/>\n  </clipPath>\n  <clipPath id=\"p764e5011e5\">\n   <rect height=\"71.066038\" width=\"71.066038\" x=\"437.096226\" y=\"111.270852\"/>\n  </clipPath>\n  <clipPath id=\"pe8ed752953\">\n   <rect height=\"71.066038\" width=\"71.066038\" x=\"522.375472\" y=\"111.270852\"/>\n  </clipPath>\n  <clipPath id=\"pbaa435a7a2\">\n   <rect height=\"71.066038\" width=\"71.066038\" x=\"607.654717\" y=\"111.270852\"/>\n  </clipPath>\n  <clipPath id=\"p02046c84d3\">\n   <rect height=\"71.066038\" width=\"71.066038\" x=\"692.933962\" y=\"111.270852\"/>\n  </clipPath>\n </defs>\n</svg>\n",
      "text/plain": [
       "<Figure size 972x216 with 18 Axes>"
      ]
     },
     "metadata": {
      "needs_background": "light"
     },
     "output_type": "display_data"
    }
   ],
   "source": [
    "X, y = next(iter(data.DataLoader(mnist_train, batch_size=18)))\n",
    "show_images(X.reshape(18, 28, 28), 2, 9, titles=get_fashion_mnist_labels(y));"
   ]
  },
  {
   "cell_type": "code",
   "execution_count": 124,
   "id": "84c4937c",
   "metadata": {},
   "outputs": [],
   "source": [
    "batch_size = 256\n",
    "def get_dataloader_workers():\n",
    "  return 4\n",
    "train_iter = data.DataLoader(mnist_train, batch_size, shuffle=True, num_workers=get_dataloader_workers())"
   ]
  },
  {
   "cell_type": "code",
   "execution_count": 125,
   "id": "5ed051de",
   "metadata": {},
   "outputs": [
    {
     "data": {
      "text/plain": [
       "'4.97 sec'"
      ]
     },
     "execution_count": 125,
     "metadata": {},
     "output_type": "execute_result"
    }
   ],
   "source": [
    "timer = d2l.Timer()\n",
    "for X, y in train_iter:\n",
    "    continue\n",
    "f'{timer.stop():.2f} sec'"
   ]
  },
  {
   "cell_type": "code",
   "execution_count": null,
   "id": "04be0117",
   "metadata": {},
   "outputs": [],
   "source": []
  },
  {
   "cell_type": "code",
   "execution_count": null,
   "id": "1234f34c",
   "metadata": {},
   "outputs": [],
   "source": []
  },
  {
   "cell_type": "code",
   "execution_count": 126,
   "id": "355ddba1",
   "metadata": {},
   "outputs": [],
   "source": [
    "import torch\n",
    "from IPython import display\n",
    "from d2l import torch as d2l"
   ]
  },
  {
   "cell_type": "code",
   "execution_count": 127,
   "id": "cdfd02e9",
   "metadata": {},
   "outputs": [],
   "source": [
    "batch_size = 256\n",
    "train_iter, test_iter = d2l.load_data_fashion_mnist(batch_size)"
   ]
  },
  {
   "cell_type": "code",
   "execution_count": 128,
   "id": "ec9e9762",
   "metadata": {},
   "outputs": [],
   "source": [
    "num_in, num_out = 784, 10"
   ]
  },
  {
   "cell_type": "code",
   "execution_count": 129,
   "id": "846453fe",
   "metadata": {},
   "outputs": [],
   "source": [
    "W, b = torch.normal(0, 0.01, size=(num_in, num_out), requires_grad=True), torch.zeros(num_out, requires_grad=True)"
   ]
  },
  {
   "cell_type": "code",
   "execution_count": 130,
   "id": "355cca22",
   "metadata": {},
   "outputs": [
    {
     "data": {
      "text/plain": [
       "(tensor([[5., 7., 9.]]),\n",
       " tensor([[ 6.],\n",
       "         [15.]]))"
      ]
     },
     "execution_count": 130,
     "metadata": {},
     "output_type": "execute_result"
    }
   ],
   "source": [
    "X = torch.tensor([[1., 2., 3.], [4., 5., 6.]])\n",
    "X.sum(0, keepdim=True), X.sum(1, keepdim=True)"
   ]
  },
  {
   "attachments": {},
   "cell_type": "markdown",
   "id": "805e5f71",
   "metadata": {},
   "source": [
    "$$\n",
    "softmax(X)_{ij}=\\frac{exp(X_{ij})}{\\sum_k{exp(X_{ik})}}\n",
    "$$"
   ]
  },
  {
   "cell_type": "code",
   "execution_count": 131,
   "id": "60ea9765",
   "metadata": {},
   "outputs": [],
   "source": [
    "def softmax(X):\n",
    "  exp_X = torch.exp(X)\n",
    "  partition = exp_X.sum(1, keepdim=True)\n",
    "  return exp_X / partition"
   ]
  },
  {
   "cell_type": "code",
   "execution_count": 132,
   "id": "282843e5",
   "metadata": {},
   "outputs": [
    {
     "data": {
      "text/plain": [
       "(tensor([[0.0288, 0.3024, 0.0173, 0.6383, 0.0133],\n",
       "         [0.3257, 0.1495, 0.3618, 0.1374, 0.0256]]),\n",
       " tensor([1.0000, 1.0000]))"
      ]
     },
     "execution_count": 132,
     "metadata": {},
     "output_type": "execute_result"
    }
   ],
   "source": [
    "X = torch.normal(0, 1, (2,5))\n",
    "X_prob = softmax(X)\n",
    "X_prob, X_prob.sum(1)"
   ]
  },
  {
   "attachments": {},
   "cell_type": "markdown",
   "id": "03b602c9",
   "metadata": {},
   "source": [
    "$$\n",
    "y = xW + b\\\\\n",
    "net = softmax(y)\n",
    "\n",
    "$$"
   ]
  },
  {
   "cell_type": "code",
   "execution_count": 141,
   "id": "7b36a74c",
   "metadata": {},
   "outputs": [
    {
     "ename": "AttributeError",
     "evalue": "'DataLoader' object has no attribute 'shape'",
     "output_type": "error",
     "traceback": [
      "\u001b[0;31m---------------------------------------------------------------------------\u001b[0m",
      "\u001b[0;31mAttributeError\u001b[0m                            Traceback (most recent call last)",
      "\u001b[0;32m<ipython-input-141-a8a41b830d4a>\u001b[0m in \u001b[0;36m<module>\u001b[0;34m\u001b[0m\n\u001b[0;32m----> 1\u001b[0;31m \u001b[0mtrain_iter\u001b[0m\u001b[0;34m.\u001b[0m\u001b[0mshape\u001b[0m\u001b[0;34m,\u001b[0m \u001b[0mW\u001b[0m\u001b[0;34m.\u001b[0m\u001b[0mshape\u001b[0m\u001b[0;34m[\u001b[0m\u001b[0;36m0\u001b[0m\u001b[0;34m]\u001b[0m\u001b[0;34m\u001b[0m\u001b[0;34m\u001b[0m\u001b[0m\n\u001b[0m",
      "\u001b[0;31mAttributeError\u001b[0m: 'DataLoader' object has no attribute 'shape'"
     ]
    }
   ],
   "source": [
    "train_iter.shape, W.shape[0]"
   ]
  },
  {
   "cell_type": "code",
   "execution_count": 138,
   "id": "a5d53ec3",
   "metadata": {},
   "outputs": [
    {
     "ename": "RuntimeError",
     "evalue": "shape '[-1, 784]' is invalid for input of size 10",
     "output_type": "error",
     "traceback": [
      "\u001b[0;31m---------------------------------------------------------------------------\u001b[0m",
      "\u001b[0;31mRuntimeError\u001b[0m                              Traceback (most recent call last)",
      "\u001b[0;32m<ipython-input-138-442c0c213415>\u001b[0m in \u001b[0;36m<module>\u001b[0;34m\u001b[0m\n\u001b[0;32m----> 1\u001b[0;31m \u001b[0mtorch\u001b[0m\u001b[0;34m.\u001b[0m\u001b[0mmatmul\u001b[0m\u001b[0;34m(\u001b[0m\u001b[0mX\u001b[0m\u001b[0;34m.\u001b[0m\u001b[0mreshape\u001b[0m\u001b[0;34m(\u001b[0m\u001b[0;34m-\u001b[0m\u001b[0;36m1\u001b[0m\u001b[0;34m,\u001b[0m \u001b[0mW\u001b[0m\u001b[0;34m.\u001b[0m\u001b[0mshape\u001b[0m\u001b[0;34m[\u001b[0m\u001b[0;36m0\u001b[0m\u001b[0;34m]\u001b[0m\u001b[0;34m)\u001b[0m\u001b[0;34m,\u001b[0m \u001b[0mW\u001b[0m\u001b[0;34m)\u001b[0m\u001b[0;34m\u001b[0m\u001b[0;34m\u001b[0m\u001b[0m\n\u001b[0m",
      "\u001b[0;31mRuntimeError\u001b[0m: shape '[-1, 784]' is invalid for input of size 10"
     ]
    }
   ],
   "source": [
    "torch.matmul(X.reshape(-1, W.shape[0]), W)"
   ]
  },
  {
   "cell_type": "code",
   "execution_count": 133,
   "id": "e1a8c4d2",
   "metadata": {},
   "outputs": [],
   "source": [
    "def net(X):\n",
    "  return softmax(torch.matmul(X.reshape(-1, W.shape[0]), W) + b)"
   ]
  },
  {
   "cell_type": "code",
   "execution_count": null,
   "id": "c2bc65cb",
   "metadata": {},
   "outputs": [],
   "source": []
  }
 ],
 "metadata": {
  "kernelspec": {
   "display_name": "Python 3",
   "language": "python",
   "name": "python3"
  },
  "language_info": {
   "codemirror_mode": {
    "name": "ipython",
    "version": 3
   },
   "file_extension": ".py",
   "mimetype": "text/x-python",
   "name": "python",
   "nbconvert_exporter": "python",
   "pygments_lexer": "ipython3",
   "version": "3.6.9"
  },
  "vscode": {
   "interpreter": {
    "hash": "31f2aee4e71d21fbe5cf8b01ff0e069b9275f58929596ceb00d14d90e3e16cd6"
   }
  }
 },
 "nbformat": 4,
 "nbformat_minor": 5
}
