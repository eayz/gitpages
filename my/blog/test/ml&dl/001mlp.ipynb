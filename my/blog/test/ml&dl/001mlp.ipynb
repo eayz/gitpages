{
 "cells": [
  {
   "cell_type": "code",
   "execution_count": 152,
   "metadata": {},
   "outputs": [],
   "source": [
    "import numpy as np\n",
    "import matplotlib.pyplot as plt\n",
    "\n",
    "def draw_scatter(x, y):\n",
    "    plt.scatter(x.ravel(), y.ravel())\n",
    "    plt.show()"
   ]
  },
  {
   "cell_type": "code",
   "execution_count": 153,
   "metadata": {},
   "outputs": [
    {
     "data": {
      "image/png": "[encoded data removed]",
      "text/plain": [
       "<Figure size 432x288 with 1 Axes>"
      ]
     },
     "metadata": {
      "needs_background": "light"
     },
     "output_type": "display_data"
    }
   ],
   "source": [
    "# 数据, 10组，每组一个特征\n",
    "x = np.linspace(-1, 1, 100)[:, None]     # shape [100, 1]\n",
    "y = np.random.normal(loc=0, scale=0.2, size=[100, 1]) + np.power(x, 6) + np.power(x, 5) / (5 * 4 * 3 * 2) + np.power(x, 4) / (4 * 3 * 2)+ np.power(x, 3) / (3 * 2) + np.power(x, 2) / 2 + np.power(x, 1)  # shape [100, 1]\n",
    "\n",
    "draw_scatter(x, y)\n"
   ]
  },
  {
   "cell_type": "code",
   "execution_count": 154,
   "metadata": {},
   "outputs": [
    {
     "data": {
      "text/plain": [
       "((100, 1), (100, 1))"
      ]
     },
     "execution_count": 154,
     "metadata": {},
     "output_type": "execute_result"
    }
   ],
   "source": [
    "x.shape, y.shape"
   ]
  },
  {
   "cell_type": "code",
   "execution_count": 155,
   "metadata": {},
   "outputs": [],
   "source": [
    "def scaling(X):\n",
    "  return (X -np.min(X, 0)) / (np.max(X, 0) - np.min(X, 0)), np.max(X, 0), np.min(X, 0)"
   ]
  },
  {
   "cell_type": "code",
   "execution_count": 156,
   "metadata": {},
   "outputs": [],
   "source": [
    "def sigmoid(X):\n",
    "  return 1 / (1 + np.exp(- X))"
   ]
  },
  {
   "attachments": {},
   "cell_type": "markdown",
   "metadata": {},
   "source": [
    "$$ sigmoid(x) = \\sigma(x) = \\frac{1}{1 + e^{-x}} = \\frac{e^x + 1 - 1}{e^x +1} = 1 - \\frac{1}{e^x + 1}$$"
   ]
  },
  {
   "attachments": {},
   "cell_type": "markdown",
   "metadata": {},
   "source": [
    "$$ \\sigma'{(x)} = - \\frac{e^{x}}{(1 + e^{x})^2} = - \\frac{e^{x} + 1 - 1}{(1 + e^{x})^2} $$"
   ]
  },
  {
   "attachments": {},
   "cell_type": "markdown",
   "metadata": {},
   "source": [
    "$$ = -\\{\\frac{1}{e^x +1} -\\frac{1}{(e^x + 1)^2} \\} = -\\frac{1}{e^x +1} + \\frac{1}{(e^x + 1)^2} $$"
   ]
  },
  {
   "attachments": {},
   "cell_type": "markdown",
   "metadata": {},
   "source": [
    "$$\n",
    "\\begin{aligned}\n",
    "&若 f\\left( x \\right)=\\frac{1}{x} ，则 f'\\left( x \\right)=-\\frac{1}{x^{2}}\\\\\n",
    "&若 g\\left( x \\right)=e^{x} ，则 g'\\left( x \\right)=e^{x}\\\\\n",
    "&Sigmoid函数：\\\\\n",
    "&S\\left( x \\right)=Sigmoid\\left( x \\right)=\\frac{1}{1+e^{-x}}\\\\\n",
    "&求导过程：\\\\\n",
    "&S'\\left( x \\right)=-\\frac{1}{(1+e^{-x})^2}\\times(1+e^{-x})'=-\\frac{1}{(1+e^{-x})^2}\\times(-e^{-x})=\\frac{1}{1+e^{-x}}\\times\\frac{e^{-x}}{1+e^{-x}}\\\\\n",
    "&=\\frac{1}{1+e^{-x}}\\times\\frac{1+e^{-x}-1}{1+e^{-x}}=S\\left( x \\right)(1-S\\left( x \\right))\n",
    "\\end{aligned}\n",
    "$$"
   ]
  },
  {
   "attachments": {},
   "cell_type": "markdown",
   "metadata": {},
   "source": [
    "$$ Loss = -y*ln(a^{(2)})-(1-y*)ln(1-a^{(2)}) + \\frac{1}{2}\\lambda||W^{(1)}||^2 + \\frac{1}{2}\\lambda||W^{(2)}||^2 $$"
   ]
  },
  {
   "attachments": {},
   "cell_type": "markdown",
   "metadata": {},
   "source": [
    "$$\n",
    "\\begin{aligned}\n",
    "&\\delta^{(L)}=\\frac{\\Delta L}{\\Delta z^L} = \\frac{\\Delta L}{\\Delta a^L}\\frac{\\Delta a^L}{\\Delta z^L}\\\\\n",
    "&= \\{- \\frac{y}{a^{(2)}} + \\frac{1-y}{1-a^{(2)}}\\} \\delta'(z^2) =\\{ \\frac{}{} \\}\n",
    "\\end{aligned}\n",
    "$$"
   ]
  },
  {
   "attachments": {
    "image.png": {
     "image/png": "[encoded data removed]"
    }
   },
   "cell_type": "markdown",
   "metadata": {},
   "source": [
    "![image.png](attachment:image.png)"
   ]
  },
  {
   "cell_type": "code",
   "execution_count": 164,
   "metadata": {},
   "outputs": [],
   "source": [
    "def wb_calc(xmat, ymat,lam=0,alpha=0.0001,maxIter=20000):\n",
    "    m,n = xmat.shape\n",
    "\n",
    "    np.random.seed(1)\n",
    "    X = np.mat(np.zeros((m,m-1)))\n",
    "    X[:,0] = xmat\n",
    "    X[:,1] = xmat.A ** 2\n",
    "    X[:,2] = xmat.A ** 3\n",
    "\n",
    "    X, X_mean, X_std = scaling(X) # 优化的地方\n",
    "    print('X_mean:',X_mean)\n",
    "    print('X_std:',X_std)\n",
    "\n",
    "    # init w b\n",
    "    W = np.mat(np.random.randn(3,1))\n",
    "    b = np.mat(np.random.randn(1,1))\n",
    "    W0 = W.copy()\n",
    "    b0 = b.copy()\n",
    "    for i in range(maxIter):\n",
    "        # dw, db\n",
    "        H = X*W+b\n",
    "        dw = 1/m * X.T*(H-ymat) + 1/m * lam*W\n",
    "        #           (3,4)(4,1) + (3,1) = (3,1)\n",
    "        db = 1/m * np.sum(H-ymat) #(1,1)\n",
    "\n",
    "        # w,b update\n",
    "        W -= alpha * dw\n",
    "        b -= alpha * db\n",
    "    return W,b,W0,b0,X_mean, X_std # return 多了几个"
   ]
  },
  {
   "cell_type": "code",
   "execution_count": 165,
   "metadata": {},
   "outputs": [
    {
     "ename": "AttributeError",
     "evalue": "'numpy.ndarray' object has no attribute 'A'",
     "output_type": "error",
     "traceback": [
      "\u001b[0;31m---------------------------------------------------------------------------\u001b[0m",
      "\u001b[0;31mAttributeError\u001b[0m                            Traceback (most recent call last)",
      "\u001b[0;32m<ipython-input-165-9c273e7528e9>\u001b[0m in \u001b[0;36m<module>\u001b[0;34m\u001b[0m\n\u001b[0;32m----> 1\u001b[0;31m \u001b[0mW\u001b[0m\u001b[0;34m,\u001b[0m\u001b[0mb\u001b[0m\u001b[0;34m,\u001b[0m\u001b[0mW0\u001b[0m\u001b[0;34m,\u001b[0m\u001b[0mb0\u001b[0m\u001b[0;34m,\u001b[0m\u001b[0mX_mean\u001b[0m\u001b[0;34m,\u001b[0m \u001b[0mX_std\u001b[0m \u001b[0;34m=\u001b[0m \u001b[0mwb_calc\u001b[0m\u001b[0;34m(\u001b[0m\u001b[0mx\u001b[0m\u001b[0;34m,\u001b[0m\u001b[0my\u001b[0m\u001b[0;34m)\u001b[0m\u001b[0;34m\u001b[0m\u001b[0;34m\u001b[0m\u001b[0m\n\u001b[0m",
      "\u001b[0;32m<ipython-input-164-fe5bbbadb6ac>\u001b[0m in \u001b[0;36mwb_calc\u001b[0;34m(xmat, ymat, lam, alpha, maxIter)\u001b[0m\n\u001b[1;32m      5\u001b[0m     \u001b[0mX\u001b[0m \u001b[0;34m=\u001b[0m \u001b[0mnp\u001b[0m\u001b[0;34m.\u001b[0m\u001b[0mmat\u001b[0m\u001b[0;34m(\u001b[0m\u001b[0mnp\u001b[0m\u001b[0;34m.\u001b[0m\u001b[0mzeros\u001b[0m\u001b[0;34m(\u001b[0m\u001b[0;34m(\u001b[0m\u001b[0mm\u001b[0m\u001b[0;34m,\u001b[0m\u001b[0mm\u001b[0m\u001b[0;34m-\u001b[0m\u001b[0;36m1\u001b[0m\u001b[0;34m)\u001b[0m\u001b[0;34m)\u001b[0m\u001b[0;34m)\u001b[0m\u001b[0;34m\u001b[0m\u001b[0;34m\u001b[0m\u001b[0m\n\u001b[1;32m      6\u001b[0m     \u001b[0mX\u001b[0m\u001b[0;34m[\u001b[0m\u001b[0;34m:\u001b[0m\u001b[0;34m,\u001b[0m\u001b[0;36m0\u001b[0m\u001b[0;34m]\u001b[0m \u001b[0;34m=\u001b[0m \u001b[0mxmat\u001b[0m\u001b[0;34m\u001b[0m\u001b[0;34m\u001b[0m\u001b[0m\n\u001b[0;32m----> 7\u001b[0;31m     \u001b[0mX\u001b[0m\u001b[0;34m[\u001b[0m\u001b[0;34m:\u001b[0m\u001b[0;34m,\u001b[0m\u001b[0;36m1\u001b[0m\u001b[0;34m]\u001b[0m \u001b[0;34m=\u001b[0m \u001b[0mxmat\u001b[0m\u001b[0;34m.\u001b[0m\u001b[0mA\u001b[0m \u001b[0;34m**\u001b[0m \u001b[0;36m2\u001b[0m\u001b[0;34m\u001b[0m\u001b[0;34m\u001b[0m\u001b[0m\n\u001b[0m\u001b[1;32m      8\u001b[0m     \u001b[0mX\u001b[0m\u001b[0;34m[\u001b[0m\u001b[0;34m:\u001b[0m\u001b[0;34m,\u001b[0m\u001b[0;36m2\u001b[0m\u001b[0;34m]\u001b[0m \u001b[0;34m=\u001b[0m \u001b[0mxmat\u001b[0m\u001b[0;34m.\u001b[0m\u001b[0mA\u001b[0m \u001b[0;34m**\u001b[0m \u001b[0;36m3\u001b[0m\u001b[0;34m\u001b[0m\u001b[0;34m\u001b[0m\u001b[0m\n\u001b[1;32m      9\u001b[0m \u001b[0;34m\u001b[0m\u001b[0m\n",
      "\u001b[0;31mAttributeError\u001b[0m: 'numpy.ndarray' object has no attribute 'A'"
     ]
    }
   ],
   "source": [
    "W,b,W0,b0,X_mean, X_std = wb_calc(x,y)"
   ]
  },
  {
   "cell_type": "code",
   "execution_count": 159,
   "metadata": {},
   "outputs": [
    {
     "name": "stderr",
     "output_type": "stream",
     "text": [
      "/home/ebxeax/.local/lib/python3.6/site-packages/ipykernel_launcher.py:2: RuntimeWarning: overflow encountered in exp\n",
      "  \n"
     ]
    }
   ],
   "source": [
    "z1 = x*W1 + b1 # (20,2)(2,3) + (1,3) = (20,3)\n",
    "a1 = sigmoid(z1) # (20,3)\n",
    "z2 = a1*W2 + b2 # (20,3)(3,1) + (1,1) = (20,1)\n",
    "a2 = sigmoid(z2) # (20,1)\n",
    "loss = y - a2"
   ]
  },
  {
   "cell_type": "code",
   "execution_count": 160,
   "metadata": {},
   "outputs": [
    {
     "data": {
      "image/png": "[encoded data removed]",
      "text/plain": [
       "<Figure size 432x288 with 1 Axes>"
      ]
     },
     "metadata": {
      "needs_background": "light"
     },
     "output_type": "display_data"
    }
   ],
   "source": [
    "plt.plot(x, a2, \"r-\", label='predict')\n",
    "plt.scatter(x, y, color='blue', marker='o', label='true')    # true data\n",
    "plt.legend()\n",
    "plt.show()"
   ]
  },
  {
   "cell_type": "code",
   "execution_count": null,
   "metadata": {},
   "outputs": [],
   "source": []
  }
 ],
 "metadata": {
  "kernelspec": {
   "display_name": "Python 3",
   "language": "python",
   "name": "python3"
  },
  "language_info": {
   "codemirror_mode": {
    "name": "ipython",
    "version": 3
   },
   "file_extension": ".py",
   "mimetype": "text/x-python",
   "name": "python",
   "nbconvert_exporter": "python",
   "pygments_lexer": "ipython3",
   "version": "3.6.9 (default, Nov 25 2022, 14:10:45) \n[GCC 8.4.0]"
  },
  "orig_nbformat": 4,
  "vscode": {
   "interpreter": {
    "hash": "31f2aee4e71d21fbe5cf8b01ff0e069b9275f58929596ceb00d14d90e3e16cd6"
   }
  }
 },
 "nbformat": 4,
 "nbformat_minor": 2
}
