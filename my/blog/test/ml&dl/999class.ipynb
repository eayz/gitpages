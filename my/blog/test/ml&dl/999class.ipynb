{
 "cells": [
  {
   "cell_type": "code",
   "execution_count": 8,
   "metadata": {},
   "outputs": [
    {
     "name": "stdout",
     "output_type": "stream",
     "text": [
      "func called\n"
     ]
    }
   ],
   "source": [
    "class MyClass:\n",
    "  id = 12345\n",
    "  def func(self):\n",
    "    print('func called')\n",
    "\n",
    "myclass = MyClass()\n",
    "myclass.func()"
   ]
  },
  {
   "cell_type": "code",
   "execution_count": 9,
   "metadata": {},
   "outputs": [
    {
     "name": "stdout",
     "output_type": "stream",
     "text": [
      "func called\n"
     ]
    }
   ],
   "source": [
    "class MyClass:\n",
    "  id = 12345\n",
    "  def func(self):\n",
    "    print('func called')\n",
    "  def __init__(self):\n",
    "    self.func()\n",
    "  \n",
    "\n",
    "myclass = MyClass()"
   ]
  },
  {
   "cell_type": "code",
   "execution_count": 17,
   "metadata": {},
   "outputs": [
    {
     "name": "stdout",
     "output_type": "stream",
     "text": [
      "{ 3.0 : -4.5 }\n"
     ]
    }
   ],
   "source": [
    "class Complex:\n",
    "  def __init__(self, realpart, imagpart):\n",
    "    self.r , self.i = realpart, imagpart\n",
    "    print(\"{\", realpart, \":\" , imagpart, \"}\")\n",
    "\n",
    "x = Complex(3.0, -4.5)"
   ]
  },
  {
   "cell_type": "code",
   "execution_count": null,
   "metadata": {},
   "outputs": [],
   "source": []
  }
 ],
 "metadata": {
  "kernelspec": {
   "display_name": "Python 3",
   "language": "python",
   "name": "python3"
  },
  "language_info": {
   "codemirror_mode": {
    "name": "ipython",
    "version": 3
   },
   "file_extension": ".py",
   "mimetype": "text/x-python",
   "name": "python",
   "nbconvert_exporter": "python",
   "pygments_lexer": "ipython3",
   "version": "3.6.9"
  },
  "orig_nbformat": 4,
  "vscode": {
   "interpreter": {
    "hash": "31f2aee4e71d21fbe5cf8b01ff0e069b9275f58929596ceb00d14d90e3e16cd6"
   }
  }
 },
 "nbformat": 4,
 "nbformat_minor": 2
}
