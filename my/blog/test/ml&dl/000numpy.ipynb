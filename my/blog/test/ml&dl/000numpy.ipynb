{
 "cells": [
  {
   "cell_type": "code",
   "execution_count": 128,
   "metadata": {},
   "outputs": [],
   "source": [
    "import numpy as  np\n",
    "%matplotlib inline\n",
    "from matplotlib import pyplot as plt"
   ]
  },
  {
   "cell_type": "code",
   "execution_count": 129,
   "metadata": {},
   "outputs": [
    {
     "data": {
      "text/plain": [
       "(array(3.), 9.0)"
      ]
     },
     "execution_count": 129,
     "metadata": {},
     "output_type": "execute_result"
    }
   ],
   "source": [
    "a = np.array(3.)\n",
    "b = np.power(a, 2)\n",
    "a, b"
   ]
  },
  {
   "cell_type": "code",
   "execution_count": 130,
   "metadata": {},
   "outputs": [
    {
     "data": {
      "text/plain": [
       "(array([[3, 4, 5],\n",
       "        [5, 6, 9]]),\n",
       " 32)"
      ]
     },
     "execution_count": 130,
     "metadata": {},
     "output_type": "execute_result"
    }
   ],
   "source": [
    "q = np.array([[3, 4, 5], [5, 6, 9]])\n",
    "q, q.sum()"
   ]
  },
  {
   "cell_type": "code",
   "execution_count": 131,
   "metadata": {},
   "outputs": [
    {
     "data": {
      "text/plain": [
       "(array([[1, 1, 1],\n",
       "        [2, 2, 2]]),\n",
       " 9,\n",
       " array([3, 3, 3]),\n",
       " array([3, 6]))"
      ]
     },
     "execution_count": 131,
     "metadata": {},
     "output_type": "execute_result"
    }
   ],
   "source": [
    "q = np.array([[1, 1, 1], [2, 2, 2]])\n",
    "q, q.sum(), q.sum(0), q.sum(1)"
   ]
  },
  {
   "attachments": {},
   "cell_type": "markdown",
   "metadata": {},
   "source": [
    "$$\n",
    "y = 3x+2+0.2n\\\\\n",
    "y = xW+b+\\mu \\\\\n",
    "W = 3\\\\\n",
    "b = 2\\\\\n",
    "\\mu = 0.2n\\\\\n",
    "$$"
   ]
  },
  {
   "cell_type": "code",
   "execution_count": 132,
   "metadata": {},
   "outputs": [],
   "source": [
    "np.random.seed(1000)\n",
    "x = np.linspace(-1, 1, 100).reshape(100, 1)\n",
    "y = x + 2 + 0.2 * np.random.rand(x.size).reshape(100, 1)"
   ]
  },
  {
   "cell_type": "code",
   "execution_count": 133,
   "metadata": {},
   "outputs": [
    {
     "data": {
      "text/plain": [
       "((100, 1), (100, 1), 100, 100)"
      ]
     },
     "execution_count": 133,
     "metadata": {},
     "output_type": "execute_result"
    }
   ],
   "source": [
    "x.shape, y.shape, x.size, y.size"
   ]
  },
  {
   "cell_type": "code",
   "execution_count": 134,
   "metadata": {},
   "outputs": [
    {
     "data": {
      "image/png": "[encoded data removed]",
      "text/plain": [
       "<Figure size 432x288 with 1 Axes>"
      ]
     },
     "metadata": {
      "needs_background": "light"
     },
     "output_type": "display_data"
    }
   ],
   "source": [
    "plt.scatter(x, y , s=20, c='green')\n",
    "plt.show()"
   ]
  },
  {
   "cell_type": "code",
   "execution_count": 135,
   "metadata": {},
   "outputs": [],
   "source": [
    "w1, b1 =np.random.rand(1, 1), np.random.rand(1, 1)"
   ]
  },
  {
   "cell_type": "code",
   "execution_count": 136,
   "metadata": {},
   "outputs": [
    {
     "data": {
      "text/plain": [
       "(100, 1)"
      ]
     },
     "execution_count": 136,
     "metadata": {},
     "output_type": "execute_result"
    }
   ],
   "source": [
    "y_hat = x * w1 + b1\n",
    "y_hat.shape"
   ]
  },
  {
   "cell_type": "code",
   "execution_count": 137,
   "metadata": {},
   "outputs": [],
   "source": [
    "lr = 0.001\n",
    "for i in range(1000):\n",
    "  y_hat = x * w1 + b1\n",
    "  loss = 0.5 * (y_hat - y) ** 2\n",
    "  loss.sum()\n",
    "  grad_w = np.sum((y_hat - y) * x)\n",
    "  grad_b = np.sum((y_hat - y))\n",
    "  w1 -= lr * grad_w\n",
    "  b1 -= lr * grad_b"
   ]
  },
  {
   "cell_type": "code",
   "execution_count": 138,
   "metadata": {},
   "outputs": [
    {
     "data": {
      "image/png": "[encoded data removed]",
      "text/plain": [
       "<Figure size 432x288 with 1 Axes>"
      ]
     },
     "metadata": {
      "needs_background": "light"
     },
     "output_type": "display_data"
    },
    {
     "name": "stdout",
     "output_type": "stream",
     "text": [
      "W1 =  1.0020051698143728 b1 =  2.0973587572491468\n"
     ]
    }
   ],
   "source": [
    "plt.plot(x, y_hat, \"r-\", label='predict')\n",
    "plt.scatter(x, y, color='blue', marker='o', label='true')    # true data\n",
    "plt.xlim(-1, 1)\n",
    "plt.ylim(2, 6)\n",
    "plt.legend()\n",
    "plt.show()\n",
    "print('W1 = ', w1[0][0], 'b1 = ', b1[0][0])"
   ]
  },
  {
   "cell_type": "code",
   "execution_count": 139,
   "metadata": {},
   "outputs": [],
   "source": [
    "import numpy as  np\n",
    "%matplotlib inline\n",
    "from matplotlib import pyplot as plt"
   ]
  },
  {
   "cell_type": "code",
   "execution_count": 140,
   "metadata": {},
   "outputs": [],
   "source": [
    "w, b =np.random.rand(1, 1), np.random.rand(1, 1)\n",
    "np.random.seed(1000)\n",
    "x = np.linspace(-1, 1, 100).reshape(100, 1)\n",
    "y = x + 2 + 0.3 * np.random.rand(x.size).reshape(100, 1)"
   ]
  },
  {
   "cell_type": "code",
   "execution_count": 141,
   "metadata": {},
   "outputs": [],
   "source": [
    "def train(x, y, w, b, epoch=1000, lr=0.001):\n",
    "  for i in range(epoch):\n",
    "    y_hat = x * w + b\n",
    "    loss = 0.5 * (y_hat - y) ** 2\n",
    "    loss.sum()\n",
    "    grad_w = np.sum((y_hat - y) * x)\n",
    "    grad_b = np.sum((y_hat - y))\n",
    "    w -= lr * grad_w\n",
    "    b -= lr * grad_b"
   ]
  },
  {
   "cell_type": "code",
   "execution_count": 142,
   "metadata": {},
   "outputs": [],
   "source": [
    "train(x, y, w, b, 999, 0.01)"
   ]
  },
  {
   "cell_type": "code",
   "execution_count": 143,
   "metadata": {},
   "outputs": [
    {
     "data": {
      "image/png": "[encoded data removed]",
      "text/plain": [
       "<Figure size 432x288 with 1 Axes>"
      ]
     },
     "metadata": {
      "needs_background": "light"
     },
     "output_type": "display_data"
    },
    {
     "name": "stdout",
     "output_type": "stream",
     "text": [
      "W =  1.003007754721564 b =  2.1460381358737233\n"
     ]
    }
   ],
   "source": [
    "plt.plot(x, y_hat, \"r-\", label='predict')\n",
    "plt.scatter(x, y, color='blue', marker='o', label='true')    # true data\n",
    "plt.xlim(-1, 1)\n",
    "plt.ylim(2, 6)\n",
    "plt.legend()\n",
    "plt.show()\n",
    "print('W = ', w[0][0], 'b = ', b[0][0])"
   ]
  },
  {
   "cell_type": "code",
   "execution_count": null,
   "metadata": {},
   "outputs": [],
   "source": []
  },
  {
   "cell_type": "code",
   "execution_count": 144,
   "metadata": {},
   "outputs": [],
   "source": [
    "import numpy as  np\n",
    "%matplotlib inline\n",
    "from matplotlib import pyplot as plt"
   ]
  },
  {
   "cell_type": "code",
   "execution_count": 145,
   "metadata": {},
   "outputs": [],
   "source": [
    "w, b =np.random.rand(1, 1), np.random.rand(1, 1)\n",
    "np.random.seed(1000)\n",
    "x = np.linspace(-1, 1, 100).reshape(100, 1)\n",
    "y = 3 * np.power(2, x) + 2 + 0.3 * np.random.rand(x.size).reshape(100, 1)"
   ]
  },
  {
   "cell_type": "code",
   "execution_count": 146,
   "metadata": {},
   "outputs": [],
   "source": [
    "lr = 0.001  # 学习率\n",
    "\n",
    "for i in range(800):\n",
    "    # 前向传播\n",
    "    y_hat = np.power(2, x) * w + b\n",
    "    # 定义损失函数\n",
    "    loss = 0.5*(y_hat - y) ** 2\n",
    "    loss = loss.sum()\n",
    "    # 计算梯度\n",
    "    grad_w = np.sum((y_hat - y) * np.power(x, 2))\n",
    "    grad_b = np.sum((y_hat - y))\n",
    "    # 使用梯度下降法，使loss最小\n",
    "    w -= lr * grad_w\n",
    "    b -= lr * grad_b"
   ]
  },
  {
   "cell_type": "code",
   "execution_count": 147,
   "metadata": {},
   "outputs": [
    {
     "data": {
      "text/plain": [
       "(array([[2.59894208]]), array([[2.58980501]]))"
      ]
     },
     "execution_count": 147,
     "metadata": {},
     "output_type": "execute_result"
    }
   ],
   "source": [
    "w, b"
   ]
  },
  {
   "cell_type": "code",
   "execution_count": 148,
   "metadata": {},
   "outputs": [
    {
     "data": {
      "image/png": "[encoded data removed]",
      "text/plain": [
       "<Figure size 432x288 with 1 Axes>"
      ]
     },
     "metadata": {
      "needs_background": "light"
     },
     "output_type": "display_data"
    },
    {
     "name": "stdout",
     "output_type": "stream",
     "text": [
      "W =  2.5989420751042616 b =  2.589805005308503\n"
     ]
    }
   ],
   "source": [
    "plt.plot(x, y_hat, \"r-\", label='predict')\n",
    "plt.scatter(x, y, color='blue', marker='o', label='true')    # true data\n",
    "plt.xlim(-1, 1)\n",
    "plt.ylim(2, 6)\n",
    "plt.legend()\n",
    "plt.show()\n",
    "print('W = ', w[0][0], 'b = ', b[0][0])"
   ]
  },
  {
   "cell_type": "code",
   "execution_count": 149,
   "metadata": {},
   "outputs": [
    {
     "name": "stdout",
     "output_type": "stream",
     "text": [
      "data shape: (4, 3)\n",
      "weights shape: (3, 2)\n",
      "output shape: (4, 2)\n"
     ]
    }
   ],
   "source": [
    "import numpy as np\n",
    "data = np.random.rand(4, 3)\n",
    "weights = np.random.rand(3, 2)\n",
    "output = np.dot(data, weights)\n",
    "\n",
    "print(\"data shape:\", data.shape)\n",
    "print(\"weights shape:\", weights.shape)\n",
    "print(\"output shape:\", output.shape)"
   ]
  },
  {
   "cell_type": "code",
   "execution_count": 150,
   "metadata": {},
   "outputs": [
    {
     "name": "stdout",
     "output_type": "stream",
     "text": [
      "[[4.01737807]]\n"
     ]
    }
   ],
   "source": [
    "student = np.array([[1,2,3]])\n",
    "model = np.random.rand(3, 1)\n",
    "score = np.dot(student, model)\n",
    "\n",
    "print(score)"
   ]
  },
  {
   "cell_type": "code",
   "execution_count": 151,
   "metadata": {},
   "outputs": [
    {
     "name": "stdout",
     "output_type": "stream",
     "text": [
      "及格\n"
     ]
    }
   ],
   "source": [
    "def sigmoid(x):\n",
    "    return 1 / (1 + np.exp(-x))\n",
    "\n",
    "student = np.array([[0.1,0.2,-0.3]])\n",
    "model = np.random.rand(3, 1)\n",
    "output = np.dot(student, model)\n",
    "\n",
    "# 用 level 表示是否及格\n",
    "result = sigmoid(output)\n",
    "if result < 0.5:\n",
    "    level = \"不及格\"\n",
    "else:\n",
    "    level = \"及格\"\n",
    "print(level)"
   ]
  },
  {
   "cell_type": "code",
   "execution_count": 152,
   "metadata": {},
   "outputs": [],
   "source": [
    "import numpy as np\n",
    "import matplotlib.pyplot as plt\n",
    "\n",
    "def draw_scatter(x, y):\n",
    "    plt.scatter(x.ravel(), y.ravel())\n",
    "    plt.show()"
   ]
  },
  {
   "cell_type": "code",
   "execution_count": 153,
   "metadata": {},
   "outputs": [
    {
     "data": {
      "image/png": "[encoded data removed]",
      "text/plain": [
       "<Figure size 432x288 with 1 Axes>"
      ]
     },
     "metadata": {
      "needs_background": "light"
     },
     "output_type": "display_data"
    }
   ],
   "source": [
    "# 数据, 10组，每组一个特征\n",
    "x = np.linspace(-1, 1, 100)[:, None]     # shape [100, 1]\n",
    "y = np.random.normal(loc=0, scale=0.2, size=[100, 1]) + np.power(x, 2)   # shape [100, 1]\n",
    "\n",
    "draw_scatter(x, y)\n"
   ]
  },
  {
   "cell_type": "code",
   "execution_count": 154,
   "metadata": {},
   "outputs": [
    {
     "data": {
      "text/plain": [
       "((100, 1), (100, 1))"
      ]
     },
     "execution_count": 154,
     "metadata": {},
     "output_type": "execute_result"
    }
   ],
   "source": [
    "x.shape, y.shape"
   ]
  },
  {
   "cell_type": "code",
   "execution_count": 155,
   "metadata": {},
   "outputs": [],
   "source": [
    "weights = np.random.normal(loc=0, scale=0.1, size=[1, 10])\n",
    "bias = np.full([1, 10], 0.1)"
   ]
  },
  {
   "cell_type": "code",
   "execution_count": 156,
   "metadata": {},
   "outputs": [
    {
     "data": {
      "text/plain": [
       "((1, 10), (1, 10))"
      ]
     },
     "execution_count": 156,
     "metadata": {},
     "output_type": "execute_result"
    }
   ],
   "source": [
    "weights.shape, bias.shape"
   ]
  },
  {
   "cell_type": "code",
   "execution_count": 157,
   "metadata": {},
   "outputs": [],
   "source": [
    "def relu(x):\n",
    "    return np.maximum(0, x)\n",
    "    \n",
    "def layer(in_dim, out_dim):\n",
    "    weights = np.random.normal(loc=0, scale=0.1, size=[in_dim, out_dim])\n",
    "    bias = np.full([1, out_dim], 0.1)\n",
    "    return {\"w\": weights, \"b\": bias}\n",
    "\n",
    "# 模型\n",
    "l1 = layer(1, 100)\n",
    "l2 = layer(100, 10)\n",
    "l3 = layer(10, 1)\n",
    "\n",
    "lr = 0.01\n",
    "\n",
    "# 计算\n",
    "for i in range(10000):\n",
    "    o = x.dot(l1[\"w\"]) + l1[\"b\"]\n",
    "    # o = relu(o)\n",
    "    # grad_W = np.sum((o - y)) * np.power(x, 2)\n",
    "    # grad_b = np.sum((o - y))\n",
    "    # l1[\"w\"] -= lr * grad_W.T\n",
    "    # l1[\"b\"] -= lr * grad_b.T\n",
    "\n",
    "    o = o.dot(l2[\"w\"]) + l2[\"b\"]\n",
    "    # o = relu(o)\n",
    "    # grad_W = np.sum((o - y)) * np.power(x, 2)\n",
    "    # grad_b = np.sum((o - y))\n",
    "    # l2[\"w\"] -= lr * grad_W.T\n",
    "    # l2[\"b\"] -= lr * grad_b.T\n",
    "    \n",
    "    o = o.dot(l3[\"w\"]) + l3[\"b\"]\n",
    "    # grad_W = np.sum((o - y)) * np.power(x, 2)\n",
    "    # grad_b = np.sum((o - y))\n",
    "    # l3[\"w\"] -= lr * grad_W\n",
    "    # l3[\"b\"] -= lr * grad_b\n",
    "\n",
    "    # loss = 0.5*(o - y) ** 2\n",
    "    # loss = loss.sum()"
   ]
  },
  {
   "cell_type": "code",
   "execution_count": 158,
   "metadata": {},
   "outputs": [
    {
     "data": {
      "text/plain": [
       "((100, 1),\n",
       " array([[ 0.10802834],\n",
       "        [ 0.10674392],\n",
       "        [ 0.10545951],\n",
       "        [ 0.10417509],\n",
       "        [ 0.10289067],\n",
       "        [ 0.10160626],\n",
       "        [ 0.10032184],\n",
       "        [ 0.09903743],\n",
       "        [ 0.09775301],\n",
       "        [ 0.0964686 ],\n",
       "        [ 0.09518418],\n",
       "        [ 0.09389976],\n",
       "        [ 0.09261535],\n",
       "        [ 0.09133093],\n",
       "        [ 0.09004652],\n",
       "        [ 0.0887621 ],\n",
       "        [ 0.08747769],\n",
       "        [ 0.08619327],\n",
       "        [ 0.08490885],\n",
       "        [ 0.08362444],\n",
       "        [ 0.08234002],\n",
       "        [ 0.08105561],\n",
       "        [ 0.07977119],\n",
       "        [ 0.07848678],\n",
       "        [ 0.07720236],\n",
       "        [ 0.07591794],\n",
       "        [ 0.07463353],\n",
       "        [ 0.07334911],\n",
       "        [ 0.0720647 ],\n",
       "        [ 0.07078028],\n",
       "        [ 0.06949587],\n",
       "        [ 0.06821145],\n",
       "        [ 0.06692703],\n",
       "        [ 0.06564262],\n",
       "        [ 0.0643582 ],\n",
       "        [ 0.06307379],\n",
       "        [ 0.06178937],\n",
       "        [ 0.06050495],\n",
       "        [ 0.05922054],\n",
       "        [ 0.05793612],\n",
       "        [ 0.05665171],\n",
       "        [ 0.05536729],\n",
       "        [ 0.05408288],\n",
       "        [ 0.05279846],\n",
       "        [ 0.05151404],\n",
       "        [ 0.05022963],\n",
       "        [ 0.04894521],\n",
       "        [ 0.0476608 ],\n",
       "        [ 0.04637638],\n",
       "        [ 0.04509197],\n",
       "        [ 0.04380755],\n",
       "        [ 0.04252313],\n",
       "        [ 0.04123872],\n",
       "        [ 0.0399543 ],\n",
       "        [ 0.03866989],\n",
       "        [ 0.03738547],\n",
       "        [ 0.03610106],\n",
       "        [ 0.03481664],\n",
       "        [ 0.03353222],\n",
       "        [ 0.03224781],\n",
       "        [ 0.03096339],\n",
       "        [ 0.02967898],\n",
       "        [ 0.02839456],\n",
       "        [ 0.02711015],\n",
       "        [ 0.02582573],\n",
       "        [ 0.02454131],\n",
       "        [ 0.0232569 ],\n",
       "        [ 0.02197248],\n",
       "        [ 0.02068807],\n",
       "        [ 0.01940365],\n",
       "        [ 0.01811923],\n",
       "        [ 0.01683482],\n",
       "        [ 0.0155504 ],\n",
       "        [ 0.01426599],\n",
       "        [ 0.01298157],\n",
       "        [ 0.01169716],\n",
       "        [ 0.01041274],\n",
       "        [ 0.00912832],\n",
       "        [ 0.00784391],\n",
       "        [ 0.00655949],\n",
       "        [ 0.00527508],\n",
       "        [ 0.00399066],\n",
       "        [ 0.00270625],\n",
       "        [ 0.00142183],\n",
       "        [ 0.00013741],\n",
       "        [-0.001147  ],\n",
       "        [-0.00243142],\n",
       "        [-0.00371583],\n",
       "        [-0.00500025],\n",
       "        [-0.00628466],\n",
       "        [-0.00756908],\n",
       "        [-0.0088535 ],\n",
       "        [-0.01013791],\n",
       "        [-0.01142233],\n",
       "        [-0.01270674],\n",
       "        [-0.01399116],\n",
       "        [-0.01527557],\n",
       "        [-0.01655999],\n",
       "        [-0.01784441],\n",
       "        [-0.01912882]]))"
      ]
     },
     "execution_count": 158,
     "metadata": {},
     "output_type": "execute_result"
    }
   ],
   "source": [
    "o.shape, o"
   ]
  },
  {
   "cell_type": "code",
   "execution_count": 159,
   "metadata": {},
   "outputs": [
    {
     "data": {
      "image/png": "[encoded data removed]",
      "text/plain": [
       "<Figure size 432x288 with 1 Axes>"
      ]
     },
     "metadata": {
      "needs_background": "light"
     },
     "output_type": "display_data"
    }
   ],
   "source": [
    "plt.plot(x, o, \"r-\", label='predict')\n",
    "plt.scatter(x, y, color='blue', marker='o', label='true')    # true data\n",
    "plt.legend()\n",
    "plt.show()"
   ]
  },
  {
   "cell_type": "code",
   "execution_count": null,
   "metadata": {},
   "outputs": [],
   "source": []
  }
 ],
 "metadata": {
  "kernelspec": {
   "display_name": "Python 3",
   "language": "python",
   "name": "python3"
  },
  "language_info": {
   "codemirror_mode": {
    "name": "ipython",
    "version": 3
   },
   "file_extension": ".py",
   "mimetype": "text/x-python",
   "name": "python",
   "nbconvert_exporter": "python",
   "pygments_lexer": "ipython3",
   "version": "3.6.9 (default, Nov 25 2022, 14:10:45) \n[GCC 8.4.0]"
  },
  "orig_nbformat": 4,
  "vscode": {
   "interpreter": {
    "hash": "31f2aee4e71d21fbe5cf8b01ff0e069b9275f58929596ceb00d14d90e3e16cd6"
   }
  }
 },
 "nbformat": 4,
 "nbformat_minor": 2
}
